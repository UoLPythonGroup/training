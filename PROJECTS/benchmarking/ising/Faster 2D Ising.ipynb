{
 "metadata": {
  "name": "",
  "signature": "sha256:3becd424a0583157e7d1fdaaeb436df0413daa1774d864e2ef86db6e3c1311c0"
 },
 "nbformat": 3,
 "nbformat_minor": 0,
 "worksheets": [
  {
   "cells": [
    {
     "cell_type": "code",
     "collapsed": false,
     "input": [
      "%matplotlib inline\n",
      "import matplotlib.pyplot as plt\n",
      "import numpy as np"
     ],
     "language": "python",
     "metadata": {},
     "outputs": [],
     "prompt_number": 1
    },
    {
     "cell_type": "markdown",
     "metadata": {},
     "source": [
      "We saw that in the 2D case, the number of sites where a change could happen falls off quite \"quickly\" (relative to the time to reach ground state).  Indeed, visualising the result, we end up with the boundary being a smooth 1D curve, and so there are $\\Theta(L)$ active sites for an $L\\times L$ lattice.\n",
      "\n",
      "If there is only fraction $p$ of states which could change, then we get a [Geometric distribution](http://en.wikipedia.org/wiki/Geometric_distribution) for the time to choose a changable site\n",
      "$$ \\mathbb P(T=t) = p (1-p)^{t-1} \\qquad (t=1,2,\\cdots) $$\n",
      "This has mean $p^{-1}$ and variance $(1-p)p^{-2}$\n",
      "\n",
      "If $p = \\lambda L / L^2$ then the mean waiting time is $L / \\lambda$."
     ]
    },
    {
     "cell_type": "markdown",
     "metadata": {},
     "source": [
      "So the algorithm spends an average of 20 trials before it even selects a site where we could (maybe only with probability one half) make a change.\n",
      "\n",
      "An alternative algorithm is to:\n",
      "  - keep a list of the sites which could change\n",
      "  - select at random from these sites\n",
      "  - if a spin is altered, update our list instead of recalculating it\n",
      "  - this alters the \"time\" the simulation takes, as we skip the random \"waiting\" part.  Given we can completely describe the probability distribution of this waiting, we can simply simulate it.\n",
      "  \n",
      "For the last point, note that\n",
      "$$ \\sum_{k=0}^K p (1-p)^k = p\\frac{1-(1-p)^{K+1}}{1-(1-p)} = 1 - (1-p)^{K+1} $$\n",
      "and so the simulation is to pick a random sample $x \\in U[0,1]$ and then choose $K$ with\n",
      "$$ 1-(1-p)^K \\leq x < 1-(1-p)^{K+1} \n",
      "\\quad\\Leftrightarrow\\quad K = \\left\\lfloor \\frac{\\log(1-x)}{\\log(1-p)}\\right\\rfloor.$$\n",
      "This represents the \"extra\" time to be added on."
     ]
    },
    {
     "cell_type": "markdown",
     "metadata": {},
     "source": [
      "Unfortunately, what data structure can we use to store the list of \"changable sites\"?  It needs to allow:\n",
      "  - Selecting a member, uniformly at random (so, perhaps allowing access to the `k`th member, for some ordering-- but we don't care about the ordering, and the ordering can change.)\n",
      "  - Adding and deleting elements by their value (not their position under some ordering)\n",
      "  \n",
      "The first would be quick with a list, and the 2nd quick with a hash table, balanced binary tree, etc.  However, I don't know a way to make both operations quick at the same time.\n",
      "\n",
      "Notice that from the discussion above, this is all worth it only if we can implement something like:\n",
      "  - Select a member at random, insert a member, delete a member\n",
      "in $\\Theta(L)$ or faster time.  The \"list\" will contain $\\Theta(L)$ members.\n",
      "\n",
      "So using a list isn't hopeless, but also won't be a magic bullet."
     ]
    },
    {
     "cell_type": "markdown",
     "metadata": {},
     "source": [
      "One possible algorithm is to note that our cache doesn't have to be exact: it only needs to contain all \"changable\" sites, but it can obtain others as well.  Thus, we could [amortise](http://en.wikipedia.org/wiki/Amortized_analysis) the cost over a number of operations:\n",
      "  - For, say, $L$ loops, we select our site to (possibly) change, and add any new sites as needs.  Each iteration only takes constant time.\n",
      "  - Then scan through our list, and delete sites no longer \"changable\".  This can be done in one scan, so at cost of the length of the list.\n",
      "However, all this low-level messing means this isn't really something it's profitable to do in Python."
     ]
    },
    {
     "cell_type": "code",
     "collapsed": false,
     "input": [],
     "language": "python",
     "metadata": {},
     "outputs": []
    }
   ],
   "metadata": {}
  }
 ]
}