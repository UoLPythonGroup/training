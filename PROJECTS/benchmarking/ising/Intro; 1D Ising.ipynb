{
 "metadata": {
  "name": "",
  "signature": "sha256:ebac809a4e1b02021f1e056e34ae9870d7c1f58a9af33670477eee46b6d78f19"
 },
 "nbformat": 3,
 "nbformat_minor": 0,
 "worksheets": [
  {
   "cells": [
    {
     "cell_type": "code",
     "collapsed": false,
     "input": [
      "%matplotlib inline\n",
      "import matplotlib.pyplot as plt\n",
      "import numpy as np"
     ],
     "language": "python",
     "metadata": {},
     "outputs": [],
     "prompt_number": 2
    },
    {
     "cell_type": "markdown",
     "metadata": {},
     "source": [
      "After an interesting talk today by Sid Redner, I thought I'd write a little Python code to replicate some results from his talk.\n",
      "\n",
      "The [Ising model](http://en.wikipedia.org/wiki/Ising_model) as simplified here is the following.  Consider a graph, and at each vertex $i$ put $\\sigma_i \\in \\pm1$ (or up and down spins).  The Hamiltonian of the system is\n",
      "\\[ H = - \\sum_{\\langle i,j \\rangle} \\sigma_i \\sigma_j \\]\n",
      "where we sum over all neighbours.  We consider discrete time dynamics-- at each time step select a vertex at random, and consider what would happen if we flipped it.  If the energy decreases, flip; if the energy increases, do nothing; and if the energy wouldn't change, flip with a 50% chance.\n",
      "\n",
      "(This is a variation of the MCMC algorithm explored in the Wikipedia article, specialised I think for the $\\beta=0$ case.)"
     ]
    },
    {
     "cell_type": "markdown",
     "metadata": {},
     "source": [
      "I'll start with the 1D case-- we implement periodic boundary conditions, so this is really a discretised circle.  The algorithm is then to pick a point, and:\n",
      "\n",
      "  - If the neighbours are equal, and equal to the selected spin, do nothing;\n",
      "  - If the neighbours are equal, and different to the selected spin, flip the selected spin;\n",
      "  - If the neighbours differ, flip the selected spin with probability 50%\n",
      "  \n",
      "Implementation details:\n",
      "\n",
      "  - I suspect, for large lattices and long run times, some care should be taken to choose a \"good\" psuedorandom number generator.  I will use the `random` package instead.\n",
      "  - I will deal with the end points of the list as special cases, to give the boundary conditions.  Another option would be to enlarge the list and to copy location `1` to location `L+1` and copy location `L` to `0`.\n",
      "  "
     ]
    },
    {
     "cell_type": "code",
     "collapsed": false,
     "input": [
      "import random\n",
      "\n",
      "class OneDIsing:\n",
      "    \"\"\"Simulate 1D Ising at zero temperature.\"\"\"\n",
      "    def __init__(self,L):\n",
      "        self.length = L\n",
      "        self.lattice = []\n",
      "        for n in range(self.length):\n",
      "            self.lattice.append( random.randint(0,1) )\n",
      "    def get_neighbours(self,i):\n",
      "        \"\"\"Returns 1 if i and neighbours agree,\n",
      "        0 if neighbours differ\n",
      "        -1 if neighbours agree, but differ from i\"\"\"\n",
      "        x = i - 1\n",
      "        y = i + 1\n",
      "        if x < 0:\n",
      "            x += self.length\n",
      "        if y >= self.length:\n",
      "            y -= self.length\n",
      "        if self.lattice[x] == self.lattice[y]:\n",
      "            if self.lattice[x] == self.lattice[i]:\n",
      "                return 1\n",
      "            else:\n",
      "                return -1\n",
      "        return 0\n",
      "    def update(self):\n",
      "        i = random.randint(0,self.length-1)\n",
      "        t = self.get_neighbours(i)\n",
      "        if t==1:\n",
      "            return\n",
      "        if t==-1 or ( t==0 and random.randint(0,1)==0 ):\n",
      "            self.lattice[i] = 1 - self.lattice[i]"
     ],
     "language": "python",
     "metadata": {},
     "outputs": [],
     "prompt_number": 30
    },
    {
     "cell_type": "code",
     "collapsed": false,
     "input": [
      "lattice = OneDIsing(10)\n",
      "for n in range(20):\n",
      "    print(lattice.lattice)\n",
      "    lattice.update()"
     ],
     "language": "python",
     "metadata": {},
     "outputs": [
      {
       "output_type": "stream",
       "stream": "stdout",
       "text": [
        "[0, 1, 0, 1, 1, 1, 0, 1, 1, 0]\n",
        "[0, 1, 0, 0, 1, 1, 0, 1, 1, 0]\n",
        "[0, 1, 0, 0, 1, 1, 0, 1, 1, 0]\n",
        "[0, 1, 0, 0, 0, 1, 0, 1, 1, 0]\n",
        "[0, 1, 0, 0, 0, 1, 1, 1, 1, 0]\n",
        "[0, 1, 0, 0, 0, 1, 1, 1, 1, 0]\n",
        "[0, 1, 0, 0, 0, 1, 1, 1, 1, 0]\n",
        "[0, 1, 0, 0, 0, 1, 1, 1, 1, 0]\n",
        "[0, 1, 0, 0, 0, 1, 1, 1, 1, 0]\n",
        "[0, 1, 0, 0, 0, 1, 1, 1, 1, 0]\n",
        "[0, 0, 0, 0, 0, 1, 1, 1, 1, 0]\n",
        "[0, 0, 0, 0, 0, 1, 1, 1, 1, 0]\n",
        "[0, 0, 0, 0, 0, 1, 1, 1, 1, 0]\n",
        "[0, 0, 0, 0, 0, 1, 1, 1, 1, 0]\n",
        "[0, 0, 0, 0, 0, 1, 1, 1, 1, 0]\n",
        "[0, 0, 0, 0, 1, 1, 1, 1, 1, 0]\n",
        "[0, 0, 0, 0, 1, 1, 1, 1, 0, 0]\n",
        "[0, 0, 0, 0, 1, 1, 1, 1, 0, 0]\n",
        "[0, 0, 0, 0, 1, 1, 1, 1, 0, 0]\n",
        "[0, 0, 0, 0, 1, 1, 1, 1, 0, 0]\n"
       ]
      }
     ],
     "prompt_number": 35
    },
    {
     "cell_type": "markdown",
     "metadata": {},
     "source": [
      "We notice that sometimes large runs occur, and these change very slowly.  Indeed, if we have one run of 0s and one run of 1s, then changes can only occur at the 4 boundary points.  (Also, when a change occurs, it just changes the length of the blocks, and so we have a symmetric random walk which we wait to hit a boundary.  We fully understand this.)\n",
      "\n",
      "This suggests a way to speed the algorithm up: we simply select at random from only the points which can actually change.  The cost is that we then get a probability distribution on the time taken (but maybe this is an advantage)."
     ]
    },
    {
     "cell_type": "code",
     "collapsed": false,
     "input": [
      "def changable_vertices(lat):\n",
      "    \"\"\"Returns list of place which can actually change.\"\"\"\n",
      "    ch = []\n",
      "    for i in range(lat.length):\n",
      "        if lat.get_neighbours(i) != 1:\n",
      "            ch.append( i )\n",
      "    return ch"
     ],
     "language": "python",
     "metadata": {},
     "outputs": [],
     "prompt_number": 38
    },
    {
     "cell_type": "code",
     "collapsed": false,
     "input": [
      "lattice = OneDIsing(15)\n",
      "for n in range(20):\n",
      "    print(lattice.lattice, changable_vertices(lattice))\n",
      "    lattice.update()"
     ],
     "language": "python",
     "metadata": {},
     "outputs": [
      {
       "output_type": "stream",
       "stream": "stdout",
       "text": [
        "[1, 1, 0, 1, 0, 1, 0, 0, 1, 0, 1, 1, 0, 1, 1] [1, 2, 3, 4, 5, 6, 7, 8, 9, 10, 11, 12, 13]\n",
        "[1, 1, 0, 0, 0, 1, 0, 0, 1, 0, 1, 1, 0, 1, 1] [1, 2, 4, 5, 6, 7, 8, 9, 10, 11, 12, 13]\n",
        "[1, 1, 0, 0, 0, 1, 0, 0, 1, 0, 1, 0, 0, 1, 1] [1, 2, 4, 5, 6, 7, 8, 9, 10, 11, 12, 13]\n",
        "[1, 1, 0, 0, 0, 1, 0, 0, 1, 0, 1, 0, 0, 1, 1] [1, 2, 4, 5, 6, 7, 8, 9, 10, 11, 12, 13]\n",
        "[1, 1, 0, 0, 0, 1, 0, 0, 1, 0, 1, 0, 1, 1, 1] [1, 2, 4, 5, 6, 7, 8, 9, 10, 11, 12]\n",
        "[1, 1, 0, 0, 0, 1, 0, 0, 1, 0, 1, 0, 1, 1, 1] [1, 2, 4, 5, 6, 7, 8, 9, 10, 11, 12]\n",
        "[1, 1, 0, 0, 0, 1, 0, 0, 0, 0, 1, 0, 1, 1, 1] [1, 2, 4, 5, 6, 9, 10, 11, 12]\n",
        "[1, 1, 0, 0, 0, 0, 0, 0, 0, 0, 1, 0, 1, 1, 1] [1, 2, 9, 10, 11, 12]\n",
        "[1, 1, 0, 0, 0, 0, 0, 0, 0, 0, 1, 1, 1, 1, 1] [1, 2, 9, 10]\n",
        "[1, 1, 0, 0, 0, 0, 0, 0, 0, 0, 1, 1, 1, 1, 1] [1, 2, 9, 10]\n",
        "[1, 1, 0, 0, 0, 0, 0, 0, 0, 0, 1, 1, 1, 1, 1] [1, 2, 9, 10]\n",
        "[1, 1, 0, 0, 0, 0, 0, 0, 0, 0, 1, 1, 1, 1, 1] [1, 2, 9, 10]\n",
        "[1, 1, 0, 0, 0, 0, 0, 0, 0, 0, 1, 1, 1, 1, 1] [1, 2, 9, 10]\n",
        "[1, 1, 0, 0, 0, 0, 0, 0, 0, 0, 1, 1, 1, 1, 1] [1, 2, 9, 10]\n",
        "[1, 1, 0, 0, 0, 0, 0, 0, 0, 1, 1, 1, 1, 1, 1] [1, 2, 8, 9]\n",
        "[1, 1, 0, 0, 0, 0, 0, 0, 0, 1, 1, 1, 1, 1, 1] [1, 2, 8, 9]\n",
        "[1, 0, 0, 0, 0, 0, 0, 0, 0, 1, 1, 1, 1, 1, 1] [0, 1, 8, 9]\n",
        "[1, 0, 0, 0, 0, 0, 0, 0, 0, 1, 1, 1, 1, 1, 1] [0, 1, 8, 9]\n",
        "[1, 0, 0, 0, 0, 0, 0, 0, 0, 1, 1, 1, 1, 1, 1] [0, 1, 8, 9]\n",
        "[1, 0, 0, 0, 0, 0, 0, 0, 0, 1, 1, 1, 1, 1, 1] [0, 1, 8, 9]\n"
       ]
      }
     ],
     "prompt_number": 39
    },
    {
     "cell_type": "code",
     "collapsed": false,
     "input": [
      "lattice = OneDIsing(1000)\n",
      "x = []\n",
      "y = []\n",
      "for n in range(20000):\n",
      "    x.append( n )\n",
      "    y.append( len( changable_vertices(lattice) ) )\n",
      "    lattice.update()\n",
      "\n",
      "plt.plot(x,y)"
     ],
     "language": "python",
     "metadata": {},
     "outputs": [
      {
       "metadata": {},
       "output_type": "pyout",
       "prompt_number": 45,
       "text": [
        "[<matplotlib.lines.Line2D at 0x6f85c50>]"
       ]
      },
      {
       "metadata": {},
       "output_type": "display_data",
       "png": "[encoded data removed]",
       "text": [
        "<matplotlib.figure.Figure at 0x6ea3828>"
       ]
      }
     ],
     "prompt_number": 45
    },
    {
     "cell_type": "markdown",
     "metadata": {},
     "source": [
      "Cases:\n",
      "\n",
      "old | in changeable | new | now in changeable\n",
      "--- | ------------- | --- | -----------------\n",
      "uud | 0, 1          | udd | -1, 0\n",
      "udd | -1, 0         | uud | 0, 1\n",
      "udu | -1, 1         | uuu |\n",
      "ddu | 0, 1          | duu | -1, 0\n",
      "duu | -1, 0         | ddu | 0, 1\n",
      "dud | -1, 1         | ddd "
     ]
    },
    {
     "cell_type": "code",
     "collapsed": false,
     "input": [],
     "language": "python",
     "metadata": {},
     "outputs": []
    }
   ],
   "metadata": {}
  }
 ]
}