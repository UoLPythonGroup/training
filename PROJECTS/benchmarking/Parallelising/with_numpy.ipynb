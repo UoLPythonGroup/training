{
 "metadata": {
  "name": "",
  "signature": "sha256:ad3f802186ebc74178db06260c51be199066b9f78a58b64f946bf83eb84f8d30"
 },
 "nbformat": 3,
 "nbformat_minor": 0,
 "worksheets": [
  {
   "cells": [
    {
     "cell_type": "heading",
     "level": 1,
     "metadata": {},
     "source": [
      "Using numpy instead"
     ]
    },
    {
     "cell_type": "code",
     "collapsed": false,
     "input": [
      "import numpy as np"
     ],
     "language": "python",
     "metadata": {},
     "outputs": [],
     "prompt_number": 1
    },
    {
     "cell_type": "markdown",
     "metadata": {},
     "source": [
      "Numpy can create vectors of random numbers, and then we can compute \"element-wise\" with these vectors.  As all this occurs in the C library, this should be much faster than using Python directly (though more memory intensive)."
     ]
    },
    {
     "cell_type": "code",
     "collapsed": false,
     "input": [
      "x = np.random.rand(10)\n",
      "y = np.random.rand(10)\n",
      "z = x*x+y*y<=1.0\n",
      "print(z)"
     ],
     "language": "python",
     "metadata": {},
     "outputs": [
      {
       "output_type": "stream",
       "stream": "stdout",
       "text": [
        "[False  True  True  True  True False  True  True  True  True]\n"
       ]
      }
     ],
     "prompt_number": 2
    },
    {
     "cell_type": "markdown",
     "metadata": {},
     "source": [
      "What we actually care about is the number of entries of `z` which are true.  We can calculate this by using the `sum` function, as `True` evaluates to `1` and `False` to `0`."
     ]
    },
    {
     "cell_type": "code",
     "collapsed": false,
     "input": [
      "sum(z)"
     ],
     "language": "python",
     "metadata": {},
     "outputs": [
      {
       "metadata": {},
       "output_type": "pyout",
       "prompt_number": 3,
       "text": [
        "8"
       ]
      }
     ],
     "prompt_number": 3
    },
    {
     "cell_type": "markdown",
     "metadata": {},
     "source": [
      "We could also use the numpy `sum` function.  Which is quicker??"
     ]
    },
    {
     "cell_type": "code",
     "collapsed": false,
     "input": [
      "print(np.sum(z))\n",
      "%timeit(sum(z))\n",
      "%timeit(np.sum(z))\n",
      "%timeit(sum(x*x+y*y<1.0))\n",
      "%timeit(np.sum(x*x+y*y<1.0))"
     ],
     "language": "python",
     "metadata": {},
     "outputs": [
      {
       "output_type": "stream",
       "stream": "stdout",
       "text": [
        "6\n",
        "100000 loops, best of 3: 15.8 \u00b5s per loop"
       ]
      },
      {
       "output_type": "stream",
       "stream": "stdout",
       "text": [
        "\n",
        "1000000 loops, best of 3: 1.9 \u00b5s per loop"
       ]
      },
      {
       "output_type": "stream",
       "stream": "stdout",
       "text": [
        "\n",
        "100000 loops, best of 3: 18.7 \u00b5s per loop"
       ]
      },
      {
       "output_type": "stream",
       "stream": "stdout",
       "text": [
        "\n",
        "100000 loops, best of 3: 4.57 \u00b5s per loop"
       ]
      },
      {
       "output_type": "stream",
       "stream": "stdout",
       "text": [
        "\n"
       ]
      }
     ],
     "prompt_number": 11
    },
    {
     "cell_type": "markdown",
     "metadata": {},
     "source": [
      "So, numpy wins!!  Let's make some functions to do a Monte Carlo estimation of pi."
     ]
    },
    {
     "cell_type": "code",
     "collapsed": false,
     "input": [
      "def mc_pi_numpy(samples):\n",
      "    x = np.random.rand(samples)\n",
      "    c = x*x\n",
      "    x = np.random.rand(samples)\n",
      "    c += x*x\n",
      "    return 4.0 * np.sum(c<=1.0) / samples\n",
      "\n",
      "def mc_pi_numpy0(samples):\n",
      "    x = np.random.rand(samples)\n",
      "    c = x*x\n",
      "    x = np.random.rand(samples)\n",
      "    return 4.0 * np.sum(c+x*x<=1.0) / samples\n",
      "\n",
      "def mc_pi_numpy1(samples):\n",
      "    x = np.random.rand(samples)\n",
      "    y = np.random.rand(samples)\n",
      "    return 4.0 * np.sum(x*x+y*y<=1.0) / samples"
     ],
     "language": "python",
     "metadata": {},
     "outputs": [],
     "prompt_number": 4
    },
    {
     "cell_type": "markdown",
     "metadata": {},
     "source": [
      "Some crude testing shows that, as expected, the 3rd function uses twice as much memory as the first two.  But which is faster?"
     ]
    },
    {
     "cell_type": "code",
     "collapsed": false,
     "input": [
      "samples = 100\n",
      "while samples <= 10000000:\n",
      "    print(\"Samples:\",samples)\n",
      "    %timeit(mc_pi_numpy(samples))\n",
      "    %timeit(mc_pi_numpy0(samples))\n",
      "    %timeit(mc_pi_numpy1(samples))\n",
      "    samples *= 10"
     ],
     "language": "python",
     "metadata": {},
     "outputs": [
      {
       "output_type": "stream",
       "stream": "stdout",
       "text": [
        "Samples: 100\n",
        "100000 loops, best of 3: 12.5 \u00b5s per loop"
       ]
      },
      {
       "output_type": "stream",
       "stream": "stdout",
       "text": [
        "\n",
        "100000 loops, best of 3: 12.4 \u00b5s per loop"
       ]
      },
      {
       "output_type": "stream",
       "stream": "stdout",
       "text": [
        "\n",
        "100000 loops, best of 3: 12.2 \u00b5s per loop"
       ]
      },
      {
       "output_type": "stream",
       "stream": "stdout",
       "text": [
        "\n",
        "Samples: 1000\n",
        "10000 loops, best of 3: 30.7 \u00b5s per loop"
       ]
      },
      {
       "output_type": "stream",
       "stream": "stdout",
       "text": [
        "\n",
        "10000 loops, best of 3: 30.9 \u00b5s per loop"
       ]
      },
      {
       "output_type": "stream",
       "stream": "stdout",
       "text": [
        "\n",
        "10000 loops, best of 3: 30.6 \u00b5s per loop"
       ]
      },
      {
       "output_type": "stream",
       "stream": "stdout",
       "text": [
        "\n",
        "Samples: 10000\n",
        "1000 loops, best of 3: 204 \u00b5s per loop"
       ]
      },
      {
       "output_type": "stream",
       "stream": "stdout",
       "text": [
        "\n",
        "1000 loops, best of 3: 208 \u00b5s per loop"
       ]
      },
      {
       "output_type": "stream",
       "stream": "stdout",
       "text": [
        "\n",
        "1000 loops, best of 3: 210 \u00b5s per loop"
       ]
      },
      {
       "output_type": "stream",
       "stream": "stdout",
       "text": [
        "\n",
        "Samples: 100000\n",
        "100 loops, best of 3: 2.36 ms per loop"
       ]
      },
      {
       "output_type": "stream",
       "stream": "stdout",
       "text": [
        "\n",
        "100 loops, best of 3: 2.83 ms per loop"
       ]
      },
      {
       "output_type": "stream",
       "stream": "stdout",
       "text": [
        "\n",
        "100 loops, best of 3: 3 ms per loop"
       ]
      },
      {
       "output_type": "stream",
       "stream": "stdout",
       "text": [
        "\n",
        "Samples: 1000000\n",
        "10 loops, best of 3: 28.8 ms per loop"
       ]
      },
      {
       "output_type": "stream",
       "stream": "stdout",
       "text": [
        "\n",
        "10 loops, best of 3: 30.8 ms per loop"
       ]
      },
      {
       "output_type": "stream",
       "stream": "stdout",
       "text": [
        "\n",
        "10 loops, best of 3: 30.8 ms per loop"
       ]
      },
      {
       "output_type": "stream",
       "stream": "stdout",
       "text": [
        "\n",
        "Samples: 10000000\n",
        "1 loops, best of 3: 287 ms per loop"
       ]
      },
      {
       "output_type": "stream",
       "stream": "stdout",
       "text": [
        "\n",
        "1 loops, best of 3: 308 ms per loop"
       ]
      },
      {
       "output_type": "stream",
       "stream": "stdout",
       "text": [
        "\n",
        "1 loops, best of 3: 307 ms per loop"
       ]
      },
      {
       "output_type": "stream",
       "stream": "stdout",
       "text": [
        "\n"
       ]
      }
     ],
     "prompt_number": 13
    },
    {
     "cell_type": "markdown",
     "metadata": {},
     "source": [
      "So not much difference.  What's perhaps more interesting is that the 10,000 samples count is the fastest"
     ]
    },
    {
     "cell_type": "code",
     "collapsed": false,
     "input": [
      "import timeit\n",
      "print(\"Datatype for arrays:\", np.random.rand(10).dtype)\n",
      "samples = 1000\n",
      "while samples <= 5000000:\n",
      "    t = timeit.Timer(\"mc_pi_numpy({})\".format(samples),setup=\"from __main__ import mc_pi_numpy\")\n",
      "    loops = 10000000 // samples\n",
      "    time = []\n",
      "    for x in range(3):\n",
      "        time.append( t.timeit(number=loops) )\n",
      "    print(\"Samples: {}, time per iter: {:.3e}, memory: {}KB\".format(samples,\n",
      "            min(time)/samples/loops,samples*8//1024))\n",
      "    samples = int(samples*2)\n",
      "\n",
      "samples = 8000\n",
      "while samples <= 200000:\n",
      "    t = timeit.Timer(\"mc_pi_numpy({})\".format(samples),setup=\"from __main__ import mc_pi_numpy\")\n",
      "    loops = 10000000 // samples\n",
      "    time = []\n",
      "    for x in range(3):\n",
      "        time.append( t.timeit(number=loops) )\n",
      "    print(\"Samples: {}, time per iter: {:.3e}, memory: {}KB\".format(samples,\n",
      "            min(time)/samples/loops,samples*8//1024))\n",
      "    samples = int(samples*1.1)"
     ],
     "language": "python",
     "metadata": {},
     "outputs": [
      {
       "output_type": "stream",
       "stream": "stdout",
       "text": [
        "Datatype for arrays: float64\n",
        "Samples: 1000, time per iter: 3.085e-08, memory: 7KB"
       ]
      },
      {
       "output_type": "stream",
       "stream": "stdout",
       "text": [
        "\n",
        "Samples: 2000, time per iter: 2.531e-08, memory: 15KB"
       ]
      },
      {
       "output_type": "stream",
       "stream": "stdout",
       "text": [
        "\n",
        "Samples: 4000, time per iter: 2.240e-08, memory: 31KB"
       ]
      },
      {
       "output_type": "stream",
       "stream": "stdout",
       "text": [
        "\n",
        "Samples: 8000, time per iter: 2.070e-08, memory: 62KB"
       ]
      },
      {
       "output_type": "stream",
       "stream": "stdout",
       "text": [
        "\n",
        "Samples: 16000, time per iter: 1.993e-08, memory: 125KB"
       ]
      },
      {
       "output_type": "stream",
       "stream": "stdout",
       "text": [
        "\n",
        "Samples: 32000, time per iter: 1.991e-08, memory: 250KB"
       ]
      },
      {
       "output_type": "stream",
       "stream": "stdout",
       "text": [
        "\n",
        "Samples: 64000, time per iter: 2.227e-08, memory: 500KB"
       ]
      },
      {
       "output_type": "stream",
       "stream": "stdout",
       "text": [
        "\n",
        "Samples: 128000, time per iter: 2.477e-08, memory: 1000KB"
       ]
      },
      {
       "output_type": "stream",
       "stream": "stdout",
       "text": [
        "\n",
        "Samples: 256000, time per iter: 2.826e-08, memory: 2000KB"
       ]
      },
      {
       "output_type": "stream",
       "stream": "stdout",
       "text": [
        "\n",
        "Samples: 512000, time per iter: 2.869e-08, memory: 4000KB"
       ]
      },
      {
       "output_type": "stream",
       "stream": "stdout",
       "text": [
        "\n",
        "Samples: 1024000, time per iter: 2.874e-08, memory: 8000KB"
       ]
      },
      {
       "output_type": "stream",
       "stream": "stdout",
       "text": [
        "\n",
        "Samples: 2048000, time per iter: 2.877e-08, memory: 16000KB"
       ]
      },
      {
       "output_type": "stream",
       "stream": "stdout",
       "text": [
        "\n",
        "Samples: 4096000, time per iter: 2.882e-08, memory: 32000KB"
       ]
      },
      {
       "output_type": "stream",
       "stream": "stdout",
       "text": [
        "\n",
        "Samples: 8000, time per iter: 2.079e-08, memory: 62KB"
       ]
      },
      {
       "output_type": "stream",
       "stream": "stdout",
       "text": [
        "\n",
        "Samples: 8800, time per iter: 2.053e-08, memory: 68KB"
       ]
      },
      {
       "output_type": "stream",
       "stream": "stdout",
       "text": [
        "\n",
        "Samples: 9680, time per iter: 2.053e-08, memory: 75KB"
       ]
      },
      {
       "output_type": "stream",
       "stream": "stdout",
       "text": [
        "\n",
        "Samples: 10648, time per iter: 2.029e-08, memory: 83KB"
       ]
      },
      {
       "output_type": "stream",
       "stream": "stdout",
       "text": [
        "\n",
        "Samples: 11712, time per iter: 2.023e-08, memory: 91KB"
       ]
      },
      {
       "output_type": "stream",
       "stream": "stdout",
       "text": [
        "\n",
        "Samples: 12883, time per iter: 2.017e-08, memory: 100KB"
       ]
      },
      {
       "output_type": "stream",
       "stream": "stdout",
       "text": [
        "\n",
        "Samples: 14171, time per iter: 2.007e-08, memory: 110KB"
       ]
      },
      {
       "output_type": "stream",
       "stream": "stdout",
       "text": [
        "\n",
        "Samples: 15588, time per iter: 2.000e-08, memory: 121KB"
       ]
      },
      {
       "output_type": "stream",
       "stream": "stdout",
       "text": [
        "\n",
        "Samples: 17146, time per iter: 1.995e-08, memory: 133KB"
       ]
      },
      {
       "output_type": "stream",
       "stream": "stdout",
       "text": [
        "\n",
        "Samples: 18860, time per iter: 1.991e-08, memory: 147KB"
       ]
      },
      {
       "output_type": "stream",
       "stream": "stdout",
       "text": [
        "\n",
        "Samples: 20746, time per iter: 1.988e-08, memory: 162KB"
       ]
      },
      {
       "output_type": "stream",
       "stream": "stdout",
       "text": [
        "\n",
        "Samples: 22820, time per iter: 1.985e-08, memory: 178KB"
       ]
      },
      {
       "output_type": "stream",
       "stream": "stdout",
       "text": [
        "\n",
        "Samples: 25102, time per iter: 1.982e-08, memory: 196KB"
       ]
      },
      {
       "output_type": "stream",
       "stream": "stdout",
       "text": [
        "\n",
        "Samples: 27612, time per iter: 1.979e-08, memory: 215KB"
       ]
      },
      {
       "output_type": "stream",
       "stream": "stdout",
       "text": [
        "\n",
        "Samples: 30373, time per iter: 1.975e-08, memory: 237KB"
       ]
      },
      {
       "output_type": "stream",
       "stream": "stdout",
       "text": [
        "\n",
        "Samples: 33410, time per iter: 1.971e-08, memory: 261KB"
       ]
      },
      {
       "output_type": "stream",
       "stream": "stdout",
       "text": [
        "\n",
        "Samples: 36751, time per iter: 1.964e-08, memory: 287KB"
       ]
      },
      {
       "output_type": "stream",
       "stream": "stdout",
       "text": [
        "\n",
        "Samples: 40426, time per iter: 2.016e-08, memory: 315KB"
       ]
      },
      {
       "output_type": "stream",
       "stream": "stdout",
       "text": [
        "\n",
        "Samples: 44468, time per iter: 2.506e-08, memory: 347KB"
       ]
      },
      {
       "output_type": "stream",
       "stream": "stdout",
       "text": [
        "\n",
        "Samples: 48914, time per iter: 2.499e-08, memory: 382KB"
       ]
      },
      {
       "output_type": "stream",
       "stream": "stdout",
       "text": [
        "\n",
        "Samples: 53805, time per iter: 2.497e-08, memory: 420KB"
       ]
      },
      {
       "output_type": "stream",
       "stream": "stdout",
       "text": [
        "\n",
        "Samples: 59185, time per iter: 2.569e-08, memory: 462KB"
       ]
      },
      {
       "output_type": "stream",
       "stream": "stdout",
       "text": [
        "\n",
        "Samples: 65103, time per iter: 2.509e-08, memory: 508KB"
       ]
      },
      {
       "output_type": "stream",
       "stream": "stdout",
       "text": [
        "\n",
        "Samples: 71613, time per iter: 2.500e-08, memory: 559KB"
       ]
      },
      {
       "output_type": "stream",
       "stream": "stdout",
       "text": [
        "\n",
        "Samples: 78774, time per iter: 2.502e-08, memory: 615KB"
       ]
      },
      {
       "output_type": "stream",
       "stream": "stdout",
       "text": [
        "\n",
        "Samples: 86651, time per iter: 2.526e-08, memory: 676KB"
       ]
      },
      {
       "output_type": "stream",
       "stream": "stdout",
       "text": [
        "\n",
        "Samples: 95316, time per iter: 2.375e-08, memory: 744KB"
       ]
      },
      {
       "output_type": "stream",
       "stream": "stdout",
       "text": [
        "\n",
        "Samples: 104847, time per iter: 2.389e-08, memory: 819KB"
       ]
      },
      {
       "output_type": "stream",
       "stream": "stdout",
       "text": [
        "\n",
        "Samples: 115331, time per iter: 2.407e-08, memory: 901KB"
       ]
      },
      {
       "output_type": "stream",
       "stream": "stdout",
       "text": [
        "\n",
        "Samples: 126864, time per iter: 2.478e-08, memory: 991KB"
       ]
      },
      {
       "output_type": "stream",
       "stream": "stdout",
       "text": [
        "\n",
        "Samples: 139550, time per iter: 2.691e-08, memory: 1090KB"
       ]
      },
      {
       "output_type": "stream",
       "stream": "stdout",
       "text": [
        "\n",
        "Samples: 153505, time per iter: 2.719e-08, memory: 1199KB"
       ]
      },
      {
       "output_type": "stream",
       "stream": "stdout",
       "text": [
        "\n",
        "Samples: 168855, time per iter: 2.741e-08, memory: 1319KB"
       ]
      },
      {
       "output_type": "stream",
       "stream": "stdout",
       "text": [
        "\n",
        "Samples: 185740, time per iter: 2.800e-08, memory: 1451KB"
       ]
      },
      {
       "output_type": "stream",
       "stream": "stdout",
       "text": [
        "\n"
       ]
      }
     ],
     "prompt_number": 14
    },
    {
     "cell_type": "markdown",
     "metadata": {},
     "source": [
      "So I think this is a cache issue: as the samples length gets longer, the Python overhead becomes a smaller fraction of the total work, and so it should become faster.  However, at some point we overflow the L3 cache, and the speed of main memory will start to be important.  On this machine, the L3 cache is 3MB.\n",
      "\n",
      "Then again, maybe it's just noise...!  Anyway, around 10k seems close to the fastest we can get."
     ]
    },
    {
     "cell_type": "heading",
     "level": 1,
     "metadata": {},
     "source": [
      "With some threads"
     ]
    },
    {
     "cell_type": "markdown",
     "metadata": {},
     "source": [
      "As the numpy routines are themselves not written in Python, they are not subject to the Global Interpretter Lock, and so threading can actually give a speedup (a little Googling told me this!)  "
     ]
    },
    {
     "cell_type": "code",
     "collapsed": false,
     "input": [
      "import threading"
     ],
     "language": "python",
     "metadata": {},
     "outputs": [],
     "prompt_number": 5
    },
    {
     "cell_type": "markdown",
     "metadata": {},
     "source": [
      "I'm very far from an expert, but `threading` seems to present the class `Thread` which allows you to run a function, but gives no clean way to get a result back (as expected).  We could use a global variable, but I prefer to do a like OOP and subclass Thread into a new class which'll run our Monte Carlo pi calculation."
     ]
    },
    {
     "cell_type": "code",
     "collapsed": false,
     "input": [
      "def mc_pi_numpy_chunks(samples, maxchunk=25000):\n",
      "    left = samples\n",
      "    count = 0\n",
      "    while left > 0:\n",
      "        dothistime = min(maxchunk,left)\n",
      "        x = np.random.rand(dothistime)\n",
      "        c = x*x\n",
      "        x = np.random.rand(dothistime)\n",
      "        c += x*x\n",
      "        count += np.sum(c<=1.0)\n",
      "        left -= maxchunk\n",
      "    return 4.0 * count / samples\n",
      "\n",
      "class mc_pi_thread(threading.Thread):\n",
      "    # function to do the run\n",
      "    def run_mc_pi(self, iters):\n",
      "        self.result = mc_pi_numpy_chunks(iters, self.maxchunk)\n",
      "    def __init__(self, iters, maxchunk = 25000):\n",
      "        # Just delegate to the Thread constructor\n",
      "        self.maxchunk = maxchunk # Largest chuck to process at once\n",
      "        threading.Thread.__init__(self, target=mc_pi_thread.run_mc_pi, args=(self,iters))\n",
      "        threading.Thread.start(self)\n",
      "    def get(self):\n",
      "        threading.Thread.join(self)\n",
      "        return self.result"
     ],
     "language": "python",
     "metadata": {},
     "outputs": [],
     "prompt_number": 64
    },
    {
     "cell_type": "code",
     "collapsed": false,
     "input": [
      "def mc_pi_numpy_threads(samples, threads, maxchunk = 25000):\n",
      "    t = []\n",
      "    for x in range(threads):\n",
      "        t.append( mc_pi_thread(samples//threads, maxchunk) )\n",
      "    ourpi = 0\n",
      "    for x in range(threads):\n",
      "       ourpi += t[x].get()\n",
      "    return ourpi/threads"
     ],
     "language": "python",
     "metadata": {},
     "outputs": [],
     "prompt_number": 65
    },
    {
     "cell_type": "code",
     "collapsed": false,
     "input": [
      "%timeit(mc_pi_numpy_chunks(100000000))"
     ],
     "language": "python",
     "metadata": {},
     "outputs": [
      {
       "output_type": "stream",
       "stream": "stdout",
       "text": [
        "1 loops, best of 3: 1.98 s per loop\n"
       ]
      }
     ],
     "prompt_number": 67
    },
    {
     "cell_type": "code",
     "collapsed": false,
     "input": [
      "%timeit(mc_pi_numpy_threads(100000000,4, 25000))"
     ],
     "language": "python",
     "metadata": {},
     "outputs": [
      {
       "output_type": "stream",
       "stream": "stdout",
       "text": [
        "1 loops, best of 3: 1.75 s per loop\n"
       ]
      }
     ],
     "prompt_number": 44
    },
    {
     "cell_type": "markdown",
     "metadata": {},
     "source": [
      "So, in the end, a rather modest speedup!  Changing the value of `maxchunk` doesn't seem to do much, except degrade performance if it gets too large (4 threads will lead to even more cache problems, I guess).  However, it's worth noting that the C++ version (also using a Mersenne twister) clocks in at 0.85 seconds for 100,000,000 and a bit under half that with 4 threads (on my i3, so only 2 cores).  So, yet again, numpy gets us easily in the same order of magnitude as a compiled language."
     ]
    },
    {
     "cell_type": "heading",
     "level": 1,
     "metadata": {},
     "source": [
      "The pure Python version"
     ]
    },
    {
     "cell_type": "code",
     "collapsed": false,
     "input": [
      "import random\n",
      "\n",
      "def mc_pi(samples):\n",
      "    count = 0\n",
      "    for n in range(samples):\n",
      "        x = random.random()\n",
      "        y = random.random()\n",
      "        if x*x+y*y <= 1.0:\n",
      "            count += 1\n",
      "    return 4.0 * count / samples\n",
      "\n",
      "mc_pi(100000)"
     ],
     "language": "python",
     "metadata": {},
     "outputs": [],
     "prompt_number": 56
    },
    {
     "cell_type": "code",
     "collapsed": false,
     "input": [
      "samples = 100\n",
      "while samples <= 10000000:\n",
      "    print(\"Samples:\",samples)\n",
      "    %timeit(mc_pi_numpy_chunks(samples))\n",
      "    %timeit(mc_pi(samples))\n",
      "    samples *= 10"
     ],
     "language": "python",
     "metadata": {},
     "outputs": [
      {
       "output_type": "stream",
       "stream": "stdout",
       "text": [
        "Samples: 100\n",
        "100000 loops, best of 3: 13.4 \u00b5s per loop"
       ]
      },
      {
       "output_type": "stream",
       "stream": "stdout",
       "text": [
        "\n",
        "10000 loops, best of 3: 26.5 \u00b5s per loop"
       ]
      },
      {
       "output_type": "stream",
       "stream": "stdout",
       "text": [
        "\n",
        "Samples: 1000\n",
        "10000 loops, best of 3: 32 \u00b5s per loop"
       ]
      },
      {
       "output_type": "stream",
       "stream": "stdout",
       "text": [
        "\n",
        "1000 loops, best of 3: 280 \u00b5s per loop"
       ]
      },
      {
       "output_type": "stream",
       "stream": "stdout",
       "text": [
        "\n",
        "Samples: 10000\n",
        "1000 loops, best of 3: 205 \u00b5s per loop"
       ]
      },
      {
       "output_type": "stream",
       "stream": "stdout",
       "text": [
        "\n",
        "100 loops, best of 3: 2.87 ms per loop"
       ]
      },
      {
       "output_type": "stream",
       "stream": "stdout",
       "text": [
        "\n",
        "Samples: 100000\n",
        "1000 loops, best of 3: 1.98 ms per loop"
       ]
      },
      {
       "output_type": "stream",
       "stream": "stdout",
       "text": [
        "\n",
        "10 loops, best of 3: 28.8 ms per loop"
       ]
      },
      {
       "output_type": "stream",
       "stream": "stdout",
       "text": [
        "\n",
        "Samples: 1000000\n",
        "100 loops, best of 3: 19.7 ms per loop"
       ]
      },
      {
       "output_type": "stream",
       "stream": "stdout",
       "text": [
        "\n",
        "1 loops, best of 3: 287 ms per loop"
       ]
      },
      {
       "output_type": "stream",
       "stream": "stdout",
       "text": [
        "\n",
        "Samples: 10000000\n",
        "10 loops, best of 3: 198 ms per loop"
       ]
      },
      {
       "output_type": "stream",
       "stream": "stdout",
       "text": [
        "\n",
        "1 loops, best of 3: 2.9 s per loop"
       ]
      },
      {
       "output_type": "stream",
       "stream": "stdout",
       "text": [
        "\n"
       ]
      }
     ],
     "prompt_number": 68
    },
    {
     "cell_type": "markdown",
     "metadata": {},
     "source": [
      "Actually, not as bad as I expected!"
     ]
    },
    {
     "cell_type": "heading",
     "level": 1,
     "metadata": {},
     "source": [
      "Some Mathematics"
     ]
    },
    {
     "cell_type": "markdown",
     "metadata": {},
     "source": [
      "Finally, how good is this idea, from a probability viewpoint?  We're simulating samples from a [Bernoulli distribution](http://en.wikipedia.org/wiki/Bernoulli_distribution) with $p=\\pi/4$.  Then the sum of $n$ samples is distributed as a [Binomial distribution](http://en.wikipedia.org/wiki/Binomial_distribution) say $X \\sim B(n,p)$.  The big stick of the [Central Limit Theorem](http://en.wikipedia.org/wiki/Central_limit_theorem) allows us to see that $\\sqrt{n} (X/n - \\pi/4)$ coverges in distribution to $N(0,p(1-p))$.  In particular,\n",
      "$$ \\lim_{n\\rightarrow\\infty} \\mathbb{P}\\Big( -\\frac{a}{\\sqrt n} \\leq \\frac{X}{n} - \\pi/4 \\leq \\frac{a}{\\sqrt{n}} \\Big) = \n",
      "\\mathbb{P}\\big( -a \\leq N(0,p(1-p)) \\leq a \\big). $$\n",
      "In practise, the limit is rather fast.  For us, $p(1-p) \\approx 0.411^2$ and so one standard deviation contains about 68% of the mass, and two standard deviations about 95%.  Thus taking $a=0.821$ we get a 95% confidence interval:\n",
      "$$ \\lim_n \\mathbb{P}\\Big( -\\frac{3.3}{\\sqrt n} \\leq \\frac{4X}{n} - \\pi \\leq \\frac{3.3}{\\sqrt{n}} \\Big) \\approx 0.95. $$"
     ]
    },
    {
     "cell_type": "code",
     "collapsed": false,
     "input": [
      "# 95% of the time we get +- 1/1000 accuracy\n",
      "for x in range(10):\n",
      "    print(\"{:.3e}\".format(mc_pi_numpy_chunks(3000000)-3.141592654))"
     ],
     "language": "python",
     "metadata": {},
     "outputs": [
      {
       "output_type": "stream",
       "stream": "stdout",
       "text": [
        "-8.193e-04\n",
        "-2.065e-05"
       ]
      },
      {
       "output_type": "stream",
       "stream": "stdout",
       "text": [
        "\n",
        "1.647e-03"
       ]
      },
      {
       "output_type": "stream",
       "stream": "stdout",
       "text": [
        "\n",
        "-3.233e-04"
       ]
      },
      {
       "output_type": "stream",
       "stream": "stdout",
       "text": [
        "\n",
        "2.780e-04"
       ]
      },
      {
       "output_type": "stream",
       "stream": "stdout",
       "text": [
        "\n",
        "7.687e-04"
       ]
      },
      {
       "output_type": "stream",
       "stream": "stdout",
       "text": [
        "\n",
        "2.673e-04"
       ]
      },
      {
       "output_type": "stream",
       "stream": "stdout",
       "text": [
        "\n",
        "2.700e-04"
       ]
      },
      {
       "output_type": "stream",
       "stream": "stdout",
       "text": [
        "\n",
        "1.051e-03"
       ]
      },
      {
       "output_type": "stream",
       "stream": "stdout",
       "text": [
        "\n",
        "5.153e-04\n"
       ]
      }
     ],
     "prompt_number": 76
    },
    {
     "cell_type": "code",
     "collapsed": false,
     "input": [],
     "language": "python",
     "metadata": {},
     "outputs": []
    }
   ],
   "metadata": {}
  }
 ]
}