{
 "metadata": {
  "name": "",
  "signature": "sha256:2449b15894d4071f0c74f9bf3071ff82216845ca5ed55b88807f7ae0d27c6e06"
 },
 "nbformat": 3,
 "nbformat_minor": 0,
 "worksheets": [
  {
   "cells": [
    {
     "cell_type": "markdown",
     "metadata": {},
     "source": [
      "This continues from Prime Sieve Discussion, and summarises somes ideas of Matt; moral is that a good algorithm always wins!\n",
      "\n",
      "If we recall the original algorithm, working with a prime $p$, we delete $2p, 3p, 4p, \\cdots$.  However, consider $kp$, for $k<p$.  This will be divisible by some prime smaller than $p$, and so will already be deleted.  Thus, in the sieving, we can start from $p^2$.  So we have the following improvement:"
     ]
    },
    {
     "cell_type": "code",
     "collapsed": false,
     "input": [
      "import math\n",
      "\n",
      "def prime_list(maxnum):\n",
      "    primes = [True]*maxnum\n",
      "    current_prime = 2\n",
      "    sqrtmaxnum = int(math.sqrt(maxnum))\n",
      "    while current_prime <= sqrtmaxnum:\n",
      "        start = current_prime * current_prime\n",
      "        runlen = maxnum // current_prime \n",
      "        end = runlen * current_prime\n",
      "        primes[start-1:end:current_prime] = [False] * (1+runlen-current_prime)\n",
      "        # Find next prime\n",
      "        current_prime +=1\n",
      "        while current_prime <=maxnum and not primes[current_prime-1]:\n",
      "            current_prime +=1\n",
      "    prime_list = []\n",
      "    for n in range(1,maxnum):\n",
      "        if primes[n]:\n",
      "            prime_list.append(n+1)\n",
      "    return prime_list\n",
      "\n",
      "print(prime_list(100))\n",
      "%timeit(prime_list(10000))"
     ],
     "language": "python",
     "metadata": {},
     "outputs": [
      {
       "output_type": "stream",
       "stream": "stdout",
       "text": [
        "[2, 3, 5, 7, 11, 13, 17, 19, 23, 29, 31, 37, 41, 43, 47, 53, 59, 61, 67, 71, 73, 79, 83, 89, 97]\n",
        "1000 loops, best of 3: 1.33 ms per loop"
       ]
      },
      {
       "output_type": "stream",
       "stream": "stdout",
       "text": [
        "\n"
       ]
      }
     ],
     "prompt_number": 1
    },
    {
     "cell_type": "markdown",
     "metadata": {},
     "source": [
      "Now, the interesting thing here is the following...  Suppose we make a list of 10,000 to start with, and then we wish to extend to 20,000.  Looking at 10,001 to 20,000, all we need to know is the primes $\\leq\\sqrt{20000}$ which we do know!  Furthermore, we could also process the numbers 20,001 to 30,000, say, independently, which opens the way to a multi-threaded solution.\n",
      "\n",
      "However, we can't do this in Python, as multi-threading in Python isn't concurrent, and multi-processing requires using `pickle`, and getting data back seems even worse, so I doubt it's worth it..."
     ]
    },
    {
     "cell_type": "code",
     "collapsed": false,
     "input": [
      "len = 10\n",
      "for n in range(8):\n",
      "    %timeit(prime_list(len))\n",
      "    len = len*10"
     ],
     "language": "python",
     "metadata": {},
     "outputs": [
      {
       "output_type": "stream",
       "stream": "stdout",
       "text": [
        "100000 loops, best of 3: 7.43 \u00b5s per loop\n",
        "10000 loops, best of 3: 21.8 \u00b5s per loop"
       ]
      },
      {
       "output_type": "stream",
       "stream": "stdout",
       "text": [
        "\n",
        "10000 loops, best of 3: 152 \u00b5s per loop"
       ]
      },
      {
       "output_type": "stream",
       "stream": "stdout",
       "text": [
        "\n",
        "1000 loops, best of 3: 1.33 ms per loop"
       ]
      },
      {
       "output_type": "stream",
       "stream": "stdout",
       "text": [
        "\n",
        "100 loops, best of 3: 13.3 ms per loop"
       ]
      },
      {
       "output_type": "stream",
       "stream": "stdout",
       "text": [
        "\n",
        "10 loops, best of 3: 153 ms per loop"
       ]
      },
      {
       "output_type": "stream",
       "stream": "stdout",
       "text": [
        "\n"
       ]
      }
     ],
     "prompt_number": 2
    },
    {
     "cell_type": "markdown",
     "metadata": {},
     "source": [
      "Timings on i5-3210m (Ivybridge, fixed at 2.5GHz for this).\n",
      "\n",
      "Length | Time | Naive C++ | Fastest single-thread C++\n",
      "--- | --- | --- | ---\n",
      "10 | 7.42 \u00b5s = 7.42e-6\n",
      "100 | 21.7 \u00b5s = 2.17e-5 | 1.03e-6\n",
      "1,000 | 151 \u00b5s = 1.51e-4 | 3.62e-6 | 3.22e-6\n",
      "10,000 | 1.37 ms = 1.37e-3 | 3.84e-5 | 2.53e-5\n",
      "100,000 | 13.3 ms = 13.3e-3 | 3.92e-4 | 3.11e-4\n",
      "1,000,000 | 154 ms = 1.54e-1 |  3.06e-3 | 3.15e-3\n",
      "10,000,000 | 1.54 | 4.31e-2 | 3.15e-2\n",
      "100,000,000 | 16 | 5.39e-1 | 3.23e-1\n",
      "1,000,000,000 |  | 6.39 | 3.21"
     ]
    },
    {
     "cell_type": "markdown",
     "metadata": {},
     "source": [
      "Remember that this code is constructing a list of primes.  To just find the sieve, we can do the following:"
     ]
    },
    {
     "cell_type": "code",
     "collapsed": false,
     "input": [
      "import math\n",
      "\n",
      "def bool_sieve(maxnum):\n",
      "    primes = [True]*maxnum\n",
      "    current_prime = 2\n",
      "    sqrtmaxnum = int(math.sqrt(maxnum))\n",
      "    while current_prime <= sqrtmaxnum:\n",
      "        start = current_prime * current_prime\n",
      "        runlen = maxnum // current_prime \n",
      "        end = runlen * current_prime\n",
      "        primes[start-1:end:current_prime] = [False] * (1+runlen-current_prime)\n",
      "        # Find next prime\n",
      "        current_prime +=1\n",
      "        while current_prime <=maxnum and not primes[current_prime-1]:\n",
      "            current_prime +=1\n",
      "    return primes\n",
      "\n",
      "len = 10\n",
      "for n in range(8):\n",
      "    %timeit(bool_sieve(len))\n",
      "    len = len*10"
     ],
     "language": "python",
     "metadata": {},
     "outputs": [
      {
       "output_type": "stream",
       "stream": "stdout",
       "text": [
        "100000 loops, best of 3: 4.91 \u00b5s per loop\n",
        "100000 loops, best of 3: 9.6 \u00b5s per loop"
       ]
      },
      {
       "output_type": "stream",
       "stream": "stdout",
       "text": [
        "\n",
        "10000 loops, best of 3: 42.2 \u00b5s per loop"
       ]
      },
      {
       "output_type": "stream",
       "stream": "stdout",
       "text": [
        "\n",
        "1000 loops, best of 3: 295 \u00b5s per loop"
       ]
      },
      {
       "output_type": "stream",
       "stream": "stdout",
       "text": [
        "\n",
        "100 loops, best of 3: 3.38 ms per loop"
       ]
      },
      {
       "output_type": "stream",
       "stream": "stdout",
       "text": [
        "\n",
        "10 loops, best of 3: 58.9 ms per loop"
       ]
      },
      {
       "output_type": "stream",
       "stream": "stdout",
       "text": [
        "\n",
        "1 loops, best of 3: 742 ms per loop"
       ]
      },
      {
       "output_type": "stream",
       "stream": "stdout",
       "text": [
        "\n",
        "1 loops, best of 3: 6.76 s per loop"
       ]
      },
      {
       "output_type": "stream",
       "stream": "stdout",
       "text": [
        "\n"
       ]
      }
     ],
     "prompt_number": 9
    },
    {
     "cell_type": "markdown",
     "metadata": {},
     "source": [
      "Timings on i5-3210m (Ivybridge, fixed at 2.5GHz for this).\n",
      "\n",
      "Length | Time | Naive C++ | Fastest single-thread C++\n",
      "--- | --- | --- | ---\n",
      "10 | 4.91$\\mu$s = 4.91e-6\n",
      "100 | 9.6$\\mu$s = 9.6e-6 | 5.93e-7\n",
      "1,000 | 42.2$\\mu$s = 4.22e-5 | 1.35e-6\n",
      "10,000 | 295$\\mu$s = 2.95e-4 | 1.05e-5\n",
      "100,000 | 3.38ms = 3.38e-3 | 1.17e-4\n",
      "1,000,000 | 58.9ms = 5.89e-2 | 1.34e-3\n",
      "10,000,000 | 742ms = 7.42e-1 | 1.72e-2 | 1.51e-2\n",
      "100,000,000 | 6.76 | 2.88e-1 | 1.63e-1\n",
      "1,000,000,000 |  | 4.27 | 1.77\n",
      "4,000,000,000 |  |   | 7.59"
     ]
    },
    {
     "cell_type": "code",
     "collapsed": false,
     "input": [],
     "language": "python",
     "metadata": {},
     "outputs": []
    }
   ],
   "metadata": {}
  }
 ]
}