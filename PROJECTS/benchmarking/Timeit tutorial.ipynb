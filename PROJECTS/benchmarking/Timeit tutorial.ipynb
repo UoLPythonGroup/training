{
 "metadata": {
  "name": "",
  "signature": "sha256:2c034590c2c20bfb0d0ecd77528125bd2f7c3c4e302d94204ca30cd5202edc60"
 },
 "nbformat": 3,
 "nbformat_minor": 0,
 "worksheets": [
  {
   "cells": [
    {
     "cell_type": "markdown",
     "metadata": {},
     "source": [
      "Sorry, Python 3.  The following might help with Python 2."
     ]
    },
    {
     "cell_type": "code",
     "collapsed": false,
     "input": [
      "from __future__ import print_function"
     ],
     "language": "python",
     "metadata": {},
     "outputs": [],
     "prompt_number": 30
    },
    {
     "cell_type": "markdown",
     "metadata": {},
     "source": [
      "We want to time some code, so here's a silly test function."
     ]
    },
    {
     "cell_type": "code",
     "collapsed": false,
     "input": [
      "def slow_add(num):\n",
      "    count = 0\n",
      "    for x in range(num+1):\n",
      "        count += x\n",
      "    return count\n",
      "\n",
      "print(slow_add(10000))\n",
      "print(10000*10001//2)"
     ],
     "language": "python",
     "metadata": {},
     "outputs": [
      {
       "output_type": "stream",
       "stream": "stdout",
       "text": [
        "50005000\n",
        "50005000\n"
       ]
      }
     ],
     "prompt_number": 31
    },
    {
     "cell_type": "markdown",
     "metadata": {},
     "source": [
      "In IPython, there is the \"magic function\" `%timeit` which automatically runs the function for a number of loops (long enough to get a sensible reading) and then returns the average time per loop."
     ]
    },
    {
     "cell_type": "code",
     "collapsed": false,
     "input": [
      "%timeit(slow_add(10))\n",
      "%timeit(slow_add(100))\n",
      "%timeit(slow_add(1000))\n",
      "%timeit(slow_add(10000))\n",
      "%timeit(slow_add(100000))"
     ],
     "language": "python",
     "metadata": {},
     "outputs": [
      {
       "output_type": "stream",
       "stream": "stdout",
       "text": [
        "1000000 loops, best of 3: 1.2 \u00b5s per loop\n",
        "100000 loops, best of 3: 6.64 \u00b5s per loop"
       ]
      },
      {
       "output_type": "stream",
       "stream": "stdout",
       "text": [
        "\n",
        "10000 loops, best of 3: 87.8 \u00b5s per loop"
       ]
      },
      {
       "output_type": "stream",
       "stream": "stdout",
       "text": [
        "\n",
        "1000 loops, best of 3: 951 \u00b5s per loop"
       ]
      },
      {
       "output_type": "stream",
       "stream": "stdout",
       "text": [
        "\n",
        "100 loops, best of 3: 9.84 ms per loop"
       ]
      },
      {
       "output_type": "stream",
       "stream": "stdout",
       "text": [
        "\n"
       ]
      }
     ],
     "prompt_number": 32
    },
    {
     "cell_type": "markdown",
     "metadata": {},
     "source": [
      "So sort of linear (but not quite-- there is some overhead with the function call; the `for` loop should scale linearly).\n",
      "\n",
      "Note that $\\mu$s is a <a href=\"http://en.wikipedia.org/wiki/Microsecond\">Microsecond</a>, one millionth of a second."
     ]
    },
    {
     "cell_type": "markdown",
     "metadata": {},
     "source": [
      "In plain Python, you can import the `timeit` module.  This is a bit more tedious.  In the following, I define a `Timer` object, called `t`.  To allow the `Timer` object access to my function, I have to import it: this is the `setup` variable (the module the current code sits in is `__main__`).  Then we run the test with the `t.timeit` command, 1000 loops."
     ]
    },
    {
     "cell_type": "code",
     "collapsed": false,
     "input": [
      "import timeit\n",
      "\n",
      "t = timeit.Timer('slow_add(10)',setup=\"from __main__ import slow_add\")\n",
      "t.timeit(number=10000)"
     ],
     "language": "python",
     "metadata": {},
     "outputs": [
      {
       "metadata": {},
       "output_type": "pyout",
       "prompt_number": 40,
       "text": [
        "0.028740362577764245"
       ]
      }
     ],
     "prompt_number": 40
    },
    {
     "cell_type": "code",
     "collapsed": false,
     "input": [
      "# Repeat the above test 3 times\n",
      "best3 = t.repeat(number=10000)\n",
      "print(best3)\n",
      "print(\"Best of 3:\", min(best3))"
     ],
     "language": "python",
     "metadata": {},
     "outputs": [
      {
       "output_type": "stream",
       "stream": "stdout",
       "text": [
        "[0.014513041539885307, 0.013989631137292236, 0.017415814054857037]\n",
        "Best of 3: 0.013989631137292236\n"
       ]
      }
     ],
     "prompt_number": 41
    },
    {
     "cell_type": "markdown",
     "metadata": {},
     "source": [
      "So the following should give the same answers."
     ]
    },
    {
     "cell_type": "code",
     "collapsed": false,
     "input": [
      "%timeit(slow_add(10))\n",
      "million = min(t.repeat(number=1000000))\n",
      "print(\"Million loops takes\",million,\"seconds\")\n",
      "print(\"So each loop takes\",million,\"Micro seconds\")"
     ],
     "language": "python",
     "metadata": {},
     "outputs": [
      {
       "output_type": "stream",
       "stream": "stdout",
       "text": [
        "1000000 loops, best of 3: 1.2 \u00b5s per loop\n",
        "Million loops takes"
       ]
      },
      {
       "output_type": "stream",
       "stream": "stdout",
       "text": [
        " 1.1895579008903496 seconds\n",
        "So each loop takes 1.1895579008903496 Micro seconds\n"
       ]
      }
     ],
     "prompt_number": 42
    },
    {
     "cell_type": "markdown",
     "metadata": {},
     "source": [
      "To finish, I can't resist some Fibonacci stuff."
     ]
    },
    {
     "cell_type": "code",
     "collapsed": false,
     "input": [
      "def print_fib(number):\n",
      "    a, b = 0, 1\n",
      "    for n in range(number):\n",
      "        print(b)\n",
      "        a, b = b, a+b\n",
      "        \n",
      "print_fib(10)"
     ],
     "language": "python",
     "metadata": {},
     "outputs": [
      {
       "output_type": "stream",
       "stream": "stdout",
       "text": [
        "1\n",
        "1\n",
        "2\n",
        "3\n",
        "5\n",
        "8\n",
        "13\n",
        "21\n",
        "34\n",
        "55\n"
       ]
      }
     ],
     "prompt_number": 48
    },
    {
     "cell_type": "code",
     "collapsed": false,
     "input": [
      "def sum_fib(number):\n",
      "    a, b = 0, 1\n",
      "    count = 0\n",
      "    for n in range(number):\n",
      "        count += b\n",
      "        a, b = b, a+b\n",
      "    return count\n",
      "\n",
      "sum_fib(100)"
     ],
     "language": "python",
     "metadata": {},
     "outputs": [
      {
       "metadata": {},
       "output_type": "pyout",
       "prompt_number": 46,
       "text": [
        "927372692193078999175"
       ]
      }
     ],
     "prompt_number": 46
    },
    {
     "cell_type": "code",
     "collapsed": false,
     "input": [
      "# An overly clever way to do this, via generator functions\n",
      "\n",
      "def fib(length):\n",
      "    a, b = 0, 1\n",
      "    for n in range(length):\n",
      "        yield b\n",
      "        a, b = b, a+b\n",
      "        \n",
      "x = list(fib(10))\n",
      "print(x)\n",
      "\n",
      "for x in fib(10):\n",
      "    print(x)\n",
      "    \n",
      "print(sum(fib(100)))"
     ],
     "language": "python",
     "metadata": {},
     "outputs": [
      {
       "output_type": "stream",
       "stream": "stdout",
       "text": [
        "[1, 1, 2, 3, 5, 8, 13, 21, 34, 55]\n",
        "1\n",
        "1\n",
        "2\n",
        "3\n",
        "5\n",
        "8\n",
        "13\n",
        "21\n",
        "34\n",
        "55\n",
        "927372692193078999175\n"
       ]
      }
     ],
     "prompt_number": 50
    },
    {
     "cell_type": "markdown",
     "metadata": {},
     "source": [
      "So which is better: plane function, or sum and generator function?"
     ]
    },
    {
     "cell_type": "code",
     "collapsed": false,
     "input": [
      "%timeit(sum_fib(100))\n",
      "%timeit(sum(fib(100)))"
     ],
     "language": "python",
     "metadata": {},
     "outputs": [
      {
       "output_type": "stream",
       "stream": "stdout",
       "text": [
        "10000 loops, best of 3: 17.3 \u00b5s per loop\n",
        "100000 loops, best of 3: 16.6 \u00b5s per loop"
       ]
      },
      {
       "output_type": "stream",
       "stream": "stdout",
       "text": [
        "\n"
       ]
      }
     ],
     "prompt_number": 52
    },
    {
     "cell_type": "code",
     "collapsed": false,
     "input": [
      "%timeit(sum_fib(1000))\n",
      "%timeit(sum(fib(1000)))"
     ],
     "language": "python",
     "metadata": {},
     "outputs": [
      {
       "output_type": "stream",
       "stream": "stdout",
       "text": [
        "1000 loops, best of 3: 212 \u00b5s per loop\n",
        "1000 loops, best of 3: 221 \u00b5s per loop"
       ]
      },
      {
       "output_type": "stream",
       "stream": "stdout",
       "text": [
        "\n"
       ]
      }
     ],
     "prompt_number": 53
    },
    {
     "cell_type": "code",
     "collapsed": false,
     "input": [
      "%timeit(sum_fib(10000))\n",
      "%timeit(sum(fib(10000)))"
     ],
     "language": "python",
     "metadata": {},
     "outputs": [
      {
       "output_type": "stream",
       "stream": "stdout",
       "text": [
        "100 loops, best of 3: 4.75 ms per loop\n",
        "100 loops, best of 3: 4.82 ms per loop"
       ]
      },
      {
       "output_type": "stream",
       "stream": "stdout",
       "text": [
        "\n"
       ]
      }
     ],
     "prompt_number": 54
    },
    {
     "cell_type": "code",
     "collapsed": false,
     "input": [
      "%timeit(sum_fib(10))\n",
      "%timeit(sum(fib(10)))"
     ],
     "language": "python",
     "metadata": {},
     "outputs": [
      {
       "output_type": "stream",
       "stream": "stdout",
       "text": [
        "100000 loops, best of 3: 1.99 \u00b5s per loop\n",
        "100000 loops, best of 3: 2.18 \u00b5s per loop"
       ]
      },
      {
       "output_type": "stream",
       "stream": "stdout",
       "text": [
        "\n"
       ]
      }
     ],
     "prompt_number": 55
    },
    {
     "cell_type": "markdown",
     "metadata": {},
     "source": [
      "I'm somewhat surprised that there is rather little in it..."
     ]
    },
    {
     "cell_type": "code",
     "collapsed": false,
     "input": [],
     "language": "python",
     "metadata": {},
     "outputs": []
    }
   ],
   "metadata": {}
  }
 ]
}