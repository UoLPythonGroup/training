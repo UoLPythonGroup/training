{
 "metadata": {
  "name": "",
  "signature": "sha256:75497c16de0d986e11e005aff4dcc0f223e6c7f3c80de1f069e161b13ee5cd3e"
 },
 "nbformat": 3,
 "nbformat_minor": 0,
 "worksheets": [
  {
   "cells": [
    {
     "cell_type": "markdown",
     "metadata": {},
     "source": [
      "Rob asked this question: can you arrange letters on the faces of 3 cubes so as to spell every month in the year: jan, feb, mar, apr, may, jun, jul, aug, sep, oct, nov, dec??"
     ]
    },
    {
     "cell_type": "code",
     "collapsed": false,
     "input": [
      "months = [\"jan\", \"feb\", \"mar\", \"apr\", \"may\", \"jun\", \"jul\", \"aug\", \"sep\", \"oct\", \"nov\", \"dec\"]\n",
      "\n",
      "total = set()\n",
      "for m in months:\n",
      "    total = total | set(m)\n",
      "print(len(total))\n",
      "print(total)"
     ],
     "language": "python",
     "metadata": {},
     "outputs": [
      {
       "output_type": "stream",
       "stream": "stdout",
       "text": [
        "19\n",
        "{'e', 'f', 't', 'j', 'o', 'b', 'p', 'g', 'n', 'v', 's', 'd', 'c', 'r', 'm', 'y', 'l', 'a', 'u'}\n"
       ]
      }
     ],
     "prompt_number": 1
    },
    {
     "cell_type": "markdown",
     "metadata": {},
     "source": [
      "So no, as there are only 18 faces.  Rob's trick was to note that in reasonable fonts, a \"u\" is an upside down \"n\", and a \"p\" is an upside down \"d\".  You can do it with these two identifications.\n",
      "\n",
      "Notice that \"jun\" requires a \"u\" and an \"n\", so we can't just identify \"u\" and \"n\".\n",
      "\n",
      "So, is it enough to just identify \"p\" and \"d\"?"
     ]
    },
    {
     "cell_type": "code",
     "collapsed": false,
     "input": [
      "months = [m.replace(\"p\",\"d\") for m in months]\n",
      "print(months)"
     ],
     "language": "python",
     "metadata": {},
     "outputs": [
      {
       "output_type": "stream",
       "stream": "stdout",
       "text": [
        "['jan', 'feb', 'mar', 'adr', 'may', 'jun', 'jul', 'aug', 'sed', 'oct', 'nov', 'dec']\n"
       ]
      }
     ],
     "prompt_number": 2
    },
    {
     "cell_type": "code",
     "collapsed": false,
     "input": [
      "import itertools\n",
      "import copy\n",
      "\n",
      "def recurse_trial(cubes, index):\n",
      "    \"\"\"cubes = list of 3 strings with current possibilities for cubes\n",
      "    index = next index of months to try\"\"\"\n",
      "    global count\n",
      "    count += 1\n",
      "    # How can we add in months[index]??  We can try all 3!=6 permutations\n",
      "    for perms in itertools.permutations(months[index]):\n",
      "        newcubes = cubes[:] # Make a copy\n",
      "        for i in range(3):\n",
      "            if perms[i] not in newcubes[i]:\n",
      "                newcubes[i] += perms[i]\n",
      "        if len(newcubes[0]) > 6 or len(newcubes[1]) > 6 or len(newcubes[2]) > 6:\n",
      "            continue # Next permutation\n",
      "        if index == len(months)-1: # Are we done, and so have a solution?\n",
      "            solutions.append(newcubes)\n",
      "            return\n",
      "        else:\n",
      "            recurse_trial(newcubes, index+1)\n"
     ],
     "language": "python",
     "metadata": {},
     "outputs": [],
     "prompt_number": 3
    },
    {
     "cell_type": "code",
     "collapsed": false,
     "input": [
      "count = 0\n",
      "solutions = []\n",
      "recurse_trial( [\"j\",\"a\",\"n\"], 1 )\n",
      "print(\"Times recurse function called:\", count)\n",
      "solutions"
     ],
     "language": "python",
     "metadata": {},
     "outputs": [
      {
       "output_type": "stream",
       "stream": "stdout",
       "text": [
        "Times recurse function called: 94371\n"
       ]
      },
      {
       "metadata": {},
       "output_type": "pyout",
       "prompt_number": 5,
       "text": [
        "[]"
       ]
      }
     ],
     "prompt_number": 5
    },
    {
     "cell_type": "markdown",
     "metadata": {},
     "source": [
      "So, nope!"
     ]
    },
    {
     "cell_type": "code",
     "collapsed": false,
     "input": [
      "months = [m.replace(\"u\",\"n\") for m in months]\n",
      "print(months)"
     ],
     "language": "python",
     "metadata": {},
     "outputs": [
      {
       "output_type": "stream",
       "stream": "stdout",
       "text": [
        "['jan', 'feb', 'mar', 'adr', 'may', 'jnn', 'jnl', 'ang', 'sed', 'oct', 'nov', 'dec']\n"
       ]
      }
     ],
     "prompt_number": 6
    },
    {
     "cell_type": "code",
     "collapsed": false,
     "input": [
      "count = 0\n",
      "solutions = []\n",
      "recurse_trial( [\"j\",\"a\",\"n\"], 1 )\n",
      "print(\"Times recurse function called:\", count)\n",
      "solutions"
     ],
     "language": "python",
     "metadata": {},
     "outputs": [
      {
       "output_type": "stream",
       "stream": "stdout",
       "text": [
        "Times recurse function called: 195791\n"
       ]
      },
      {
       "metadata": {},
       "output_type": "pyout",
       "prompt_number": 7,
       "text": [
        "[['jfmdgo', 'aenltv', 'nbrysc'],\n",
        " ['jfmdgo', 'aenltv', 'nbrysc'],\n",
        " ['jfmdgo', 'abnscv', 'nerylt'],\n",
        " ['jfmdgo', 'abnlsc', 'nerytv'],\n",
        " ['jfmdgo', 'abnscv', 'nerylt'],\n",
        " ['jfmdgo', 'abnlsc', 'nerytv'],\n",
        " ['jerygo', 'afnscv', 'nbmdlt'],\n",
        " ['jerygo', 'afnlsc', 'nbmdtv'],\n",
        " ['jerygo', 'afnscv', 'nbmdlt'],\n",
        " ['jerygo', 'afnlsc', 'nbmdtv'],\n",
        " ['jerygo', 'abnscv', 'nfmdlt'],\n",
        " ['jerygo', 'abnlsc', 'nfmdtv'],\n",
        " ['jerygo', 'abnscv', 'nfmdlt'],\n",
        " ['jerygo', 'abnlsc', 'nfmdtv'],\n",
        " ['jbmdgo', 'afnscv', 'nerylt'],\n",
        " ['jbmdgo', 'afnlsc', 'nerytv'],\n",
        " ['jbmdgo', 'afnscv', 'nerylt'],\n",
        " ['jbmdgo', 'afnlsc', 'nerytv'],\n",
        " ['jbmdgo', 'aenltv', 'nfrysc'],\n",
        " ['jbmdgo', 'aenltv', 'nfrysc']]"
       ]
      }
     ],
     "prompt_number": 7
    },
    {
     "cell_type": "markdown",
     "metadata": {},
     "source": [
      "Use a set to find unique solutions."
     ]
    },
    {
     "cell_type": "code",
     "collapsed": false,
     "input": [
      "x = [ (\"\".join(sorted(x[0])),\"\".join(sorted(x[1])),\"\".join(sorted(x[2]))) for x in solutions ]\n",
      "x = set(x)\n",
      "print(len(x))\n",
      "x"
     ],
     "language": "python",
     "metadata": {},
     "outputs": [
      {
       "output_type": "stream",
       "stream": "stdout",
       "text": [
        "10\n"
       ]
      },
      {
       "metadata": {},
       "output_type": "pyout",
       "prompt_number": 8,
       "text": [
        "{('bdgjmo', 'acflns', 'enrtvy'),\n",
        " ('bdgjmo', 'acfnsv', 'elnrty'),\n",
        " ('bdgjmo', 'aelntv', 'cfnrsy'),\n",
        " ('dfgjmo', 'abclns', 'enrtvy'),\n",
        " ('dfgjmo', 'abcnsv', 'elnrty'),\n",
        " ('dfgjmo', 'aelntv', 'bcnrsy'),\n",
        " ('egjory', 'abclns', 'dfmntv'),\n",
        " ('egjory', 'abcnsv', 'dflmnt'),\n",
        " ('egjory', 'acflns', 'bdmntv'),\n",
        " ('egjory', 'acfnsv', 'bdlmnt')}"
       ]
      }
     ],
     "prompt_number": 8
    },
    {
     "cell_type": "heading",
     "level": 1,
     "metadata": {},
     "source": [
      "Comentary on code"
     ]
    },
    {
     "cell_type": "markdown",
     "metadata": {},
     "source": [
      "We should perhaps use a class to keep the \"state\" variables `count` and `solutions`, instead of using global variable.  The `global count` command tells the function to use the global scope `count`, and not a local variable.  We don't need the same for `solutions`, because:\n",
      "   - _Reading_ a variable is okay: if Python can't find it in local scope, it searches in global scope (this is a simplification; see the manual).\n",
      "   - `solutions.append(x)` technically _reads_ the variable `solutions` and tries to run the method `append`.\n",
      "   - By constrast, `count +=1` expands to `count = count + 1` which is an assignment, so we need `global`.\n",
      "   \n",
      "The other \"odd\" thing is the line `newcodes = codes[:]`.  Remember that variables are _references_ in Python, so:"
     ]
    },
    {
     "cell_type": "code",
     "collapsed": false,
     "input": [
      "def modify(spam):\n",
      "    # This will change whatever is called as spam\n",
      "    spam[0] = \"eggs\"\n",
      "    \n",
      "x = list(range(5))\n",
      "print(x)\n",
      "modify(x)\n",
      "print(x)"
     ],
     "language": "python",
     "metadata": {},
     "outputs": [
      {
       "output_type": "stream",
       "stream": "stdout",
       "text": [
        "[0, 1, 2, 3, 4]\n",
        "['eggs', 1, 2, 3, 4]\n"
       ]
      }
     ],
     "prompt_number": 9
    },
    {
     "cell_type": "markdown",
     "metadata": {},
     "source": [
      "So we need to copy, which can be easily done with the empty slice command."
     ]
    },
    {
     "cell_type": "code",
     "collapsed": false,
     "input": [
      "def dontmodify(spam):\n",
      "    localspam = spam[:]\n",
      "    localspam[0] = \"eggs\"\n",
      "    print(\"Local:\", localspam)\n",
      "    \n",
      "x = list(range(5))\n",
      "print(x)\n",
      "dontmodify(x)\n",
      "print(x)"
     ],
     "language": "python",
     "metadata": {},
     "outputs": [
      {
       "output_type": "stream",
       "stream": "stdout",
       "text": [
        "[0, 1, 2, 3, 4]\n",
        "Local: ['eggs', 1, 2, 3, 4]\n",
        "[0, 1, 2, 3, 4]\n"
       ]
      }
     ],
     "prompt_number": 10
    },
    {
     "cell_type": "markdown",
     "metadata": {},
     "source": [
      "However, this can go wrong if `spam[0]` is itself a reference!"
     ]
    },
    {
     "cell_type": "code",
     "collapsed": false,
     "input": [
      "def deepmodify(spam):\n",
      "    localspam = spam[:]\n",
      "    localspam[0][2] = \"eggs\"\n",
      "\n",
      "x = list(range(5))\n",
      "y = [x,\"cat\",\"dog\"]\n",
      "print(y)\n",
      "deepmodify(y)\n",
      "print(y)"
     ],
     "language": "python",
     "metadata": {},
     "outputs": [
      {
       "output_type": "stream",
       "stream": "stdout",
       "text": [
        "[[0, 1, 2, 3, 4], 'cat', 'dog']\n",
        "[[0, 1, 'eggs', 3, 4], 'cat', 'dog']\n"
       ]
      }
     ],
     "prompt_number": 11
    },
    {
     "cell_type": "markdown",
     "metadata": {},
     "source": [
      "You can get around this by using the `copy` module, and the `copy.deepcopy` function.\n",
      "\n",
      "However, for us, we didn't need this.  Why?\n",
      "   - The command `newcubes[i] += perms[i]` seems to modify the string referenced by newcubes[i] !\n",
      "   - What saves us is that strings are _immutable_, so really any change creates a new string.\n",
      "   - The following shows this:"
     ]
    },
    {
     "cell_type": "code",
     "collapsed": false,
     "input": [
      "list_of_strings = [\"spam\", \"eggs\"]\n",
      "c = list_of_strings[:]\n",
      "c[0] += \"s\"\n",
      "print(list_of_strings, c)\n",
      "\n",
      "list_of_lists = [ list(x) for x in list_of_strings ]\n",
      "print(list_of_lists)\n",
      "c = list_of_lists[:]\n",
      "c[0] += \"s\"\n",
      "print(list_of_lists, c)"
     ],
     "language": "python",
     "metadata": {},
     "outputs": [
      {
       "output_type": "stream",
       "stream": "stdout",
       "text": [
        "['spam', 'eggs'] ['spams', 'eggs']\n",
        "[['s', 'p', 'a', 'm'], ['e', 'g', 'g', 's']]\n",
        "[['s', 'p', 'a', 'm', 's'], ['e', 'g', 'g', 's']] [['s', 'p', 'a', 'm', 's'], ['e', 'g', 'g', 's']]\n"
       ]
      }
     ],
     "prompt_number": 12
    },
    {
     "cell_type": "code",
     "collapsed": false,
     "input": [],
     "language": "python",
     "metadata": {},
     "outputs": []
    }
   ],
   "metadata": {}
  }
 ]
}