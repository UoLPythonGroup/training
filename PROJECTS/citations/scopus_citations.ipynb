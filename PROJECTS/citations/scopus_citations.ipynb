{
 "cells": [
  {
   "cell_type": "code",
   "execution_count": 232,
   "metadata": {
    "collapsed": false
   },
   "outputs": [],
   "source": [
    "import requests\n",
    "import json\n",
    "import numpy as np\n",
    "import matplotlib.pyplot as pl\n",
    "\n",
    "from my_scopus import MY_API_KEY\n",
    "\n",
    "%matplotlib inline"
   ]
  },
  {
   "cell_type": "code",
   "execution_count": 233,
   "metadata": {
    "collapsed": true
   },
   "outputs": [],
   "source": [
    "def citations_per_paper(author_id):\n",
    "\n",
    "    url='http://api.elsevier.com/content/author?author_id='+str(author_id)+'&view=metrics'\n",
    "\n",
    "    resp =  requests.get(url,headers={'Accept':'application/json','X-ELS-APIKey': MY_API_KEY})\n",
    "                 \n",
    "    cites = int(resp.json()['author-retrieval-response'][0]['coredata']['citation-count'])\n",
    "\n",
    "    papers = int(resp.json()['author-retrieval-response'][0]['coredata']['document-count'])\n",
    "\n",
    "    hindex = int(resp.json()['author-retrieval-response'][0]['h-index'])\n",
    "\n",
    "    #print(cites, papers, cites/papers, hindex)\n",
    "    return cites, papers, cites/papers, hindex"
   ]
  },
  {
   "cell_type": "code",
   "execution_count": 234,
   "metadata": {
    "collapsed": false
   },
   "outputs": [
    {
     "data": {
      "text/plain": [
       "(215, 19, 11.31578947368421, 8)"
      ]
     },
     "execution_count": 234,
     "metadata": {},
     "output_type": "execute_result"
    }
   ],
   "source": [
    "citations_per_paper(6602678643)"
   ]
  },
  {
   "cell_type": "code",
   "execution_count": 235,
   "metadata": {
    "collapsed": true
   },
   "outputs": [],
   "source": [
    "def get_all_papers(author_id):\n",
    "    \n",
    "    url = 'http://api.elsevier.com/content/search/scopus?query=AU-ID('+str(author_id)+')&field=dc:identifier&count=100'\n",
    "    \n",
    "    resp = requests.get(url,headers={'Accept':'application/json','X-ELS-APIKey': MY_API_KEY})\n",
    "\n",
    "    results = resp.json()\n",
    "\n",
    "    print([[str(r['dc:identifier'])] for r in results['search-results'][\"entry\"]])\n",
    "    return [[str(r['dc:identifier'])] for r in results['search-results'][\"entry\"]]\n"
   ]
  },
  {
   "cell_type": "code",
   "execution_count": 236,
   "metadata": {
    "collapsed": false
   },
   "outputs": [
    {
     "name": "stdout",
     "output_type": "stream",
     "text": [
      "[['SCOPUS_ID:85041127735'], ['SCOPUS_ID:85021088817'], ['SCOPUS_ID:85021122841'], ['SCOPUS_ID:85017648514'], ['SCOPUS_ID:85010076979'], ['SCOPUS_ID:85014721665'], ['SCOPUS_ID:84988892940'], ['SCOPUS_ID:84976534048'], ['SCOPUS_ID:84992080675'], ['SCOPUS_ID:85006847126'], ['SCOPUS_ID:84929120222'], ['SCOPUS_ID:84934907265'], ['SCOPUS_ID:84923226904'], ['SCOPUS_ID:84902164075'], ['SCOPUS_ID:84892378007'], ['SCOPUS_ID:84928319340'], ['SCOPUS_ID:84884851234'], ['SCOPUS_ID:84884776437'], ['SCOPUS_ID:84883397397'], ['SCOPUS_ID:84882990226'], ['SCOPUS_ID:77957669169'], ['SCOPUS_ID:77956924328'], ['SCOPUS_ID:77149166101'], ['SCOPUS_ID:67650938314'], ['SCOPUS_ID:55449096409'], ['SCOPUS_ID:52949121830']]\n"
     ]
    }
   ],
   "source": [
    "all_papers = get_all_papers(25636210900)"
   ]
  },
  {
   "cell_type": "code",
   "execution_count": 237,
   "metadata": {
    "collapsed": false
   },
   "outputs": [
    {
     "name": "stdout",
     "output_type": "stream",
     "text": [
      "Sturman R., Scaling of intermittent behaviour of a strange nonchaotic attractor, Physics Letters, Section A: General, Atomic and Solid State Physics, 259, 355-365, (1999-01-01). doi:10.1016/S0375-9601(99)00463-6 (cited 8 times).\n",
      "\n"
     ]
    }
   ],
   "source": [
    "import requests\n",
    "import json\n",
    "from my_scopus import MY_API_KEY\n",
    "\n",
    "def get_scopus_info(SCOPUS_ID):\n",
    "    url = (\"http://api.elsevier.com/content/abstract/scopus_id/\"\n",
    "          + SCOPUS_ID\n",
    "          + \"?field=authors,title,publicationName,volume,issueIdentifier,\"\n",
    "          + \"prism:pageRange,coverDate,article-number,doi,citedby-count,prism:aggregationType\")\n",
    "    resp = requests.get(url,\n",
    "                    headers={'Accept':'application/json',\n",
    "                             'X-ELS-APIKey': MY_API_KEY})\n",
    "    results = resp.json()\n",
    "\n",
    "    fstring = '{authors}, {title}, {journal}, {volume}, {articlenum}, ({date}). {doi} (cited {cites} times).\\n'\n",
    "    return fstring.format(authors=', '.join([au['ce:indexed-name'] for au in results['abstracts-retrieval-response']['authors']['author']]),\n",
    "                          title=results['abstracts-retrieval-response']['coredata']['dc:title'],\n",
    "                          journal=results['abstracts-retrieval-response']['coredata']['prism:publicationName'],\n",
    "                          volume=results['abstracts-retrieval-response']['coredata']['prism:volume'],\n",
    "                          articlenum=(results['abstracts-retrieval-response']['coredata'].get('prism:pageRange') or\n",
    "                              results['abstracts-retrieval-response']['coredata'].get('article-number')),\n",
    "                          date=results['abstracts-retrieval-response']['coredata']['prism:coverDate'],\n",
    "                          doi='doi:' + results['abstracts-retrieval-response']['coredata']['prism:doi'],\n",
    "                          cites=int(results['abstracts-retrieval-response']['coredata']['citedby-count']))\n",
    "\n",
    "\n",
    "\n",
    "print(get_scopus_info('SCOPUS_ID:0000644378'))"
   ]
  },
  {
   "cell_type": "code",
   "execution_count": 241,
   "metadata": {
    "collapsed": false
   },
   "outputs": [
    {
     "data": {
      "text/plain": [
       "'Matra L., MacGregor M.A., Kalas P., Wyatt M.C., Kennedy G.M., Wilner D.J., Duchene G., Hughes A.M., Pan M., Shannon A., Clampin M., Fitzgerald M.P., Graham J.R., Holland W.S., Panic O., Su K.Y.L., Detection of Exocometary CO within the 440 Myr Old Fomalhaut Belt: A Similar CO+CO2 Ice Abundance in Exocomets and Solar System Comets, Astrophysical Journal, 842, 9, (2017-06-10). doi:10.3847/1538-4357/aa71b4 (cited 3 times).\\n'"
      ]
     },
     "execution_count": 241,
     "metadata": {},
     "output_type": "execute_result"
    }
   ],
   "source": [
    "get_scopus_info('SCOPUS_ID:85021088817')"
   ]
  },
  {
   "cell_type": "code",
   "execution_count": 242,
   "metadata": {
    "collapsed": false
   },
   "outputs": [
    {
     "name": "stdout",
     "output_type": "stream",
     "text": [
      "Matra L., MacGregor M.A., Kalas P., Wyatt M.C., Kennedy G.M., Wilner D.J., Duchene G., Hughes A.M., Pan M., Shannon A., Clampin M., Fitzgerald M.P., Graham J.R., Holland W.S., Panic O., Su K.Y.L., Detection of Exocometary CO within the 440 Myr Old Fomalhaut Belt: A Similar CO+CO2 Ice Abundance in Exocomets and Solar System Comets, Astrophysical Journal, 842, 9, (2017-06-10). doi:10.3847/1538-4357/aa71b4 (cited 3 times).\n",
      "\n",
      "Macgregor M.A., Matra L., Kalas P., Wilner D.J., Pan M., Kennedy G.M., Wyatt M.C., Duchene G., Hughes A.M., Rieke G.H., Clampin M., Fitzgerald M.P., Graham J.R., Holland W.S., Panic O., Shannon A., Su K., A Complete ALMA Map of the Fomalhaut Debris Disk, Astrophysical Journal, 842, 8, (2017-06-10). doi:10.3847/1538-4357/aa71ae (cited 1 times).\n",
      "\n",
      "Stammler S.M., Birnstiel T., Panic O., Dullemond C.P., Dominik C., Redistribution of CO at the location of the CO ice line in evolving gas and dust disks, Astronomy and Astrophysics, 600, A140, (2017-04-01). doi:10.1051/0004-6361/201629041 (cited 5 times).\n",
      "\n",
      "Matra L., Dent W.R.F., Wyatt M.C., Kral Q., Wilner D.J., Panic O., Hughes A.M., de Gregorio-Monsalvo I., Hales A., Augereau J.-C., Greaves J., Roberge A., Exocometary gas structure, origin and physical properties around β Pictoris through ALMA CO multitransition observations, Monthly Notices of the Royal Astronomical Society, 464, 1415-1433, (2017-01-01). doi:10.1093/mnras/stw2415 (cited 7 times).\n",
      "\n",
      "Marino S., Wyatt M.C., Panic O., Matra L., Kennedy G.M., Bonsor A., Kral Q., Dent W.R.F., Duchene G., Wilner D., Lisse C.M., Lestrade J.-F., Matthews B., ALMA observations of the η Corvi debris disc: Inward scattering of CO-rich exocomets by a chain of 3-30 M⊕ planets?, Monthly Notices of the Royal Astronomical Society, 465, 2595-2615, (2017-01-01). doi:10.1093/mnras/stw2867 (cited 5 times).\n",
      "\n",
      "Boneberg D.M., Panic O., Haworth T.J., Clarke C.J., Min M., Determining the mid-plane conditions of circumstellar discs using gas and dust modelling: A study of HD 163296, Monthly Notices of the Royal Astronomical Society, 461, 385-401, (2016-09-01). doi:10.1093/mnras/stw1325 (cited 7 times).\n",
      "\n",
      "Salinas V.N., Hogerheijde M.R., Bergin E.A., Ilsedore Cleeves L., Brinch C., Blake G.A., Lis D.C., Melnick G.J., Panic O., Pearson J.C., Kristensen L., Ylldlz U.A., Van Dishoeck E.F., First detection of gas-phase ammonia in a planet-forming disk: NH3, N2H+, and H2O in the disk around TW Hydrae, Astronomy and Astrophysics, 591, A122, (2016-01-01). doi:10.1051/0004-6361/201628172 (cited 7 times).\n",
      "\n",
      "Haworth T.J., Ilee J.D., Forgan D.H., Facchini S., Price D.J., Boneberg D.M., Booth R.A., Clarke C.J., Gonzalez J.-F., Hutchison M.A., Kamp I., Laibe G., Lyra W., Meru F., Mohanty S., Panic O., Rice K., Suzuki T., Teague R., Walsh C., Woitke P., Grand Challenges in Protoplanetary Disc Modelling, Publications of the Astronomical Society of Australia, 33, e53, (2016-01-01). doi:10.1017/pasa.2016.45 (cited 4 times).\n",
      "\n",
      "Kraus S., Monnier J.D., Ireland M.J., Duchene G., Espaillat C., Honig S., Juhasz A., Mordasini C., Olofsson J., Paladini C., Stassun K., Turner N., Vasisht G., Harries T.J., Bate M.R., Gonzalez J.-F., Matter A., Zhu Z., Panic O., Regaly Z., Morbidelli A., Meru F., Wolf S., Ilee J., Berger J.-P., Zhao M., Kral Q., Morlok A., Bonsor A., Ciardi D., Kane S.R., Kratter K., Laughlin G., Pepper J., Raymond S., Labadie L., Nelson R.P., Weigelt G., Ten Brummelaar T., Pierens A., Oudmaijer R., Kley W., Pope B., Jensen E.L.N., Bayo A., Smith M., Boyajian T., Quiroga-Nunez L.H., Millan-Gabet R., Chiavassa A., Gallenne A., Reynolds M., De Wit W.-J., Wittkowski M., Millour F., Gandhi P., Ramos Almeida C., Alonso Herrero A., Packham C., Kishimoto M., Tristram K.R.W., Pott J.-U., Surdej J., Buscher D., Haniff C., Lacour S., Petrov R., Ridgway S., Tuthill P., Van Belle G., Armitage P., Baruteau C., Benisty M., Bitsch B., Paardekooper S.-J., Pinte C., Masset F., Rosotti G., Planet Formation Imager (PFI): Science vision and key requirements, Proceedings of SPIE - The International Society for Optical Engineering, 9907, 99071K, (2016-01-01). doi:10.1117/12.2231067 (cited 1 times).\n",
      "\n",
      "Wyatt M.C., Panic O., Kennedy G.M., Matra L., Five steps in the evolution from protoplanetary to debris disk, Astrophysics and Space Science, 357, None, (2015-06-01). doi:10.1007/s10509-015-2315-6 (cited 2 times).\n",
      "\n",
      "Matra L., Panic O., Wyatt M.C., Dent W.R.F., CO mass upper limits in the Fomalhaut ring - The importance of NLTE excitation in debris discs and future prospects with ALMA, Monthly Notices of the Royal Astronomical Society, 447, 3936-3947, (2015-03-11). doi:10.1093/mnras/stu2619 (cited 18 times).\n",
      "\n",
      "Kennedy G.M., Wyatt M.C., Bailey V., Bryden G., Danchi W.C., Defrere D., Haniff C., Hinz P.M., Lebreton J., Mennesson B., Millan-Gabet R., Morales F., Panic O., Rieke G.H., Roberge A., Serabyn E., Shannon A., Skemer A.J., Stapelfeldt K.R., Su K.Y.L., Weinberger A.J., EXO-zodi modeling for the large binocular telescope interferometer, Astrophysical Journal, Supplement Series, 216, 23, (2015-02-01). doi:10.1088/0067-0049/216/2/23 (cited 10 times).\n",
      "\n",
      "Pineda J.E., Quanz S.P., Meru F., Mulders G.D., Meyer M.R., Panic O., Avenhaus H., Resolved images of the protoplanetary disk around HD 100546 with ALMA, Astrophysical Journal Letters, 788, L34, (2014-06-20). doi:10.1088/2041-8205/788/2/L34 (cited 28 times).\n",
      "\n",
      "Panic O., Ratzka Th., Mulders G.D., Dominik C., Van Boekel R., Henning Th., Jaffe W., Min M., Resolving HD 100546 disc in the mid-infrared: Small inner disc and asymmetry near the gap, Astronomy and Astrophysics, 562, A101, (2014-02-01). doi:10.1051/0004-6361/201219223 (cited 25 times).\n",
      "\n",
      "Farihi J., Wyatt M.C., Greaves J.S., Bonsor A., Sibthorpe B., Panic O., ALMA and Herschel observations of the prototype dusty and polluted white dwarf G29-38, Monthly Notices of the Royal Astronomical Society, 444, 1821-1828, (2014-01-01). doi:10.1093/mnras/stu1545 (cited 4 times).\n",
      "\n",
      "Fedele D., Bruderer S., Van Dishoeck E.F., Hogerheijde M.R., Panic O., Brown J.M., Henning Th., Probing the radial temperature structure of protoplanetary disks with Herschel/HIFI, Astrophysical Journal Letters, 776, L3, (2013-10-10). doi:10.1088/2041-8205/776/1/L3 (cited 8 times).\n",
      "\n",
      "Panic O., Holland W.S., Wyatt M.C., Kennedy G.M., Matthews B.C., Lestrade J.F., Sibthorpe B., Greaves J.S., Marshall J.P., Phillips N.M., Tottle J., First results of the SONS survey: Submillimetre detections of debris discs, Monthly Notices of the Royal Astronomical Society, 435, 1037-1046, (2013-10-01). doi:10.1093/mnras/stt1293 (cited 29 times).\n",
      "\n",
      "Mulders G.D., Paardekooper S.-J., Panic O., Dominik C., Van Boekel R., Ratzka T., Planet or brown dwarf? Inferring the companion mass in HD 100546 from the wall shape using mid-infrared interferometry, Astronomy and Astrophysics, 557, A68, (2013-09-09). doi:10.1051/0004-6361/201220930 (cited 29 times).\n",
      "\n",
      "Panic O., Birnstiel T., Visser R., Van Kampen E., Observable signatures of dust evolution mechanisms which shape the planet forming regions, Proceedings of the International Astronomical Union, 6, 450-452, (2010-10-01). doi:10.1017/S1743921311020758 (cited 0 times).\n",
      "\n",
      "Bergin E.A., Hogerheijde M.R., Brinch C., Fogel J., Yildiz U.A., Kristensen L.E., Van Dishoeck E.F., Bell T.A., Blake G.A., Cernicharo J., Dominik C., Lis D., Melnick G., Neufeld D., Panic O., Pearson J.C., Bachiller R., Baudry A., Benedettini M., Benz A.O., Bjerkeli P., Bontemps S., Braine J., Bruderer S., Caselli P., Codella C., Daniel F., Di Giorgio A.M., Doty S.D., Encrenaz P., Fich M., Fuente A., Giannini T., Goicoechea J.R., De Graauw T., Helmich F., Herczeg G.J., Herpin F., Jacq T., Johnstone D., Jorgensen J.K., Larsson B., Liseau R., Marseille M., Mc Coey C., Nisini B., Olberg M., Parise B., Plume R., Risacher C., Santiago-Garcia J., Saraceno P., Shipman R., Tafalla M., Van Kempen T.A., Visser R., Wampfler S.F., Wyrowski F., Van Der Tak F., Jellema W., Tielens A.G.G.M., Hartogh P., Stutzki J., Szczerba R., Sensitive limits on the abundance of cold water vapor in the DM Tauri protoplanetary disk, Astronomy and Astrophysics, 521, L33, (2010-10-01). doi:10.1051/0004-6361/201015104 (cited 42 times).\n",
      "\n",
      "Panic O., Van Dishoeck E.F., Hogerheijde M.R., Belloche A., Gusten R., Boland W., Baryshev A., Observations of warm molecular gas and kinematics in the disc around HD 100546, Astronomy and Astrophysics, 519, A110, (2010-09-20). doi:10.1051/0004-6361/200913709 (cited 37 times).\n",
      "\n",
      "Panic O., Hogerheijde M.R., Characterising discs around Herbig Ae/Be stars through modelling of low-J 12CO lines, Astronomy and Astrophysics, 508, 707-716, (2009-12-01). doi:10.1051/0004-6361/200912584 (cited 30 times).\n",
      "\n",
      "Panic O., Hogerheijde M.R., Wilner D., Qi C., A break in the gas and dust surface density of the disc around the T Tauri star im Lupi, Astronomy and Astrophysics, 501, 269-278, (2009-07-01). doi:10.1051/0004-6361/200911883 (cited 50 times).\n",
      "\n",
      "Panic O., Hogerheijde R., Wilner D., Qi C., Gas and dust mass in the disc around the Herbig Ae star HD 169142, Astronomy and Astrophysics, 491, 219-227, (2008-11-01). doi:10.1051/0004-6361:20079261 (cited 45 times).\n",
      "\n",
      "Pinte C., Padgett D.L., Menard F., Stapelfeldt K.R., Schneider G., Olofsson J., Panic O., Augereau J.C., Duchene G., Krist J., Pontoppidan K., Perrin M.D., Grady C.A., Kessler-Silacci J., Van Dishoeck E.F., Lommen D., Silverstone M., Hines D.C., Wolf S., Blake G.A., Henning T., Stecklum B., Probing dust grain evolution in im Lupi's circumstellar disc, Astronomy and Astrophysics, 489, 633-650, (2008-10-01). doi:10.1051/0004-6361:200810121 (cited 103 times).\n",
      "\n"
     ]
    }
   ],
   "source": [
    "for a in all_papers[1:]:\n",
    "    print(get_scopus_info(a[0]))"
   ]
  },
  {
   "cell_type": "code",
   "execution_count": 34,
   "metadata": {
    "collapsed": true
   },
   "outputs": [],
   "source": [
    "# All maths"
   ]
  },
  {
   "cell_type": "code",
   "execution_count": 158,
   "metadata": {
    "collapsed": true
   },
   "outputs": [],
   "source": [
    "import openpyxl"
   ]
  },
  {
   "cell_type": "code",
   "execution_count": 188,
   "metadata": {
    "collapsed": false
   },
   "outputs": [
    {
     "name": "stderr",
     "output_type": "stream",
     "text": [
      "C:\\Users\\amtrjs\\AppData\\Local\\Continuum\\Anaconda3\\lib\\site-packages\\openpyxl\\worksheet\\header_footer.py:209: UserWarning: Cannot parse header or footer so it will be ignored\n",
      "  warn(\"\"\"Cannot parse header or footer so it will be ignored\"\"\")\n",
      "C:\\Users\\amtrjs\\AppData\\Local\\Continuum\\Anaconda3\\lib\\site-packages\\openpyxl\\workbook\\names\\named_range.py:124: UserWarning: Discarded range with reserved name\n",
      "  warnings.warn(\"Discarded range with reserved name\")\n"
     ]
    }
   ],
   "source": [
    "qwe = openpyxl.load_workbook('Scopus_MAPS.xlsx')"
   ]
  },
  {
   "cell_type": "code",
   "execution_count": 189,
   "metadata": {
    "collapsed": false
   },
   "outputs": [
    {
     "name": "stdout",
     "output_type": "stream",
     "text": [
      "['All', 'MATHS', 'CHEMISTRY', 'PHYSICS', 'FOOD']\n"
     ]
    }
   ],
   "source": [
    "print(qwe.get_sheet_names())"
   ]
  },
  {
   "cell_type": "code",
   "execution_count": 190,
   "metadata": {
    "collapsed": false
   },
   "outputs": [
    {
     "data": {
      "text/plain": [
       "openpyxl.workbook.workbook.Workbook"
      ]
     },
     "execution_count": 190,
     "metadata": {},
     "output_type": "execute_result"
    }
   ],
   "source": [
    "type(qwe)"
   ]
  },
  {
   "cell_type": "code",
   "execution_count": 191,
   "metadata": {
    "collapsed": false
   },
   "outputs": [
    {
     "data": {
      "text/plain": [
       "['All', 'MATHS', 'CHEMISTRY', 'PHYSICS', 'FOOD']"
      ]
     },
     "execution_count": 191,
     "metadata": {},
     "output_type": "execute_result"
    }
   ],
   "source": [
    "qwe.get_sheet_names()"
   ]
  },
  {
   "cell_type": "code",
   "execution_count": 197,
   "metadata": {
    "collapsed": false
   },
   "outputs": [],
   "source": [
    "ws = qwe[\"PHYSICS\"]"
   ]
  },
  {
   "cell_type": "code",
   "execution_count": 198,
   "metadata": {
    "collapsed": false
   },
   "outputs": [
    {
     "name": "stdout",
     "output_type": "stream",
     "text": [
      "Scopus ID\n",
      "23468816000\n",
      "35098190700\n",
      "7404485604\n",
      "56982301200\n",
      "Not found\n",
      "55532896000\n",
      "7003545309\n",
      "55512287300\n"
     ]
    }
   ],
   "source": [
    "for i in range(1,10):\n",
    "    print(ws.cell(row = i, column = 2).value)"
   ]
  },
  {
   "cell_type": "code",
   "execution_count": null,
   "metadata": {
    "collapsed": true
   },
   "outputs": [],
   "source": []
  },
  {
   "cell_type": "code",
   "execution_count": 201,
   "metadata": {
    "collapsed": false
   },
   "outputs": [
    {
     "name": "stdout",
     "output_type": "stream",
     "text": [
      "2\n",
      "236 14 16.857142857142858 8\n",
      "3\n",
      "250 16 15.625 10\n",
      "4\n",
      "980 49 20.0 17\n",
      "5\n",
      "62 9 6.888888888888889 4\n",
      "6\n",
      "7\n",
      "66 11 6.0 6\n",
      "8\n",
      "2489 89 27.96629213483146 23\n",
      "9\n",
      "35 4 8.75 3\n",
      "10\n",
      "11\n",
      "29 3 9.666666666666666 3\n",
      "12\n",
      "1904 105 18.133333333333333 21\n",
      "13\n",
      "116 7 16.571428571428573 5\n",
      "14\n",
      "570 51 11.176470588235293 14\n",
      "15\n",
      "2416 68 35.529411764705884 25\n",
      "16\n",
      "1085 40 27.125 19\n",
      "17\n",
      "1724 57 30.24561403508772 24\n",
      "18\n",
      "1073 44 24.386363636363637 18\n",
      "19\n",
      "5362 205 26.15609756097561 40\n",
      "20\n",
      "13 3 4.333333333333333 3\n",
      "21\n",
      "3534 147 24.040816326530614 27\n",
      "22\n",
      "23\n",
      "1182 60 19.7 20\n",
      "24\n",
      "17 8 2.125 2\n",
      "25\n",
      "2257 176 12.823863636363637 25\n",
      "26\n",
      "2267 102 22.225490196078432 29\n",
      "27\n",
      "3606 116 31.086206896551722 35\n",
      "28\n",
      "543 24 22.625 11\n",
      "29\n",
      "311 27 11.518518518518519 8\n",
      "30\n",
      "336 51 6.588235294117647 12\n",
      "31\n",
      "32\n",
      "12489 123 101.53658536585365 51\n",
      "33\n",
      "3208 224 14.321428571428571 27\n",
      "34\n",
      "1517 32 47.40625 17\n",
      "35\n",
      "14 4 3.5 3\n",
      "36\n",
      "37\n",
      "1136 47 24.170212765957448 17\n",
      "38\n",
      "58 7 8.285714285714286 2\n",
      "39\n",
      "621 30 20.7 14\n",
      "40\n",
      "47 5 9.4 3\n",
      "41\n",
      "1173 27 43.44444444444444 15\n",
      "42\n",
      "3112 125 24.896 34\n",
      "43\n",
      "2235 113 19.778761061946902 25\n",
      "44\n",
      "494 25 19.76 11\n",
      "45\n",
      "1372 51 26.901960784313726 19\n",
      "46\n",
      "139 11 12.636363636363637 6\n",
      "47\n",
      "48\n",
      "317 28 11.321428571428571 9\n",
      "49\n",
      "2018 104 19.403846153846153 28\n",
      "50\n",
      "14 6 2.3333333333333335 3\n",
      "51\n",
      "615 38 16.18421052631579 16\n",
      "52\n",
      "2203 52 42.36538461538461 21\n",
      "53\n",
      "38 8 4.75 2\n",
      "54\n",
      "432 11 39.27272727272727 6\n",
      "55\n",
      "56\n",
      "57\n",
      "12 5 2.4 2\n",
      "58\n",
      "354 29 12.206896551724139 11\n",
      "59\n",
      "1439 40 35.975 13\n",
      "60\n",
      "61\n",
      "385 23 16.73913043478261 10\n",
      "62\n",
      "26 9 2.888888888888889 4\n",
      "63\n",
      "965 55 17.545454545454547 14\n",
      "64\n",
      "8 2 4.0 2\n",
      "65\n",
      "66\n",
      "471 37 12.72972972972973 13\n",
      "67\n",
      "401 14 28.642857142857142 10\n",
      "68\n",
      "189 19 9.947368421052632 8\n",
      "69\n",
      "158 8 19.75 6\n",
      "70\n",
      "69 8 8.625 5\n"
     ]
    }
   ],
   "source": [
    "cs = []\n",
    "hi = []\n",
    "tot = []\n",
    "for i in range(2,71):\n",
    "    print(i)\n",
    "    wer = ws.cell(row = i, column = 2).value\n",
    "    if type(wer) == int:\n",
    "        asd = citations_per_paper(wer)\n",
    "        cs.append(asd[2])\n",
    "        hi.append(asd[3])\n",
    "        tot.append(asd[0])"
   ]
  },
  {
   "cell_type": "code",
   "execution_count": 202,
   "metadata": {
    "collapsed": false
   },
   "outputs": [
    {
     "data": {
      "image/png": "[encoded data removed]",
      "text/plain": [
       "<matplotlib.figure.Figure at 0xb256e48>"
      ]
     },
     "metadata": {},
     "output_type": "display_data"
    }
   ],
   "source": [
    "check = [np.sqrt(6.0)*np.log(2.0)*np.sqrt(a)/np.pi for a in tot]\n",
    "#pl.scatter([np.log(b) for b in cs],[np.log(b) for b in check],c='r')\n",
    "#pl.scatter([np.log(b) for b in cs],[np.log(b) for b in hi])\n",
    "#pl.scatter(cs,check,c='r',s=30.0)\n",
    "pl.scatter(cs,hi,s=30.0)\n",
    "pl.xlabel('Citations/paper')\n",
    "pl.ylabel('h-index')\n",
    "pl.title('Physics')\n",
    "pl.savefig('qs_chem_cites_h_individuals.png')"
   ]
  },
  {
   "cell_type": "code",
   "execution_count": 204,
   "metadata": {
    "collapsed": false
   },
   "outputs": [
    {
     "data": {
      "image/png": "[encoded data removed]",
      "text/plain": [
       "<matplotlib.figure.Figure at 0xb069d30>"
      ]
     },
     "metadata": {},
     "output_type": "display_data"
    }
   ],
   "source": [
    "check = [np.sqrt(6.0)*np.log(2.0)*np.sqrt(a)/np.pi for a in tot]\n",
    "#pl.scatter([np.log(b) for b in cs],[np.log(b) for b in check],c='r')\n",
    "#pl.scatter([np.log(b) for b in cs],[np.log(b) for b in hi])\n",
    "pl.scatter(cs,check,c='r',s=30.0)\n",
    "pl.scatter(cs,hi,s=30.0)\n",
    "pl.xlabel('Citations/paper')\n",
    "pl.ylabel('h-index')\n",
    "pl.title('Physics')\n",
    "pl.savefig('qs_chem_cites_h_individuals.png')"
   ]
  },
  {
   "cell_type": "code",
   "execution_count": 226,
   "metadata": {
    "collapsed": false
   },
   "outputs": [
    {
     "name": "stderr",
     "output_type": "stream",
     "text": [
      "C:\\Users\\amtrjs\\AppData\\Local\\Continuum\\Anaconda3\\lib\\site-packages\\openpyxl\\worksheet\\header_footer.py:209: UserWarning: Cannot parse header or footer so it will be ignored\n",
      "  warn(\"\"\"Cannot parse header or footer so it will be ignored\"\"\")\n",
      "C:\\Users\\amtrjs\\AppData\\Local\\Continuum\\Anaconda3\\lib\\site-packages\\openpyxl\\workbook\\names\\named_range.py:124: UserWarning: Discarded range with reserved name\n",
      "  warnings.warn(\"Discarded range with reserved name\")\n"
     ]
    },
    {
     "name": "stdout",
     "output_type": "stream",
     "text": [
      "['All', 'MATHS', 'CHEMISTRY', 'PHYSICS', 'FOOD']\n"
     ]
    },
    {
     "data": {
      "image/png": "[encoded data removed]",
      "text/plain": [
       "<matplotlib.figure.Figure at 0xb01aba8>"
      ]
     },
     "metadata": {},
     "output_type": "display_data"
    }
   ],
   "source": [
    "qwe = openpyxl.load_workbook('Scopus_MAPS.xlsx')\n",
    "print(qwe.get_sheet_names())\n",
    "ws = qwe[\"FOOD\"]\n",
    "cs = []\n",
    "hi = []\n",
    "tot = []\n",
    "for i in range(2,48): #add largest row value\n",
    "    wer = ws.cell(row = i, column = 2).value\n",
    "    if type(wer) == int:\n",
    "        asd = citations_per_paper(wer)\n",
    "        cs.append(asd[2])\n",
    "        hi.append(asd[3])\n",
    "        tot.append(asd[0])\n",
    "pl.scatter(cs,hi,s=30.0)\n",
    "pl.xlabel('Citations/paper')\n",
    "pl.ylabel('h-index')\n",
    "pl.title('Food')\n",
    "pl.savefig('qs_food_cites_h_individuals.png')"
   ]
  },
  {
   "cell_type": "code",
   "execution_count": 227,
   "metadata": {
    "collapsed": false
   },
   "outputs": [
    {
     "data": {
      "image/png": "[encoded data removed]",
      "text/plain": [
       "<matplotlib.figure.Figure at 0xc566198>"
      ]
     },
     "metadata": {},
     "output_type": "display_data"
    }
   ],
   "source": [
    "check = [np.sqrt(6.0)*np.log(2.0)*np.sqrt(a)/np.pi for a in tot]\n",
    "pl.scatter([np.log(b) for b in cs],[np.log(b) for b in check],c='r')\n",
    "pl.scatter([np.log(b) for b in cs],[np.log(b) for b in hi])\n",
    "pl.xlabel('log(Citations/paper)')\n",
    "pl.ylabel('log(h-index)')\n",
    "pl.title('Food')\n",
    "pl.savefig('qs_food_cites_h_check.png')"
   ]
  },
  {
   "cell_type": "code",
   "execution_count": 229,
   "metadata": {
    "collapsed": false
   },
   "outputs": [
    {
     "name": "stderr",
     "output_type": "stream",
     "text": [
      "C:\\Users\\amtrjs\\AppData\\Local\\Continuum\\Anaconda3\\lib\\site-packages\\openpyxl\\worksheet\\header_footer.py:209: UserWarning: Cannot parse header or footer so it will be ignored\n",
      "  warn(\"\"\"Cannot parse header or footer so it will be ignored\"\"\")\n",
      "C:\\Users\\amtrjs\\AppData\\Local\\Continuum\\Anaconda3\\lib\\site-packages\\openpyxl\\workbook\\names\\named_range.py:124: UserWarning: Discarded range with reserved name\n",
      "  warnings.warn(\"Discarded range with reserved name\")\n"
     ]
    },
    {
     "name": "stdout",
     "output_type": "stream",
     "text": [
      "['All', 'MATHS', 'CHEMISTRY', 'PHYSICS', 'FOOD']\n",
      "2 (324, 11, 29.454545454545453, 7)\n",
      "3 (282, 17, 16.58823529411765, 10)\n",
      "4 (1450, 43, 33.72093023255814, 24)\n",
      "5 (6243, 186, 33.564516129032256, 42)\n",
      "6 (210, 16, 13.125, 8)\n",
      "7 (187, 9, 20.77777777777778, 6)\n",
      "8 (80, 9, 8.88888888888889, 5)\n",
      "9 (1326, 54, 24.555555555555557, 16)\n",
      "10 (723, 41, 17.634146341463413, 13)\n",
      "12 (2033, 51, 39.86274509803921, 22)\n",
      "13 (44, 3, 14.666666666666666, 2)\n",
      "14 (2747, 104, 26.41346153846154, 26)\n",
      "15 (148, 14, 10.571428571428571, 8)\n",
      "16 (714, 20, 35.7, 13)\n",
      "17 (831, 49, 16.959183673469386, 13)\n",
      "18 (1002, 30, 33.4, 18)\n",
      "20 (55, 10, 5.5, 4)\n",
      "21 (33, 10, 3.3, 3)\n",
      "22 (219, 39, 5.615384615384615, 9)\n",
      "24 (5797, 160, 36.23125, 45)\n",
      "25 (93, 7, 13.285714285714286, 3)\n",
      "26 (101, 3, 33.666666666666664, 3)\n",
      "27 (751, 21, 35.76190476190476, 12)\n",
      "28 (2644, 47, 56.255319148936174, 21)\n",
      "29 (3846, 106, 36.283018867924525, 33)\n",
      "30 (17, 4, 4.25, 2)\n",
      "31 (1434, 24, 59.75, 18)\n",
      "32 (2927, 82, 35.69512195121951, 23)\n",
      "33 (3, 1, 3.0, 1)\n",
      "34 (3076, 111, 27.71171171171171, 32)\n",
      "35 (2392, 96, 24.916666666666668, 29)\n",
      "36 (746, 39, 19.128205128205128, 11)\n",
      "37 (26, 8, 3.25, 4)\n",
      "39 (125, 21, 5.9523809523809526, 6)\n",
      "40 (3737, 105, 35.59047619047619, 35)\n",
      "42 (338, 14, 24.142857142857142, 9)\n",
      "44 (1341, 27, 49.666666666666664, 16)\n",
      "45 (140, 15, 9.333333333333334, 6)\n",
      "46 (169, 13, 13.0, 8)\n",
      "47 (25271, 351, 71.997150997151, 83)\n",
      "48 (208, 14, 14.857142857142858, 8)\n"
     ]
    }
   ],
   "source": [
    "qwe = openpyxl.load_workbook('Scopus_MAPS.xlsx')\n",
    "print(qwe.get_sheet_names())\n",
    "ws = qwe[\"FOOD\"]\n",
    "for i in range(2,74): #add largest row value\n",
    "    wer = ws.cell(row = i, column = 2).value\n",
    "    if type(wer) == int:\n",
    "        print(i,citations_per_paper(wer))\n",
    "        "
   ]
  },
  {
   "cell_type": "code",
   "execution_count": 243,
   "metadata": {
    "collapsed": false
   },
   "outputs": [
    {
     "data": {
      "text/plain": [
       "{'a', 'j', 'n'}"
      ]
     },
     "execution_count": 243,
     "metadata": {},
     "output_type": "execute_result"
    }
   ],
   "source": [
    "m = \"jan\"\n",
    "set(m)"
   ]
  },
  {
   "cell_type": "code",
   "execution_count": null,
   "metadata": {
    "collapsed": true
   },
   "outputs": [],
   "source": []
  }
 ],
 "metadata": {
  "anaconda-cloud": {},
  "kernelspec": {
   "display_name": "Python [Root]",
   "language": "python",
   "name": "Python [Root]"
  },
  "language_info": {
   "codemirror_mode": {
    "name": "ipython",
    "version": 3
   },
   "file_extension": ".py",
   "mimetype": "text/x-python",
   "name": "python",
   "nbconvert_exporter": "python",
   "pygments_lexer": "ipython3",
   "version": "3.5.2"
  }
 },
 "nbformat": 4,
 "nbformat_minor": 0
}
