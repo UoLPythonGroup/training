{
 "metadata": {
  "name": "",
  "signature": "sha256:edc370ac86f9872ff397935729e877a71b4608308494c2320f5fc32459c5509c"
 },
 "nbformat": 3,
 "nbformat_minor": 0,
 "worksheets": [
  {
   "cells": [
    {
     "cell_type": "markdown",
     "metadata": {},
     "source": [
      "Basic game of life routines using numpy.  Some code stolen from http://jakevdp.github.io/blog/2013/08/07/conways-game-of-life/"
     ]
    },
    {
     "cell_type": "code",
     "collapsed": false,
     "input": [
      "import numpy as np"
     ],
     "language": "python",
     "metadata": {},
     "outputs": [],
     "prompt_number": 1
    },
    {
     "cell_type": "code",
     "collapsed": false,
     "input": [
      "def game_of_life_iter1(x):\n",
      "    \"\"\"Iterate a game of life step\n",
      "       x should be a 2d numpy array of bool dtype\n",
      "       boundary conditions are periodic; so zero first/last rows columns if needed\"\"\"\n",
      "    count = sum( np.roll(np.roll(x,i,0),j,1)\n",
      "                for i in (-1,0,1) for j in (-1,0,1) if not (i==0 and j==0)  )\n",
      "    return (count==3) | (x & (count==2))"
     ],
     "language": "python",
     "metadata": {},
     "outputs": [],
     "prompt_number": 2
    },
    {
     "cell_type": "markdown",
     "metadata": {},
     "source": [
      "How does this work?  The key idea is that of [generator expressions](http://legacy.python.org/dev/peps/pep-0289/).  We know that `[x*x for x in range(5)]` will produce the list `[0,1,4,9,16]`.  We could add these up with `sum([x*x for x in range(5)])` but this is inefficient: why create the list only to add the terms and then delete the list?  Instead we can write ``sum(x*x for x in range(5))`` which does the same as\n",
      "\n",
      "`accum = 0\n",
      "for x in range(5):\n",
      "    accum += x*x\n",
      "return accum`\n",
      "\n",
      "but without creating a list (recall that in Python 3, `range()` does not produce a list).\n",
      "\n",
      "The numpy command `np.roll(x,i,0)` \"rolls\" the array `x` around axis 0 by `i` units (see [numpy docs](http://docs.scipy.org/doc/numpy/reference/generated/numpy.roll.html)).  So we consider all translates `(i,j)` for `i,j` in `-1,0,1` but not the case when `i==0 and j==0` which would correspond to no translation.  We then sum these up using \"vectorisation\".  Overall, the effect is the same as\n",
      "\n",
      "`count = np.roll(np.roll(x,-1,0),-1,0) + np.roll(np.roll(x,-1,0),0,0) + ... + np.roll(np.roll(x,1,0),1,0)`\n",
      "\n",
      "Then we return an array which is set to 0 or 1, the 1 case occuring exactly when we have 3 neighbours (birth) or 2 neighbours with the cell original alive (corresponding to continued life)."
     ]
    },
    {
     "cell_type": "code",
     "collapsed": false,
     "input": [
      "def game_of_life_iter2(x):\n",
      "    \"\"\"Iterate a game of life step\n",
      "       x should be a 2d numpy array of bool dtype\n",
      "       boundary conditions are periodic; so zero first/last rows columns if needed.\n",
      "       This version doesn't use sum()\"\"\"\n",
      "    count = x.astype(int)\n",
      "    count = ( np.roll(np.roll(count,-1,0),-1,1) + np.roll(np.roll(count,-1,0),0,1)\n",
      "    + np.roll(np.roll(count,-1,0),1,1) + np.roll(np.roll(count,0,0),-1,1)\n",
      "    + np.roll(np.roll(count,0,0),1,1) + np.roll(np.roll(count,1,0),-1,1)\n",
      "    + np.roll(np.roll(count,1,0),0,1) + np.roll(np.roll(count,1,0),1,1) )\n",
      "    return (count==3) | (x & (count==2))"
     ],
     "language": "python",
     "metadata": {},
     "outputs": [],
     "prompt_number": 3
    },
    {
     "cell_type": "markdown",
     "metadata": {},
     "source": [
      "This version just expands out the `sum()`.  A complication is that `x` is assumed to be an array of `bool`s and while `sum()` automatically promotes this to integers, we have to manually do this here."
     ]
    },
    {
     "cell_type": "code",
     "collapsed": false,
     "input": [
      "glider = [[1, 0, 0],\n",
      "          [0, 1, 1],\n",
      "          [1, 1, 0]]\n",
      "x = np.zeros((5,5),dtype=int)\n",
      "x[:3,:3] = glider\n",
      "x = x.astype(bool)\n",
      "y = x.copy()\n",
      "x = game_of_life_iter1(x)\n",
      "y = game_of_life_iter2(y)\n",
      "print(\"x:\", x.astype(int))\n",
      "print(\"y:\", y.astype(int))\n",
      "print((x==y).all())"
     ],
     "language": "python",
     "metadata": {},
     "outputs": [
      {
       "output_type": "stream",
       "stream": "stdout",
       "text": [
        "x: [[0 1 0 0 0]\n",
        " [0 0 1 0 0]\n",
        " [1 1 1 0 0]\n",
        " [0 0 0 0 0]\n",
        " [0 0 0 0 0]]\n",
        "y: [[0 1 0 0 0]\n",
        " [0 0 1 0 0]\n",
        " [1 1 1 0 0]\n",
        " [0 0 0 0 0]\n",
        " [0 0 0 0 0]]\n",
        "True\n"
       ]
      }
     ],
     "prompt_number": 23
    },
    {
     "cell_type": "markdown",
     "metadata": {},
     "source": [
      "Let's try again with version which work with arrays of integers, not bools:"
     ]
    },
    {
     "cell_type": "code",
     "collapsed": false,
     "input": [
      "def game_of_life_iter1a(x):\n",
      "    \"\"\"Iterate a game of life step\n",
      "       x should be a 2d numpy array\n",
      "       boundary conditions are periodic; so zero first/last rows columns if needed\"\"\"\n",
      "    count = sum( np.roll(np.roll(x,i,0),j,1)\n",
      "                for i in (-1,0,1) for j in (-1,0,1) if not (i==0 and j==0)  )\n",
      "    return ((count==3) | ((x==1) & (count==2))).astype(int)\n",
      "\n",
      "def game_of_life_iter2a(x):\n",
      "    \"\"\"Iterate a game of life step\n",
      "       x should be a 2d numpy array\n",
      "       boundary conditions are periodic; so zero first/last rows columns if needed.\n",
      "       This version uses slices and handles the edges manually\"\"\"\n",
      "    count = ( np.roll(np.roll(x,-1,0),-1,1) + np.roll(np.roll(x,-1,0),0,1)\n",
      "    + np.roll(np.roll(x,-1,0),1,1) + np.roll(np.roll(x,0,0),-1,1)\n",
      "    + np.roll(np.roll(x,0,0),1,1) + np.roll(np.roll(x,1,0),-1,1)\n",
      "    + np.roll(np.roll(x,1,0),0,1) + np.roll(np.roll(x,1,0),1,1) )\n",
      "    return ((count==3) | ((x==1) & (count==2))).astype(int)"
     ],
     "language": "python",
     "metadata": {},
     "outputs": [],
     "prompt_number": 6
    },
    {
     "cell_type": "code",
     "collapsed": false,
     "input": [
      "glider = [[1, 0, 0],\n",
      "          [0, 1, 1],\n",
      "          [1, 1, 0]]\n",
      "x = np.zeros((5,5),dtype=int)\n",
      "x[:3,:3] = glider\n",
      "y = x.copy()\n",
      "x = game_of_life_iter1a(x)\n",
      "y = game_of_life_iter2a(y)\n",
      "print(\"x:\", x)\n",
      "print(\"y:\", y)\n",
      "print((x==y).all())"
     ],
     "language": "python",
     "metadata": {},
     "outputs": [
      {
       "output_type": "stream",
       "stream": "stdout",
       "text": [
        "x: [[0 1 0 0 0]\n",
        " [0 0 1 0 0]\n",
        " [1 1 1 0 0]\n",
        " [0 0 0 0 0]\n",
        " [0 0 0 0 0]]\n",
        "y: [[0 1 0 0 0]\n",
        " [0 0 1 0 0]\n",
        " [1 1 1 0 0]\n",
        " [0 0 0 0 0]\n",
        " [0 0 0 0 0]]\n",
        "True\n"
       ]
      }
     ],
     "prompt_number": 24
    },
    {
     "cell_type": "markdown",
     "metadata": {},
     "source": [
      "Now we adapt the ideas of slicing; by expanding the matrix and making it periodic, we can replicate periodic boundary conditions."
     ]
    },
    {
     "cell_type": "code",
     "collapsed": false,
     "input": [
      "def game_of_life_make_mat(inp):\n",
      "    \"\"\"Takes a m by n matrix and returns an (m+2) by (n+2) matrix, with\n",
      "    the input in the middle, and the edges adjusted to be periodic.\"\"\"\n",
      "    rows, cols = inp.shape\n",
      "    out = np.empty((rows+2,cols+2),inp.dtype)\n",
      "    out[1:-1,1:-1] = inp\n",
      "    out[0,0] = inp[-1,-1]\n",
      "    out[0,1:-1] = inp[-1,:]\n",
      "    out[0,-1] = inp[-1,0]\n",
      "    out[1:-1,0] = inp[:,-1]\n",
      "    out[-1,0] = inp[0,-1]\n",
      "    out[-1,1:-1] = inp[0,:]\n",
      "    out[-1,-1] = inp[0,0]\n",
      "    out[1:-1,-1] = inp[:,0]\n",
      "    return out\n",
      "\n",
      "def game_of_life_adjust(out):\n",
      "    \"\"\"Adjusts an already enlarged matrix to be \"periodic\"\n",
      "    Does this inplace: the input matrix is changed!\"\"\"\n",
      "    inp = out[1:-1,1:-1]\n",
      "    out[1:-1,1:-1] = inp\n",
      "    out[0,0] = inp[-1,-1]\n",
      "    out[0,1:-1] = inp[-1,:]\n",
      "    out[0,-1] = inp[-1,0]\n",
      "    out[1:-1,0] = inp[:,-1]\n",
      "    out[-1,0] = inp[0,-1]\n",
      "    out[-1,1:-1] = inp[0,:]\n",
      "    out[-1,-1] = inp[0,0]\n",
      "    out[1:-1,-1] = inp[:,0]\n",
      "    return out\n",
      "    \n",
      "def game_of_life_iter3(x):\n",
      "    \"\"\"Iterate a game of life step\n",
      "       x should be a 2d numpy array of bools\n",
      "       uses slicing; assumes nothing about the boundaries\"\"\"\n",
      "    count = x.astype(int)\n",
      "    count[1:-1,1:-1] = ( count[0:-2,0:-2] + count[0:-2,1:-1] + count[0:-2,2:]\n",
      "                       + count[1:-1,0:-2] +                    count[1:-1,2:]\n",
      "                       + count[2:,0:-2]   + count[2:,1:-1] + count[2:,2:] )\n",
      "    return ((count==3) | ((x==1) & (count==2)))\n",
      "\n",
      "def game_of_life_iter3_periodic(x):\n",
      "    \"\"\"As game_of_life_iter3 but assumes periodic boundary conditions.\"\"\"\n",
      "    return game_of_life_adjust(game_of_life_iter3(x))\n",
      "\n",
      "def game_of_life_iter3a(x):\n",
      "    \"\"\"Iterate a game of life step\n",
      "       x should be a 2d numpy array\n",
      "       uses slicing, and assumes \"adjusted\" boundaries.\"\"\"\n",
      "    count = np.empty_like(x,int)\n",
      "    count[1:-1,1:-1] = ( x[0:-2,0:-2] + x[0:-2,1:-1] + x[0:-2,2:]\n",
      "                       + x[1:-1,0:-2] +                x[1:-1,2:]\n",
      "                       + x[2:,0:-2]   + x[2:,1:-1] +   x[2:,2:] )\n",
      "    return ((count==3) | ((x==1) & (count==2))).astype(int)\n",
      "\n",
      "def game_of_life_iter3a_periodic(x):\n",
      "    \"\"\"As game_of_life_iter3 but assumes periodic boundary conditions.\"\"\"\n",
      "    return game_of_life_adjust(game_of_life_iter3a(x))"
     ],
     "language": "python",
     "metadata": {},
     "outputs": [],
     "prompt_number": 28
    },
    {
     "cell_type": "code",
     "collapsed": false,
     "input": [
      "x = np.zeros((5,5),dtype=int)\n",
      "x[:3,:3] = glider\n",
      "reference = x.copy()\n",
      "reference = game_of_life_iter1a(reference)\n",
      "x = game_of_life_make_mat(x)\n",
      "x = game_of_life_iter3a_periodic(x)\n",
      "#x = game_of_life_adjust(x)\n",
      "print(x[1:-1,1:-1])\n",
      "print( (x[1:-1,1:-1]==reference).all() )\n",
      "\n",
      "x = np.zeros((5,5),dtype=int)\n",
      "x[:3,:3] = glider\n",
      "x = x.astype(bool)\n",
      "reference = x.copy()\n",
      "reference = game_of_life_iter1(reference)\n",
      "x = game_of_life_make_mat(x)\n",
      "x = game_of_life_iter3_periodic(x)\n",
      "#x = game_of_life_adjust(x)\n",
      "print(x[1:-1,1:-1])\n",
      "print( (x[1:-1,1:-1]==reference).all() )"
     ],
     "language": "python",
     "metadata": {},
     "outputs": [
      {
       "output_type": "stream",
       "stream": "stdout",
       "text": [
        "[[0 1 0 0 0]\n",
        " [0 0 1 0 0]\n",
        " [1 1 1 0 0]\n",
        " [0 0 0 0 0]\n",
        " [0 0 0 0 0]]\n",
        "True\n",
        "[[False  True False False False]\n",
        " [False False  True False False]\n",
        " [ True  True  True False False]\n",
        " [False False False False False]\n",
        " [False False False False False]]\n",
        "True\n"
       ]
      }
     ],
     "prompt_number": 38
    },
    {
     "cell_type": "markdown",
     "metadata": {},
     "source": [
      "Let's time these!  Firstly we look at the first two functions, which have periodic boundaries and so use np.roll.  The first uses `sum()` while the second has a hand-written sum.  Types `1a` and `2a` use int types not bools.\n",
      "\n",
      "<table>\n",
      "<tr>\n",
      "<td>Size</td><td>1</td><td>2</td><td>3</td><td>4</td>\n",
      "</tr>\n",
      "<tr>\n",
      "<td>s=10</td><td>1.23ms</td><td>1.07ms</td><td>1.13ms</td><td>1.09ms</td>\n",
      "</tr>\n",
      "<tr>\n",
      "<td>s=20</td><td>1.32ms</td><td>1.16ms</td><td>1.22ms</td><td>1.19ms</td>\n",
      "</tr>\n",
      "<tr>\n",
      "<td>s=50</td><td>1.96ms</td><td>1.8ms</td><td>1.88ms</td><td>1.81ms</td>\n",
      "</tr>\n",
      "<tr>\n",
      "<td>s=100</td><td>4.26ms</td><td>3.94ms</td><td>4.14ms</td><td>4.04ms</td>\n",
      "</tr>\n",
      "<tr>\n",
      "<td>s=250</td><td>21.5ms</td><td>22ms</td><td>22.1ms</td><td>20.5ms</td>\n",
      "</tr>\n",
      "<tr>\n",
      "<td>s=1000</td><td>349ms</td><td>388ms</td><td>403ms</td><td>395ms</td>\n",
      "</tr>\n",
      "<tr>\n",
      "<td>s=2000</td><td>1380ms</td><td>1540ms</td><td>1600ms</td><td>1560ms</td>\n",
      "</tr>\n",
      "<tr>\n",
      "<td>s=4000</td><td>5570ms</td><td>6180ms</td><td>6490ms</td><td>6280ms</td>\n",
      "</tr>\n",
      "</table>\n",
      "\n",
      "Can't get much further on my ancient netbook.  These algorithms are all obvious $O(n^2)$ but for small sizes the overhead of Python gets in the way.  For larger sizes the fasters is `sum()` with `bool` and the slowest is `sum()` with `int`.  Go figure."
     ]
    },
    {
     "cell_type": "code",
     "collapsed": false,
     "input": [
      "s = 10\n",
      "x = np.random.randint(2,size=(s,s))\n",
      "y = x.astype(bool)\n",
      "%timeit game_of_life_iter1(y)\n",
      "y = x.astype(bool)\n",
      "%timeit game_of_life_iter2(y)\n",
      "y = x.copy()\n",
      "%timeit game_of_life_iter1a(y)\n",
      "y = x.copy()\n",
      "%timeit game_of_life_iter2a(y)"
     ],
     "language": "python",
     "metadata": {},
     "outputs": [
      {
       "output_type": "stream",
       "stream": "stdout",
       "text": [
        "1000 loops, best of 3: 1.21 ms per loop\n",
        "1000 loops, best of 3: 1.08 ms per loop"
       ]
      },
      {
       "output_type": "stream",
       "stream": "stdout",
       "text": [
        "\n",
        "1000 loops, best of 3: 1.13 ms per loop"
       ]
      },
      {
       "output_type": "stream",
       "stream": "stdout",
       "text": [
        "\n",
        "1000 loops, best of 3: 1.08 ms per loop"
       ]
      },
      {
       "output_type": "stream",
       "stream": "stdout",
       "text": [
        "\n"
       ]
      }
     ],
     "prompt_number": 25
    },
    {
     "cell_type": "markdown",
     "metadata": {},
     "source": [
      "By comparison, here's what we get with the 3rd algorithm, using the \"expand and make periodic\" method:\n",
      "\n",
      "<table>\n",
      "<tr>\n",
      "<td>Size</td><td>iter3</td><td>iter3a</td>\n",
      "</tr>\n",
      "<tr>\n",
      "<td>10</td><td>0.574ms</td><td>0.587ms</td>\n",
      "</tr>\n",
      "<tr>\n",
      "<td>20</td><td>0.600ms</td><td>0.598ms</td>\n",
      "</tr>\n",
      "<tr>\n",
      "<td>40</td><td>0.720ms</td><td>0.713ms</td>\n",
      "</tr>\n",
      "<tr>\n",
      "<td>100</td><td>1.48ms</td><td>1.45ms</td>\n",
      "</tr>\n",
      "<tr>\n",
      "<td>200</td><td>4.54ms</td><td>4.34ms</td>\n",
      "</tr>\n",
      "<tr>\n",
      "<td>400</td><td>21.5ms</td><td>20.6ms</td>\n",
      "</tr>\n",
      "<tr>\n",
      "<td>1000</td><td>126ms</td><td>125ms</td>\n",
      "</tr>\n",
      "<tr>\n",
      "<td>2000</td><td>495ms</td><td>492ms</td>\n",
      "</tr>\n",
      "<tr>\n",
      "<td>4000</td><td>1990ms</td><td>1970ms</td>\n",
      "</tr>\n",
      "</table>\n",
      "\n",
      "This is quicker (as expected!).  No difference between `bool`s and `int`s."
     ]
    },
    {
     "cell_type": "code",
     "collapsed": false,
     "input": [
      "ss = [1000,2000,4000]\n",
      "for s in ss:\n",
      "    x = np.random.randint(2,size=(s,s))\n",
      "    x = game_of_life_make_mat(x)\n",
      "    y = x.astype(bool)\n",
      "    %timeit game_of_life_iter3_periodic(y)\n",
      "    y = x.copy()\n",
      "    %timeit game_of_life_iter3a_periodic(y)"
     ],
     "language": "python",
     "metadata": {},
     "outputs": [
      {
       "output_type": "stream",
       "stream": "stdout",
       "text": [
        "10 loops, best of 3: 126 ms per loop\n",
        "10 loops, best of 3: 125 ms per loop"
       ]
      },
      {
       "output_type": "stream",
       "stream": "stdout",
       "text": [
        "\n",
        "1 loops, best of 3: 495 ms per loop"
       ]
      },
      {
       "output_type": "stream",
       "stream": "stdout",
       "text": [
        "\n",
        "1 loops, best of 3: 492 ms per loop"
       ]
      },
      {
       "output_type": "stream",
       "stream": "stdout",
       "text": [
        "\n",
        "1 loops, best of 3: 1.99 s per loop"
       ]
      },
      {
       "output_type": "stream",
       "stream": "stdout",
       "text": [
        "\n",
        "1 loops, best of 3: 1.97 s per loop"
       ]
      },
      {
       "output_type": "stream",
       "stream": "stdout",
       "text": [
        "\n"
       ]
      }
     ],
     "prompt_number": 37
    },
    {
     "cell_type": "markdown",
     "metadata": {},
     "source": [
      "Finally a check that all the algorithms produce the same result!"
     ]
    },
    {
     "cell_type": "code",
     "collapsed": false,
     "input": [
      "x = np.random.randint(2,size=(100,100))\n",
      "x1 = x.copy().astype(bool)\n",
      "x2 = x.copy().astype(bool)\n",
      "x3 = game_of_life_make_mat( x.copy().astype(bool) )\n",
      "x1a = x.copy().astype(int)\n",
      "x2a = x.copy().astype(int)\n",
      "x3a = game_of_life_make_mat( x.copy().astype(int) )\n",
      "for i in range(1000):\n",
      "    if ( not (x1==x1a).all() ):\n",
      "        print(\"Problem 1,1a, loop\",i)\n",
      "        raise\n",
      "    if ( not (x2==x2a).all() ):\n",
      "        print(\"Problem 2,2a, loop\",i)\n",
      "        raise\n",
      "    if ( not (x3[1:-1,1:-1]==x3a[1:-1,1:-1]).all() ):\n",
      "        print(\"Problem 3,3a, loop\",i)\n",
      "        raise\n",
      "    if ( not (x1==x2).all() ):\n",
      "        print(\"Problem 1,2, loop\",i)\n",
      "        raise\n",
      "    if ( not (x2==x3[1:-1,1:-1]).all() ):\n",
      "        print(\"Problem 2,3, loop\",i)\n",
      "        raise\n",
      "    game_of_life_iter1(x1)\n",
      "    game_of_life_iter2(x2)\n",
      "    game_of_life_iter3_periodic(x3)\n",
      "    game_of_life_iter1a(x1a)\n",
      "    game_of_life_iter2a(x2a)\n",
      "    game_of_life_iter3a_periodic(x3a)\n",
      "print(\"Got to end, all okay!\")"
     ],
     "language": "python",
     "metadata": {},
     "outputs": [
      {
       "output_type": "stream",
       "stream": "stdout",
       "text": [
        "Got to end, all okay!\n"
       ]
      }
     ],
     "prompt_number": 51
    },
    {
     "cell_type": "code",
     "collapsed": false,
     "input": [],
     "language": "python",
     "metadata": {},
     "outputs": []
    }
   ],
   "metadata": {}
  }
 ]
}