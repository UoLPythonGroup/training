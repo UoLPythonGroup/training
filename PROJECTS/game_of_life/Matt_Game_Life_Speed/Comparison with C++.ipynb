{
 "metadata": {
  "name": "",
  "signature": "sha256:2d137f5b9aecfef9d9dae125bdffa7c1677f83f0bbf68c8604397e44c696903d"
 },
 "nbformat": 3,
 "nbformat_minor": 0,
 "worksheets": [
  {
   "cells": [
    {
     "cell_type": "code",
     "collapsed": false,
     "input": [
      "import numpy as np"
     ],
     "language": "python",
     "metadata": {},
     "outputs": [],
     "prompt_number": 1
    },
    {
     "cell_type": "markdown",
     "metadata": {},
     "source": [
      "Same PRNG as used in the C++ version."
     ]
    },
    {
     "cell_type": "code",
     "collapsed": false,
     "input": [
      "class MyRand:\n",
      "    def __init__(self,value=1234):\n",
      "        self.state = value\n",
      "    def get(self):\n",
      "        self.state = (self.state * 1103515245 + 12345) & 2147483647\n",
      "        return self.state\n",
      "    def getbit(self):\n",
      "        return (self.get() >> 20) & 1"
     ],
     "language": "python",
     "metadata": {},
     "outputs": [],
     "prompt_number": 2
    },
    {
     "cell_type": "code",
     "collapsed": false,
     "input": [
      "rng = MyRand(12)\n",
      "[rng.get() for i in range(20)]"
     ],
     "language": "python",
     "metadata": {},
     "outputs": [
      {
       "metadata": {},
       "output_type": "pyout",
       "prompt_number": 3,
       "text": [
        "[357293397,\n",
        " 1937462122,\n",
        " 753467483,\n",
        " 2125664504,\n",
        " 423229905,\n",
        " 812858422,\n",
        " 86853431,\n",
        " 193217700,\n",
        " 1863541261,\n",
        " 1445914050,\n",
        " 1912938451,\n",
        " 1276315408,\n",
        " 916525577,\n",
        " 302619662,\n",
        " 1551361583,\n",
        " 1586070588,\n",
        " 692045253,\n",
        " 2043112218,\n",
        " 212252235,\n",
        " 931702824]"
       ]
      }
     ],
     "prompt_number": 3
    },
    {
     "cell_type": "code",
     "collapsed": false,
     "input": [
      "x = [rng.getbit() for i in range(100)]\n",
      "x = np.array(x).reshape(10,10)\n",
      "x"
     ],
     "language": "python",
     "metadata": {},
     "outputs": [
      {
       "metadata": {},
       "output_type": "pyout",
       "prompt_number": 4,
       "text": [
        "array([[1, 0, 0, 1, 0, 1, 0, 1, 1, 1],\n",
        "       [1, 1, 1, 0, 1, 0, 1, 0, 0, 0],\n",
        "       [0, 1, 0, 0, 1, 1, 0, 1, 0, 1],\n",
        "       [0, 1, 0, 1, 1, 0, 0, 1, 1, 0],\n",
        "       [1, 1, 0, 1, 0, 0, 0, 1, 0, 1],\n",
        "       [1, 0, 0, 0, 0, 0, 1, 0, 1, 1],\n",
        "       [1, 0, 0, 1, 0, 0, 1, 0, 1, 0],\n",
        "       [0, 0, 0, 0, 1, 0, 1, 0, 0, 0],\n",
        "       [0, 0, 0, 0, 1, 1, 0, 0, 1, 1],\n",
        "       [0, 1, 1, 0, 1, 1, 1, 1, 1, 0]])"
       ]
      }
     ],
     "prompt_number": 4
    },
    {
     "cell_type": "code",
     "collapsed": false,
     "input": [
      "def game_of_life_iter1a(x):\n",
      "    \"\"\"Iterate a game of life step\n",
      "       x should be a 2d numpy array\n",
      "       boundary conditions are periodic; so zero first/last rows columns if needed\"\"\"\n",
      "    count = sum( np.roll(np.roll(x,i,0),j,1)\n",
      "                for i in (-1,0,1) for j in (-1,0,1) if not (i==0 and j==0)  )\n",
      "    return ((count==3) | ((x==1) & (count==2))).astype(np.int8)"
     ],
     "language": "python",
     "metadata": {},
     "outputs": [],
     "prompt_number": 6
    },
    {
     "cell_type": "code",
     "collapsed": false,
     "input": [
      "game_of_life_iter1a(x)"
     ],
     "language": "python",
     "metadata": {},
     "outputs": [
      {
       "metadata": {},
       "output_type": "pyout",
       "prompt_number": 7,
       "text": [
        "array([[0, 0, 0, 0, 0, 0, 0, 0, 0, 0],\n",
        "       [0, 0, 1, 0, 0, 0, 0, 0, 0, 0],\n",
        "       [0, 0, 0, 0, 0, 0, 0, 1, 0, 1],\n",
        "       [0, 1, 0, 1, 0, 1, 0, 1, 0, 0],\n",
        "       [0, 1, 0, 1, 1, 0, 1, 0, 0, 0],\n",
        "       [0, 0, 1, 0, 0, 0, 1, 0, 0, 0],\n",
        "       [1, 0, 0, 0, 0, 0, 1, 0, 1, 0],\n",
        "       [0, 0, 0, 1, 1, 0, 1, 0, 1, 0],\n",
        "       [0, 0, 0, 0, 0, 0, 0, 0, 1, 1],\n",
        "       [0, 1, 1, 0, 0, 0, 0, 0, 0, 0]], dtype=int8)"
       ]
      }
     ],
     "prompt_number": 7
    },
    {
     "cell_type": "code",
     "collapsed": false,
     "input": [
      "import time\n",
      "def do_timing(seed=12, size=100, iters=1000):\n",
      "    rng = MyRand(seed)\n",
      "    x = np.empty((size,size),np.int8) # Try to save space\n",
      "    for row in range(size):\n",
      "        x[row,:] = np.array([rng.getbit() for i in range(size)]).astype(np.int8)\n",
      "    t1 = time.clock()\n",
      "    for i in range(iters):\n",
      "        x = game_of_life_iter1a(x)\n",
      "    t2 = time.clock()\n",
      "    return t2-t1"
     ],
     "language": "python",
     "metadata": {},
     "outputs": [],
     "prompt_number": 8
    },
    {
     "cell_type": "code",
     "collapsed": false,
     "input": [
      "[do_timing(12,2000,4) for i in range(3)]"
     ],
     "language": "python",
     "metadata": {},
     "outputs": [
      {
       "metadata": {},
       "output_type": "pyout",
       "prompt_number": 18,
       "text": [
        "[4.9678896709374385, 4.93450197455968, 4.940970109360933]"
       ]
      }
     ],
     "prompt_number": 18
    },
    {
     "cell_type": "markdown",
     "metadata": {},
     "source": [
      "So, best of 3 timings, we get:\n",
      "\n",
      "<table>\n",
      "<tr>\n",
      "<td>Size</td><td>Iterations</td><td>Python</td><td>C++</td><td>C++ with -O3</td>\n",
      "</tr>\n",
      "<tr>\n",
      "<td>100</td><td>1000</td><td>4.216s</td><td>2.215s</td><td>0.203s</td>\n",
      "</tr>\n",
      "<tr>\n",
      "<td>1000</td><td>20</td><td>8.044s</td><td>4.321s</td><td>0.4056s</td>\n",
      "</tr>\n",
      "<tr>\n",
      "<td>2000</td><td>4</td><td>4.935s</td><td>3.510s</td><td>0.343s</td>\n",
      "</tr>\n",
      "<tr>\n",
      "<td>8000</td><td>1</td><td>20.05s</td><td>13.65s</td><td>1.248s</td>\n",
      "</tr>\n",
      "</table>"
     ]
    },
    {
     "cell_type": "markdown",
     "metadata": {},
     "source": [
      "If we recall from the other file that this Python version of Game of Life is not the fastest, then we see that Python holds up well against unoptimised C++, but if we let the compile do some work, then C++ is faster.  But not _that_ much faster..."
     ]
    },
    {
     "cell_type": "markdown",
     "metadata": {},
     "source": [
      "The above timings were done on my ancient netbook (atom processor); here's what we get with a modern mobile i5 processor..."
     ]
    },
    {
     "cell_type": "code",
     "collapsed": false,
     "input": [
      "[do_timing(12,2000,4) for i in range(3)]"
     ],
     "language": "python",
     "metadata": {},
     "outputs": [
      {
       "metadata": {},
       "output_type": "pyout",
       "prompt_number": 9,
       "text": [
        "[1.031790772055156, 1.026730275578866, 1.0220868687772668]"
       ]
      }
     ],
     "prompt_number": 9
    },
    {
     "cell_type": "markdown",
     "metadata": {},
     "source": [
      "So about 1.02 seconds; C++ gives 0.109 seconds."
     ]
    },
    {
     "cell_type": "code",
     "collapsed": false,
     "input": [],
     "language": "python",
     "metadata": {},
     "outputs": []
    }
   ],
   "metadata": {}
  }
 ]
}