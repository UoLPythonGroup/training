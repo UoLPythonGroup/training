{
 "metadata": {
  "name": "",
  "signature": "sha256:0ae2e69e1df07ad740a4bfa6956c5d562d82bcc1c06cbc90455bb221c889c093"
 },
 "nbformat": 3,
 "nbformat_minor": 0,
 "worksheets": [
  {
   "cells": [
    {
     "cell_type": "markdown",
     "metadata": {},
     "source": [
      "Project Euler problem 79 python solution by Mike Gillard.  Some comments from Matt Daws, who is being slow, and trying to understand the logic... (and Python3ified it)."
     ]
    },
    {
     "cell_type": "code",
     "collapsed": false,
     "input": [
      "import numpy as np"
     ],
     "language": "python",
     "metadata": {},
     "outputs": [],
     "prompt_number": 1
    },
    {
     "cell_type": "markdown",
     "metadata": {},
     "source": [
      "load in data as set of strings and remove duplicates "
     ]
    },
    {
     "cell_type": "code",
     "collapsed": false,
     "input": [
      "# Matt: genfromtxt seems to work correctly in Python3, while loadtxt doesn't...\n",
      "#datatxt = np.genfromtxt('p079_keylog.txt',dtype=str)\n",
      "datatxt = np.genfromtxt('newtest.txt',dtype=str)"
     ],
     "language": "python",
     "metadata": {},
     "outputs": [],
     "prompt_number": 53
    },
    {
     "cell_type": "code",
     "collapsed": false,
     "input": [
      "datatxt = np.unique(datatxt)"
     ],
     "language": "python",
     "metadata": {},
     "outputs": [],
     "prompt_number": 54
    },
    {
     "cell_type": "code",
     "collapsed": false,
     "input": [
      "#datatxt = datatxt[::-1]"
     ],
     "language": "python",
     "metadata": {},
     "outputs": [],
     "prompt_number": 55
    },
    {
     "cell_type": "code",
     "collapsed": false,
     "input": [
      "print(datatxt)"
     ],
     "language": "python",
     "metadata": {},
     "outputs": [
      {
       "output_type": "stream",
       "stream": "stdout",
       "text": [
        "['014' '024' '054' '056' '065' '104' '126' '129' '144' '150' '245' '246'\n",
        " '254' '258' '281' '285' '451' '454' '464' '468' '551' '556' '580' '581'\n",
        " '594' '614' '695' '904' '914']\n"
       ]
      }
     ],
     "prompt_number": 56
    },
    {
     "cell_type": "markdown",
     "metadata": {},
     "source": [
      "generate first guess code as 1 of all values that appear, i.e. 0123456789 with integers that don't appear in test data removed"
     ]
    },
    {
     "cell_type": "code",
     "collapsed": false,
     "input": [
      "ints = [ [ int(x[0]), int(x[1]), int(x[2]) ] for x in datatxt ]\n",
      "print(ints) # Matt: Let's see what this does!"
     ],
     "language": "python",
     "metadata": {},
     "outputs": [
      {
       "output_type": "stream",
       "stream": "stdout",
       "text": [
        "[[0, 1, 4], [0, 2, 4], [0, 5, 4], [0, 5, 6], [0, 6, 5], [1, 0, 4], [1, 2, 6], [1, 2, 9], [1, 4, 4], [1, 5, 0], [2, 4, 5], [2, 4, 6], [2, 5, 4], [2, 5, 8], [2, 8, 1], [2, 8, 5], [4, 5, 1], [4, 5, 4], [4, 6, 4], [4, 6, 8], [5, 5, 1], [5, 5, 6], [5, 8, 0], [5, 8, 1], [5, 9, 4], [6, 1, 4], [6, 9, 5], [9, 0, 4], [9, 1, 4]]\n"
       ]
      }
     ],
     "prompt_number": 57
    },
    {
     "cell_type": "code",
     "collapsed": false,
     "input": [
      "ints = np.unique(ints)\n",
      "print(type(ints))\n",
      "print(ints)"
     ],
     "language": "python",
     "metadata": {},
     "outputs": [
      {
       "output_type": "stream",
       "stream": "stdout",
       "text": [
        "<class 'numpy.ndarray'>\n",
        "[0 1 2 4 5 6 8 9]\n"
       ]
      }
     ],
     "prompt_number": 58
    },
    {
     "cell_type": "code",
     "collapsed": false,
     "input": [
      "print(''.join(map(str,ints)))\n",
      "# Matt: or could write as join( [str(x) for x in ints] )"
     ],
     "language": "python",
     "metadata": {},
     "outputs": [
      {
       "output_type": "stream",
       "stream": "stdout",
       "text": [
        "01245689\n"
       ]
      }
     ],
     "prompt_number": 59
    },
    {
     "cell_type": "markdown",
     "metadata": {},
     "source": [
      "Function definitions used to find correct code"
     ]
    },
    {
     "cell_type": "code",
     "collapsed": false,
     "input": [
      "# Matt: code == List which is the current code\n",
      "# test == string of 3 characters which is subcode to test presence off\n",
      "# Returns: tuple of index in code of _first_ occurance of relevant entry of test\n",
      "def getIndexs(code, test):\n",
      "    \"\"\" get positions of the 3 values in current version of code \"\"\"\n",
      "    return code.index(int(test[0])), code.index(int(test[1])), code.index(int(test[2]))"
     ],
     "language": "python",
     "metadata": {},
     "outputs": [],
     "prompt_number": 60
    },
    {
     "cell_type": "code",
     "collapsed": false,
     "input": [
      "# Matt: code, datatxt as above\n",
      "def arrangeCode(code, datatxt):\n",
      "    \"\"\" reorder code to satisfy each ordered set in datatxt one by one \"\"\"\n",
      "    newcode = code[:] # Copy\n",
      "    for test in datatxt:\n",
      "        idx0,idx1,idx2=getIndexs(newcode, test)\n",
      "        # check first 2 are in correct order; and if not rearrange\n",
      "        if idx1 < idx0:\n",
      "            del newcode[idx1]\n",
      "            newcode.insert(idx0, int(test[1]))\n",
      "            idx0,idx1,idx2=getIndexs(newcode, test)\n",
      "        # move last in new string now first 2 are in order - check biggest step first \n",
      "        if idx2 < idx1:\n",
      "            del newcode[idx2]\n",
      "            newcode.insert(idx1, int(test[2]))\n",
      "        elif idx2 < idx0:\n",
      "            del newcode[idx2]\n",
      "            newcode.insert(idx0, int(test[2])) \n",
      "        #print newcode, test\n",
      "            \n",
      "    return newcode"
     ],
     "language": "python",
     "metadata": {},
     "outputs": [],
     "prompt_number": 61
    },
    {
     "cell_type": "code",
     "collapsed": false,
     "input": [
      "# Matt: code is a list; the hoped for code\n",
      "# datatxt: numpy array of subcodes which need to be in code\n",
      "# Returns tuple (Bool, fail) where fail is index to datatxt\n",
      "def testCode(code, datatxt):\n",
      "    \"\"\" test if current code satisfies all tests and return placement of failure \"\"\"\n",
      "    fail = 0\n",
      "    for test in datatxt:\n",
      "        idx0,idx1,idx2=getIndexs(code, test)\n",
      "        if idx0 > idx1 or idx0 > idx2 or idx1 > idx2:\n",
      "            return False, fail\n",
      "        fail += 1\n",
      "    \n",
      "    return True, fail        "
     ],
     "language": "python",
     "metadata": {},
     "outputs": [],
     "prompt_number": 62
    },
    {
     "cell_type": "markdown",
     "metadata": {},
     "source": [
      "try to find correct code"
     ]
    },
    {
     "cell_type": "code",
     "collapsed": false,
     "input": [
      "# Make a Python list, not a numpy array\n",
      "code = list(ints)\n",
      "print(code)"
     ],
     "language": "python",
     "metadata": {},
     "outputs": [
      {
       "output_type": "stream",
       "stream": "stdout",
       "text": [
        "[0, 1, 2, 4, 5, 6, 8, 9]\n"
       ]
      }
     ],
     "prompt_number": 63
    },
    {
     "cell_type": "markdown",
     "metadata": {},
     "source": [
      "test initial guess, just incase!"
     ]
    },
    {
     "cell_type": "code",
     "collapsed": false,
     "input": [
      "testPassed, fail = testCode(code, datatxt)\n",
      "if testPassed:\n",
      "    print('shortest code is', ''.join(map(str,code)))\n",
      "else:\n",
      "    print( 'code:', ''.join(map(str,code)), 'failed for test', datatxt[fail], 'at index', fail)\n",
      "    print('Try to change order')"
     ],
     "language": "python",
     "metadata": {},
     "outputs": [
      {
       "output_type": "stream",
       "stream": "stdout",
       "text": [
        "code: 01245689 failed for test 054 at index 2\n",
        "Try to change order\n"
       ]
      }
     ],
     "prompt_number": 64
    },
    {
     "cell_type": "markdown",
     "metadata": {},
     "source": [
      "reorder numbers to match each test triple in order, if this fails we must have some repeats"
     ]
    },
    {
     "cell_type": "code",
     "collapsed": false,
     "input": [
      "newcode = arrangeCode(code, datatxt)\n",
      "print('rearrange code:', ''.join(map(str,code)), '->', ''.join(map(str,newcode)))\n",
      "testPassed, fail = testCode(newcode, datatxt)\n",
      "if testPassed:\n",
      "    print('shortest code is', ''.join(map(str,newcode)))\n",
      "else:\n",
      "    print('code:', ''.join(map(str,code)), 'failed for test', datatxt[fail], 'at index', fail)\n"
     ],
     "language": "python",
     "metadata": {},
     "outputs": [
      {
       "output_type": "stream",
       "stream": "stdout",
       "text": [
        "rearrange code: 01245689 -> 26891054\n",
        "code: 01245689 failed for test 014 at index 0\n"
       ]
      }
     ],
     "prompt_number": 65
    },
    {
     "cell_type": "code",
     "collapsed": false,
     "input": [],
     "language": "python",
     "metadata": {},
     "outputs": []
    }
   ],
   "metadata": {}
  }
 ]
}