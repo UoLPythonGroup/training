{
 "metadata": {
  "name": "",
  "signature": "sha256:f2aff5c326e9cc82ef9d91e1cf309ee20e0c7d9590c1fad37e3c6ff1d9fdde49"
 },
 "nbformat": 3,
 "nbformat_minor": 0,
 "worksheets": [
  {
   "cells": [
    {
     "cell_type": "markdown",
     "metadata": {},
     "source": [
      "Project Euler problem 79 python solution by Mike Gillard"
     ]
    },
    {
     "cell_type": "code",
     "collapsed": false,
     "input": [
      "import numpy as np"
     ],
     "language": "python",
     "metadata": {},
     "outputs": [],
     "prompt_number": 2
    },
    {
     "cell_type": "markdown",
     "metadata": {},
     "source": [
      "load in data as set of strings and remove duplicates "
     ]
    },
    {
     "cell_type": "code",
     "collapsed": false,
     "input": [
      "datatxt = np.loadtxt('p079_keylog.txt',dtype=str)"
     ],
     "language": "python",
     "metadata": {},
     "outputs": [],
     "prompt_number": 3
    },
    {
     "cell_type": "code",
     "collapsed": false,
     "input": [
      "datatxt = np.unique(datatxt)"
     ],
     "language": "python",
     "metadata": {},
     "outputs": [],
     "prompt_number": 4
    },
    {
     "cell_type": "code",
     "collapsed": false,
     "input": [
      "#datatxt = datatxt[::-1]"
     ],
     "language": "python",
     "metadata": {},
     "outputs": [],
     "prompt_number": 5
    },
    {
     "cell_type": "code",
     "collapsed": false,
     "input": [
      "print datatxt"
     ],
     "language": "python",
     "metadata": {},
     "outputs": [
      {
       "output_type": "stream",
       "stream": "stdout",
       "text": [
        "['129' '160' '162' '168' '180' '289' '290' '316' '318' '319' '362' '368'\n",
        " '380' '389' '620' '629' '680' '689' '690' '710' '716' '718' '719' '720'\n",
        " '728' '729' '731' '736' '760' '762' '769' '790' '890']\n"
       ]
      }
     ],
     "prompt_number": 6
    },
    {
     "cell_type": "markdown",
     "metadata": {},
     "source": [
      "generate first guess code as 1 of all values that appear, i.e. 0123456789 with integers that don't appear in test data removed"
     ]
    },
    {
     "cell_type": "code",
     "collapsed": false,
     "input": [
      "ints = [ [ int(x[0]), int(x[1]), int(x[2]) ] for x in datatxt ]"
     ],
     "language": "python",
     "metadata": {},
     "outputs": [],
     "prompt_number": 7
    },
    {
     "cell_type": "code",
     "collapsed": false,
     "input": [
      "ints = np.unique(ints)"
     ],
     "language": "python",
     "metadata": {},
     "outputs": [],
     "prompt_number": 8
    },
    {
     "cell_type": "code",
     "collapsed": false,
     "input": [
      "print ''.join(map(str,ints))"
     ],
     "language": "python",
     "metadata": {},
     "outputs": [
      {
       "output_type": "stream",
       "stream": "stdout",
       "text": [
        "01236789\n"
       ]
      }
     ],
     "prompt_number": 9
    },
    {
     "cell_type": "markdown",
     "metadata": {},
     "source": [
      "Function definitions used to find correct code"
     ]
    },
    {
     "cell_type": "code",
     "collapsed": false,
     "input": [
      "def getIndexs(code, test):\n",
      "    \"\"\" get positions of the 3 values in current version of code \"\"\"\n",
      "    return code.index(int(test[0])), code.index(int(test[1])), code.index(int(test[2]))"
     ],
     "language": "python",
     "metadata": {},
     "outputs": [],
     "prompt_number": 10
    },
    {
     "cell_type": "code",
     "collapsed": false,
     "input": [
      "def arrangeCode(code, datatxt):\n",
      "    \"\"\" reorder code to satisfy each ordered set in datatxt one by one \"\"\"\n",
      "    newcode = code[:]\n",
      "    for test in datatxt:\n",
      "        idx0,idx1,idx2=getIndexs(newcode, test)\n",
      "        # check first 2 are in correct order\n",
      "        if idx1 < idx0:\n",
      "            del newcode[idx1]\n",
      "            newcode.insert(idx0, int(test[1]))\n",
      "            idx0,idx1,idx2=getIndexs(newcode, test)\n",
      "        # move last in new string now first 2 are in order - check biggest step first \n",
      "        if idx2 < idx1:\n",
      "            del newcode[idx2]\n",
      "            newcode.insert(idx1, int(test[2]))\n",
      "        elif idx2 < idx0:\n",
      "            del newcode[idx2]\n",
      "            newcode.insert(idx0, int(test[2])) \n",
      "        #print newcode, test\n",
      "            \n",
      "    return newcode"
     ],
     "language": "python",
     "metadata": {},
     "outputs": [],
     "prompt_number": 11
    },
    {
     "cell_type": "code",
     "collapsed": false,
     "input": [
      "def testCode(code, datatxt):\n",
      "    \"\"\" test if current code satisfies all tests and return placement of failure \"\"\"\n",
      "    fail = 0\n",
      "    for test in datatxt:\n",
      "        idx0,idx1,idx2=getIndexs(code, test)\n",
      "        if idx0 > idx1 or idx0 > idx2 or idx1 > idx2:\n",
      "            return False, fail\n",
      "        fail += 1\n",
      "    \n",
      "    return True, fail        "
     ],
     "language": "python",
     "metadata": {},
     "outputs": [],
     "prompt_number": 16
    },
    {
     "cell_type": "markdown",
     "metadata": {},
     "source": [
      "try to find correct code"
     ]
    },
    {
     "cell_type": "code",
     "collapsed": false,
     "input": [
      "code = list(ints)"
     ],
     "language": "python",
     "metadata": {},
     "outputs": [],
     "prompt_number": 17
    },
    {
     "cell_type": "markdown",
     "metadata": {},
     "source": [
      "test initial guess, just incase!"
     ]
    },
    {
     "cell_type": "code",
     "collapsed": false,
     "input": [
      "testPassed, fail = testCode(code, datatxt)\n",
      "if testPassed:\n",
      "    print 'shortest code is', ''.join(map(str,code))\n",
      "else:\n",
      "    print 'code:', ''.join(map(str,code)), 'failed for test', datatxt[fail], 'at index', fail\n",
      "    print 'Try to change order'"
     ],
     "language": "python",
     "metadata": {},
     "outputs": [
      {
       "output_type": "stream",
       "stream": "stdout",
       "text": [
        "code: 01236789 failed for test 160 at index 1\n",
        "Try to change order\n"
       ]
      }
     ],
     "prompt_number": 18
    },
    {
     "cell_type": "markdown",
     "metadata": {},
     "source": [
      "reorder numbers to match each test triple in order, if this fails we must have some repeats"
     ]
    },
    {
     "cell_type": "code",
     "collapsed": false,
     "input": [
      "newcode = arrangeCode(code, datatxt)\n",
      "print 'rearrange code:', ''.join(map(str,code)), '->', ''.join(map(str,newcode))\n",
      "testPassed, fail = testCode(newcode, datatxt)\n",
      "if testPassed:\n",
      "    print 'shortest code is', ''.join(map(str,newcode))            \n",
      "else:\n",
      "    print 'code:', ''.join(map(str,code)), 'failed for test', datatxt[fail], 'at index', fail\n"
     ],
     "language": "python",
     "metadata": {},
     "outputs": [
      {
       "output_type": "stream",
       "stream": "stdout",
       "text": [
        "rearrange code: 01236789 -> 73162890\n",
        "shortest code is 73162890\n"
       ]
      }
     ],
     "prompt_number": 19
    },
    {
     "cell_type": "code",
     "collapsed": false,
     "input": [],
     "language": "python",
     "metadata": {},
     "outputs": []
    }
   ],
   "metadata": {}
  }
 ]
}