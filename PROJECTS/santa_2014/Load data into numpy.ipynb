{
 "metadata": {
  "name": "",
  "signature": "sha256:97d5db1cebe61fb9f1ee3cdb73b37018a86e25f532285c915f08297cc9c735ad"
 },
 "nbformat": 3,
 "nbformat_minor": 0,
 "worksheets": [
  {
   "cells": [
    {
     "cell_type": "code",
     "collapsed": false,
     "input": [
      "import numpy as np"
     ],
     "language": "python",
     "metadata": {},
     "outputs": [],
     "prompt_number": 1
    },
    {
     "cell_type": "markdown",
     "metadata": {},
     "source": [
      "I want to load in the data, eventually into a numpy array.  How to deal with the dates?  The obvious thing to do is to minutes into 2014.  We can either manually do this, or:\n",
      "   - use the `datetime` module in python (which we'll do)\n",
      "   - or the equivalent numpy routines"
     ]
    },
    {
     "cell_type": "code",
     "collapsed": false,
     "input": [
      "import datetime\n",
      "import csv"
     ],
     "language": "python",
     "metadata": {},
     "outputs": [],
     "prompt_number": 2
    },
    {
     "cell_type": "code",
     "collapsed": false,
     "input": [
      "import os\n",
      "os.listdir(\".\")"
     ],
     "language": "python",
     "metadata": {},
     "outputs": [
      {
       "metadata": {},
       "output_type": "pyout",
       "prompt_number": 7,
       "text": [
        "['.gitignore',\n",
        " '.ipynb_checkpoints',\n",
        " 'Introducing the rules and the files.ipynb',\n",
        " 'Load data into numpy.ipynb',\n",
        " 'readme.md',\n",
        " 'sampleSubmission_rev2.csv',\n",
        " 'Scorer.ipynb',\n",
        " 'toys_rev2.csv']"
       ]
      }
     ],
     "prompt_number": 7
    },
    {
     "cell_type": "code",
     "collapsed": false,
     "input": [
      "dtstart = datetime.datetime(2014,1,1,0,0) # Start of 2014\n",
      "data = []\n",
      "with open(\"toys_rev2.csv\") as f:\n",
      "    r = csv.reader(f)\n",
      "    header = next(r)\n",
      "    for row in r:\n",
      "        dt = datetime.datetime.strptime(row[1], \"%Y %m %d %H %M\")\n",
      "        delta = dt - dtstart\n",
      "        data.append( [int(delta.total_seconds()/60.0), int(row[2])] )\n"
     ],
     "language": "python",
     "metadata": {},
     "outputs": [],
     "prompt_number": 8
    },
    {
     "cell_type": "code",
     "collapsed": false,
     "input": [
      "data[:5]"
     ],
     "language": "python",
     "metadata": {},
     "outputs": [
      {
       "metadata": {},
       "output_type": "pyout",
       "prompt_number": 9,
       "text": [
        "[[1, 5], [1, 5], [1, 5], [1, 6], [1, 6]]"
       ]
      }
     ],
     "prompt_number": 9
    },
    {
     "cell_type": "code",
     "collapsed": false,
     "input": [
      "data[-5:]"
     ],
     "language": "python",
     "metadata": {},
     "outputs": [
      {
       "metadata": {},
       "output_type": "pyout",
       "prompt_number": 10,
       "text": [
        "[[495359, 104], [495359, 118], [495359, 150], [495359, 184], [495359, 697]]"
       ]
      }
     ],
     "prompt_number": 10
    },
    {
     "cell_type": "code",
     "collapsed": false,
     "input": [
      "# 32-bit signed integers should be good for 4000 years+\n",
      "x = np.array(data, dtype=np.int32)"
     ],
     "language": "python",
     "metadata": {},
     "outputs": [],
     "prompt_number": 11
    },
    {
     "cell_type": "code",
     "collapsed": false,
     "input": [
      "np.save(\"toys_rev2.npy\", x)"
     ],
     "language": "python",
     "metadata": {},
     "outputs": [],
     "prompt_number": 12
    },
    {
     "cell_type": "markdown",
     "metadata": {},
     "source": [
      "So the format is that the numpy row is \"ToyId\" minus 1, the first column is the number of minutes since the start of 2014, and the second column is the \"Duration\"."
     ]
    },
    {
     "cell_type": "heading",
     "level": 3,
     "metadata": {},
     "source": [
      "Example of how datetime `timedelta` objects work"
     ]
    },
    {
     "cell_type": "code",
     "collapsed": false,
     "input": [
      "delta = datetime.timedelta(seconds = 60)\n",
      "print(delta + dtstart)\n",
      "delta = datetime.timedelta(seconds = 29721540)\n",
      "print(delta + dtstart)"
     ],
     "language": "python",
     "metadata": {},
     "outputs": [
      {
       "output_type": "stream",
       "stream": "stdout",
       "text": [
        "2014-01-01 00:01:00\n",
        "2014-12-10 23:59:00\n"
       ]
      }
     ],
     "prompt_number": 13
    },
    {
     "cell_type": "heading",
     "level": 2,
     "metadata": {},
     "source": [
      "Do the same for the sample submission"
     ]
    },
    {
     "cell_type": "code",
     "collapsed": false,
     "input": [
      "dtstart = datetime.datetime(2014,1,1,0,0) # Start of 2014\n",
      "data = []\n",
      "with open(\"sampleSubmission_rev2.csv\") as f:\n",
      "    r = csv.reader(f)\n",
      "    header = next(r)\n",
      "    for row in r:\n",
      "        toyid, elfid, starttime, duration = int(row[0]), int(row[1]), row[2], int(row[3])\n",
      "        dt = datetime.datetime.strptime(starttime, \"%Y %m %d %H %M\")\n",
      "        delta = dt - dtstart\n",
      "        data.append( [toyid, elfid, int(delta.total_seconds()/60.0), duration] )\n"
     ],
     "language": "python",
     "metadata": {},
     "outputs": [],
     "prompt_number": 14
    },
    {
     "cell_type": "markdown",
     "metadata": {},
     "source": [
      "So format of the numpy array will be:\n",
      "   - toyid\n",
      "   - elfid\n",
      "   - Time, in minutes since start of 2014\n",
      "   - duration (time in seconds elf is working on this toy)"
     ]
    },
    {
     "cell_type": "code",
     "collapsed": false,
     "input": [
      "x = np.array(data, dtype=np.int32)"
     ],
     "language": "python",
     "metadata": {},
     "outputs": [],
     "prompt_number": 15
    },
    {
     "cell_type": "code",
     "collapsed": false,
     "input": [
      "np.save(\"sampleSubmission_rev2.npy\", x)"
     ],
     "language": "python",
     "metadata": {},
     "outputs": [],
     "prompt_number": 16
    },
    {
     "cell_type": "code",
     "collapsed": false,
     "input": [],
     "language": "python",
     "metadata": {},
     "outputs": []
    }
   ],
   "metadata": {}
  }
 ]
}