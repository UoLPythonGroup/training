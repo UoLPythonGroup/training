{
 "metadata": {
  "name": "",
  "signature": "sha256:e0f7302496ea62956bf045811ede026d95e75114debd3475d7f5ae7f923fe2ac"
 },
 "nbformat": 3,
 "nbformat_minor": 0,
 "worksheets": [
  {
   "cells": [
    {
     "cell_type": "markdown",
     "metadata": {},
     "source": [
      "The following is the rules, as understood by Matt Daws as of 12th December, from http://www.kaggle.com/c/helping-santas-helpers\n",
      "\n",
      "Some official Python code can be found here: https://github.com/noahvanhoucke/HelpingSantasHelpers"
     ]
    },
    {
     "cell_type": "markdown",
     "metadata": {},
     "source": [
      "You have a team of 900 elves who will build toys, and a collection of 10,000,000 toys to be built: the \"orders\" for these toys arrive in time, and work cannot start on them until arrive.  We are trying to minimise the metric\n",
      "$$ T \\log(1+n) $$\n",
      "where:\n",
      "   - $T$ is the time the final toy is finished, from the start of 2014.\n",
      "   - $n$ is the number of unique elves used (probably 900, but who knows)\n",
      "   - from the source code, $\\log$ means `math.log` so natural logarithm"
     ]
    },
    {
     "cell_type": "code",
     "collapsed": false,
     "input": [
      "import csv\n",
      "with open(\"toys_rev2.csv\") as f:\n",
      "    r = csv.reader(f)\n",
      "    header = next(r)\n",
      "    data = [next(r) for x in range(10)]\n",
      "        \n",
      "print(\"Header:\", header)\n",
      "data"
     ],
     "language": "python",
     "metadata": {},
     "outputs": [
      {
       "output_type": "stream",
       "stream": "stdout",
       "text": [
        "Header: ['ToyId', 'Arrival_time', 'Duration']\n"
       ]
      },
      {
       "metadata": {},
       "output_type": "pyout",
       "prompt_number": 12,
       "text": [
        "[['1', '2014 1 1 0 1', '5'],\n",
        " ['2', '2014 1 1 0 1', '5'],\n",
        " ['3', '2014 1 1 0 1', '5'],\n",
        " ['4', '2014 1 1 0 1', '6'],\n",
        " ['5', '2014 1 1 0 1', '6'],\n",
        " ['6', '2014 1 1 0 1', '12'],\n",
        " ['7', '2014 1 1 0 1', '17'],\n",
        " ['8', '2014 1 1 0 1', '42'],\n",
        " ['9', '2014 1 1 0 1', '52'],\n",
        " ['10', '2014 1 1 0 1', '58']]"
       ]
      }
     ],
     "prompt_number": 12
    },
    {
     "cell_type": "markdown",
     "metadata": {},
     "source": [
      "The following is useful to have a record of, but takes 10-15 seconds to run, and uses 3GB of memory..."
     ]
    },
    {
     "cell_type": "code",
     "collapsed": false,
     "input": [
      "with open(\"toys_rev2.csv\") as f:\n",
      "    r = csv.reader(f)\n",
      "    header = next(r)\n",
      "    data = list(r)\n",
      "\n",
      "data[-5:]"
     ],
     "language": "python",
     "metadata": {},
     "outputs": [
      {
       "metadata": {},
       "output_type": "pyout",
       "prompt_number": 2,
       "text": [
        "[['9999996', '2014 12 10 23 59', '104'],\n",
        " ['9999997', '2014 12 10 23 59', '118'],\n",
        " ['9999998', '2014 12 10 23 59', '150'],\n",
        " ['9999999', '2014 12 10 23 59', '184'],\n",
        " ['10000000', '2014 12 10 23 59', '697']]"
       ]
      }
     ],
     "prompt_number": 2
    },
    {
     "cell_type": "code",
     "collapsed": false,
     "input": [
      "dur = [int(row[2]) for row in data]\n",
      "print(\"Duration range:\", min(dur),\"--\",max(dur))\n",
      "x = sum(dur)\n",
      "print(\"Total duration:\", x)\n",
      "days = x // (60*24)\n",
      "y = x - days*60*24\n",
      "hours = y // 60\n",
      "y -= hours*60\n",
      "print(\"   which is {} days, {} hours and {} minutes\".format(days,hours,x))"
     ],
     "language": "python",
     "metadata": {},
     "outputs": [
      {
       "output_type": "stream",
       "stream": "stdout",
       "text": [
        "Duration range: 1 -- 47473\n",
        "Total duration:"
       ]
      },
      {
       "output_type": "stream",
       "stream": "stdout",
       "text": [
        " 26003950765\n",
        "   which is 18058299 days, 3 hours and 25 minutes\n"
       ]
      }
     ],
     "prompt_number": 8
    },
    {
     "cell_type": "markdown",
     "metadata": {},
     "source": [
      "   - Date and time a toy order arrives at the Workshop, formatted as 'YYYY MM DD HH MM'. For example '2014 3 29 16 52' is March 29, 2014 at 4:52 PM North Pole time. Leading zeros (e.g., 05 for May) are not needed.\n",
      "   - Duration is in minutes, so 47473 = 32 days, 23 hours, 13 minutes!!\n",
      "   - Those elves will be working for a long, long time!\n",
      "   - So leap years will become important!"
     ]
    },
    {
     "cell_type": "markdown",
     "metadata": {},
     "source": [
      "The Elves are subject to working time restrictions:\n",
      "   - The workshop opens at 9am on January 1st 2014.\n",
      "   - They work every day\n",
      "   - \"Sanctioned\" working hours are 09:00 to 19:00 (10 hours, 600 minutes)\n",
      "   - An elf may work in \"unsanctioned\" time, but this is penalised:\n",
      "      - Once an elf finishes his/her task in unsanctioned time, they must take the same number of minutes off in the next period of sanctioned time.\n",
      "      - For example, working from 14:00 to 19:33 is allowed, but the 33 minutes of unsanctioned time must be repaid, so they elf can only start work again at 09:33.\n",
      "      - An elf with no penalty to pay may start work at any time.  [Discussion that while allowed, this is a silly strategy](http://www.kaggle.com/c/helping-santas-helpers/forums/t/11202/elf-s-working-time)\n",
      "      - This is cumulative, so if an elf works form 9am Monday to 7pm Friday, this is 4*14=56 hours of unsanctioned work, and so the elf spends the next 5 days on holiday, and can only start at 3pm on the 6th day.\n",
      "   - There is some controversy over the boundary case of when andElf comes off a rest period at _exactly_ 19:00. The wording of the problem would suggest that the Elf can work again then, but the sample Python code (which I think is used to validate the results) is complicated.  In particular, it implements a corner case: if the rest period is an exact multiple of 600 (daily sanctioned working minutes) and the start of the rest period is between 19:01 and 9:00 (inclusive) then the elf is next available at 9am the _following_ day.  I think this is a bug, but unfortunately it seems to form the actual rules of the game.  [Forum link](http://www.kaggle.com/c/helping-santas-helpers/forums/t/11158/yet-more-confusion)\n",
      "   - Once an elf starts work on a toy, he/she must complete that work, alone, in one go (hence often necessarily clocking up a lot of unsanctioned working time.  Santa is an interesting employer...)\n",
      "   - Each Elf has a \"productivity rating\" of between 0.25 and 4.0 (64-bit \"double\" floating point value).  All Elves start at 1.0.\n",
      "   - The time it takes an elf to make a toy is `Duration` divided by `Productivity`.  Time is always in full minutes, so round up.  [Forum link](https://www.kaggle.com/c/helping-santas-helpers/forums/t/11093/can-we-get-a-clarification-please/59477)\n",
      "   - The productivity is held constant during the making of a toy.\n",
      "   - At the end of constructing a toy, the productivity is updated as\n",
      "   $$ p_{\\text{new}} = p_{\\text{old}} (1.02)^n (0.9)^m $$\n",
      "   where $n$ is the time, in hours (can be a fraction), of sanctioned work, and $m$ is the time of unsanctioned work.  By \"work\" we mean the actual time taken by that elf to construct the toy (taking account of the elf's current productivity.)  Once applied, we then clamp the value to the interval $[0.25, 4.0]$.\n",
      "   - The Python code from Kaggle is apparently canonical."
     ]
    },
    {
     "cell_type": "code",
     "collapsed": false,
     "input": [
      "with open(\"sampleSubmission_rev2.csv\") as f:\n",
      "    r = csv.reader(f)\n",
      "    header = next(r)\n",
      "    output = [next(r) for x in range(10)]\n",
      "print(header)\n",
      "output"
     ],
     "language": "python",
     "metadata": {},
     "outputs": [
      {
       "output_type": "stream",
       "stream": "stdout",
       "text": [
        "['ToyId', 'ElfId', 'StartTime', 'Duration']\n"
       ]
      },
      {
       "metadata": {},
       "output_type": "pyout",
       "prompt_number": 11,
       "text": [
        "[['1', '1', '2014 1 1 9 0', '5'],\n",
        " ['2', '2', '2014 1 1 9 0', '5'],\n",
        " ['3', '3', '2014 1 1 9 0', '5'],\n",
        " ['4', '4', '2014 1 1 9 0', '6'],\n",
        " ['5', '5', '2014 1 1 9 0', '6'],\n",
        " ['6', '6', '2014 1 1 9 0', '12'],\n",
        " ['7', '7', '2014 1 1 9 0', '17'],\n",
        " ['8', '8', '2014 1 1 9 0', '42'],\n",
        " ['9', '9', '2014 1 1 9 0', '52'],\n",
        " ['10', '10', '2014 1 1 9 0', '58']]"
       ]
      }
     ],
     "prompt_number": 11
    },
    {
     "cell_type": "markdown",
     "metadata": {},
     "source": [
      "Things we learn:\n",
      "   - The output needs to be ordered by \"StartTime\"\n",
      "   - Looking at the sample submission in a text editor (sorry Python) we find that the poor elves are working on February 29th 2016.\n",
      "   - The final elf to down tools does so in 2528!  \n",
      "   - Remember that 2200 is not a leap year (so we need to implement this algorithm ourselves, or use some date/time library).\n",
      "   - Might be interesting to look at the distribution of \"durations\".  Note that the orders for toys all come in during 2014, so \"most\" of the time, we'll actually be sat of a list of all known tasks, and just trying to optimally assign elves to them...  (The toys don't need to be made in order, just that work must start after the order.)"
     ]
    },
    {
     "cell_type": "code",
     "collapsed": false,
     "input": [],
     "language": "python",
     "metadata": {},
     "outputs": []
    }
   ],
   "metadata": {}
  }
 ]
}