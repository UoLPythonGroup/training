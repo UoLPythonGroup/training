{
 "metadata": {
  "name": "",
  "signature": "sha256:0ed3f3aeb3f2cafc2fd27961eb4cfda6e3f7731b253c651291bb69b0c96ab6f0"
 },
 "nbformat": 3,
 "nbformat_minor": 0,
 "worksheets": [
  {
   "cells": [
    {
     "cell_type": "markdown",
     "metadata": {},
     "source": [
      "# Introduction\n",
      "\n",
      "The purpose of this notebook is to take the implementation in the \"Naive solution\" notebook and see whether we can improve on it. We will continue to look at the task in the same order as they come in. In particular, I want to look at two things. Firstly, what is the influence of the number of elves? I think it is best to use all the elves, but is that true? Secondly, we suspect it is important to get a high productivity rating and thus to minimize the amount of overtime. It may therefore be best not to do a task immediately, but to wait until the start of a new day."
     ]
    },
    {
     "cell_type": "code",
     "collapsed": false,
     "input": [
      "import numpy, heapq, ctypes, math"
     ],
     "language": "python",
     "metadata": {},
     "outputs": [],
     "prompt_number": 1
    },
    {
     "cell_type": "markdown",
     "metadata": {},
     "source": [
      "# Implement basic naive solution\n",
      "\n",
      "This is a copy of the code that we ended with in the \"Naive solution\" notebook, minus the comments."
     ]
    },
    {
     "cell_type": "code",
     "collapsed": false,
     "input": [
      "compute_task = ctypes.CDLL('./libsanta.so').compute_task\n",
      "compute_task.retval = None\n",
      "\n",
      "class Elf:\n",
      "    def __init__(self, elfid):\n",
      "        self.productivity = 1.0\n",
      "        self.elfid = elfid\n",
      "        self.available_to_work = 60*9 \n",
      "    def __lt__(self, other):\n",
      "        return self.elfid < other.elfid\n",
      "    def do_task(self, starttime, duration):\n",
      "        old_productivity = ctypes.c_double(self.productivity)\n",
      "        actual_duration = ctypes.c_int()\n",
      "        elf_available = ctypes.c_int()\n",
      "        new_productivity = ctypes.c_double()\n",
      "        compute_task(int(duration), int(starttime), old_productivity, ctypes.byref(actual_duration),\n",
      "                     ctypes.byref(elf_available), ctypes.byref(new_productivity))\n",
      "        self.available_to_work = elf_available.value\n",
      "        self.productivity = new_productivity.value\n",
      "        return actual_duration.value\n",
      "    \n",
      "def create_elves(num_elves):\n",
      "    res = []\n",
      "    for i in range(num_elves):\n",
      "        elf = Elf(i+1)\n",
      "        heapq.heappush(res, (elf.available_to_work, elf))\n",
      "    return res\n",
      "        \n",
      "def solution_firstAvailableElf(toys, num_elves):\n",
      "    myelves = create_elves(num_elves)\n",
      "    solution = numpy.empty((toys.shape[0], 4), dtype=numpy.int32)\n",
      "    for toy_index, (toy_starttime, toy_duration) in enumerate(toys):\n",
      "        elf_available_time, current_elf = heapq.heappop(myelves)\n",
      "        work_starttime = max(elf_available_time, toy_starttime)\n",
      "        actual_duration = current_elf.do_task(work_starttime, toy_duration)\n",
      "        solution[toy_index, :] = (toy_index, current_elf.elfid, work_starttime, actual_duration)\n",
      "        heapq.heappush(myelves, (current_elf.available_to_work, current_elf))\n",
      "    return solution        "
     ],
     "language": "python",
     "metadata": {},
     "outputs": [],
     "prompt_number": 2
    },
    {
     "cell_type": "code",
     "collapsed": false,
     "input": [
      "toys = numpy.load('toys_1000.npy')"
     ],
     "language": "python",
     "metadata": {},
     "outputs": [],
     "prompt_number": 3
    },
    {
     "cell_type": "markdown",
     "metadata": {},
     "source": [
      "# Varying the number of elves\n",
      "\n",
      "Is it better to use fewer or more elves? For our sample of 10,000 toys, the following code computes and scores the naive solution with 1, 2, ..., 20 elves."
     ]
    },
    {
     "cell_type": "code",
     "collapsed": false,
     "input": [
      "for num_elves in range(1, 21):\n",
      "    solution = solution_firstAvailableElf(toys, num_elves)\n",
      "    finished = max(solution[:,2] + solution[:,3])\n",
      "    score = finished * math.log(num_elves + 1)\n",
      "    print('With {:2d} elves ... time needed = {:9d}, score = {:12.2f}'.format(num_elves, finished, score))"
     ],
     "language": "python",
     "metadata": {},
     "outputs": [
      {
       "output_type": "stream",
       "stream": "stdout",
       "text": [
        "With  1 elves ... time needed = 253827986, score = 175940152.84\n",
        "With  2 elves ... time needed = 126644108, score = 139132773.34"
       ]
      },
      {
       "output_type": "stream",
       "stream": "stdout",
       "text": [
        "\n",
        "With  3 elves ... time needed =  84784040, score = 117535636.56"
       ]
      },
      {
       "output_type": "stream",
       "stream": "stdout",
       "text": [
        "\n",
        "With  4 elves ... time needed =  63671492, score = 102475313.17"
       ]
      },
      {
       "output_type": "stream",
       "stream": "stdout",
       "text": [
        "\n",
        "With  5 elves ... time needed =  50982059, score =  91347586.97"
       ]
      },
      {
       "output_type": "stream",
       "stream": "stdout",
       "text": [
        "\n",
        "With  6 elves ... time needed =  42534649, score =  82768605.18"
       ]
      },
      {
       "output_type": "stream",
       "stream": "stdout",
       "text": [
        "\n",
        "With  7 elves ... time needed =  36463501, score =  75823718.73"
       ]
      },
      {
       "output_type": "stream",
       "stream": "stdout",
       "text": [
        "\n",
        "With  8 elves ... time needed =  31936920, score =  70172585.55"
       ]
      },
      {
       "output_type": "stream",
       "stream": "stdout",
       "text": [
        "\n",
        "With  9 elves ... time needed =  28396467, score =  65385281.61"
       ]
      },
      {
       "output_type": "stream",
       "stream": "stdout",
       "text": [
        "\n",
        "With 10 elves ... time needed =  25571707, score =  61318275.33"
       ]
      },
      {
       "output_type": "stream",
       "stream": "stdout",
       "text": [
        "\n",
        "With 11 elves ... time needed =  23233477, score =  57733021.49"
       ]
      },
      {
       "output_type": "stream",
       "stream": "stdout",
       "text": [
        "\n",
        "With 12 elves ... time needed =  21338732, score =  54732766.93"
       ]
      },
      {
       "output_type": "stream",
       "stream": "stdout",
       "text": [
        "\n",
        "With 13 elves ... time needed =  19708024, score =  52010605.19"
       ]
      },
      {
       "output_type": "stream",
       "stream": "stdout",
       "text": [
        "\n",
        "With 14 elves ... time needed =  18307965, score =  49578888.30"
       ]
      },
      {
       "output_type": "stream",
       "stream": "stdout",
       "text": [
        "\n",
        "With 15 elves ... time needed =  17098269, score =  47406467.80"
       ]
      },
      {
       "output_type": "stream",
       "stream": "stdout",
       "text": [
        "\n",
        "With 16 elves ... time needed =  16040310, score =  45445620.33"
       ]
      },
      {
       "output_type": "stream",
       "stream": "stdout",
       "text": [
        "\n",
        "With 17 elves ... time needed =  15107010, score =  43664875.05"
       ]
      },
      {
       "output_type": "stream",
       "stream": "stdout",
       "text": [
        "\n",
        "With 18 elves ... time needed =  14274561, score =  42030573.82"
       ]
      },
      {
       "output_type": "stream",
       "stream": "stdout",
       "text": [
        "\n",
        "With 19 elves ... time needed =  13526599, score =  40522069.18"
       ]
      },
      {
       "output_type": "stream",
       "stream": "stdout",
       "text": [
        "\n",
        "With 20 elves ... time needed =  12858713, score =  39148640.25"
       ]
      },
      {
       "output_type": "stream",
       "stream": "stdout",
       "text": [
        "\n"
       ]
      }
     ],
     "prompt_number": 4
    },
    {
     "cell_type": "markdown",
     "metadata": {},
     "source": [
      "As expected, the score decreases as we use mor elves, so it is very probably the best to use all available elves."
     ]
    },
    {
     "cell_type": "markdown",
     "metadata": {},
     "source": [
      "# Start always at 9:00\n",
      "\n",
      "In the remainder of the worksheet, we study whether there is any value in starting a task sometimes later. There are two good times to start a task: immediately, or at 9:00 on the next day so as to make sure that as much of the task as possible is complemented in sanctioned time. It is probably important that our elves have a high productivity and thus that they do not work much in unsanctioned time. If we start every task at 9:00, we minimize unsanctioned time.\n",
      "\n",
      "We first refactor the above solution so that it is easier to try different strategies for determining the starting time."
     ]
    },
    {
     "cell_type": "code",
     "collapsed": false,
     "input": [
      "def compute_solution(toys, num_elves, starttime_function):\n",
      "    myelves = create_elves(num_elves)\n",
      "    solution = numpy.empty((toys.shape[0], 4), dtype=numpy.int32)\n",
      "    for toy_index, (toy_starttime, toy_duration) in enumerate(toys):\n",
      "        elf_available_time, current_elf = heapq.heappop(myelves)\n",
      "        work_starttime = max(elf_available_time, toy_starttime)\n",
      "        work_starttime = starttime_function(current_elf, work_starttime, toy_duration)\n",
      "        actual_duration = current_elf.do_task(work_starttime, toy_duration)\n",
      "        solution[toy_index, :] = (toy_index, current_elf.elfid, work_starttime, actual_duration)\n",
      "        heapq.heappush(myelves, (current_elf.available_to_work, current_elf))\n",
      "    return solution\n",
      "\n",
      "def finished(solution):\n",
      "    return max(solution[:,2] + solution[:,3])"
     ],
     "language": "python",
     "metadata": {},
     "outputs": [],
     "prompt_number": 5
    },
    {
     "cell_type": "markdown",
     "metadata": {},
     "source": [
      "Test the new function by recomputing the score of the naive solution."
     ]
    },
    {
     "cell_type": "code",
     "collapsed": false,
     "input": [
      "finished(compute_solution(toys, 10, lambda elf, time, duration: time))"
     ],
     "language": "python",
     "metadata": {},
     "outputs": [
      {
       "metadata": {},
       "output_type": "pyout",
       "prompt_number": 6,
       "text": [
        "25571707"
       ]
      }
     ],
     "prompt_number": 6
    },
    {
     "cell_type": "markdown",
     "metadata": {},
     "source": [
      "Good; that is the same result as we found before. Now let us build a `starttime_function` which returns the first 9:00 after the current time."
     ]
    },
    {
     "cell_type": "code",
     "collapsed": false,
     "input": [
      "mins_per_day = 24 * 60\n",
      "start_of_day = 9 * 60\n",
      "end_of_day = 19 * 60\n",
      "\n",
      "def start_at_9(elf, time, duration):\n",
      "    num_days, time_in_day = divmod(time, mins_per_day)\n",
      "    if time_in_day > start_of_day:\n",
      "        num_days += 1\n",
      "    return num_days * mins_per_day + start_of_day"
     ],
     "language": "python",
     "metadata": {},
     "outputs": [],
     "prompt_number": 7
    },
    {
     "cell_type": "markdown",
     "metadata": {},
     "source": [
      "Is this solution better?"
     ]
    },
    {
     "cell_type": "code",
     "collapsed": false,
     "input": [
      "finished(compute_solution(toys, 10, start_at_9))"
     ],
     "language": "python",
     "metadata": {},
     "outputs": [
      {
       "metadata": {},
       "output_type": "pyout",
       "prompt_number": 8,
       "text": [
        "25833126"
       ]
      }
     ],
     "prompt_number": 8
    },
    {
     "cell_type": "markdown",
     "metadata": {},
     "source": [
      "Hmm, it is not better. "
     ]
    },
    {
     "cell_type": "markdown",
     "metadata": {},
     "source": [
      "# Start at 9:00 if otherwise unsanctioned\n",
      "\n",
      "It is not always best to start at 9:00. For instance, if we have a task of an hour and our elf is available at 16:00, then it's better to start immediately than to wait till 9:00 on the next day: in both cases, the elf will finish the task within sanctioned time. So a better strategy is to start a task immediately if doing so would not make the elf work in unsanctioned time and wait until 9:00 otherwise."
     ]
    },
    {
     "cell_type": "code",
     "collapsed": false,
     "input": [
      "def start_at_9_if_otherwise_unsanctioned(elf, time, duration):\n",
      "    num_days, time_in_day = divmod(time, mins_per_day)\n",
      "    if time_in_day <= start_of_day:\n",
      "        time_in_day = start_of_day\n",
      "    elif time_in_day >= end_of_day:\n",
      "        num_days += 1\n",
      "        time_in_day = start_of_day\n",
      "    else:\n",
      "        actual_duration = math.ceil(duration / elf.productivity)\n",
      "        if time_in_day + actual_duration > end_of_day:\n",
      "            num_days += 1\n",
      "            time_in_day = start_of_day\n",
      "    return num_days * mins_per_day + start_of_day"
     ],
     "language": "python",
     "metadata": {},
     "outputs": [],
     "prompt_number": 9
    },
    {
     "cell_type": "code",
     "collapsed": false,
     "input": [
      "finished(compute_solution(toys, 10, start_at_9_if_otherwise_unsanctioned))"
     ],
     "language": "python",
     "metadata": {},
     "outputs": [
      {
       "metadata": {},
       "output_type": "pyout",
       "prompt_number": 10,
       "text": [
        "25119788"
       ]
      }
     ],
     "prompt_number": 10
    },
    {
     "cell_type": "markdown",
     "metadata": {},
     "source": [
      "This is faster than the naive solution."
     ]
    },
    {
     "cell_type": "markdown",
     "metadata": {},
     "source": [
      "# Start at 9:00 if less unsanctioned\n",
      "\n",
      "However, the strategy in the previous section is still not optimal. Even if starting immediately would mean working in unsanctioned time, starting at 9:00 may mean working just the same amount of unsanctioned time. Suppose that we have a task of 25 hours and our elf is available at 16:00. If we start immediately, we would work from 16:00 till 17:00 on the next day, so our unsanctioned time is 19:00 to 9:00 next day, or 14 hours. If we start at 9:00 next day, we finish at 10:00 the day after and we still use 14 hours of unsanctioned time. Thus, it is best to start immediately.\n",
      "\n",
      "Generalizing, suppose the time now is x and we finish the task at time y, possibly several days later. If y is after x but before 19:00, then we should start the task immediately, even if this means working in unsanctioned time, because starting the task at 9:00 would use just as much unsanctioned time."
     ]
    },
    {
     "cell_type": "code",
     "collapsed": false,
     "input": [
      "def start_at_9_if_less_unsanctioned(elf, time, duration):\n",
      "    num_days, time_in_day = divmod(time, mins_per_day)\n",
      "    if time_in_day <= start_of_day:\n",
      "        time_in_day = start_of_day\n",
      "    elif time_in_day >= end_of_day:\n",
      "        num_days += 1\n",
      "        time_in_day = start_of_day\n",
      "    else:\n",
      "        actual_duration = math.ceil(duration / elf.productivity)\n",
      "        endtime_in_day = (time_in_day + actual_duration) % mins_per_day\n",
      "        if not time_in_day <= endtime_in_day <= end_of_day:\n",
      "            num_days += 1\n",
      "            time_in_day = start_of_day\n",
      "    return num_days * mins_per_day + start_of_day"
     ],
     "language": "python",
     "metadata": {},
     "outputs": [],
     "prompt_number": 11
    },
    {
     "cell_type": "code",
     "collapsed": false,
     "input": [
      "finished(compute_solution(toys, 10, start_at_9_if_less_unsanctioned))"
     ],
     "language": "python",
     "metadata": {},
     "outputs": [
      {
       "metadata": {},
       "output_type": "pyout",
       "prompt_number": 12,
       "text": [
        "25043468"
       ]
      }
     ],
     "prompt_number": 12
    },
    {
     "cell_type": "code",
     "collapsed": false,
     "input": [],
     "language": "python",
     "metadata": {},
     "outputs": [],
     "prompt_number": 12
    }
   ],
   "metadata": {}
  }
 ]
}