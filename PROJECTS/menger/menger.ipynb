{
 "metadata": {
  "name": "",
  "signature": "sha256:85d20f264c4555b7e5aa5490a763a711a2d004f7af3bff3bb0056f1f5fdfb934"
 },
 "nbformat": 3,
 "nbformat_minor": 0,
 "worksheets": [
  {
   "cells": [
    {
     "cell_type": "markdown",
     "metadata": {},
     "source": [
      "# Menger Sponge creation and plotting script - in_sponge method adapted from \n",
      "# http://www.johndcook.com/blog/2011/08/30/slice-a-menger-sponge/\n",
      "\n",
      "# Creates list off numpy arrays containing 3D data of whether uniform array position in unit cube is in (1) or out (0) of sponge"
     ]
    },
    {
     "cell_type": "code",
     "collapsed": false,
     "input": [
      "import math\n",
      "import numpy as np\n",
      "from mayavi import mlab"
     ],
     "language": "python",
     "metadata": {},
     "outputs": [
      {
       "output_type": "stream",
       "stream": "stderr",
       "text": [
        "WARNING:traits.has_traits:DEPRECATED: traits.has_traits.wrapped_class, 'the 'implements' class advisor has been deprecated. Use the 'provides' class decorator.\n"
       ]
      }
     ],
     "prompt_number": 1
    },
    {
     "cell_type": "code",
     "collapsed": false,
     "input": [
      "def outside_unit_cube(x,y,z):\n",
      "    \"\"\" safety check that we are in unit cube \"\"\"\n",
      "    if x < 0 or y < 0 or z < 0:\n",
      "        return 1\n",
      "    if x > 1 or y > 1 or z > 1:\n",
      "        return 1\n",
      "    return 0\n"
     ],
     "language": "python",
     "metadata": {},
     "outputs": [],
     "prompt_number": 2
    },
    {
     "cell_type": "code",
     "collapsed": false,
     "input": [
      "def in_sponge( x,y,z, level ):\n",
      "    \"\"\"Determine whether a point lies inside the Menger sponge\n",
      "    after the number of iterations given by 'level.' \"\"\"\n",
      "    if outside_unit_cube(x,y,z):\n",
      "        return 0\n",
      "    #if x == 1 or y == 1 or z == 1:\n",
      "    #    return 1\n",
      "    for i in range(level):\n",
      "        x *= 3\n",
      "        y *= 3\n",
      "        z *= 3\n",
      " \n",
      "        # A point is removed if two of its coordinates\n",
      "        # lie in middle thirds.\n",
      "        count = 0\n",
      "        if int(math.floor(x)) % 3 == 1:\n",
      "            count += 1\n",
      "        if int(math.floor(y)) % 3 == 1:\n",
      "            count += 1\n",
      "        if int(math.floor(z)) % 3 == 1:\n",
      "            count += 1\n",
      "        if count >= 2:\n",
      "            return 0\n",
      " \n",
      "    return 1\n"
     ],
     "language": "python",
     "metadata": {},
     "outputs": [],
     "prompt_number": 3
    },
    {
     "cell_type": "code",
     "collapsed": false,
     "input": [
      "vectorIn_sponge = np.vectorize(in_sponge)\n",
      "outside_unit_cube = np.vectorize(outside_unit_cube)"
     ],
     "language": "python",
     "metadata": {},
     "outputs": [],
     "prompt_number": 4
    },
    {
     "cell_type": "code",
     "collapsed": false,
     "input": [
      "def nestedMenger(N,h,Levels):\n",
      "    \"\"\" use nested triple loop to do check. Offset x,y,z so theres an outer layer of zeros \"\"\"\n",
      "    menger = []\n",
      "    for level in Levels:\n",
      "        sponge = np.zeros((N,N,N))\n",
      "        for i in xrange(N):\n",
      "            for j in xrange(N):\n",
      "                for k in xrange(N):\n",
      "                    sponge[i,j,k]=in_sponge( (i-1)*h,(j-1)*h,(k-1)*h, level )\n",
      "        menger.append(sponge)\n",
      "\n",
      "    return menger\n"
     ],
     "language": "python",
     "metadata": {},
     "outputs": [],
     "prompt_number": 5
    },
    {
     "cell_type": "code",
     "collapsed": false,
     "input": [
      "def iterMenger(N,h,Levels):\n",
      "    \"\"\" use numpy array iterator to do loop with index flag to get position in array \"\"\"\n",
      "    menger = []\n",
      "    for level in Levels:\n",
      "        sponge = np.zeros((N,N,N))\n",
      "        it = np.nditer(sponge, op_flags=['readwrite'], flags=['multi_index'])\n",
      "        while not it.finished:\n",
      "            it[0] = in_sponge( (it.multi_index[0]-1)*h,(it.multi_index[1]-1)*h,(it.multi_index[2]-1)*h, level )\n",
      "            it.iternext()\n",
      "        menger.append(sponge)\n",
      "\n",
      "    return menger \n"
     ],
     "language": "python",
     "metadata": {},
     "outputs": [],
     "prompt_number": 6
    },
    {
     "cell_type": "code",
     "collapsed": false,
     "input": [
      "def vectorMenger(xyz,Levels):\n",
      "    \"\"\" vectorised method using array of positions in cube - not working correctly??? \"\"\"\n",
      "    menger = []\n",
      "    for level in Levels:\n",
      "        sponge = np.zeros((N,N,N))\n",
      "        sponge[:,:,:] = vectorIn_sponge(xyz[:,:,:,0],xyz[:,:,:,1],xyz[:,:,:,2],level)\n",
      "        menger.append(sponge)\n",
      "\n",
      "    return menger\n"
     ],
     "language": "python",
     "metadata": {},
     "outputs": [],
     "prompt_number": 7
    },
    {
     "cell_type": "code",
     "collapsed": false,
     "input": [
      "@mlab.show    \n",
      "def plotMenger(menger, Levels):\n",
      "    \"\"\" plot using mayavi VTK wrappers \"\"\"\n",
      "    levelPlot=0\n",
      "    for sponge in menger:\n",
      "        mlab.figure(figure='Menger Sponge: Level '+str(Levels[levelPlot]),fgcolor=(0, 0, 0), bgcolor=(0.9, 1, 1), size = (600, 500))\n",
      "        sf = mlab.pipeline.scalar_field(sponge.T, transpose_input_array=False)\n",
      "        #mlab.pipeline.iso_surface(sf, contours=[1.0], opacity=1.0, colormap='copper')\n",
      "        contour = mlab.pipeline.contour(sf)\n",
      "        surf = mlab.pipeline.surface(contour, colormap='hsv')\n",
      "        # R G B values + transparency array (0-255 for each value, standard LUT size is 256)\n",
      "        colour = [[255,0,0,255]]*256\n",
      "        surf.module_manager.scalar_lut_manager.lut.table = colour\n",
      "        mlab.show(surf)\n",
      "        levelPlot+=1\n"
     ],
     "language": "python",
     "metadata": {},
     "outputs": [],
     "prompt_number": 8
    },
    {
     "cell_type": "code",
     "collapsed": false,
     "input": [
      "# pick range of menger sponge levels to create\n",
      "Levels = [0,1,2,3]"
     ],
     "language": "python",
     "metadata": {},
     "outputs": [],
     "prompt_number": 9
    },
    {
     "cell_type": "code",
     "collapsed": false,
     "input": [
      "# set detail level of array plus array spacing, larger N will be required for higher level cubes\n",
      "N=102"
     ],
     "language": "python",
     "metadata": {},
     "outputs": [],
     "prompt_number": 10
    },
    {
     "cell_type": "code",
     "collapsed": false,
     "input": [
      "# leave an exterior 0 to get faces plotted correctly - without this contour would only plot interior of sponge\n",
      "h=1.0/(N-3)"
     ],
     "language": "python",
     "metadata": {},
     "outputs": [],
     "prompt_number": 11
    },
    {
     "cell_type": "code",
     "collapsed": false,
     "input": [
      "# array of x,y,z values for vector menger function - UNCOMMENT to use with vectorised method\n",
      "#xyz = np.array([[[(i*h,j*h,k*h) for k in xrange(-1,N-1)] for j in xrange(-1,N-1)] for i in xrange(-1,N-1)])"
     ],
     "language": "python",
     "metadata": {},
     "outputs": [],
     "prompt_number": 12
    },
    {
     "cell_type": "markdown",
     "metadata": {},
     "source": [
      "# ipython magic functions to do timing testing if so desired"
     ]
    },
    {
     "cell_type": "code",
     "collapsed": false,
     "input": [
      "#%timeit menger1 = mF.nestedMenger(N,h,Levels)"
     ],
     "language": "python",
     "metadata": {},
     "outputs": [],
     "prompt_number": 13
    },
    {
     "cell_type": "code",
     "collapsed": false,
     "input": [
      "#%timeit menger2 = mF.iterMenger(N,h,Levels)"
     ],
     "language": "python",
     "metadata": {},
     "outputs": [],
     "prompt_number": 14
    },
    {
     "cell_type": "code",
     "collapsed": false,
     "input": [
      "#%timeit menger3 = mF.vectorMenger(xyz,Levels)"
     ],
     "language": "python",
     "metadata": {},
     "outputs": [],
     "prompt_number": 15
    },
    {
     "cell_type": "code",
     "collapsed": false,
     "input": [
      "# this one was actually quickest on my machine\n",
      "menger = nestedMenger(N,h,Levels)"
     ],
     "language": "python",
     "metadata": {},
     "outputs": [],
     "prompt_number": 17
    },
    {
     "cell_type": "code",
     "collapsed": false,
     "input": [
      "# plot generated sponges (each sponge will open in its own window and can be individually manipulated)\n",
      "plotMenger(menger, Levels)"
     ],
     "language": "python",
     "metadata": {},
     "outputs": [
      {
       "output_type": "stream",
       "stream": "stderr",
       "text": [
        "/scratch/1/users/matmg/anaconda/lib/python2.7/site-packages/traits/has_traits.py:1766: FutureWarning: comparison to `None` will result in an elementwise object comparison in the future.\n",
        "  setattr( self, name, value )\n"
       ]
      }
     ],
     "prompt_number": 18
    },
    {
     "cell_type": "code",
     "collapsed": false,
     "input": [],
     "language": "python",
     "metadata": {},
     "outputs": []
    }
   ],
   "metadata": {}
  }
 ]
}