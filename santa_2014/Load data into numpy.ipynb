{
 "metadata": {
  "name": "",
  "signature": "sha256:1d01a11f7d983d54a64c0bbd1553448cbf476b0de9a25effe3457c7ce660d6c5"
 },
 "nbformat": 3,
 "nbformat_minor": 0,
 "worksheets": [
  {
   "cells": [
    {
     "cell_type": "code",
     "collapsed": false,
     "input": [
      "import numpy as np"
     ],
     "language": "python",
     "metadata": {},
     "outputs": [],
     "prompt_number": 1
    },
    {
     "cell_type": "markdown",
     "metadata": {},
     "source": [
      "I want to load in the data, eventually into a numpy array.  How to deal with the dates?  The obvious thing to do is to minutes into 2014.  We can either manually do this, or:\n",
      "   - use the `datetime` module in python (which we'll do)\n",
      "   - or the equivalent numpy routines"
     ]
    },
    {
     "cell_type": "code",
     "collapsed": false,
     "input": [
      "import datetime\n",
      "import csv"
     ],
     "language": "python",
     "metadata": {},
     "outputs": [],
     "prompt_number": 46
    },
    {
     "cell_type": "code",
     "collapsed": false,
     "input": [
      "dtstart = datetime.datetime(2014,1,1,0,0) # Start of 2014\n",
      "data = []\n",
      "with open(\"toys_rev2.csv\") as f:\n",
      "    r = csv.reader(f)\n",
      "    header = next(r)\n",
      "    for row in r:\n",
      "        dt = datetime.datetime.strptime(row[1], \"%Y %m %d %H %M\")\n",
      "        delta = dt - dtstart\n",
      "        data.append( [int(delta.total_seconds()), int(row[2])] )\n"
     ],
     "language": "python",
     "metadata": {},
     "outputs": [],
     "prompt_number": 75
    },
    {
     "cell_type": "code",
     "collapsed": false,
     "input": [
      "data[:5]"
     ],
     "language": "python",
     "metadata": {},
     "outputs": [
      {
       "metadata": {},
       "output_type": "pyout",
       "prompt_number": 77,
       "text": [
        "[[60, 5], [60, 5], [60, 5], [60, 6], [60, 6]]"
       ]
      }
     ],
     "prompt_number": 77
    },
    {
     "cell_type": "code",
     "collapsed": false,
     "input": [
      "data[-5:]"
     ],
     "language": "python",
     "metadata": {},
     "outputs": [
      {
       "metadata": {},
       "output_type": "pyout",
       "prompt_number": 78,
       "text": [
        "[[29721540, 104],\n",
        " [29721540, 118],\n",
        " [29721540, 150],\n",
        " [29721540, 184],\n",
        " [29721540, 697]]"
       ]
      }
     ],
     "prompt_number": 78
    },
    {
     "cell_type": "code",
     "collapsed": false,
     "input": [
      "x = np.array(data, dtype=int)"
     ],
     "language": "python",
     "metadata": {},
     "outputs": [],
     "prompt_number": 79
    },
    {
     "cell_type": "code",
     "collapsed": false,
     "input": [
      "np.save(\"toys_rev2.npy\", x)"
     ],
     "language": "python",
     "metadata": {},
     "outputs": [],
     "prompt_number": 81
    },
    {
     "cell_type": "markdown",
     "metadata": {},
     "source": [
      "So the format is that the numpy row is \"ToyId\" minus 1, the first column is the number of _seconds_ since the start of 2014, and the second column is the \"Duration\"."
     ]
    },
    {
     "cell_type": "code",
     "collapsed": false,
     "input": [
      "delta = datetime.timedelta(seconds = 60)\n",
      "print(delta + dtstart)\n",
      "delta = datetime.timedelta(seconds = 29721540)\n",
      "print(delta + dtstart)"
     ],
     "language": "python",
     "metadata": {},
     "outputs": [
      {
       "output_type": "stream",
       "stream": "stdout",
       "text": [
        "2014-01-01 00:01:00\n",
        "2014-12-10 23:59:00\n"
       ]
      }
     ],
     "prompt_number": 84
    },
    {
     "cell_type": "code",
     "collapsed": false,
     "input": [],
     "language": "python",
     "metadata": {},
     "outputs": []
    }
   ],
   "metadata": {}
  }
 ]
}