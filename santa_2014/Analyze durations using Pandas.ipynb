{
 "metadata": {
  "name": "",
  "signature": "sha256:ffa96153da5d417e5318f9bb65144354c5a0ef2bd6b6f6f7256f5aa853d985fc"
 },
 "nbformat": 3,
 "nbformat_minor": 0,
 "worksheets": [
  {
   "cells": [
    {
     "cell_type": "code",
     "collapsed": false,
     "input": [
      "%matplotlib inline"
     ],
     "language": "python",
     "metadata": {},
     "outputs": [],
     "prompt_number": 1
    },
    {
     "cell_type": "code",
     "collapsed": false,
     "input": [
      "import pandas, matplotlib"
     ],
     "language": "python",
     "metadata": {},
     "outputs": [],
     "prompt_number": 2
    },
    {
     "cell_type": "markdown",
     "metadata": {},
     "source": [
      "Parse the CSV file and build a Series object with the durations of the ten million jobs. The `usecols` parameter says to only parse the Duration column (more efficient than parsing the whole file). `squeeze=True` means that a Series object is returned (instead of a Frame) if there is only one column, as is the case here."
     ]
    },
    {
     "cell_type": "code",
     "collapsed": false,
     "input": [
      "jobs = pandas.read_csv('toys_rev2.csv', usecols=['Duration'], squeeze=True)"
     ],
     "language": "python",
     "metadata": {},
     "outputs": [],
     "prompt_number": 3
    },
    {
     "cell_type": "code",
     "collapsed": false,
     "input": [
      "jobs.describe()"
     ],
     "language": "python",
     "metadata": {},
     "outputs": [
      {
       "metadata": {},
       "output_type": "pyout",
       "prompt_number": 4,
       "text": [
        "count    10000000.000000\n",
        "mean         2600.395076\n",
        "std          5557.162926\n",
        "min             1.000000\n",
        "25%            21.000000\n",
        "50%            69.000000\n",
        "75%           468.000000\n",
        "max         47473.000000\n",
        "dtype: float64"
       ]
      }
     ],
     "prompt_number": 4
    },
    {
     "cell_type": "markdown",
     "metadata": {},
     "source": [
      "As Matt already said, the job durations range from 1 to a massive 47473 minutes. The distribution is heavily skewed. Let us draw a histogram."
     ]
    },
    {
     "cell_type": "code",
     "collapsed": false,
     "input": [
      "jobs.hist(bins=100)"
     ],
     "language": "python",
     "metadata": {},
     "outputs": [
      {
       "metadata": {},
       "output_type": "pyout",
       "prompt_number": 5,
       "text": [
        "<matplotlib.axes.AxesSubplot at 0x7fab38d92908>"
       ]
      },
      {
       "metadata": {},
       "output_type": "display_data",
       "png": "[encoded data removed]",
       "text": [
        "<matplotlib.figure.Figure at 0x7fab38d92278>"
       ]
      }
     ],
     "prompt_number": 5
    },
    {
     "cell_type": "markdown",
     "metadata": {},
     "source": [
      "That is not very informative but it confirms the distribution is very heavily skewed. Most jobs are relatively short. A working day is 10 hours is 600 minutes, so let us split the list of jobs in jobs that can be done in a working day and the rest."
     ]
    },
    {
     "cell_type": "code",
     "collapsed": false,
     "input": [
      "short_jobs = jobs[jobs <= 600]\n",
      "long_jobs = jobs[jobs > 600]\n",
      "print('{} jobs have duration <= 10 hours and {} jobs have duration > 10 hours'.format(len(short_jobs), len(long_jobs)))"
     ],
     "language": "python",
     "metadata": {},
     "outputs": [
      {
       "output_type": "stream",
       "stream": "stdout",
       "text": [
        "7612456 jobs have duration <= 10 hours and 2387544 jobs have duration > 10 hours\n"
       ]
      }
     ],
     "prompt_number": 6
    },
    {
     "cell_type": "markdown",
     "metadata": {},
     "source": [
      "About 76% of jobs are under the 10h threshold. See also the 75th percentile computed with `jobs.describe()`. Let us draw separate histograms of the short and long jobs."
     ]
    },
    {
     "cell_type": "code",
     "collapsed": false,
     "input": [
      "short_jobs.hist(bins=100)"
     ],
     "language": "python",
     "metadata": {},
     "outputs": [
      {
       "metadata": {},
       "output_type": "pyout",
       "prompt_number": 7,
       "text": [
        "<matplotlib.axes.AxesSubplot at 0x7fab33eff7f0>"
       ]
      },
      {
       "metadata": {},
       "output_type": "display_data",
       "png": "[encoded data removed]",
       "text": [
        "<matplotlib.figure.Figure at 0x7fab33f09c50>"
       ]
      }
     ],
     "prompt_number": 7
    },
    {
     "cell_type": "code",
     "collapsed": false,
     "input": [
      "long_jobs.hist(bins=100)"
     ],
     "language": "python",
     "metadata": {},
     "outputs": [
      {
       "metadata": {},
       "output_type": "pyout",
       "prompt_number": 8,
       "text": [
        "<matplotlib.axes.AxesSubplot at 0x7fab2f1dc080>"
       ]
      },
      {
       "metadata": {},
       "output_type": "display_data",
       "png": "[encoded data removed]",
       "text": [
        "<matplotlib.figure.Figure at 0x7fab2f1ac3c8>"
       ]
      }
     ],
     "prompt_number": 8
    },
    {
     "cell_type": "markdown",
     "metadata": {},
     "source": [
      "Definitely some structure here. The histogram of the short jobs looks like an exponential distribution. For the long jobs, there is a uniform distribution up to a duration of around 23,000 and then a sharp cut-off with only very few jobs longer than that.\n",
      "\n",
      "Maybe another view of the data is helpful. We can plot it as a time series. This generates a plot with ten million points in it, which takes a while and makes the notebook file rather big, so I commented it out."
     ]
    },
    {
     "cell_type": "code",
     "collapsed": false,
     "input": [
      "# jobs.plot(style='.', markersize=1)"
     ],
     "language": "python",
     "metadata": {},
     "outputs": [],
     "prompt_number": 9
    },
    {
     "cell_type": "markdown",
     "metadata": {},
     "source": [
      "It seems that there are four different regimes. \n",
      "1. The first 2 million (or so) jobs are relatively short and have durations that look like they may be exponentially distributed.\n",
      "2. Then there are abour 4.5 million longer jobs, again with approximately an exponential distribution. The longest jobs are included in here, but there are only a few. \n",
      "3. Then there are slightly more than two million jobs with what looks like a uniform distribution of durations between 0 and 22000. \n",
      "4. Finally, the remaining jobs have again an exponential distribution of durations, with a mean between that of the first and the second regime. \n",
      "\n",
      "To check this, let's compute the min/max/etc of the different regimes."
     ]
    },
    {
     "cell_type": "code",
     "collapsed": false,
     "input": [
      "jobs[:2000000].describe()"
     ],
     "language": "python",
     "metadata": {},
     "outputs": [
      {
       "metadata": {},
       "output_type": "pyout",
       "prompt_number": 10,
       "text": [
        "count    2000000.000000\n",
        "mean          24.592720\n",
        "std           46.781597\n",
        "min            1.000000\n",
        "25%            5.000000\n",
        "50%           12.000000\n",
        "75%           26.000000\n",
        "max         4273.000000\n",
        "dtype: float64"
       ]
      }
     ],
     "prompt_number": 10
    },
    {
     "cell_type": "code",
     "collapsed": false,
     "input": [
      "jobs[2000000:6500000].describe()"
     ],
     "language": "python",
     "metadata": {},
     "outputs": [
      {
       "metadata": {},
       "output_type": "pyout",
       "prompt_number": 11,
       "text": [
        "count    4500000.000000\n",
        "mean         146.567598\n",
        "std          307.944242\n",
        "min            1.000000\n",
        "25%           27.000000\n",
        "50%           63.000000\n",
        "75%          151.000000\n",
        "max        47473.000000\n",
        "dtype: float64"
       ]
      }
     ],
     "prompt_number": 11
    },
    {
     "cell_type": "code",
     "collapsed": false,
     "input": [
      "jobs[6500000:8800000].describe()"
     ],
     "language": "python",
     "metadata": {},
     "outputs": [
      {
       "metadata": {},
       "output_type": "pyout",
       "prompt_number": 12,
       "text": [
        "count    2300000.000000\n",
        "mean       10953.914887\n",
        "std         6590.997636\n",
        "min            1.000000\n",
        "25%         5231.000000\n",
        "50%        10937.000000\n",
        "75%        16660.000000\n",
        "max        22387.000000\n",
        "dtype: float64"
       ]
      }
     ],
     "prompt_number": 12
    },
    {
     "cell_type": "code",
     "collapsed": false,
     "input": [
      "jobs[8800000:].describe()"
     ],
     "language": "python",
     "metadata": {},
     "outputs": [
      {
       "metadata": {},
       "output_type": "pyout",
       "prompt_number": 13,
       "text": [
        "count    1200000.000000\n",
        "mean          84.339080\n",
        "std          114.667222\n",
        "min            1.000000\n",
        "25%           25.000000\n",
        "50%           50.000000\n",
        "75%           99.000000\n",
        "max         8909.000000\n",
        "dtype: float64"
       ]
      }
     ],
     "prompt_number": 13
    },
    {
     "cell_type": "markdown",
     "metadata": {},
     "source": [
      "And let us also plot histograms of the four different regimes:"
     ]
    },
    {
     "cell_type": "code",
     "collapsed": false,
     "input": [
      "_,axes = matplotlib.pyplot.subplots(2, 2)\n",
      "axes = axes.flatten()\n",
      "for id, regime in enumerate([jobs[:2000000], jobs[2000000:6500000], jobs[6500000:8800000], jobs[8800000:]]):\n",
      "    regime.hist(ax=axes[id], bins=100)\n",
      "    axes[id].set_ylim(ymax=len(regime)/50)"
     ],
     "language": "python",
     "metadata": {},
     "outputs": [
      {
       "metadata": {},
       "output_type": "display_data",
       "png": "[encoded data removed]",
       "text": [
        "<matplotlib.figure.Figure at 0x7fab3007a048>"
       ]
      }
     ],
     "prompt_number": 14
    },
    {
     "cell_type": "code",
     "collapsed": false,
     "input": [],
     "language": "python",
     "metadata": {},
     "outputs": [],
     "prompt_number": 14
    }
   ],
   "metadata": {}
  }
 ]
}