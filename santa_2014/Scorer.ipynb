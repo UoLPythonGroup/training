{
 "metadata": {
  "name": "",
  "signature": "sha256:c8aceebf18a282020596e4a429a21236af56f43ecb31f0ee4d9917565a566193"
 },
 "nbformat": 3,
 "nbformat_minor": 0,
 "worksheets": [
  {
   "cells": [
    {
     "cell_type": "markdown",
     "metadata": {},
     "source": [
      "The official Kaggle code checks a submission, but the code takes 50 minutes on this machine!  So I want to try to use numpy etc. to make this faster.\n",
      "\n",
      "Should get: 1875730155.0575209\n",
      "\n",
      "(With all 900 elves used, so 275700552 minutes total.)"
     ]
    },
    {
     "cell_type": "code",
     "collapsed": false,
     "input": [
      "import numpy as np\n",
      "import math"
     ],
     "language": "python",
     "metadata": {},
     "outputs": [],
     "prompt_number": 3
    },
    {
     "cell_type": "code",
     "collapsed": false,
     "input": [
      "toys = np.load(\"toys_rev2.npy\")\n",
      "print(len(toys))\n",
      "toys"
     ],
     "language": "python",
     "metadata": {},
     "outputs": [
      {
       "output_type": "stream",
       "stream": "stdout",
       "text": [
        "10000000\n"
       ]
      },
      {
       "metadata": {},
       "output_type": "pyout",
       "prompt_number": 4,
       "text": [
        "array([[     1,      5],\n",
        "       [     1,      5],\n",
        "       [     1,      5],\n",
        "       ..., \n",
        "       [495359,    150],\n",
        "       [495359,    184],\n",
        "       [495359,    697]])"
       ]
      }
     ],
     "prompt_number": 4
    },
    {
     "cell_type": "markdown",
     "metadata": {},
     "source": [
      "Remember that `toys` is an numpy array, listing the time the toy arrives (in minutes since start of 2014) and the duration (in minutes) to make the toy.  Toy id is the row number plus 1."
     ]
    },
    {
     "cell_type": "code",
     "collapsed": false,
     "input": [
      "tasks = np.load(\"sampleSubmission_rev2.npy\")\n",
      "print(len(tasks))\n",
      "tasks"
     ],
     "language": "python",
     "metadata": {},
     "outputs": [
      {
       "output_type": "stream",
       "stream": "stdout",
       "text": [
        "10000000\n"
       ]
      },
      {
       "metadata": {},
       "output_type": "pyout",
       "prompt_number": 5,
       "text": [
        "array([[        1,         1,       540,         5],\n",
        "       [        2,         2,       540,         5],\n",
        "       [        3,         3,       540,         5],\n",
        "       ..., \n",
        "       [  9999998,        95, 275694317,       518],\n",
        "       [  9999999,       171, 275694317,        47],\n",
        "       [ 10000000,       210, 275694317,       175]])"
       ]
      }
     ],
     "prompt_number": 5
    },
    {
     "cell_type": "markdown",
     "metadata": {},
     "source": [
      "The format is: ToyId, ElfId, Starttime (minutes since 2014), duration.\n",
      "\n",
      "A bit of checking shows that \"duration\" here is the time it actually takes the allocated Elf (so taking account of Elf productivity)."
     ]
    },
    {
     "cell_type": "heading",
     "level": 1,
     "metadata": {},
     "source": [
      "Class for Elves"
     ]
    },
    {
     "cell_type": "markdown",
     "metadata": {},
     "source": [
      "This is copying the Kaggle code a bit, but also making things more streamlined, imho"
     ]
    },
    {
     "cell_type": "code",
     "collapsed": false,
     "input": [
      "# This is a script, so we'll tolerate some global variables, and \"magic numbers\"\n",
      "daystarts = 9*60\n",
      "dayends = 19*60\n",
      "minsday = 24*60\n",
      "sanctionedminsday = dayends - daystarts\n",
      "unsanctionedminsday = minsday - sanctionedminsday\n",
      "\n",
      "def ssu_spliter(duration, place, start, end):\n",
      "    \"\"\"Input: duration, place, start, end\n",
      "    where start--end represents an interval of time, place is the current place in the\n",
      "    day, and duration is the total duration.\n",
      "    Intersects [place, place+duration] with the interval, and returns the 'delta' which\n",
      "    is the maximum we can add to place to either get duration==0 or to reach the end of\n",
      "    the interval; returns 0 if no intersection\"\"\"\n",
      "    if start <= place and place < end:\n",
      "        return min(duration, end - place)\n",
      "    return 0\n",
      "\n",
      "def split_sanctioned_unsanctioned(starttime, duration):\n",
      "    \"\"\"Split time period into sanctioned and unsanctioned minutes\n",
      "    Input: starttime, integer, time since 2014 in minutes\n",
      "      duration, integer, time in minutes\n",
      "    Returns: (sanctioned, unsanctioned)\"\"\"\n",
      "    san = 0\n",
      "    unsan = 0\n",
      "    # In any 24 hour period, always the same number of sanctioned and unsanctioned minutes\n",
      "    # so deal with hour days first, and then with remainder\n",
      "    wholedays = duration // minsday\n",
      "    san += wholedays * sanctionedminsday\n",
      "    unsan += wholedays * unsanctionedminsday\n",
      "    duration -= wholedays * minsday\n",
      "    # So now duration < A Day, but still might overlap everything\n",
      "    # Only care about starttime relative to current day now\n",
      "    day_starttime = starttime % minsday\n",
      "    while duration > 0:\n",
      "        # Before start of day\n",
      "        delta = ssu_spliter(duration, day_starttime, 0, daystarts)\n",
      "        unsan += delta\n",
      "        day_starttime = (day_starttime + delta) % minsday\n",
      "        duration -= delta\n",
      "        # Working hours\n",
      "        delta = ssu_spliter(duration, day_starttime, daystarts, dayends)\n",
      "        san += delta\n",
      "        day_starttime = (day_starttime + delta) % minsday\n",
      "        duration -= delta\n",
      "        # After working hours\n",
      "        delta = ssu_spliter(duration, day_starttime, dayends, minsday)\n",
      "        unsan += delta\n",
      "        day_starttime = (day_starttime + delta) % minsday\n",
      "        duration -= delta\n",
      "    return (san,unsan)\n",
      "\n",
      "\n",
      "class ElfExcept(Exception):\n",
      "    pass\n",
      "\n",
      "class Elf:\n",
      "    def __str__(self):\n",
      "        return \"Elf id:{}, productivity:{}, next_free:{}\".format(\n",
      "            self.elfid, self.productivity, self.available_to_work)\n",
      "    def __init__(self, elfid):\n",
      "        self.productivity = 1.0\n",
      "        self.elfid = elfid\n",
      "        # Time the Elf is next able to work\n",
      "        self.available_to_work = 60*9 # Work starts at 9am Jan 1st\n",
      "        self.logging = False # Create a history\n",
      "        if self.logging:\n",
      "            self.history = []\n",
      "    def do_task(self, starttime, duration):\n",
      "        if starttime < self.available_to_work:\n",
      "            raise ElfExcept(\"Elf {} not available to work at time {}.\".format(self.elfid,starttime))\n",
      "        # So now do all the calculation\n",
      "        actual_duration = math.ceil(duration / self.productivity)\n",
      "        san, unsan = split_sanctioned_unsanctioned(starttime, actual_duration)\n",
      "        self.available_to_work = starttime + actual_duration\n",
      "        if self.logging:\n",
      "            log = \"At time {} assigned task of length {} with productivity {}\".format(starttime, duration, self.productivity)\n",
      "            log += \" which took me {}, sanctioned:{}, unsanctioned:{}\".format(actual_duration, san, unsan)\n",
      "        # Update productivity\n",
      "        new_prod = (1.02 ** (san/60.0)) * (0.9 ** (unsan/60.0)) * self.productivity\n",
      "        if new_prod < 0.25:\n",
      "            new_prod = 0.25\n",
      "        if new_prod > 4.0:\n",
      "            new_prod = 4.0\n",
      "        self.productivity = new_prod\n",
      "        # Work out rest time needed\n",
      "        # Copied this logic from the official Python code, because of \"bug\"/\"feature\".\n",
      "        if unsan > 0:\n",
      "            num_days_since_jan1 = self.available_to_work // minsday\n",
      "            rest_time = unsan\n",
      "            rest_time_in_working_days = rest_time // sanctionedminsday\n",
      "            rest_time_remaining_minutes = rest_time % sanctionedminsday\n",
      "            local_start = self.available_to_work % minsday\n",
      "            if local_start < daystarts:\n",
      "                local_start = daystarts\n",
      "            elif local_start > dayends:\n",
      "                num_days_since_jan1 += 1\n",
      "                local_start = daystarts\n",
      "            if local_start + rest_time_remaining_minutes > dayends:\n",
      "                rest_time_in_working_days += 1\n",
      "                rest_time_remaining_minutes -= (dayends - local_start)\n",
      "                local_start = daystarts\n",
      "            total_days = num_days_since_jan1 + rest_time_in_working_days\n",
      "            self.available_to_work = total_days * minsday + local_start + rest_time_remaining_minutes\n",
      "        if self.logging:\n",
      "            log += \" will get off rest time at {}.\".format(self.available_to_work)\n",
      "            self.history.append( log )\n",
      "        return actual_duration"
     ],
     "language": "python",
     "metadata": {},
     "outputs": [],
     "prompt_number": 30
    },
    {
     "cell_type": "code",
     "collapsed": false,
     "input": [
      "print(\"Sanctioned minutes: {} -- {} which is {} out of {}.\".format(daystarts,dayends,sanctionedminsday,minsday))\n",
      "print(split_sanctioned_unsanctioned(daystarts, 60*24), \"should be (600, 840)\")\n",
      "print(split_sanctioned_unsanctioned(10, 1000), \"should be (470, 530)\")\n",
      "print(split_sanctioned_unsanctioned(10, 10000), \"should be (4200, 5800)\")\n",
      "print(split_sanctioned_unsanctioned(dayends, 100), \"should be (0, 100)\")\n",
      "print(split_sanctioned_unsanctioned(dayends-50, 1000), \"should be (160,840)\")\n",
      "print(split_sanctioned_unsanctioned(dayends-50, 1439), \"should be (599,840)\")\n",
      "print()\n",
      "\n",
      "e = Elf(1)\n",
      "print(e.elfid, e.productivity, e.available_to_work, \"should be 1 1.0 540\")\n",
      "e.do_task(540,100)\n",
      "print(e.productivity, e.available_to_work, \"should be 1.033555... 640\")\n",
      "e.productivity = 4.0\n",
      "e.do_task(700,100)\n",
      "print(e.productivity, e.available_to_work, \"should be 4.0 725\")\n",
      "e.do_task(dayends, 840)\n",
      "print(e.productivity, e.available_to_work, \"should be 2.76636... 2190\")\n",
      "e.do_task(2910, 200) # 3rd Jan, 0:30 for 200 mins, takes 73 mins\n",
      "print(e.productivity, e.available_to_work, \"should be 2.43353... 3493\")\n",
      "e.history"
     ],
     "language": "python",
     "metadata": {},
     "outputs": [
      {
       "output_type": "stream",
       "stream": "stdout",
       "text": [
        "Sanctioned minutes: 540 -- 1140 which is 600 out of 1440.\n",
        "(600, 840) should be (600, 840)\n",
        "(470, 530) should be (470, 530)\n",
        "(4200, 5800) should be (4200, 5800)\n",
        "(0, 100) should be (0, 100)\n",
        "(160, 840) should be (160,840)\n",
        "(599, 840) should be (599,840)\n",
        "\n",
        "1 1.0 540 should be 1 1.0 540\n",
        "1.0335550649901863 640 should be 1.033555... 640\n",
        "4.0 725 should be 4.0 725\n",
        "2.7663604971152984 2190 should be 2.76636... 2190\n",
        "2.4335325571441575 3493 should be 2.43353... 3493\n"
       ]
      },
      {
       "ename": "AttributeError",
       "evalue": "'Elf' object has no attribute 'history'",
       "output_type": "pyerr",
       "traceback": [
        "\u001b[1;31m---------------------------------------------------------------------------\u001b[0m\n\u001b[1;31mAttributeError\u001b[0m                            Traceback (most recent call last)",
        "\u001b[1;32m<ipython-input-31-2b63adbb4fe1>\u001b[0m in \u001b[0;36m<module>\u001b[1;34m()\u001b[0m\n\u001b[0;32m     19\u001b[0m \u001b[0me\u001b[0m\u001b[1;33m.\u001b[0m\u001b[0mdo_task\u001b[0m\u001b[1;33m(\u001b[0m\u001b[1;36m2910\u001b[0m\u001b[1;33m,\u001b[0m \u001b[1;36m200\u001b[0m\u001b[1;33m)\u001b[0m \u001b[1;31m# 3rd Jan, 0:30 for 200 mins, takes 73 mins\u001b[0m\u001b[1;33m\u001b[0m\u001b[0m\n\u001b[0;32m     20\u001b[0m \u001b[0mprint\u001b[0m\u001b[1;33m(\u001b[0m\u001b[0me\u001b[0m\u001b[1;33m.\u001b[0m\u001b[0mproductivity\u001b[0m\u001b[1;33m,\u001b[0m \u001b[0me\u001b[0m\u001b[1;33m.\u001b[0m\u001b[0mavailable_to_work\u001b[0m\u001b[1;33m,\u001b[0m \u001b[1;34m\"should be 2.43353... 3493\"\u001b[0m\u001b[1;33m)\u001b[0m\u001b[1;33m\u001b[0m\u001b[0m\n\u001b[1;32m---> 21\u001b[1;33m \u001b[0me\u001b[0m\u001b[1;33m.\u001b[0m\u001b[0mhistory\u001b[0m\u001b[1;33m\u001b[0m\u001b[0m\n\u001b[0m",
        "\u001b[1;31mAttributeError\u001b[0m: 'Elf' object has no attribute 'history'"
       ]
      }
     ],
     "prompt_number": 31
    },
    {
     "cell_type": "heading",
     "level": 1,
     "metadata": {},
     "source": [
      "The scorer"
     ]
    },
    {
     "cell_type": "code",
     "collapsed": false,
     "input": [
      "elves = {}\n",
      "for n in range(1,901):\n",
      "    elves[n] = Elf(n)\n",
      "elves_used = set()    \n",
      "maxtime = 0\n",
      "\n",
      "count = 0\n",
      "for rowindex, row in enumerate(tasks):\n",
      "    toyid, elfid, starttime, duration = row\n",
      "    # Assign elf to do this\n",
      "    order_arrived, toytime = toys[toyid-1]\n",
      "    if starttime < order_arrived:\n",
      "        raise Exception(\"{} :: Assigned before toy order arrived!\".format(rowindex))\n",
      "    #print(\"Elf {} assigned toy {} which takes {} mins\".format(elfid, toyid, toytime))\n",
      "    elves_used.add( elfid )\n",
      "    try:\n",
      "        elf_time = elves[elfid].do_task(starttime, toytime)\n",
      "    except ElfExcept as e:\n",
      "        print(\"Oh: toyid:{}\".format(toyid))\n",
      "        raise\n",
      "    # Check data\n",
      "    if elf_time > duration:\n",
      "        raise Exception(\"Takes elf {} mins but only assigned {} mins\"\n",
      "                        .format(elves[elfid].last_task_took,duration))\n",
      "    if elf_time < duration:\n",
      "        raise Exception(\"Warning: takes elf {} mins but assigned {} mins\"\n",
      "                        .format(elves[elfid].last_task_took,duration))\n",
      "    if starttime + elf_time > maxtime:\n",
      "        maxtime = starttime + elf_time\n",
      "    # Logging\n",
      "    if rowindex % 200000 == 0:\n",
      "        print(rowindex, \"{:.3f}%\".format(rowindex/100000))\n",
      "\n",
      "print(\"Used {} elves and took {} minutes in total.\".format(len(elves_used),maxtime))\n",
      "print(\"Score:\", maxtime * math.log(1+len(elves_used)))"
     ],
     "language": "python",
     "metadata": {},
     "outputs": [
      {
       "output_type": "stream",
       "stream": "stdout",
       "text": [
        "0 0.000%\n",
        "200000"
       ]
      },
      {
       "output_type": "stream",
       "stream": "stdout",
       "text": [
        " 0.200%\n",
        "400000"
       ]
      },
      {
       "output_type": "stream",
       "stream": "stdout",
       "text": [
        " 0.400%\n",
        "600000"
       ]
      },
      {
       "output_type": "stream",
       "stream": "stdout",
       "text": [
        " 0.600%\n",
        "800000"
       ]
      },
      {
       "output_type": "stream",
       "stream": "stdout",
       "text": [
        " 0.800%\n",
        "1000000"
       ]
      },
      {
       "output_type": "stream",
       "stream": "stdout",
       "text": [
        " 1.000%\n",
        "1200000"
       ]
      },
      {
       "output_type": "stream",
       "stream": "stdout",
       "text": [
        " 1.200%\n",
        "1400000"
       ]
      },
      {
       "output_type": "stream",
       "stream": "stdout",
       "text": [
        " 1.400%\n",
        "1600000"
       ]
      },
      {
       "output_type": "stream",
       "stream": "stdout",
       "text": [
        " 1.600%\n",
        "1800000"
       ]
      },
      {
       "output_type": "stream",
       "stream": "stdout",
       "text": [
        " 1.800%\n",
        "2000000"
       ]
      },
      {
       "output_type": "stream",
       "stream": "stdout",
       "text": [
        " 2.000%\n",
        "2200000"
       ]
      },
      {
       "output_type": "stream",
       "stream": "stdout",
       "text": [
        " 2.200%\n",
        "2400000"
       ]
      },
      {
       "output_type": "stream",
       "stream": "stdout",
       "text": [
        " 2.400%\n",
        "2600000"
       ]
      },
      {
       "output_type": "stream",
       "stream": "stdout",
       "text": [
        " 2.600%\n",
        "2800000"
       ]
      },
      {
       "output_type": "stream",
       "stream": "stdout",
       "text": [
        " 2.800%\n",
        "3000000"
       ]
      },
      {
       "output_type": "stream",
       "stream": "stdout",
       "text": [
        " 3.000%\n",
        "3200000"
       ]
      },
      {
       "output_type": "stream",
       "stream": "stdout",
       "text": [
        " 3.200%\n",
        "3400000"
       ]
      },
      {
       "output_type": "stream",
       "stream": "stdout",
       "text": [
        " 3.400%\n",
        "3600000"
       ]
      },
      {
       "output_type": "stream",
       "stream": "stdout",
       "text": [
        " 3.600%\n",
        "3800000"
       ]
      },
      {
       "output_type": "stream",
       "stream": "stdout",
       "text": [
        " 3.800%\n",
        "4000000"
       ]
      },
      {
       "output_type": "stream",
       "stream": "stdout",
       "text": [
        " 4.000%\n",
        "4200000"
       ]
      },
      {
       "output_type": "stream",
       "stream": "stdout",
       "text": [
        " 4.200%\n",
        "4400000"
       ]
      },
      {
       "output_type": "stream",
       "stream": "stdout",
       "text": [
        " 4.400%\n",
        "4600000"
       ]
      },
      {
       "output_type": "stream",
       "stream": "stdout",
       "text": [
        " 4.600%\n",
        "4800000"
       ]
      },
      {
       "output_type": "stream",
       "stream": "stdout",
       "text": [
        " 4.800%\n",
        "5000000"
       ]
      },
      {
       "output_type": "stream",
       "stream": "stdout",
       "text": [
        " 5.000%\n",
        "5200000"
       ]
      },
      {
       "output_type": "stream",
       "stream": "stdout",
       "text": [
        " 5.200%\n",
        "5400000"
       ]
      },
      {
       "output_type": "stream",
       "stream": "stdout",
       "text": [
        " 5.400%\n",
        "5600000"
       ]
      },
      {
       "output_type": "stream",
       "stream": "stdout",
       "text": [
        " 5.600%\n",
        "5800000"
       ]
      },
      {
       "output_type": "stream",
       "stream": "stdout",
       "text": [
        " 5.800%\n",
        "6000000"
       ]
      },
      {
       "output_type": "stream",
       "stream": "stdout",
       "text": [
        " 6.000%\n",
        "6200000"
       ]
      },
      {
       "output_type": "stream",
       "stream": "stdout",
       "text": [
        " 6.200%\n",
        "6400000"
       ]
      },
      {
       "output_type": "stream",
       "stream": "stdout",
       "text": [
        " 6.400%\n",
        "6600000"
       ]
      },
      {
       "output_type": "stream",
       "stream": "stdout",
       "text": [
        " 6.600%\n",
        "6800000"
       ]
      },
      {
       "output_type": "stream",
       "stream": "stdout",
       "text": [
        " 6.800%\n",
        "7000000"
       ]
      },
      {
       "output_type": "stream",
       "stream": "stdout",
       "text": [
        " 7.000%\n",
        "7200000"
       ]
      },
      {
       "output_type": "stream",
       "stream": "stdout",
       "text": [
        " 7.200%\n",
        "7400000"
       ]
      },
      {
       "output_type": "stream",
       "stream": "stdout",
       "text": [
        " 7.400%\n",
        "7600000"
       ]
      },
      {
       "output_type": "stream",
       "stream": "stdout",
       "text": [
        " 7.600%\n",
        "7800000"
       ]
      },
      {
       "output_type": "stream",
       "stream": "stdout",
       "text": [
        " 7.800%\n",
        "8000000"
       ]
      },
      {
       "output_type": "stream",
       "stream": "stdout",
       "text": [
        " 8.000%\n",
        "8200000"
       ]
      },
      {
       "output_type": "stream",
       "stream": "stdout",
       "text": [
        " 8.200%\n",
        "8400000"
       ]
      },
      {
       "output_type": "stream",
       "stream": "stdout",
       "text": [
        " 8.400%\n",
        "8600000"
       ]
      },
      {
       "output_type": "stream",
       "stream": "stdout",
       "text": [
        " 8.600%\n",
        "8800000"
       ]
      },
      {
       "output_type": "stream",
       "stream": "stdout",
       "text": [
        " 8.800%\n",
        "9000000"
       ]
      },
      {
       "output_type": "stream",
       "stream": "stdout",
       "text": [
        " 9.000%\n",
        "9200000"
       ]
      },
      {
       "output_type": "stream",
       "stream": "stdout",
       "text": [
        " 9.200%\n",
        "9400000"
       ]
      },
      {
       "output_type": "stream",
       "stream": "stdout",
       "text": [
        " 9.400%\n",
        "9600000"
       ]
      },
      {
       "output_type": "stream",
       "stream": "stdout",
       "text": [
        " 9.600%\n",
        "9800000"
       ]
      },
      {
       "output_type": "stream",
       "stream": "stdout",
       "text": [
        " 9.800%\n",
        "Used 900 elves and took 275700552 minutes in total."
       ]
      },
      {
       "output_type": "stream",
       "stream": "stdout",
       "text": [
        "\n",
        "Score: 1875730155.06\n"
       ]
      }
     ],
     "prompt_number": 37
    },
    {
     "cell_type": "markdown",
     "metadata": {},
     "source": [
      "The Sample Submission should give should give:\n",
      "   - 900 elves, 275700552 minutes\n",
      "   - 1875730155.0575209"
     ]
    },
    {
     "cell_type": "code",
     "collapsed": false,
     "input": [],
     "language": "python",
     "metadata": {},
     "outputs": []
    }
   ],
   "metadata": {}
  }
 ]
}