{
 "metadata": {
  "name": "",
  "signature": "sha256:96fee5e2fb686aa2e69f6b31af5aad205b4a84bad625dd9744a0a39f93301c2c"
 },
 "nbformat": 3,
 "nbformat_minor": 0,
 "worksheets": [
  {
   "cells": [
    {
     "cell_type": "markdown",
     "metadata": {},
     "source": [
      "Author: Matt Daws\n",
      "\n",
      "Generates random, bigger, test cases than original problem.\n",
      "\n",
      "Makes the assumption that the main code does not start with zero."
     ]
    },
    {
     "cell_type": "code",
     "collapsed": false,
     "input": [
      "import random\n",
      "codelen = 15\n",
      "numsubcodes = 30\n",
      "\n",
      "code = [ random.randint(1,9) ]\n",
      "for x in range(codelen-1):\n",
      "    code.append( random.randint(0,9) )\n",
      "print(code)\n",
      "\n",
      "subcodes = []\n",
      "for x in range(numsubcodes):\n",
      "    indices = sorted( random.sample(range(codelen),3) )\n",
      "    sc = \"\".join( [str(code[i]) for i in indices] )\n",
      "    subcodes.append( sc )\n",
      "print(subcodes)"
     ],
     "language": "python",
     "metadata": {},
     "outputs": [
      {
       "output_type": "stream",
       "stream": "stdout",
       "text": [
        "[1, 0, 2, 5, 4, 5, 6, 9, 8, 1, 4, 6, 5, 0, 4]\n",
        "['150', '024', '451', '904', '285', '580', '246', '258', '014', '254', '594', '581', '054', '144', '454', '245', '056', '468', '551', '014', '614', '104', '065', '464', '126', '695', '281', '129', '914', '556']\n"
       ]
      }
     ],
     "prompt_number": 45
    },
    {
     "cell_type": "code",
     "collapsed": false,
     "input": [
      "with open(\"newtest.txt\",\"w\") as f:\n",
      "    for x in subcodes:\n",
      "        f.write(x+\"\\n\")"
     ],
     "language": "python",
     "metadata": {},
     "outputs": [],
     "prompt_number": 46
    },
    {
     "cell_type": "code",
     "collapsed": false,
     "input": [],
     "language": "python",
     "metadata": {},
     "outputs": []
    }
   ],
   "metadata": {}
  }
 ]
}