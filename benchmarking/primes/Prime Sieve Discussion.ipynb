{
 "metadata": {
  "name": "",
  "signature": "sha256:60c9835277ac0c49668ef5ab5e7d14d98705e4c9054cab4db19bbaa32b46ca3b"
 },
 "nbformat": 3,
 "nbformat_minor": 0,
 "worksheets": [
  {
   "cells": [
    {
     "cell_type": "markdown",
     "metadata": {},
     "source": [
      "This is a summary of some discussion from last year; with particular thanks to Rob Sturman and [Bartosz Szczesny](http://bszcz.org/).\n",
      "\n",
      "  - We start by introducing the basic sieve, and implement it in a better way.\n",
      "  - We then draw some scatter plots\n",
      "  - Then we talk about improving the algorithm, and concurrancy"
     ]
    },
    {
     "cell_type": "markdown",
     "metadata": {},
     "source": [
      "Here is the idea behind [sieve of Eratosthenes](http://en.wikipedia.org/wiki/Generating_primes#Prime_sieves): write down the numbers 2 to n.  Then take the first prime, 2, and cross out all multiples of 2, so 4, 6, 8, 10, ...  Now look for the next non-crossed out numbers-- this will be the next prime, in our case 3.  Cross out 6, 9, 12, 15, ...  Now get come to 5, so cross out 10, 15, 20, ..."
     ]
    },
    {
     "cell_type": "code",
     "collapsed": false,
     "input": [
      "def classical_sieve(maxnum):\n",
      "    prime_list = list(range(2,maxnum+1))\n",
      "    for x in prime_list:\n",
      "        y = x+x\n",
      "        while y <= maxnum:\n",
      "            if y in prime_list: prime_list.remove(y)\n",
      "            y += x\n",
      "    return prime_list\n",
      "\n",
      "print(classical_sieve(100))\n",
      "%timeit(classical_sieve(10000))"
     ],
     "language": "python",
     "metadata": {},
     "outputs": [
      {
       "output_type": "stream",
       "stream": "stdout",
       "text": [
        "[2, 3, 5, 7, 11, 13, 17, 19, 23, 29, 31, 37, 41, 43, 47, 53, 59, 61, 67, 71, 73, 79, 83, 89, 97]\n",
        "1 loops, best of 3: 1.61 s per loop"
       ]
      },
      {
       "output_type": "stream",
       "stream": "stdout",
       "text": [
        "\n"
       ]
      }
     ],
     "prompt_number": 1
    },
    {
     "cell_type": "markdown",
     "metadata": {},
     "source": [
      "This version is rather slow, because of the calls `y in prime_list`, which walks the whole list checking, and `prime_list.remove(y)` which does the same!  The following is a more Pythonic way to do this, and is suitably quicker."
     ]
    },
    {
     "cell_type": "code",
     "collapsed": false,
     "input": [
      "def classical_sieve1(maxnum):\n",
      "    prime_list = list(range(2,maxnum+1))\n",
      "    for x in prime_list:\n",
      "        y = x+x\n",
      "        while y <= maxnum:\n",
      "            try:\n",
      "                prime_list.remove(y)\n",
      "            except ValueError:\n",
      "                pass # Skip case when y not in prime_list\n",
      "            y += x\n",
      "    return prime_list\n",
      "\n",
      "print(classical_sieve1(100))\n",
      "%timeit(classical_sieve1(10000))"
     ],
     "language": "python",
     "metadata": {},
     "outputs": [
      {
       "output_type": "stream",
       "stream": "stdout",
       "text": [
        "[2, 3, 5, 7, 11, 13, 17, 19, 23, 29, 31, 37, 41, 43, 47, 53, 59, 61, 67, 71, 73, 79, 83, 89, 97]\n",
        "1 loops, best of 3: 1.18 s per loop"
       ]
      },
      {
       "output_type": "stream",
       "stream": "stdout",
       "text": [
        "\n"
       ]
      }
     ],
     "prompt_number": 2
    },
    {
     "cell_type": "markdown",
     "metadata": {},
     "source": [
      "Instead, we start with a list of booleans, and simply change `True` to `False` as we go along."
     ]
    },
    {
     "cell_type": "code",
     "collapsed": false,
     "input": [
      "def bool_sieve(maxnum):\n",
      "    primes = [True]*maxnum\n",
      "    current_prime = 2\n",
      "    while current_prime <= maxnum:\n",
      "        x = current_prime * 2\n",
      "        while x <= maxnum:\n",
      "            primes[x-1] = False\n",
      "            x += current_prime\n",
      "        current_prime +=1\n",
      "        while current_prime <=maxnum and not primes[current_prime-1]:\n",
      "            current_prime +=1\n",
      "    prime_list = []\n",
      "    for n in range(1,maxnum):\n",
      "        if primes[n]:\n",
      "            prime_list.append(n+1)\n",
      "    return prime_list\n",
      "\n",
      "print(bool_sieve(100))\n",
      "%timeit(bool_sieve(10000))"
     ],
     "language": "python",
     "metadata": {},
     "outputs": [
      {
       "output_type": "stream",
       "stream": "stdout",
       "text": [
        "[2, 3, 5, 7, 11, 13, 17, 19, 23, 29, 31, 37, 41, 43, 47, 53, 59, 61, 67, 71, 73, 79, 83, 89, 97]\n",
        "100 loops, best of 3: 8.21 ms per loop"
       ]
      },
      {
       "output_type": "stream",
       "stream": "stdout",
       "text": [
        "\n"
       ]
      }
     ],
     "prompt_number": 3
    },
    {
     "cell_type": "markdown",
     "metadata": {},
     "source": [
      "Somewhat faster!  A more Pythonic version:"
     ]
    },
    {
     "cell_type": "code",
     "collapsed": false,
     "input": [
      "def bool_sieve1(maxnum):\n",
      "    primes = [True]*maxnum\n",
      "    current_prime = 2\n",
      "    while current_prime <= maxnum:\n",
      "        start = current_prime * 2\n",
      "        runlen = maxnum // current_prime \n",
      "        end = runlen * current_prime\n",
      "        primes[start-1:end:current_prime] = [False] * (runlen-1)\n",
      "        # Find next prime\n",
      "        current_prime +=1\n",
      "        while current_prime <=maxnum and not primes[current_prime-1]:\n",
      "            current_prime +=1\n",
      "    prime_list = []\n",
      "    for n in range(1,maxnum):\n",
      "        if primes[n]:\n",
      "            prime_list.append(n+1)\n",
      "    return prime_list\n",
      "\n",
      "print(bool_sieve1(100))\n",
      "%timeit(bool_sieve1(10000))"
     ],
     "language": "python",
     "metadata": {},
     "outputs": [
      {
       "output_type": "stream",
       "stream": "stdout",
       "text": [
        "[2, 3, 5, 7, 11, 13, 17, 19, 23, 29, 31, 37, 41, 43, 47, 53, 59, 61, 67, 71, 73, 79, 83, 89, 97]\n",
        "100 loops, best of 3: 4.63 ms per loop"
       ]
      },
      {
       "output_type": "stream",
       "stream": "stdout",
       "text": [
        "\n"
       ]
      }
     ],
     "prompt_number": 4
    },
    {
     "cell_type": "heading",
     "level": 1,
     "metadata": {},
     "source": [
      "Some scatter plots of time taken"
     ]
    },
    {
     "cell_type": "code",
     "collapsed": false,
     "input": [
      "%matplotlib inline\n",
      "import matplotlib.pyplot as plt\n",
      "import math\n",
      "import timeit\n",
      "\n",
      "def llscatter(start,reps,inc,loops,funcname):\n",
      "    times = {}\n",
      "    for x in range(loops):\n",
      "        cmd = funcname + \"(\" + str(start) + \")\"\n",
      "        cmd1 = \"from __main__ import \"+funcname\n",
      "        t = timeit.Timer(cmd,setup=cmd1)\n",
      "        times[start] = t.timeit(number=reps) / reps\n",
      "        start *= inc\n",
      "        reps = reps // inc\n",
      "        if reps<1 : reps=1\n",
      "    # Now draw\n",
      "    x = [math.log(a) for a in times.keys()]\n",
      "    y = [math.log(b) for b in times.values()]\n",
      "    plt.scatter(x,y)"
     ],
     "language": "python",
     "metadata": {},
     "outputs": [],
     "prompt_number": 5
    },
    {
     "cell_type": "code",
     "collapsed": false,
     "input": [
      "llscatter(10,1000,2,11,\"classical_sieve\")"
     ],
     "language": "python",
     "metadata": {},
     "outputs": [
      {
       "metadata": {},
       "output_type": "display_data",
       "png": "[encoded data removed]",
       "text": [
        "<matplotlib.figure.Figure at 0x62ac940>"
       ]
      }
     ],
     "prompt_number": 15
    },
    {
     "cell_type": "code",
     "collapsed": false,
     "input": [
      "llscatter(10,1000,2,11,\"classical_sieve1\")"
     ],
     "language": "python",
     "metadata": {},
     "outputs": [
      {
       "metadata": {},
       "output_type": "display_data",
       "png": "[encoded data removed]",
       "text": [
        "<matplotlib.figure.Figure at 0x39ac358>"
       ]
      }
     ],
     "prompt_number": 18
    },
    {
     "cell_type": "code",
     "collapsed": false,
     "input": [
      "llscatter(10,5000,5,8,\"bool_sieve\")"
     ],
     "language": "python",
     "metadata": {},
     "outputs": [
      {
       "metadata": {},
       "output_type": "display_data",
       "png": "[encoded data removed]",
       "text": [
        "<matplotlib.figure.Figure at 0x60e2438>"
       ]
      }
     ],
     "prompt_number": 19
    },
    {
     "cell_type": "code",
     "collapsed": false,
     "input": [
      "llscatter(10,20000,5,8,\"bool_sieve1\")"
     ],
     "language": "python",
     "metadata": {},
     "outputs": [
      {
       "metadata": {},
       "output_type": "display_data",
       "png": "[encoded data removed]",
       "text": [
        "<matplotlib.figure.Figure at 0x64e0c50>"
       ]
      }
     ],
     "prompt_number": 20
    },
    {
     "cell_type": "code",
     "collapsed": false,
     "input": [],
     "language": "python",
     "metadata": {},
     "outputs": []
    }
   ],
   "metadata": {}
  }
 ]
}