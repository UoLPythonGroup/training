{
 "metadata": {
  "name": "",
  "signature": "sha256:95320cd86cb9af55741d25e81f3a0f2b3d3be00601963a119fbd54210af63b85"
 },
 "nbformat": 3,
 "nbformat_minor": 0,
 "worksheets": [
  {
   "cells": [
    {
     "cell_type": "markdown",
     "metadata": {},
     "source": [
      "Yet again, Bartosz beats us to it (I blame an obsession with caches, see more later).\n",
      "\n",
      "Here's Bartosz's Python code:"
     ]
    },
    {
     "cell_type": "code",
     "collapsed": false,
     "input": [
      "def index(num):\n",
      "    return int((num / 2) - 1)\n",
      "\n",
      "def isprime(sieve, p): # Added by Matt\n",
      "    if p <= 1 or (p%2)==0: return False\n",
      "    return sieve[index(p)]\n",
      "\n",
      "def primes(maxnum):\n",
      "    p0 = 2\n",
      "    p1 = 3\n",
      "    step = 2\n",
      "\n",
      "    # calculate\n",
      "    isprime = [True] * int((maxnum - 1) / 2)\n",
      "    num = p1\n",
      "    while num <= maxnum:\n",
      "        rem = 3 * num\n",
      "        while rem <= maxnum:\n",
      "            isprime[index(rem)] = False\n",
      "            rem += 2 * num\n",
      "        num += step\n",
      "        while num <= maxnum and not isprime[index(num)]:\n",
      "            num += step\n",
      "    return isprime\n",
      "\n",
      "def print_primes(sieve, maxnum): # Refactored by Matt\n",
      "    p0 = 2\n",
      "    p1 = 3\n",
      "    step = 2\n",
      "    print(p0, end=\" \")\n",
      "    for p in range(p1, maxnum, step):\n",
      "        if sieve[index(p)]:\n",
      "            print(p, end=\" \")\n",
      "    print()"
     ],
     "language": "python",
     "metadata": {},
     "outputs": [],
     "prompt_number": 1
    },
    {
     "cell_type": "code",
     "collapsed": false,
     "input": [
      "sieve = primes(100)\n",
      "print_primes(sieve, 100)"
     ],
     "language": "python",
     "metadata": {},
     "outputs": [
      {
       "output_type": "stream",
       "stream": "stdout",
       "text": [
        "2 3 5 7 11 13 17 19 23 29 31 37 41 43 47 53 59 61 67 71 73 79 83 89 97 \n"
       ]
      }
     ],
     "prompt_number": 2
    },
    {
     "cell_type": "markdown",
     "metadata": {},
     "source": [
      "Bartosz got the following timings on his Xeon:\n",
      "\n",
      "$n$     |  $t_{\\text{C}}$ |  $t_{\\text{Python3}}$\n",
      "--- | --- | ---\n",
      "  1,000,000 | 0.006  |  1.2\n",
      "  3,000,000 | 0.02  |   3.7\n",
      " 10,000,000 | 0.07  |  12.\n",
      " 30,000,000 | 0.30 |   39.\n",
      "100,000,000 | 1.1  |  140.\n",
      "300,000,000 | 3.8  |  420.\n"
     ]
    },
    {
     "cell_type": "markdown",
     "metadata": {},
     "source": [
      "Here's the timings I get for Python 3 on my i5-3210m fixed at 2.5GHz using %timeit.  The C version is timed using a high resolution timer in the source code.\n",
      "\n",
      "$n$     |  $t_{\\text{C}}$ |  $t_{\\text{Python3}}$\n",
      "--- | --- | ---\n",
      "  1,000,000 |  3.91e-3  |  1.34\n",
      "  3,000,000 |  1.29e-2 |   4.18\n",
      " 10,000,000 | 6.58e-2  |  14.3\n",
      " 30,000,000 | 2.90e-1 | 44.6\n",
      "100,000,000 | 1.12  |  \n",
      "300,000,000 | 3.55  |  "
     ]
    },
    {
     "cell_type": "code",
     "collapsed": false,
     "input": [
      "%timeit(primes(30000000))"
     ],
     "language": "python",
     "metadata": {},
     "outputs": [
      {
       "output_type": "stream",
       "stream": "stdout",
       "text": [
        "1 loops, best of 3: 44.6 s per loop\n"
       ]
      }
     ],
     "prompt_number": 3
    },
    {
     "cell_type": "code",
     "collapsed": false,
     "input": [],
     "language": "python",
     "metadata": {},
     "outputs": []
    }
   ],
   "metadata": {}
  }
 ]
}