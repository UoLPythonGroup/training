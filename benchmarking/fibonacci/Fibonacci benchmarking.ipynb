{
 "metadata": {
  "name": "",
  "signature": "sha256:de27e9998fd8f8ddc4bd7fcc1536d13df91091360194d82081920965ad2083ba"
 },
 "nbformat": 3,
 "nbformat_minor": 0,
 "worksheets": [
  {
   "cells": [
    {
     "cell_type": "markdown",
     "metadata": {},
     "source": [
      "A little complement to Bartosz's python benchmark.\n",
      "\n",
      "For Bartosz, the sequence is 0,1,1,2,3,5,8,13,21,34.  So calling `python fibo.py 10` prints 34."
     ]
    },
    {
     "cell_type": "code",
     "collapsed": false,
     "input": [
      "def fibo(n):\n",
      "    old, new = 0, 1\n",
      "    for i in range(n - 2):\n",
      "        old, new = new, new + old\n",
      "    return new"
     ],
     "language": "python",
     "metadata": {},
     "outputs": [],
     "prompt_number": 2
    },
    {
     "cell_type": "code",
     "collapsed": false,
     "input": [
      "%timeit(fibo(187))"
     ],
     "language": "python",
     "metadata": {},
     "outputs": [
      {
       "output_type": "stream",
       "stream": "stdout",
       "text": [
        "10000 loops, best of 3: 19.4 \u00b5s per loop\n"
       ]
      }
     ],
     "prompt_number": 6
    },
    {
     "cell_type": "markdown",
     "metadata": {},
     "source": [
      "These are from my laptop, i5-3210m, fixed at 2.5GHz for this test.\n",
      "\n",
      "For C/C++ version, `fibo.cpp` was compiled with g++ 4.9.1, using GMP library with default build options.\n",
      "\n",
      "n    | `%timeit` returns  | Python | C | C++\n",
      "--- | --- | --- | --- | ---\n",
      "1000 | 141 $\\mu$s | 1.41e-4 | 2.35e-5 | 1.80e-5\n",
      "10000 | 3.07ms | 3.07e-3 | 5.73e-4 | 4.93e-4\n",
      "100000 | 180ms | 1.80e-1 | 4.00e-2 | 3.57e-2\n",
      "1000000 | 14.7s | 1.47e1 | 4.64 | 3.85\n",
      "2000000 | 58.2 | 5.82e1 | 22.5 | 16.4\n",
      "\n",
      "I was also curious how quick using machine-sized integers was; in C++\n",
      "\n",
      "n  |  Python  |  64-bit  |  128-bit | C GMP | C++ GMP\n",
      "--- | --- | --- | --- | --- | ---\n",
      "94 | 9.73e-6 | 9.81e-8 | 4.23e-7 | 2.55e-6 | 1.67e-6\n",
      "187 | 1.94e-5  |   | 7.24e-7 | 4.36e-6 | 3.04e-6"
     ]
    },
    {
     "cell_type": "code",
     "collapsed": false,
     "input": [],
     "language": "python",
     "metadata": {},
     "outputs": []
    }
   ],
   "metadata": {}
  }
 ]
}