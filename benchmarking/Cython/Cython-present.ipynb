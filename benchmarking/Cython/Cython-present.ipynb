{
 "metadata": {
  "name": "",
  "signature": "sha256:9707749d272831388038b37fe3b9acbece092fd34b17db8e67ebdea4211566f5"
 },
 "nbformat": 3,
 "nbformat_minor": 0,
 "worksheets": [
  {
   "cells": [
    {
     "cell_type": "heading",
     "level": 1,
     "metadata": {},
     "source": [
      "Cython - a basic introduction"
     ]
    },
    {
     "cell_type": "markdown",
     "metadata": {},
     "source": [
      "Today we will take a quick look at cython \"a programming language that makes writing C extensions for the Python language as easy as Python itself\". \n",
      "\n",
      "A good overview of the background to Cython can be found in Pauli Virtanen's tutorial at https://python.g-node.org/python-summerschool-2011/_media/materials/cython/cython-slides.pdf\n",
      "\n",
      "In particular, Cython aims to remove the overheads of:\n",
      "\n",
      "* Interpreting itself\n",
      "* Stuff is in boxes\n",
      "* Function calls cost more\n",
      "* Global interpreter lock\n",
      "\n",
      "without loosing the advantages of Python's ease of use. Cython works by defining a subset of the Python language which can be translated to C and compiled as an extension module. Once compiled, this module can be imported and used like any other module loaded into the cPython interpreter."
     ]
    },
    {
     "cell_type": "heading",
     "level": 2,
     "metadata": {},
     "source": [
      "Motiviating problem"
     ]
    },
    {
     "cell_type": "markdown",
     "metadata": {},
     "source": [
      "One of my interests relates to seismic anisotropy in rocks. The elastic and thus seismic anisotropy of a rock depends on the anisotropy and  orientation of each crystal in the rock. An large portion of the time spent by my programs involves taking the orientation of lots of crystals (either from experimental measurments or simulation, this is expressed as a rotation matrix, $g$) and rotating the 4th order elastic constants tensor of the crystal ($T$)to match the orientation of the crystal in the rock ($T^{\\prime}$):\n",
      "\n",
      "$$ T^{\\prime}_{ijkl} = \\sum_{m=1}^3\\sum_{n=1}^3\\sum_{o=1}^3\\sum_{p=1}^3 g_{im} g_{jn} g_{ko} g_{lp} T_{mnop}$$\n",
      "\n",
      "The element by element mean of the tensors is then a good estimate of the elastic constants of the rock.\n",
      "\n",
      "An uncomplicated implementation of the rotation involves eight nested loops - and we will look at speeding this up using Cython."
     ]
    },
    {
     "cell_type": "code",
     "collapsed": false,
     "input": [
      "import numpy as np\n",
      "\n",
      "# An example rank-4 tensor\n",
      "T = np.array([[[[  4.66533067e+01,  5.84985000e-02, -5.37671310e-01],\n",
      "                [  5.84985000e-02,  1.56722231e+01,  2.32831900e-02],\n",
      "                [ -5.37671310e-01,  2.32831900e-02,  1.33399259e+01]],\n",
      "               [[  4.60051700e-02,  1.54658176e+01,  2.19568200e-02],\n",
      "                [  1.54658176e+01, -5.18223500e-02, -1.52814920e-01],\n",
      "                [  2.19568200e-02, -1.52814920e-01, -2.43874100e-02]],\n",
      "               [[ -5.35577630e-01,  1.95558600e-02,  1.31108757e+01],\n",
      "                [  1.95558600e-02, -1.51342210e-01, -6.67615000e-03],\n",
      "                [  1.31108757e+01, -6.67615000e-03,  6.90486240e-01]]],\n",
      "              [[[  4.60051700e-02,  1.54658176e+01,  2.19568200e-02],\n",
      "                [  1.54658176e+01, -5.18223500e-02, -1.52814920e-01],\n",
      "                [  2.19568200e-02, -1.52814920e-01, -2.43874100e-02]],\n",
      "               [[  1.57414726e+01, -3.86167500e-02, -1.55971950e-01],\n",
      "                [ -3.86167500e-02,  4.65601977e+01, -3.57741000e-02],\n",
      "                [ -1.55971950e-01, -3.57741000e-02,  1.34215636e+01]],\n",
      "               [[  2.58256300e-02, -1.49072770e-01, -7.38843000e-03],\n",
      "                [ -1.49072770e-01, -3.63410500e-02,  1.32039847e+01],\n",
      "                [ -7.38843000e-03,  1.32039847e+01,  1.38172700e-02]]],\n",
      "              [[[ -5.35577630e-01,  1.95558600e-02,  1.31108757e+01],\n",
      "                [  1.95558600e-02, -1.51342210e-01, -6.67615000e-03],\n",
      "                [  1.31108757e+01, -6.67615000e-03,  6.90486240e-01]],\n",
      "               [[  2.58256300e-02, -1.49072770e-01, -7.38843000e-03],\n",
      "                [ -1.49072770e-01, -3.63410500e-02,  1.32039847e+01],\n",
      "                [ -7.38843000e-03,  1.32039847e+01,  1.38172700e-02]],\n",
      "               [[  1.33639532e+01, -1.26331100e-02,  6.84650400e-01],\n",
      "                [ -1.26331100e-02,  1.34222177e+01,  1.67851800e-02],\n",
      "                [  6.84650400e-01,  1.67851800e-02,  4.89151396e+01]]]])\n",
      "\n",
      "# An example rotation matrix\n",
      "g = np.array([[ 0.79389393,  0.54184237,  0.27593346],\n",
      "              [-0.59925749,  0.62028664,  0.50609776],\n",
      "              [ 0.10306737, -0.56714313,  0.8171449 ]])\n"
     ],
     "language": "python",
     "metadata": {},
     "outputs": []
    },
    {
     "cell_type": "code",
     "collapsed": false,
     "input": [
      "def rotT(T, g):\n",
      "    Tprime = np.zeros((3,3,3,3))\n",
      "    for i in range(3):\n",
      "        for j in range(3):\n",
      "            for k in range(3):\n",
      "                for l in range(3):\n",
      "                    for ii in range(3):\n",
      "                        for jj in range(3):\n",
      "                            for kk in range(3):\n",
      "                                for ll in range(3):\n",
      "                                    gg = g[ii,i]*g[jj,j]*g[kk,k]*g[ll,l]\n",
      "                                    Tprime[i,j,k,l] = Tprime[i,j,k,l] + \\\n",
      "                                         gg*T[ii,jj,kk,ll]\n",
      "    return Tprime\n"
     ],
     "language": "python",
     "metadata": {},
     "outputs": []
    },
    {
     "cell_type": "code",
     "collapsed": false,
     "input": [
      "%timeit rotT(T, g)"
     ],
     "language": "python",
     "metadata": {},
     "outputs": []
    },
    {
     "cell_type": "heading",
     "level": 2,
     "metadata": {},
     "source": [
      "Cython in an IPython notebook"
     ]
    },
    {
     "cell_type": "code",
     "collapsed": false,
     "input": [
      "%load_ext cythonmagic"
     ],
     "language": "python",
     "metadata": {},
     "outputs": []
    },
    {
     "cell_type": "code",
     "collapsed": false,
     "input": [
      "%%cython --include=\"/Applications/Canopy.app/appdata/canopy-1.4.0.1938.macosx-x86_64/Canopy.app/Contents/lib/python2.7/site-packages/numpy/core/include/\"\n",
      "import numpy as np\n",
      "cimport numpy as np\n",
      "\n",
      "def rotT(T, g):\n",
      "# Add the function body!\n"
     ],
     "language": "python",
     "metadata": {},
     "outputs": []
    },
    {
     "cell_type": "code",
     "collapsed": false,
     "input": [
      "%timeit rotT(T, g)"
     ],
     "language": "python",
     "metadata": {},
     "outputs": []
    },
    {
     "cell_type": "code",
     "collapsed": false,
     "input": [
      "%%cython --include=\"/Applications/Canopy.app/appdata/canopy-1.4.0.1938.macosx-x86_64/Canopy.app/Contents/lib/python2.7/site-packages/numpy/core/include/\"\n",
      "import numpy as np\n",
      "cimport numpy as np\n",
      "\n",
      "def rotT(T, g):\n",
      "# Add the function body and static types\n"
     ],
     "language": "python",
     "metadata": {},
     "outputs": []
    },
    {
     "cell_type": "code",
     "collapsed": false,
     "input": [
      "%timeit rotT(T, g)"
     ],
     "language": "python",
     "metadata": {},
     "outputs": []
    },
    {
     "cell_type": "code",
     "collapsed": false,
     "input": [
      "%%cython --include=\"/Applications/Canopy.app/appdata/canopy-1.4.0.1938.macosx-x86_64/Canopy.app/Contents/lib/python2.7/site-packages/numpy/core/include/\"\n",
      "cimport cython\n",
      "import numpy as np\n",
      "cimport numpy as np\n",
      "\n",
      "def rotT(T, g):\n",
      "# Add the function body, static types and compiler hints\n"
     ],
     "language": "python",
     "metadata": {},
     "outputs": []
    },
    {
     "cell_type": "code",
     "collapsed": false,
     "input": [
      "%timeit rotT(T, g)"
     ],
     "language": "python",
     "metadata": {},
     "outputs": []
    },
    {
     "cell_type": "code",
     "collapsed": false,
     "input": [],
     "language": "python",
     "metadata": {},
     "outputs": []
    }
   ],
   "metadata": {}
  }
 ]
}