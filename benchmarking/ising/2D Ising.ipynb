{
 "metadata": {
  "name": "",
  "signature": "sha256:032b156626e60a7b9a4363bc3a09016b1aece131788ca9affd45b46ab0bc5133"
 },
 "nbformat": 3,
 "nbformat_minor": 0,
 "worksheets": [
  {
   "cells": [
    {
     "cell_type": "code",
     "collapsed": false,
     "input": [
      "%matplotlib inline\n",
      "import matplotlib.pyplot as plt\n",
      "import numpy as np"
     ],
     "language": "python",
     "metadata": {},
     "outputs": [],
     "prompt_number": 1
    },
    {
     "cell_type": "code",
     "collapsed": false,
     "input": [
      "import random\n",
      "\n",
      "class TwoDIsing:\n",
      "    \"\"\"Simulate 2D Ising at zero temperature.\"\"\"\n",
      "    def __init__(self,L):\n",
      "        self.length = L\n",
      "        self.lattice = np.zeros((L,L))\n",
      "        for n in range(self.length):\n",
      "            for m in range(self.length):\n",
      "                self.lattice[n,m] = random.randint(0,1)\n",
      "    def state(self,i,j):\n",
      "        if i < 0: i += self.length\n",
      "        if i >= self.length: i -= self.length\n",
      "        if j < 0: j += self.length\n",
      "        if j >= self.length: j -= self.length\n",
      "        return self.lattice[i,j]\n",
      "    def get_neighbours(self,i,j):\n",
      "        \"\"\"Returns number of neighbours equal to vertex at (i,j).\"\"\"\n",
      "        count = 0\n",
      "        if self.lattice[i,j] == self.state(i-1,j): count += 1\n",
      "        if self.lattice[i,j] == self.state(i+1,j): count += 1\n",
      "        if self.lattice[i,j] == self.state(i,j-1): count += 1\n",
      "        if self.lattice[i,j] == self.state(i,j+1): count += 1\n",
      "        return count\n",
      "    def update(self):\n",
      "        i = random.randint(0,self.length-1)\n",
      "        j = random.randint(0,self.length-1)\n",
      "        count = self.get_neighbours(i,j)\n",
      "        #print(\"TwoDIsing::update --> \",i,j,\" --> \",count)\n",
      "        if count < 2 or ( count==2 and random.randint(0,1)==0 ):\n",
      "            self.lattice[i,j] = 1 - self.lattice[i,j]\n",
      "    def changable_count(self):\n",
      "        count = 0\n",
      "        for n in range(self.length):\n",
      "            for m in range(self.length):\n",
      "                if self.get_neighbours(n,m) <= 2: count+=1\n",
      "        return count"
     ],
     "language": "python",
     "metadata": {},
     "outputs": [],
     "prompt_number": 2
    },
    {
     "cell_type": "code",
     "collapsed": false,
     "input": [
      "lat = TwoDIsing(50)\n",
      "plt.imshow(lat.lattice,interpolation=\"none\", cmap=\"bone\")"
     ],
     "language": "python",
     "metadata": {},
     "outputs": [
      {
       "metadata": {},
       "output_type": "pyout",
       "prompt_number": 3,
       "text": [
        "<matplotlib.image.AxesImage at 0x6db25c0>"
       ]
      },
      {
       "metadata": {},
       "output_type": "display_data",
       "png": "[encoded data removed]",
       "text": [
        "<matplotlib.figure.Figure at 0x6d45898>"
       ]
      }
     ],
     "prompt_number": 3
    },
    {
     "cell_type": "code",
     "collapsed": false,
     "input": [
      "for n in range(5000):\n",
      "    lat.update()\n",
      "print(lat.changable_count())\n",
      "plt.imshow(lat.lattice,interpolation=\"none\", cmap=\"bone\")"
     ],
     "language": "python",
     "metadata": {},
     "outputs": [
      {
       "output_type": "stream",
       "stream": "stdout",
       "text": [
        "604\n"
       ]
      },
      {
       "metadata": {},
       "output_type": "pyout",
       "prompt_number": 4,
       "text": [
        "<matplotlib.image.AxesImage at 0x7049a20>"
       ]
      },
      {
       "metadata": {},
       "output_type": "display_data",
       "png": "[encoded data removed]",
       "text": [
        "<matplotlib.figure.Figure at 0x6d7f5c0>"
       ]
      }
     ],
     "prompt_number": 4
    },
    {
     "cell_type": "code",
     "collapsed": false,
     "input": [
      "for n in range(5000):\n",
      "    lat.update()\n",
      "print(lat.changable_count())\n",
      "plt.imshow(lat.lattice,interpolation=\"none\", cmap=\"bone\")    "
     ],
     "language": "python",
     "metadata": {},
     "outputs": [
      {
       "output_type": "stream",
       "stream": "stdout",
       "text": [
        "382\n"
       ]
      },
      {
       "metadata": {},
       "output_type": "pyout",
       "prompt_number": 5,
       "text": [
        "<matplotlib.image.AxesImage at 0x70b12e8>"
       ]
      },
      {
       "metadata": {},
       "output_type": "display_data",
       "png": "[encoded data removed]",
       "text": [
        "<matplotlib.figure.Figure at 0x7021e80>"
       ]
      }
     ],
     "prompt_number": 5
    },
    {
     "cell_type": "code",
     "collapsed": false,
     "input": [
      "for n in range(5000):\n",
      "    lat.update()\n",
      "print(lat.changable_count())\n",
      "plt.imshow(lat.lattice,interpolation=\"none\", cmap=\"bone\")    "
     ],
     "language": "python",
     "metadata": {},
     "outputs": [
      {
       "output_type": "stream",
       "stream": "stdout",
       "text": [
        "296\n"
       ]
      },
      {
       "metadata": {},
       "output_type": "pyout",
       "prompt_number": 6,
       "text": [
        "<matplotlib.image.AxesImage at 0x7112320>"
       ]
      },
      {
       "metadata": {},
       "output_type": "display_data",
       "png": "[encoded data removed]",
       "text": [
        "<matplotlib.figure.Figure at 0x70859b0>"
       ]
      }
     ],
     "prompt_number": 6
    },
    {
     "cell_type": "code",
     "collapsed": false,
     "input": [
      "for n in range(100000):\n",
      "    lat.update()\n",
      "print(100*lat.changable_count()/2500,\"%\")\n",
      "plt.imshow(lat.lattice,interpolation=\"none\", cmap=\"bone\")    "
     ],
     "language": "python",
     "metadata": {},
     "outputs": [
      {
       "output_type": "stream",
       "stream": "stdout",
       "text": [
        "1.8 %\n"
       ]
      },
      {
       "metadata": {},
       "output_type": "pyout",
       "prompt_number": 13,
       "text": [
        "<matplotlib.image.AxesImage at 0x739fcc0>"
       ]
      },
      {
       "metadata": {},
       "output_type": "display_data",
       "png": "[encoded data removed]",
       "text": [
        "<matplotlib.figure.Figure at 0x731e9e8>"
       ]
      }
     ],
     "prompt_number": 13
    },
    {
     "cell_type": "code",
     "collapsed": false,
     "input": [
      "def changable_count_plot(L,skip,len):\n",
      "    lat = TwoDIsing(L)\n",
      "    x = []\n",
      "    y = []\n",
      "    for n in range(len):\n",
      "        x.append(n*skip)\n",
      "        y.append(lat.changable_count())\n",
      "        for k in range(skip):\n",
      "            lat.update()\n",
      "\n",
      "    plt.plot(x,y)\n",
      "    plt.xlabel(\"Iterations\")\n",
      "    plt.ylabel(\"Changable sites\")\n",
      "    \n",
      "changable_count_plot(16,100,200)"
     ],
     "language": "python",
     "metadata": {},
     "outputs": [
      {
       "metadata": {},
       "output_type": "display_data",
       "png": "[encoded data removed]",
       "text": [
        "<matplotlib.figure.Figure at 0xb47d4a8>"
       ]
      }
     ],
     "prompt_number": 97
    },
    {
     "cell_type": "code",
     "collapsed": false,
     "input": [
      "changable_count_plot(32,500,200)"
     ],
     "language": "python",
     "metadata": {},
     "outputs": [
      {
       "metadata": {},
       "output_type": "display_data",
       "png": "[encoded data removed]",
       "text": [
        "<matplotlib.figure.Figure at 0xb5335f8>"
       ]
      }
     ],
     "prompt_number": 99
    },
    {
     "cell_type": "code",
     "collapsed": false,
     "input": [
      "changable_count_plot(64,1000,200)"
     ],
     "language": "python",
     "metadata": {},
     "outputs": [
      {
       "metadata": {},
       "output_type": "display_data",
       "png": "[encoded data removed]",
       "text": [
        "<matplotlib.figure.Figure at 0xb598940>"
       ]
      }
     ],
     "prompt_number": 100
    },
    {
     "cell_type": "heading",
     "level": 1,
     "metadata": {},
     "source": [
      "Finally, some silly timing"
     ]
    },
    {
     "cell_type": "code",
     "collapsed": false,
     "input": [
      "import timeit\n",
      "\n",
      "for k in range(5):\n",
      "    lat = TwoDIsing(50)\n",
      "    t = timeit.Timer('lat.update()',setup=\"from __main__ import lat\")\n",
      "    print( t.timeit(number=1000000) )"
     ],
     "language": "python",
     "metadata": {},
     "outputs": [
      {
       "output_type": "stream",
       "stream": "stdout",
       "text": [
        "12.17392466287377\n",
        "12.180668624281957"
       ]
      },
      {
       "output_type": "stream",
       "stream": "stdout",
       "text": [
        "\n",
        "12.855697370684297"
       ]
      },
      {
       "output_type": "stream",
       "stream": "stdout",
       "text": [
        "\n",
        "12.613663952196205"
       ]
      },
      {
       "output_type": "stream",
       "stream": "stdout",
       "text": [
        "\n",
        "12.301559920803193"
       ]
      },
      {
       "output_type": "stream",
       "stream": "stdout",
       "text": [
        "\n"
       ]
      }
     ],
     "prompt_number": 15
    },
    {
     "cell_type": "markdown",
     "metadata": {},
     "source": [
      "By comparison, unoptimised C++ does this in around 0.16 seconds, and optimised, in 0.043 seconds."
     ]
    },
    {
     "cell_type": "code",
     "collapsed": false,
     "input": [],
     "language": "python",
     "metadata": {},
     "outputs": []
    }
   ],
   "metadata": {}
  }
 ]
}