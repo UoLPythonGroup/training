{
 "metadata": {
  "name": "",
  "signature": "sha256:0e672fa768d7f85a885c91166dbe7b97da188a63db10ee196f1220106f54635b"
 },
 "nbformat": 3,
 "nbformat_minor": 0,
 "worksheets": [
  {
   "cells": [
    {
     "cell_type": "markdown",
     "metadata": {},
     "source": [
      "# Introduction\n",
      "\n",
      "This document describes some details about Numpy views (as in \"a submatrix is a view\") following on from our discussion on 16 July: what are views, how do they differ from copies, why is this important, and how are they implemented? I tried to organize it from less to more advanced.\n",
      "\n",
      "The first command below makes the Python 3 syntax for `print` available in Python 2, i.e., we will write `print(a,b)` instead of `print a,b`. Hopefully, this means that the notebook runs in both Python 2 and Python 3."
     ]
    },
    {
     "cell_type": "code",
     "collapsed": false,
     "input": [
      "from __future__ import print_function\n",
      "import numpy"
     ],
     "language": "python",
     "metadata": {},
     "outputs": [],
     "prompt_number": 1
    },
    {
     "cell_type": "markdown",
     "metadata": {},
     "source": [
      "# A submatrix is a view\n",
      "\n",
      "We start by defining a small test matrix with five rows and columns. The matrix is filled with zeros, but the contents are actually not that important."
     ]
    },
    {
     "cell_type": "code",
     "collapsed": false,
     "input": [
      "test_matrix = numpy.zeros((5,5))"
     ],
     "language": "python",
     "metadata": {},
     "outputs": [],
     "prompt_number": 2
    },
    {
     "cell_type": "markdown",
     "metadata": {},
     "source": [
      "We can refer to the 3-by-3 submatrix in the middle as follows (this is what we did in the game of life):"
     ]
    },
    {
     "cell_type": "code",
     "collapsed": false,
     "input": [
      "submatrix = test_matrix[1:-1, 1:-1]"
     ],
     "language": "python",
     "metadata": {},
     "outputs": [],
     "prompt_number": 3
    },
    {
     "cell_type": "markdown",
     "metadata": {},
     "source": [
      "This command makes a \"view\", not a \"copy\". You can think of the submatrix as a window (or a view) on the bigger, original matrix. The submatrix does not exist independently of the bigger matrix. This has two consequences. Firstly, if you change the submatrix, the original matrix changes as well, as illustrated below."
     ]
    },
    {
     "cell_type": "code",
     "collapsed": false,
     "input": [
      "submatrix[2,0] = 5\n",
      "print(test_matrix)"
     ],
     "language": "python",
     "metadata": {},
     "outputs": [
      {
       "output_type": "stream",
       "stream": "stdout",
       "text": [
        "[[ 0.  0.  0.  0.  0.]\n",
        " [ 0.  0.  0.  0.  0.]\n",
        " [ 0.  0.  0.  0.  0.]\n",
        " [ 0.  5.  0.  0.  0.]\n",
        " [ 0.  0.  0.  0.  0.]]\n"
       ]
      }
     ],
     "prompt_number": 4
    },
    {
     "cell_type": "markdown",
     "metadata": {},
     "source": [
      "Conversely, if we change the big matrix, then this propagates to the submatrix."
     ]
    },
    {
     "cell_type": "code",
     "collapsed": false,
     "input": [
      "test_matrix[1,3] = 13\n",
      "print(submatrix)"
     ],
     "language": "python",
     "metadata": {},
     "outputs": [
      {
       "output_type": "stream",
       "stream": "stdout",
       "text": [
        "[[  0.   0.  13.]\n",
        " [  0.   0.   0.]\n",
        " [  5.   0.   0.]]\n"
       ]
      }
     ],
     "prompt_number": 5
    },
    {
     "cell_type": "markdown",
     "metadata": {},
     "source": [
      "However, if `test_matrix` is _replaced_ instead of _changed_, then the connection between `submatrix` and `test_matrix` is broken: `submatrix` is now a view to the old value of `test_matrix`."
     ]
    },
    {
     "cell_type": "code",
     "collapsed": false,
     "input": [
      "test_matrix = numpy.eye(6)  # identity matrix of size 6\n",
      "print(test_matrix)\n",
      "print(submatrix)"
     ],
     "language": "python",
     "metadata": {},
     "outputs": [
      {
       "output_type": "stream",
       "stream": "stdout",
       "text": [
        "[[ 1.  0.  0.  0.  0.  0.]\n",
        " [ 0.  1.  0.  0.  0.  0.]\n",
        " [ 0.  0.  1.  0.  0.  0.]\n",
        " [ 0.  0.  0.  1.  0.  0.]\n",
        " [ 0.  0.  0.  0.  1.  0.]\n",
        " [ 0.  0.  0.  0.  0.  1.]]\n",
        "[[  0.   0.  13.]\n",
        " [  0.   0.   0.]\n",
        " [  5.   0.   0.]]\n"
       ]
      }
     ],
     "prompt_number": 6
    },
    {
     "cell_type": "markdown",
     "metadata": {},
     "source": [
      "The second consequence of the fact that a submatrix is a view and not a copy is that creating a submatrix is fast."
     ]
    },
    {
     "cell_type": "code",
     "collapsed": false,
     "input": [
      "test_matrix = numpy.zeros((5,5))\n",
      "%timeit submatrix = test_matrix[1:-1, 1:-1]"
     ],
     "language": "python",
     "metadata": {},
     "outputs": [
      {
       "output_type": "stream",
       "stream": "stdout",
       "text": [
        "1000000 loops, best of 3: 1.29 \u00b5s per loop\n"
       ]
      }
     ],
     "prompt_number": 7
    },
    {
     "cell_type": "markdown",
     "metadata": {},
     "source": [
      "It is not only fast for the small test matrix we used above, but also for big matrices. In fact, it does not how big the original matrix and the submatrix is."
     ]
    },
    {
     "cell_type": "code",
     "collapsed": false,
     "input": [
      "big_matrix = numpy.random.randn(1000, 1000)  # random matrix using standard normal distribution\n",
      "%timeit submatrix = big_matrix[100:900, 200:900]"
     ],
     "language": "python",
     "metadata": {},
     "outputs": [
      {
       "output_type": "stream",
       "stream": "stdout",
       "text": [
        "1000000 loops, best of 3: 1.29 \u00b5s per loop\n"
       ]
      }
     ],
     "prompt_number": 8
    },
    {
     "cell_type": "markdown",
     "metadata": {},
     "source": [
      "# Copies of submatrices\n",
      "\n",
      "If we want a copy of a submatrix, then we need to indicate this explicitly."
     ]
    },
    {
     "cell_type": "code",
     "collapsed": false,
     "input": [
      "test_matrix = numpy.zeros((5,5))\n",
      "submatrix_copy = test_matrix[1:-1, 1:-1].copy()"
     ],
     "language": "python",
     "metadata": {},
     "outputs": [],
     "prompt_number": 9
    },
    {
     "cell_type": "markdown",
     "metadata": {},
     "source": [
      "Since it is a copy, `submatrix_copy` is not coupled to `test_matrix`, so changing one does not change the other."
     ]
    },
    {
     "cell_type": "code",
     "collapsed": false,
     "input": [
      "submatrix_copy[2,0] = 5\n",
      "print(test_matrix)"
     ],
     "language": "python",
     "metadata": {},
     "outputs": [
      {
       "output_type": "stream",
       "stream": "stdout",
       "text": [
        "[[ 0.  0.  0.  0.  0.]\n",
        " [ 0.  0.  0.  0.  0.]\n",
        " [ 0.  0.  0.  0.  0.]\n",
        " [ 0.  0.  0.  0.  0.]\n",
        " [ 0.  0.  0.  0.  0.]]\n"
       ]
      }
     ],
     "prompt_number": 10
    },
    {
     "cell_type": "markdown",
     "metadata": {},
     "source": [
      "Creating a copy take longer than creating a view, especially for large matrix. Compare these timings with the ones using views above."
     ]
    },
    {
     "cell_type": "code",
     "collapsed": false,
     "input": [
      "test_matrix = numpy.zeros((5,5))\n",
      "%timeit submatrix_copy = test_matrix[1:-1, 1:-1].copy()"
     ],
     "language": "python",
     "metadata": {},
     "outputs": [
      {
       "output_type": "stream",
       "stream": "stdout",
       "text": [
        "100000 loops, best of 3: 2.44 \u00b5s per loop\n"
       ]
      }
     ],
     "prompt_number": 11
    },
    {
     "cell_type": "code",
     "collapsed": false,
     "input": [
      "big_matrix = numpy.random.randn(1000, 1000)  # random matrix using standard normal distribution\n",
      "%timeit submatrix_copy = big_matrix[100:900, 200:900].copy()"
     ],
     "language": "python",
     "metadata": {},
     "outputs": [
      {
       "output_type": "stream",
       "stream": "stdout",
       "text": [
        "1000 loops, best of 3: 1.55 ms per loop\n"
       ]
      }
     ],
     "prompt_number": 12
    },
    {
     "cell_type": "markdown",
     "metadata": {},
     "source": [
      "# Comparison with lists\n",
      "\n",
      "Something similar happens with lists. If you assign a variable containing a list to another variable, then both variables will be a view to the same list. This means that if you then change the list via one variable, the value of the other variable will also change (it also means that the assignment is fast because there is no copy involved)."
     ]
    },
    {
     "cell_type": "code",
     "collapsed": false,
     "input": [
      "list1 = [3,7,10,5]\n",
      "list2 = list1      # both variables refer to the same list\n",
      "list1[1] = 1000    # so if we change one of the variables\n",
      "print(list2)       # it will show up in the other"
     ],
     "language": "python",
     "metadata": {},
     "outputs": [
      {
       "output_type": "stream",
       "stream": "stdout",
       "text": [
        "[3, 1000, 10, 5]\n"
       ]
      }
     ],
     "prompt_number": 13
    },
    {
     "cell_type": "markdown",
     "metadata": {},
     "source": [
      "If you want to make a copy, you need to say this explicitly. Unfortunately, there is no `copy()` function defined for lists. You can either write `list1_copy = list1[:]` (which in my opinion looks rather mysterious) or `list1_copy = list(list1)`. This is an expensive operation, especially for big lists."
     ]
    },
    {
     "cell_type": "code",
     "collapsed": false,
     "input": [
      "list1 = [3,7,10,5]\n",
      "list1_copy = list1[:]"
     ],
     "language": "python",
     "metadata": {},
     "outputs": [],
     "prompt_number": 14
    },
    {
     "cell_type": "markdown",
     "metadata": {},
     "source": [
      "Now, the original and the copy are decoupled, so if you change one it will not show up in the other."
     ]
    },
    {
     "cell_type": "code",
     "collapsed": false,
     "input": [
      "list1[1] = 1000\n",
      "print(list1_copy)"
     ],
     "language": "python",
     "metadata": {},
     "outputs": [
      {
       "output_type": "stream",
       "stream": "stdout",
       "text": [
        "[3, 7, 10, 5]\n"
       ]
      }
     ],
     "prompt_number": 15
    },
    {
     "cell_type": "markdown",
     "metadata": {},
     "source": [
      "Where lists and numpy arrays differ is that if you construct a \"sublist\" (a slice of a list), Python makes a copy of the sublist. The sublist and the original list are decoupled and changes from one do not propagate to the other."
     ]
    },
    {
     "cell_type": "code",
     "collapsed": false,
     "input": [
      "list1 = [3,7,10,5]\n",
      "sublist = list1[:-1]\n",
      "print('sublist before change in list1: {}'.format(sublist))\n",
      "list1[1] = 1000\n",
      "print('sublist after change in list1:  {}'.format(sublist))"
     ],
     "language": "python",
     "metadata": {},
     "outputs": [
      {
       "output_type": "stream",
       "stream": "stdout",
       "text": [
        "sublist before change in list1: [3, 7, 10]\n",
        "sublist after change in list1:  [3, 7, 10]\n"
       ]
      }
     ],
     "prompt_number": 16
    },
    {
     "cell_type": "markdown",
     "metadata": {},
     "source": [
      "This is the reason why `list1_copy = list1[:]` makes a copy: it is a slice (though a rather boring one)."
     ]
    },
    {
     "cell_type": "markdown",
     "metadata": {},
     "source": [
      "# The ravel() function\n",
      "\n",
      "The `ravel()` function, applied to a 2-dimensional array, produces a view to the 2-dimensional array considered as a 1-dimensional array (a vector) by putting all the rows one after another. This operation is sometimes denoted $\\operatorname{vec}(A)$ in mathematics (except that the latter acts on columns instead of rows)."
     ]
    },
    {
     "cell_type": "code",
     "collapsed": false,
     "input": [
      "test_matrix = numpy.array([[1,2,3,4], [11,12,13,14], [21,22,23,24]])\n",
      "print(test_matrix)\n",
      "test_matrix_ravel = test_matrix.ravel()\n",
      "print(test_matrix_ravel)"
     ],
     "language": "python",
     "metadata": {},
     "outputs": [
      {
       "output_type": "stream",
       "stream": "stdout",
       "text": [
        "[[ 1  2  3  4]\n",
        " [11 12 13 14]\n",
        " [21 22 23 24]]\n",
        "[ 1  2  3  4 11 12 13 14 21 22 23 24]\n"
       ]
      }
     ],
     "prompt_number": 17
    },
    {
     "cell_type": "markdown",
     "metadata": {},
     "source": [
      "As I said, `ravel()` produces a 'view', so changes to `test_matrix_ravel` propagate to the original matrix:"
     ]
    },
    {
     "cell_type": "code",
     "collapsed": false,
     "input": [
      "test_matrix_ravel[5] = 1000\n",
      "print(test_matrix)"
     ],
     "language": "python",
     "metadata": {},
     "outputs": [
      {
       "output_type": "stream",
       "stream": "stdout",
       "text": [
        "[[   1    2    3    4]\n",
        " [  11 1000   13   14]\n",
        " [  21   22   23   24]]\n"
       ]
      }
     ],
     "prompt_number": 18
    },
    {
     "cell_type": "markdown",
     "metadata": {},
     "source": [
      "Similarly (and perhaps more importantly for us), when you take the transpose or the diagonal of a matrix, the entries are not copied but you get a view into the original matrix, so these are fast operations.\n",
      "\n",
      "However, as we discovered during the \"game of life\" session, when you ravel a submatrix, you get a copy and not a view. Changing the ravel of a submatrix does 'not' change the original matrix."
     ]
    },
    {
     "cell_type": "code",
     "collapsed": false,
     "input": [
      "test_matrix = numpy.array([[1,2,3,4], [11,12,13,14], [21,22,23,24]])\n",
      "submatrix = test_matrix[:-1, :-1]\n",
      "submatrix_ravel = submatrix.ravel()\n",
      "submatrix_ravel[3] = 1000\n",
      "print(test_matrix)"
     ],
     "language": "python",
     "metadata": {},
     "outputs": [
      {
       "output_type": "stream",
       "stream": "stdout",
       "text": [
        "[[ 1  2  3  4]\n",
        " [11 12 13 14]\n",
        " [21 22 23 24]]\n"
       ]
      }
     ],
     "prompt_number": 19
    },
    {
     "cell_type": "markdown",
     "metadata": {},
     "source": [
      "# Distinguishing copies and views\n",
      "\n",
      "Here we start to dive deeper into Python in order to understand the difference between copies and views.\n",
      "\n",
      "The `is` operator in Python tests whether two variables refer to the same object, so that changing the underlying object in one variable will change the other variable. I'll start by looking at Python lists and then move to numpy arrays. As explained above, if you assign a variable containing one list to another variable, both variables refer to the same lists, so the `is` test returns `True`."
     ]
    },
    {
     "cell_type": "code",
     "collapsed": false,
     "input": [
      "list1 = [3,7,10,5]\n",
      "list2 = list1 \n",
      "print(list1 is list2)"
     ],
     "language": "python",
     "metadata": {},
     "outputs": [
      {
       "output_type": "stream",
       "stream": "stdout",
       "text": [
        "True\n"
       ]
      }
     ],
     "prompt_number": 20
    },
    {
     "cell_type": "markdown",
     "metadata": {},
     "source": [
      "In contrast, if you copy the list, the `is` test return `False`."
     ]
    },
    {
     "cell_type": "code",
     "collapsed": false,
     "input": [
      "list1 = [3,7,10,5]\n",
      "list1_copy = list(list1)\n",
      "print(list1_copy is list1)"
     ],
     "language": "python",
     "metadata": {},
     "outputs": [
      {
       "output_type": "stream",
       "stream": "stdout",
       "text": [
        "False\n"
       ]
      }
     ],
     "prompt_number": 21
    },
    {
     "cell_type": "markdown",
     "metadata": {},
     "source": [
      "Now back to numpy. Every numpy array has a `base` attribute. For views, the `base` point to the original array that the view is derived from."
     ]
    },
    {
     "cell_type": "code",
     "collapsed": false,
     "input": [
      "test_matrix = numpy.zeros((5,5))\n",
      "submatrix = test_matrix[1:-1, 1:-1]\n",
      "print(submatrix.base)"
     ],
     "language": "python",
     "metadata": {},
     "outputs": [
      {
       "output_type": "stream",
       "stream": "stdout",
       "text": [
        "[[ 0.  0.  0.  0.  0.]\n",
        " [ 0.  0.  0.  0.  0.]\n",
        " [ 0.  0.  0.  0.  0.]\n",
        " [ 0.  0.  0.  0.  0.]\n",
        " [ 0.  0.  0.  0.  0.]]\n"
       ]
      }
     ],
     "prompt_number": 22
    },
    {
     "cell_type": "markdown",
     "metadata": {},
     "source": [
      "We can use the `is` test to make sure that this is really the same matrix, not just another matrix which also happens to be filled with zeros."
     ]
    },
    {
     "cell_type": "code",
     "collapsed": false,
     "input": [
      "print(submatrix.base is test_matrix)"
     ],
     "language": "python",
     "metadata": {},
     "outputs": [
      {
       "output_type": "stream",
       "stream": "stdout",
       "text": [
        "True\n"
       ]
      }
     ],
     "prompt_number": 23
    },
    {
     "cell_type": "markdown",
     "metadata": {},
     "source": [
      "The `base` of the original matrix is `None`, indicating that it is not a view into another matrix but a matrix that \"stands by itself\", a matrix that \"really exists, independently of other matrices\"."
     ]
    },
    {
     "cell_type": "code",
     "collapsed": false,
     "input": [
      "print(test_matrix.base)"
     ],
     "language": "python",
     "metadata": {},
     "outputs": [
      {
       "output_type": "stream",
       "stream": "stdout",
       "text": [
        "None\n"
       ]
      }
     ],
     "prompt_number": 24
    },
    {
     "cell_type": "markdown",
     "metadata": {},
     "source": [
      "The `base` of a view is always a matrix that \"stands by itself\", not another view. So if we take a submatrix of `submatrix`, that is a submatrix of a submatrix of `test_matrix`, we get a view into `test_matrix` (and not a view into `submatrix`)."
     ]
    },
    {
     "cell_type": "code",
     "collapsed": false,
     "input": [
      "subsubmatrix = submatrix[0:2, 1:3]\n",
      "print(subsubmatrix.base)\n",
      "print(subsubmatrix.base is test_matrix)"
     ],
     "language": "python",
     "metadata": {},
     "outputs": [
      {
       "output_type": "stream",
       "stream": "stdout",
       "text": [
        "[[ 0.  0.  0.  0.  0.]\n",
        " [ 0.  0.  0.  0.  0.]\n",
        " [ 0.  0.  0.  0.  0.]\n",
        " [ 0.  0.  0.  0.  0.]\n",
        " [ 0.  0.  0.  0.  0.]]\n",
        "True\n"
       ]
      }
     ],
     "prompt_number": 25
    },
    {
     "cell_type": "markdown",
     "metadata": {},
     "source": [
      "If we take the `ravel()` of `test_matrix`, we get another view into `test_matrix`."
     ]
    },
    {
     "cell_type": "code",
     "collapsed": false,
     "input": [
      "matrix_ravel = test_matrix.ravel()\n",
      "print(matrix_ravel.base)\n",
      "print(matrix_ravel.base is test_matrix)"
     ],
     "language": "python",
     "metadata": {},
     "outputs": [
      {
       "output_type": "stream",
       "stream": "stdout",
       "text": [
        "[[ 0.  0.  0.  0.  0.]\n",
        " [ 0.  0.  0.  0.  0.]\n",
        " [ 0.  0.  0.  0.  0.]\n",
        " [ 0.  0.  0.  0.  0.]\n",
        " [ 0.  0.  0.  0.  0.]]\n",
        "True\n"
       ]
      }
     ],
     "prompt_number": 26
    },
    {
     "cell_type": "markdown",
     "metadata": {},
     "source": [
      "However, if we ravel a submatrix, we do not get a view but a copy, and indeed the `base` is `None`."
     ]
    },
    {
     "cell_type": "code",
     "collapsed": false,
     "input": [
      "submatrix_ravel = submatrix.ravel()\n",
      "print(submatrix_ravel.base)"
     ],
     "language": "python",
     "metadata": {},
     "outputs": [
      {
       "output_type": "stream",
       "stream": "stdout",
       "text": [
        "None\n"
       ]
      }
     ],
     "prompt_number": 27
    },
    {
     "cell_type": "markdown",
     "metadata": {},
     "source": [
      "# Implementation details\n",
      "\n",
      "All this does not explain `why` ravelling a submatrix yields a copy, not a view. To understand this, we need to dive deeper and explore how views are implemented. This will be rather technical if you do not have experience in computations with low-level languages. However, if you want to interface your Python code with low-level code then it is useful to know this. For details, refer to the numpy documentation at http://docs.scipy.org/doc/numpy/reference/arrays.html.\n",
      "\n",
      "The data in a numpy array is stored somewhere in the computer memory. You can get the memory address where the data is stored as follows (the double underscores indicate that you normally do not need to access this information, but we are curious ...)"
     ]
    },
    {
     "cell_type": "code",
     "collapsed": false,
     "input": [
      "test_matrix = numpy.array([[1,2,3,4], [11,12,13,14], [21,22,23,24]], \n",
      "                          dtype=numpy.int32)  # dtype is explained below\n",
      "test_matrix_address = test_matrix.__array_interface__['data'][0]\n",
      "print('test_matrix_address = {:#x}'.format(test_matrix_address))   # format as hexadecimal number"
     ],
     "language": "python",
     "metadata": {},
     "outputs": [
      {
       "output_type": "stream",
       "stream": "stdout",
       "text": [
        "test_matrix_address = 0x15d22f0\n"
       ]
      }
     ],
     "prompt_number": 28
    },
    {
     "cell_type": "markdown",
     "metadata": {},
     "source": [
      "It is possible to read the contents at this memory address in Python.\n",
      "\n",
      "Warning: playing with this is slightly dangerous; if you try to read memory at an address which is not owned by Python then Python will crash with a segmentation failure. "
     ]
    },
    {
     "cell_type": "code",
     "collapsed": false,
     "input": [
      "import ctypes"
     ],
     "language": "python",
     "metadata": {},
     "outputs": [],
     "prompt_number": 29
    },
    {
     "cell_type": "code",
     "collapsed": false,
     "input": [
      "for loc in range(test_matrix_address, test_matrix_address+20):\n",
      "    print('Byte at {:#x} is {}'.format(loc, ord(ctypes.string_at(loc,1))))"
     ],
     "language": "python",
     "metadata": {},
     "outputs": [
      {
       "output_type": "stream",
       "stream": "stdout",
       "text": [
        "Byte at 0x15d22f0 is 1\n",
        "Byte at 0x15d22f1 is 0\n",
        "Byte at 0x15d22f2 is 0\n",
        "Byte at 0x15d22f3 is 0\n",
        "Byte at 0x15d22f4 is 2\n",
        "Byte at 0x15d22f5 is 0\n",
        "Byte at 0x15d22f6 is 0\n",
        "Byte at 0x15d22f7 is 0\n",
        "Byte at 0x15d22f8 is 3\n",
        "Byte at 0x15d22f9 is 0\n",
        "Byte at 0x15d22fa is 0\n",
        "Byte at 0x15d22fb is 0\n",
        "Byte at 0x15d22fc is 4\n",
        "Byte at 0x15d22fd is 0\n",
        "Byte at 0x15d22fe is 0\n",
        "Byte at 0x15d22ff is 0\n",
        "Byte at 0x15d2300 is 11\n",
        "Byte at 0x15d2301 is 0\n",
        "Byte at 0x15d2302 is 0\n",
        "Byte at 0x15d2303 is 0\n"
       ]
      }
     ],
     "prompt_number": 30
    },
    {
     "cell_type": "markdown",
     "metadata": {},
     "source": [
      "We see that every entry in the matrix is stored in four bytes. That is what `dtype=numpy.int32` means when we created `test_matrix`: store the entries as 32-bits integers. There are 12 entries in the array, so the data buffer is 12 * 4 = 48 bytes long. Thus we are safe reading the first 20 bytes.\n",
      "\n",
      "When we move one column to the right in the matrix, the memory address increases by 4. The (0,0) entry of the matrix is at `test_matrix_address`, the (0,1) entry is at `test_matrix_address + 4`, the (0,2) entry is at `test_matrix_address + 8`, etc.\n",
      "\n",
      "When we move down the matrix, the memory address increases by 16. So the (0,1) entry is at `test_matrix_address + 16`. \n",
      "\n",
      "The increments 4 and 16 are called the `strides` of the matrix. "
     ]
    },
    {
     "cell_type": "code",
     "collapsed": false,
     "input": [
      "test_matrix.strides"
     ],
     "language": "python",
     "metadata": {},
     "outputs": [
      {
       "metadata": {},
       "output_type": "pyout",
       "prompt_number": 31,
       "text": [
        "(16, 4)"
       ]
      }
     ],
     "prompt_number": 31
    },
    {
     "cell_type": "markdown",
     "metadata": {},
     "source": [
      "So the (`i`, `j`) entry of the matrix is at `test_matrix_address + i * row_stride + j * col_stride`."
     ]
    },
    {
     "cell_type": "code",
     "collapsed": false,
     "input": [
      "row_stride, col_stride = test_matrix.strides\n",
      "num_rows, num_cols = test_matrix.shape\n",
      "for i in range(num_rows): \n",
      "    for j in range(num_cols):\n",
      "        loc = test_matrix_address + i * row_stride + j * col_stride\n",
      "        content = ord(ctypes.string_at(loc,1))\n",
      "        print('test_matrix[{},{}] is at address {:#x} which contains {}'\n",
      "              .format(i, j, loc, content))"
     ],
     "language": "python",
     "metadata": {},
     "outputs": [
      {
       "output_type": "stream",
       "stream": "stdout",
       "text": [
        "test_matrix[0,0] is at address 0x15d22f0 which contains 1\n",
        "test_matrix[0,1] is at address 0x15d22f4 which contains 2\n",
        "test_matrix[0,2] is at address 0x15d22f8 which contains 3\n",
        "test_matrix[0,3] is at address 0x15d22fc which contains 4\n",
        "test_matrix[1,0] is at address 0x15d2300 which contains 11\n",
        "test_matrix[1,1] is at address 0x15d2304 which contains 12\n",
        "test_matrix[1,2] is at address 0x15d2308 which contains 13\n",
        "test_matrix[1,3] is at address 0x15d230c which contains 14\n",
        "test_matrix[2,0] is at address 0x15d2310 which contains 21\n",
        "test_matrix[2,1] is at address 0x15d2314 which contains 22\n",
        "test_matrix[2,2] is at address 0x15d2318 which contains 23\n",
        "test_matrix[2,3] is at address 0x15d231c which contains 24\n"
       ]
      }
     ],
     "prompt_number": 32
    },
    {
     "cell_type": "markdown",
     "metadata": {},
     "source": [
      "What happens if we take the submatrix formed by deleting the first row and column? We get a view into the original matrix. This means that its entries are at the same addresses as (some of) the entries of the original matrix."
     ]
    },
    {
     "cell_type": "code",
     "collapsed": false,
     "input": [
      "submatrix = test_matrix[1:,1:]\n",
      "submatrix_address = submatrix.__array_interface__['data'][0]\n",
      "print('test_matrix_address = {:#x}'.format(test_matrix_address)) \n",
      "print('submatrix_address = {:#x}'.format(submatrix_address)) "
     ],
     "language": "python",
     "metadata": {},
     "outputs": [
      {
       "output_type": "stream",
       "stream": "stdout",
       "text": [
        "test_matrix_address = 0x15d22f0\n",
        "submatrix_address = 0x15d2304\n"
       ]
      }
     ],
     "prompt_number": 33
    },
    {
     "cell_type": "markdown",
     "metadata": {},
     "source": [
      "Thus the (0,0) entry of `submatrix` is at the same address as the (1,1) entry of `test_matrix`, as it should be given the definition of `submatrix`. The strides are the same."
     ]
    },
    {
     "cell_type": "code",
     "collapsed": false,
     "input": [
      "submatrix.strides"
     ],
     "language": "python",
     "metadata": {},
     "outputs": [
      {
       "metadata": {},
       "output_type": "pyout",
       "prompt_number": 34,
       "text": [
        "(16, 4)"
       ]
      }
     ],
     "prompt_number": 34
    },
    {
     "cell_type": "markdown",
     "metadata": {},
     "source": [
      "We can make explicit how the entries of `submatrix` map to the entires of `test_matrix` and check that they are on the same address."
     ]
    },
    {
     "cell_type": "code",
     "collapsed": false,
     "input": [
      "test_row_stride, test_col_stride = test_matrix.strides\n",
      "subm_row_stride, subm_col_stride = submatrix.strides\n",
      "sub_num_rows, sub_num_cols = submatrix.shape\n",
      "for i_subm in range(sub_num_rows): \n",
      "    for j_subm in range(sub_num_cols):\n",
      "        loc_subm = submatrix_address + i_subm * subm_row_stride + j_subm * subm_col_stride\n",
      "        i_test = i_subm + 1\n",
      "        j_test = j_subm + 1\n",
      "        loc_test = test_matrix_address + i_test * test_row_stride + j_test * test_col_stride\n",
      "        content = ord(ctypes.string_at(loc,1))\n",
      "        print('submatrix[{},{}] is at {:#x} and test_matrix[{},{}] is at {:#x}'\n",
      "              .format(i_subm, j_subm, loc_subm, i_test, j_test, loc_test))"
     ],
     "language": "python",
     "metadata": {},
     "outputs": [
      {
       "output_type": "stream",
       "stream": "stdout",
       "text": [
        "submatrix[0,0] is at 0x15d2304 and test_matrix[1,1] is at 0x15d2304\n",
        "submatrix[0,1] is at 0x15d2308 and test_matrix[1,2] is at 0x15d2308\n",
        "submatrix[0,2] is at 0x15d230c and test_matrix[1,3] is at 0x15d230c\n",
        "submatrix[1,0] is at 0x15d2314 and test_matrix[2,1] is at 0x15d2314\n",
        "submatrix[1,1] is at 0x15d2318 and test_matrix[2,2] is at 0x15d2318\n",
        "submatrix[1,2] is at 0x15d231c and test_matrix[2,3] is at 0x15d231c\n"
       ]
      }
     ],
     "prompt_number": 35
    },
    {
     "cell_type": "markdown",
     "metadata": {},
     "source": [
      "The `ravel()` function is similar. The first entry of the ravelled matrix is the same as the first entry of the original matrix, so the address is the same."
     ]
    },
    {
     "cell_type": "code",
     "collapsed": false,
     "input": [
      "ravel = test_matrix.ravel()\n",
      "ravel_address = ravel.__array_interface__['data'][0]\n",
      "print('test_matrix_address = {:#x}'.format(test_matrix_address)) \n",
      "print('ravel_address = {:#x}'.format(ravel_address)) "
     ],
     "language": "python",
     "metadata": {},
     "outputs": [
      {
       "output_type": "stream",
       "stream": "stdout",
       "text": [
        "test_matrix_address = 0x15d22f0\n",
        "ravel_address = 0x15d22f0\n"
       ]
      }
     ],
     "prompt_number": 36
    },
    {
     "cell_type": "markdown",
     "metadata": {},
     "source": [
      "The next entry in `ravel` is 4 bytes further, so the stride is 4. The ravelled matrix is a 1-dimensional array (a vector), so there is only one stride."
     ]
    },
    {
     "cell_type": "code",
     "collapsed": false,
     "input": [
      "ravel.strides"
     ],
     "language": "python",
     "metadata": {},
     "outputs": [
      {
       "metadata": {},
       "output_type": "pyout",
       "prompt_number": 37,
       "text": [
        "(4,)"
       ]
      }
     ],
     "prompt_number": 37
    },
    {
     "cell_type": "markdown",
     "metadata": {},
     "source": [
      "Here are the addresses of the first six entries of `ravel`:"
     ]
    },
    {
     "cell_type": "code",
     "collapsed": false,
     "input": [
      "ravel_stride = ravel.strides[0]\n",
      "for i in range(6):\n",
      "    loc = ravel_address + i * ravel_stride\n",
      "    content = ord(ctypes.string_at(loc,1))\n",
      "    print('ravel[{}] is at address {:#x} which contains {}'\n",
      "          .format(i, loc, content))"
     ],
     "language": "python",
     "metadata": {},
     "outputs": [
      {
       "output_type": "stream",
       "stream": "stdout",
       "text": [
        "ravel[0] is at address 0x15d22f0 which contains 1\n",
        "ravel[1] is at address 0x15d22f4 which contains 2\n",
        "ravel[2] is at address 0x15d22f8 which contains 3\n",
        "ravel[3] is at address 0x15d22fc which contains 4\n",
        "ravel[4] is at address 0x15d2300 which contains 11\n",
        "ravel[5] is at address 0x15d2304 which contains 12\n"
       ]
      }
     ],
     "prompt_number": 38
    },
    {
     "cell_type": "markdown",
     "metadata": {},
     "source": [
      "Now, what is different if we ravel a submatrix, so if we do:"
     ]
    },
    {
     "cell_type": "code",
     "collapsed": false,
     "input": [
      "ravel_submatrix = submatrix.ravel()"
     ],
     "language": "python",
     "metadata": {},
     "outputs": [],
     "prompt_number": 39
    },
    {
     "cell_type": "markdown",
     "metadata": {},
     "source": [
      "We get a vector of six elements: \n",
      "\n",
      "* `ravel_submatrix[0]` corresponds to `submatrix[0,0]` which is at the same address at `test_matrix[1,1]`, namely at `test_matrix_address + 20`.\n",
      "* `ravel_submatrix[1]` corresponds to `submatrix[0,1]` which is at the same address at `test_matrix[1,2]`, namely at `test_matrix_address + 24`.\n",
      "* `ravel_submatrix[2]` corresponds to `submatrix[0,2]` which is at the same address at `test_matrix[1,3]`, namely at `test_matrix_address + 28`.\n",
      "* `ravel_submatrix[3]` corresponds to `submatrix[1,0]` which is at the same address at `test_matrix[2,1]`, namely at `test_matrix_address + 36`.\n",
      "* `ravel_submatrix[4]` corresponds to `submatrix[1,1]` which is at the same address at `test_matrix[2,2]`, namely at `test_matrix_address + 40`.\n",
      "* `ravel_submatrix[5]` corresponds to `submatrix[1,2]` which is at the same address at `test_matrix[2,3]`, namely at `test_matrix_address + 44`.\n",
      "\n",
      "The spacing between the address is not constant: every entry is 4 bytes further than its predecessor, except `ravel_submatrix[3]` which is 8 bytes further than its predecessor. Thus, we can not describe how `ravel_submatrix` is laid out in memory with a single stride. This means that numpy cannot construct `ravel_submatrix` as a view into the original matrix, so it has to allocate a new piece of memory and store `ravel_submatrix` there. Indeed, the addresses where the entries of ravel_submatrix are stored are different from where `test_matrix` (and `submatrix` and `ravel`) are stored."
     ]
    },
    {
     "cell_type": "code",
     "collapsed": false,
     "input": [
      "ravel_subm_address = ravel_submatrix.__array_interface__['data'][0]\n",
      "ravel_subm_stride = ravel.strides[0]\n",
      "for i in range(6):\n",
      "    loc = ravel_subm_address + i * ravel_subm_stride\n",
      "    content = ord(ctypes.string_at(loc,1))\n",
      "    print('ravel_submatrix[{}] is at address {:#x} which contains {}'\n",
      "          .format(i, loc, content))"
     ],
     "language": "python",
     "metadata": {},
     "outputs": [
      {
       "output_type": "stream",
       "stream": "stdout",
       "text": [
        "ravel_submatrix[0] is at address 0x158a220 which contains 12\n",
        "ravel_submatrix[1] is at address 0x158a224 which contains 13\n",
        "ravel_submatrix[2] is at address 0x158a228 which contains 14\n",
        "ravel_submatrix[3] is at address 0x158a22c which contains 22\n",
        "ravel_submatrix[4] is at address 0x158a230 which contains 23\n",
        "ravel_submatrix[5] is at address 0x158a234 which contains 24\n"
       ]
      }
     ],
     "prompt_number": 40
    },
    {
     "cell_type": "markdown",
     "metadata": {},
     "source": [
      "Indeed, the addresses where the entries of ravel_submatrix are stored are different from where `test_matrix` (and `submatrix` and `ravel`) are stored."
     ]
    },
    {
     "cell_type": "code",
     "collapsed": false,
     "input": [
      "print('test_matrix_address = {:#x}'.format(test_matrix_address))\n",
      "print('submatrix_address   = {:#x}'.format(submatrix_address))\n",
      "print('ravel_address       = {:#x}'.format(ravel_address))\n",
      "print('ravel_subm_address  = {:#x}'.format(ravel_subm_address))\n"
     ],
     "language": "python",
     "metadata": {},
     "outputs": [
      {
       "output_type": "stream",
       "stream": "stdout",
       "text": [
        "test_matrix_address = 0x15d22f0\n",
        "submatrix_address   = 0x15d2304\n",
        "ravel_address       = 0x15d22f0\n",
        "ravel_subm_address  = 0x158a220\n"
       ]
      }
     ],
     "prompt_number": 41
    }
   ],
   "metadata": {}
  }
 ]
}