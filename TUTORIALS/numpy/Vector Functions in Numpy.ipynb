{
 "metadata": {
  "name": "",
  "signature": "sha256:f29f2ab2bec2dccc66fefee7bc72d50f56339a157c31cc5f1fc4d20a89ed472d"
 },
 "nbformat": 3,
 "nbformat_minor": 0,
 "worksheets": [
  {
   "cells": [
    {
     "cell_type": "markdown",
     "metadata": {},
     "source": [
      "Vector Functions in Numpy\n",
      "===\n",
      "\n",
      "How to use Numpy efficiently when manipulating array-like data.\n",
      "\n",
      "[Andrew Mellor](www.andrewmellor.co.uk), *University of Leeds*."
     ]
    },
    {
     "cell_type": "code",
     "collapsed": false,
     "input": [
      "import numpy as np"
     ],
     "language": "python",
     "metadata": {},
     "outputs": [],
     "prompt_number": 1
    },
    {
     "cell_type": "markdown",
     "metadata": {},
     "source": [
      "Vectorize\n",
      "---\n",
      "\n",
      "Generate a numpy array, in this case we use a simple range function for the numbers 0-99."
     ]
    },
    {
     "cell_type": "code",
     "collapsed": false,
     "input": [
      "A = np.arange(100)\n",
      "A"
     ],
     "language": "python",
     "metadata": {},
     "outputs": [
      {
       "metadata": {},
       "output_type": "pyout",
       "prompt_number": 2,
       "text": [
        "array([ 0,  1,  2,  3,  4,  5,  6,  7,  8,  9, 10, 11, 12, 13, 14, 15, 16,\n",
        "       17, 18, 19, 20, 21, 22, 23, 24, 25, 26, 27, 28, 29, 30, 31, 32, 33,\n",
        "       34, 35, 36, 37, 38, 39, 40, 41, 42, 43, 44, 45, 46, 47, 48, 49, 50,\n",
        "       51, 52, 53, 54, 55, 56, 57, 58, 59, 60, 61, 62, 63, 64, 65, 66, 67,\n",
        "       68, 69, 70, 71, 72, 73, 74, 75, 76, 77, 78, 79, 80, 81, 82, 83, 84,\n",
        "       85, 86, 87, 88, 89, 90, 91, 92, 93, 94, 95, 96, 97, 98, 99])"
       ]
      }
     ],
     "prompt_number": 2
    },
    {
     "cell_type": "markdown",
     "metadata": {},
     "source": [
      "We can define a function which operates on an individual element of the array. In this case our array is of integers and our function sorts them into three categories depending on size. In practise this function can operate on any type of object."
     ]
    },
    {
     "cell_type": "code",
     "collapsed": false,
     "input": [
      "def myFunction(x):\n",
      "    if 0<=x<10:\n",
      "        return 0\n",
      "    elif 10<=x<50:\n",
      "        return 1\n",
      "    else:\n",
      "        return 2    "
     ],
     "language": "python",
     "metadata": {},
     "outputs": [],
     "prompt_number": 3
    },
    {
     "cell_type": "markdown",
     "metadata": {},
     "source": [
      "This is where the magic really happens. We use the numpy function *vectorize* which returns another function. The difference with this returned function is that it's input is a numpy array instead of just an array element. This vectorized function makes use of the faster compiled C routines built into numpy. You can read more in the [documentation](http://docs.scipy.org/doc/numpy/reference/generated/numpy.vectorize.html)."
     ]
    },
    {
     "cell_type": "code",
     "collapsed": false,
     "input": [
      "myFunction_vectorised = np.vectorize(myFunction)"
     ],
     "language": "python",
     "metadata": {},
     "outputs": [],
     "prompt_number": 4
    },
    {
     "cell_type": "code",
     "collapsed": false,
     "input": [
      "myFunction_vectorised(A)"
     ],
     "language": "python",
     "metadata": {},
     "outputs": [
      {
       "metadata": {},
       "output_type": "pyout",
       "prompt_number": 5,
       "text": [
        "array([0, 0, 0, 0, 0, 0, 0, 0, 0, 0, 1, 1, 1, 1, 1, 1, 1, 1, 1, 1, 1, 1, 1,\n",
        "       1, 1, 1, 1, 1, 1, 1, 1, 1, 1, 1, 1, 1, 1, 1, 1, 1, 1, 1, 1, 1, 1, 1,\n",
        "       1, 1, 1, 1, 2, 2, 2, 2, 2, 2, 2, 2, 2, 2, 2, 2, 2, 2, 2, 2, 2, 2, 2,\n",
        "       2, 2, 2, 2, 2, 2, 2, 2, 2, 2, 2, 2, 2, 2, 2, 2, 2, 2, 2, 2, 2, 2, 2,\n",
        "       2, 2, 2, 2, 2, 2, 2, 2])"
       ]
      }
     ],
     "prompt_number": 5
    },
    {
     "cell_type": "markdown",
     "metadata": {},
     "source": [
      "This function will work on any numpy array, regardless of the shape (or dimenson)."
     ]
    },
    {
     "cell_type": "code",
     "collapsed": false,
     "input": [
      "A = np.arange(100).reshape((10,10))"
     ],
     "language": "python",
     "metadata": {},
     "outputs": [],
     "prompt_number": 6
    },
    {
     "cell_type": "code",
     "collapsed": false,
     "input": [
      "myFunction_vectorised(A)"
     ],
     "language": "python",
     "metadata": {},
     "outputs": [
      {
       "metadata": {},
       "output_type": "pyout",
       "prompt_number": 7,
       "text": [
        "array([[0, 0, 0, 0, 0, 0, 0, 0, 0, 0],\n",
        "       [1, 1, 1, 1, 1, 1, 1, 1, 1, 1],\n",
        "       [1, 1, 1, 1, 1, 1, 1, 1, 1, 1],\n",
        "       [1, 1, 1, 1, 1, 1, 1, 1, 1, 1],\n",
        "       [1, 1, 1, 1, 1, 1, 1, 1, 1, 1],\n",
        "       [2, 2, 2, 2, 2, 2, 2, 2, 2, 2],\n",
        "       [2, 2, 2, 2, 2, 2, 2, 2, 2, 2],\n",
        "       [2, 2, 2, 2, 2, 2, 2, 2, 2, 2],\n",
        "       [2, 2, 2, 2, 2, 2, 2, 2, 2, 2],\n",
        "       [2, 2, 2, 2, 2, 2, 2, 2, 2, 2]])"
       ]
      }
     ],
     "prompt_number": 7
    },
    {
     "cell_type": "markdown",
     "metadata": {},
     "source": [
      "For comparision, we see that the vectorized function works approximately 6x faster than native Python routines."
     ]
    },
    {
     "cell_type": "code",
     "collapsed": false,
     "input": [
      "A = np.arange(100)"
     ],
     "language": "python",
     "metadata": {},
     "outputs": [],
     "prompt_number": 8
    },
    {
     "cell_type": "code",
     "collapsed": false,
     "input": [
      "%%timeit\n",
      "B = myFunction_vectorised(A)"
     ],
     "language": "python",
     "metadata": {},
     "outputs": [
      {
       "output_type": "stream",
       "stream": "stdout",
       "text": [
        "10000 loops, best of 3: 46.9 \u00b5s per loop\n"
       ]
      }
     ],
     "prompt_number": 9
    },
    {
     "cell_type": "code",
     "collapsed": false,
     "input": [
      "%%timeit\n",
      "B = np.zeros((100,))\n",
      "for ix,x in enumerate(A):\n",
      "    B[ix] = myFunction(x)"
     ],
     "language": "python",
     "metadata": {},
     "outputs": [
      {
       "output_type": "stream",
       "stream": "stdout",
       "text": [
        "1000 loops, best of 3: 349 \u00b5s per loop\n"
       ]
      }
     ],
     "prompt_number": 10
    },
    {
     "cell_type": "code",
     "collapsed": false,
     "input": [
      "%%timeit\n",
      "B = map(myFunction,A)"
     ],
     "language": "python",
     "metadata": {},
     "outputs": [
      {
       "output_type": "stream",
       "stream": "stdout",
       "text": [
        "1000 loops, best of 3: 325 \u00b5s per loop\n"
       ]
      }
     ],
     "prompt_number": 11
    },
    {
     "cell_type": "heading",
     "level": 3,
     "metadata": {},
     "source": [
      "Multiprocessing"
     ]
    },
    {
     "cell_type": "markdown",
     "metadata": {},
     "source": [
      "It is also possible to make use of pythons multiprocessing library to apply the function simultaneously to different parts of the array in different cores. In this case it's much slower that the other alternatives, but there will be cases where this offers a good speed-up, particularly when myFunction() needs to do a lot of work. The multiprocessing library docs are [here](https://docs.python.org/2/library/multiprocessing.html)."
     ]
    },
    {
     "cell_type": "code",
     "collapsed": false,
     "input": [
      "from multiprocessing import Pool\n",
      "p = Pool() # Can optionally pass the number of CPU cores to use. Default is all."
     ],
     "language": "python",
     "metadata": {},
     "outputs": [],
     "prompt_number": 12
    },
    {
     "cell_type": "code",
     "collapsed": false,
     "input": [
      "%%timeit\n",
      "B = p.map(myFunction,A)"
     ],
     "language": "python",
     "metadata": {},
     "outputs": [
      {
       "output_type": "stream",
       "stream": "stdout",
       "text": [
        "1000 loops, best of 3: 1.22 ms per loop\n"
       ]
      }
     ],
     "prompt_number": 13
    },
    {
     "cell_type": "markdown",
     "metadata": {},
     "source": [
      "Column/Row Operations\n",
      "---\n",
      "\n",
      "Numpy also allows easy manipulation of rows and columns.\n",
      "One approach is to use slicing to select and manipulate, for example:"
     ]
    },
    {
     "cell_type": "code",
     "collapsed": false,
     "input": [
      "A = np.random.random((5,5))\n",
      "A"
     ],
     "language": "python",
     "metadata": {},
     "outputs": [
      {
       "metadata": {},
       "output_type": "pyout",
       "prompt_number": 16,
       "text": [
        "array([[ 0.63007001,  0.67695657,  0.10249679,  0.41827543,  0.09251749],\n",
        "       [ 0.36082937,  0.11944611,  0.1380757 ,  0.11700226,  0.08216669],\n",
        "       [ 0.91233872,  0.42446439,  0.17695797,  0.53331039,  0.9681807 ],\n",
        "       [ 0.07452883,  0.60514177,  0.90186815,  0.82469465,  0.14437164],\n",
        "       [ 0.21305562,  0.29842216,  0.9704536 ,  0.88471865,  0.46942301]])"
       ]
      }
     ],
     "prompt_number": 16
    },
    {
     "cell_type": "code",
     "collapsed": false,
     "input": [
      "# Select first column and double it\n",
      "A[:,0] = 2*A[:,0]\n",
      "A"
     ],
     "language": "python",
     "metadata": {},
     "outputs": [
      {
       "metadata": {},
       "output_type": "pyout",
       "prompt_number": 17,
       "text": [
        "array([[ 1.26014003,  0.67695657,  0.10249679,  0.41827543,  0.09251749],\n",
        "       [ 0.72165874,  0.11944611,  0.1380757 ,  0.11700226,  0.08216669],\n",
        "       [ 1.82467743,  0.42446439,  0.17695797,  0.53331039,  0.9681807 ],\n",
        "       [ 0.14905767,  0.60514177,  0.90186815,  0.82469465,  0.14437164],\n",
        "       [ 0.42611124,  0.29842216,  0.9704536 ,  0.88471865,  0.46942301]])"
       ]
      }
     ],
     "prompt_number": 17
    },
    {
     "cell_type": "code",
     "collapsed": false,
     "input": [
      "# Square the first row\n",
      "A[0,:] = A[0,:]**2\n",
      "A"
     ],
     "language": "python",
     "metadata": {},
     "outputs": [
      {
       "metadata": {},
       "output_type": "pyout",
       "prompt_number": 18,
       "text": [
        "array([[ 1.58795288,  0.4582702 ,  0.01050559,  0.17495434,  0.00855949],\n",
        "       [ 0.72165874,  0.11944611,  0.1380757 ,  0.11700226,  0.08216669],\n",
        "       [ 1.82467743,  0.42446439,  0.17695797,  0.53331039,  0.9681807 ],\n",
        "       [ 0.14905767,  0.60514177,  0.90186815,  0.82469465,  0.14437164],\n",
        "       [ 0.42611124,  0.29842216,  0.9704536 ,  0.88471865,  0.46942301]])"
       ]
      }
     ],
     "prompt_number": 18
    },
    {
     "cell_type": "markdown",
     "metadata": {},
     "source": [
      "We might also want to treat columns and rows as individual vectors and calculate a quantity from them, for example the length."
     ]
    },
    {
     "cell_type": "code",
     "collapsed": false,
     "input": [
      "def vectorLength(v):\n",
      "    return np.sqrt((v**2).sum())"
     ],
     "language": "python",
     "metadata": {},
     "outputs": [],
     "prompt_number": 19
    },
    {
     "cell_type": "markdown",
     "metadata": {},
     "source": [
      "To apply this across all columns or rows we use *apply_along_axis*. You can read more about this in the [documentation](http://docs.scipy.org/doc/numpy/reference/generated/numpy.apply_along_axis.html).\n",
      "The following treats all the columns as individual vectors and calculates their length. The column functions can be as creative as needed."
     ]
    },
    {
     "cell_type": "code",
     "collapsed": false,
     "input": [
      "lengths = np.apply_along_axis(vectorLength,axis=0,arr=A)\n",
      "lengths"
     ],
     "language": "python",
     "metadata": {},
     "outputs": [
      {
       "metadata": {},
       "output_type": "pyout",
       "prompt_number": 23,
       "text": [
        "array([ 2.56429764,  0.9272008 ,  1.34373946,  1.33849426,  1.0887606 ])"
       ]
      }
     ],
     "prompt_number": 23
    },
    {
     "cell_type": "code",
     "collapsed": false,
     "input": [],
     "language": "python",
     "metadata": {},
     "outputs": []
    }
   ],
   "metadata": {}
  }
 ]
}