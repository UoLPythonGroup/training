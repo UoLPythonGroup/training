{
 "metadata": {
  "name": "",
  "signature": "sha256:5743844ccd7ee2828b56d03d814673c9549204c27aa449c9f348a2126fd2a6e9"
 },
 "nbformat": 3,
 "nbformat_minor": 0,
 "worksheets": [
  {
   "cells": [
    {
     "cell_type": "heading",
     "level": 1,
     "metadata": {},
     "source": [
      "itertools"
     ]
    },
    {
     "cell_type": "heading",
     "level": 6,
     "metadata": {},
     "source": [
      "This module implements a number of iterator building blocks inspired by constructs from APL, Haskell, and SML. Each has been recast in a form suitable for Python.\n",
      "\n",
      "The module standardizes a core set of fast, memory efficient tools that are useful by themselves or in combination. Together, they form an \u201citerator algebra\u201d making it possible to construct specialized tools succinctly and efficiently in pure Python."
     ]
    },
    {
     "cell_type": "code",
     "collapsed": false,
     "input": [
      "import itertools as it"
     ],
     "language": "python",
     "metadata": {},
     "outputs": [],
     "prompt_number": 17
    },
    {
     "cell_type": "code",
     "collapsed": false,
     "input": [
      "#it.count(start, [step]) produces an iterator starting at start, in steps on steps\n",
      "# But don't print this - it doesn't end!!"
     ],
     "language": "python",
     "metadata": {},
     "outputs": [],
     "prompt_number": 1
    },
    {
     "cell_type": "code",
     "collapsed": false,
     "input": [
      "for i in it.chain([1, 2, 3], ['a', 'b', 'c']):\n",
      "    print i"
     ],
     "language": "python",
     "metadata": {},
     "outputs": [
      {
       "output_type": "stream",
       "stream": "stdout",
       "text": [
        "1\n",
        "2\n",
        "3\n",
        "a\n",
        "b\n",
        "c\n"
       ]
      }
     ],
     "prompt_number": 18
    },
    {
     "cell_type": "code",
     "collapsed": false,
     "input": [
      "for i in it.izip([1, 2, 3], ['a', 'b', 'c']):\n",
      "    print i"
     ],
     "language": "python",
     "metadata": {},
     "outputs": [
      {
       "output_type": "stream",
       "stream": "stdout",
       "text": [
        "(1, 'a')\n",
        "(2, 'b')\n",
        "(3, 'c')\n"
       ]
      }
     ],
     "prompt_number": 20
    },
    {
     "cell_type": "code",
     "collapsed": false,
     "input": [
      "print 'Stop at 5:'\n",
      "for i in it.islice(it.count(), 5):\n",
      "    print i\n",
      "\n",
      "print 'Start at 5, Stop at 10:'\n",
      "for i in it.islice(it.count(), 5, 10):\n",
      "    print i\n",
      "\n",
      "print 'By tens to 100:'\n",
      "for i in it.islice(it.count(), 0, 100, 10):\n",
      "    print i"
     ],
     "language": "python",
     "metadata": {},
     "outputs": [
      {
       "output_type": "stream",
       "stream": "stdout",
       "text": [
        "Stop at 5:\n",
        "0\n",
        "1\n",
        "2\n",
        "3\n",
        "4\n",
        "Start at 5, Stop at 10:\n",
        "5\n",
        "6\n",
        "7\n",
        "8\n",
        "9\n",
        "By tens to 100:\n",
        "0\n",
        "10\n",
        "20\n",
        "30\n",
        "40\n",
        "50\n",
        "60\n",
        "70\n",
        "80\n",
        "90\n"
       ]
      }
     ],
     "prompt_number": 21
    },
    {
     "cell_type": "code",
     "collapsed": false,
     "input": [
      "r = it.islice(it.count(), 5)\n",
      "#i1, i2, i3 = r,r,r # this is different - i1 is used, and i2 & i3\n",
      "# are now empty\n",
      "i1, i2, i3 = it.tee(r,3)\n",
      "\n",
      "for i in i1:\n",
      "    print 'i1:', i\n",
      "for i in i2:\n",
      "    print 'i2:', i\n",
      "for i in i3:\n",
      "    print 'i3:', i"
     ],
     "language": "python",
     "metadata": {},
     "outputs": [
      {
       "output_type": "stream",
       "stream": "stdout",
       "text": [
        "i1: 0\n",
        "i1: 1\n",
        "i1: 2\n",
        "i1: 3\n",
        "i1: 4\n"
       ]
      }
     ],
     "prompt_number": 24
    },
    {
     "cell_type": "code",
     "collapsed": false,
     "input": [
      "r = it.islice(it.count(), 5)\n",
      "i1, i2 = it.tee(r)\n",
      "\n",
      "for i in r:\n",
      "    print 'r:', i\n",
      "    if i > 1:\n",
      "        break\n",
      "\n",
      "for i in i1:\n",
      "    print 'i1:', i\n",
      "for i in i2:\n",
      "    print 'i2:', i"
     ],
     "language": "python",
     "metadata": {},
     "outputs": [
      {
       "output_type": "stream",
       "stream": "stdout",
       "text": [
        "r: 0\n",
        "r: 1\n",
        "r: 2\n",
        "i1: 3\n",
        "i1: 4\n",
        "i2: 3\n",
        "i2: 4\n"
       ]
      }
     ],
     "prompt_number": 25
    },
    {
     "cell_type": "code",
     "collapsed": false,
     "input": [
      "print 'Doubles:'\n",
      "for i in it.imap(lambda x:2*x, xrange(5)):\n",
      "    print i\n",
      "\n",
      "print 'Multiples:'\n",
      "for i in it.imap(lambda x,y:(x, y, x*y), xrange(5), xrange(5,10)):\n",
      "    print '%d * %d = %d' % i"
     ],
     "language": "python",
     "metadata": {},
     "outputs": [
      {
       "output_type": "stream",
       "stream": "stdout",
       "text": [
        "Doubles:\n",
        "0\n",
        "2\n",
        "4\n",
        "6\n",
        "8\n",
        "Multiples:\n",
        "0 * 5 = 0\n",
        "1 * 6 = 6\n",
        "2 * 7 = 14\n",
        "3 * 8 = 24\n",
        "4 * 9 = 36\n"
       ]
      }
     ],
     "prompt_number": 26
    },
    {
     "cell_type": "code",
     "collapsed": false,
     "input": [
      "values = [(0, 5), (1, 6), (2, 7), (3, 8), (4, 9)]\n",
      "for i in it.starmap(lambda x,y:(x, y, x*y), values):\n",
      "    print '%d * %d = %d' % i"
     ],
     "language": "python",
     "metadata": {},
     "outputs": [
      {
       "output_type": "stream",
       "stream": "stdout",
       "text": [
        "0 * 5 = 0\n",
        "1 * 6 = 6\n",
        "2 * 7 = 14\n",
        "3 * 8 = 24\n",
        "4 * 9 = 36\n"
       ]
      }
     ],
     "prompt_number": 27
    },
    {
     "cell_type": "code",
     "collapsed": false,
     "input": [
      "for i in it.izip(it.count(1), ['a', 'b', 'c']):\n",
      "    print i"
     ],
     "language": "python",
     "metadata": {},
     "outputs": [
      {
       "output_type": "stream",
       "stream": "stdout",
       "text": [
        "(1, 'a')\n",
        "(2, 'b')\n",
        "(3, 'c')\n"
       ]
      }
     ],
     "prompt_number": 28
    },
    {
     "cell_type": "code",
     "collapsed": false,
     "input": [
      "i = 0\n",
      "for item in it.cycle(['a', 'b', 'c']):\n",
      "    i += 1\n",
      "    if i == 10:\n",
      "        break\n",
      "    print (i, item)"
     ],
     "language": "python",
     "metadata": {},
     "outputs": [
      {
       "output_type": "stream",
       "stream": "stdout",
       "text": [
        "(1, 'a')\n",
        "(2, 'b')\n",
        "(3, 'c')\n",
        "(4, 'a')\n",
        "(5, 'b')\n",
        "(6, 'c')\n",
        "(7, 'a')\n",
        "(8, 'b')\n",
        "(9, 'c')\n"
       ]
      }
     ],
     "prompt_number": 29
    },
    {
     "cell_type": "code",
     "collapsed": false,
     "input": [
      "for i in it.repeat('elephant', 5):\n",
      "    print i"
     ],
     "language": "python",
     "metadata": {},
     "outputs": [
      {
       "output_type": "stream",
       "stream": "stdout",
       "text": [
        "elephant\n",
        "elephant\n",
        "elephant\n",
        "elephant\n",
        "elephant\n"
       ]
      }
     ],
     "prompt_number": 30
    },
    {
     "cell_type": "code",
     "collapsed": false,
     "input": [
      "for i, s in it.izip(it.count(0,0), it.repeat('elephant', 5)):\n",
      "    print i, s"
     ],
     "language": "python",
     "metadata": {},
     "outputs": [
      {
       "output_type": "stream",
       "stream": "stdout",
       "text": [
        "0 elephant\n",
        "0 elephant\n",
        "0 elephant\n",
        "0 elephant\n",
        "0 elephant\n"
       ]
      }
     ],
     "prompt_number": 33
    },
    {
     "cell_type": "code",
     "collapsed": false,
     "input": [
      "for i in it.imap(lambda x,y:(x, y, x*y), it.repeat(2), xrange(5)):\n",
      "    print '%d * %d = %d' % i"
     ],
     "language": "python",
     "metadata": {},
     "outputs": [
      {
       "output_type": "stream",
       "stream": "stdout",
       "text": [
        "2 * 0 = 0\n",
        "2 * 1 = 2\n",
        "2 * 2 = 4\n",
        "2 * 3 = 6\n",
        "2 * 4 = 8\n"
       ]
      }
     ],
     "prompt_number": 32
    },
    {
     "cell_type": "code",
     "collapsed": false,
     "input": [
      "def should_drop(x):\n",
      "    print 'Testing:', x\n",
      "    return (x<1)\n",
      "\n",
      "for i in it.dropwhile(should_drop, [ -1, 0, 1, 2, 3, 4, 1, -2 ]):\n",
      "    print 'Yielding:', i"
     ],
     "language": "python",
     "metadata": {},
     "outputs": [
      {
       "output_type": "stream",
       "stream": "stdout",
       "text": [
        "Testing: -1\n",
        "Testing: 0\n",
        "Testing: 1\n",
        "Yielding: 1\n",
        "Yielding: 2\n",
        "Yielding: 3\n",
        "Yielding: 4\n",
        "Yielding: 1\n",
        "Yielding: -2\n"
       ]
      }
     ],
     "prompt_number": 34
    },
    {
     "cell_type": "code",
     "collapsed": false,
     "input": [
      "def should_take(x):\n",
      "    print 'Testing:', x\n",
      "    return (x<2)\n",
      "\n",
      "for i in it.takewhile(should_take, [ -1, 0, 1, 2, 3, 4, 1, -2 ]):\n",
      "    print 'Yielding:', i"
     ],
     "language": "python",
     "metadata": {},
     "outputs": [
      {
       "output_type": "stream",
       "stream": "stdout",
       "text": [
        "Testing: -1\n",
        "Yielding: -1\n",
        "Testing: 0\n",
        "Yielding: 0\n",
        "Testing: 1\n",
        "Yielding: 1\n",
        "Testing: 2\n"
       ]
      }
     ],
     "prompt_number": 35
    },
    {
     "cell_type": "code",
     "collapsed": false,
     "input": [
      "def check_item(x):\n",
      "    print 'Testing:', x\n",
      "    return (x<1)\n",
      "\n",
      "for i in it.ifilter(check_item, [ -1, 0, 1, 2, 3, 4, 1, -2 ]):\n",
      "    print 'Yielding:', i"
     ],
     "language": "python",
     "metadata": {},
     "outputs": [
      {
       "output_type": "stream",
       "stream": "stdout",
       "text": [
        "Testing: -1\n",
        "Yielding: -1\n",
        "Testing: 0\n",
        "Yielding: 0\n",
        "Testing: 1\n",
        "Testing: 2\n",
        "Testing: 3\n",
        "Testing: 4\n",
        "Testing: 1\n",
        "Testing: -2\n",
        "Yielding: -2\n"
       ]
      }
     ],
     "prompt_number": 36
    },
    {
     "cell_type": "code",
     "collapsed": false,
     "input": [
      "def check_item(x):\n",
      "    print 'Testing:', x\n",
      "    return (x<1)\n",
      "\n",
      "for i in it.ifilterfalse(check_item, [ -1, 0, 1, 2, 3, 4, 1, -2 ]):\n",
      "    print 'Yielding:', i"
     ],
     "language": "python",
     "metadata": {},
     "outputs": [
      {
       "output_type": "stream",
       "stream": "stdout",
       "text": [
        "Testing: -1\n",
        "Testing: 0\n",
        "Testing: 1\n",
        "Yielding: 1\n",
        "Testing: 2\n",
        "Yielding: 2\n",
        "Testing: 3\n",
        "Yielding: 3\n",
        "Testing: 4\n",
        "Yielding: 4\n",
        "Testing: 1\n",
        "Yielding: 1\n",
        "Testing: -2\n"
       ]
      }
     ],
     "prompt_number": 37
    },
    {
     "cell_type": "code",
     "collapsed": false,
     "input": [
      "x = it.permutations([1,2,3,4],3)\n",
      "for i in x:\n",
      "    print i"
     ],
     "language": "python",
     "metadata": {},
     "outputs": [
      {
       "output_type": "stream",
       "stream": "stdout",
       "text": [
        "(1, 2, 3)\n",
        "(1, 2, 4)\n",
        "(1, 3, 2)\n",
        "(1, 3, 4)\n",
        "(1, 4, 2)\n",
        "(1, 4, 3)\n",
        "(2, 1, 3)\n",
        "(2, 1, 4)\n",
        "(2, 3, 1)\n",
        "(2, 3, 4)\n",
        "(2, 4, 1)\n",
        "(2, 4, 3)\n",
        "(3, 1, 2)\n",
        "(3, 1, 4)\n",
        "(3, 2, 1)\n",
        "(3, 2, 4)\n",
        "(3, 4, 1)\n",
        "(3, 4, 2)\n",
        "(4, 1, 2)\n",
        "(4, 1, 3)\n",
        "(4, 2, 1)\n",
        "(4, 2, 3)\n",
        "(4, 3, 1)\n",
        "(4, 3, 2)\n"
       ]
      }
     ],
     "prompt_number": 39
    },
    {
     "cell_type": "code",
     "collapsed": false,
     "input": [
      "x = it.combinations([1,2,3,4],2)\n",
      "for i in x:\n",
      "    print i"
     ],
     "language": "python",
     "metadata": {},
     "outputs": [
      {
       "output_type": "stream",
       "stream": "stdout",
       "text": [
        "(1, 2)\n",
        "(1, 3)\n",
        "(1, 4)\n",
        "(2, 3)\n",
        "(2, 4)\n",
        "(3, 4)\n"
       ]
      }
     ],
     "prompt_number": 40
    },
    {
     "cell_type": "code",
     "collapsed": false,
     "input": [
      "x = it.combinations_with_replacement([1,2,3,4],2)\n",
      "for i in x:\n",
      "    print i"
     ],
     "language": "python",
     "metadata": {},
     "outputs": [
      {
       "output_type": "stream",
       "stream": "stdout",
       "text": [
        "(1, 1)\n",
        "(1, 2)\n",
        "(1, 3)\n",
        "(1, 4)\n",
        "(2, 2)\n",
        "(2, 3)\n",
        "(2, 4)\n",
        "(3, 3)\n",
        "(3, 4)\n",
        "(4, 4)\n"
       ]
      }
     ],
     "prompt_number": 41
    },
    {
     "cell_type": "code",
     "collapsed": false,
     "input": [
      "import timeit\n",
      "\n",
      "t1 = timeit.Timer(stmt=\"imap(lambda x:2*x, xrange(50000))\",setup=\"from itertools import imap\")\n",
      "t2 = timeit.Timer(stmt=\"[2*i for i in xrange(50000)]\")\n",
      "\n",
      "print t1.timeit(number=1000)\n",
      "print t2.timeit(number=1000)"
     ],
     "language": "python",
     "metadata": {},
     "outputs": [
      {
       "output_type": "stream",
       "stream": "stdout",
       "text": [
        "0.000498576864373\n",
        "2.96499826046"
       ]
      },
      {
       "output_type": "stream",
       "stream": "stdout",
       "text": [
        "\n"
       ]
      }
     ],
     "prompt_number": 12
    },
    {
     "cell_type": "code",
     "collapsed": false,
     "input": [
      "import timeit\n",
      "\n",
      "t1 = timeit.Timer(stmt=\"imap(lambda x:2*x, xrange(5000))\",setup=\"from itertools import imap\")\n",
      "t2 = timeit.Timer(stmt=\"[2*i for i in xrange(5000)]\")\n",
      "\n",
      "print t1.timeit(number=1000)\n",
      "print t2.timeit(number=1000)"
     ],
     "language": "python",
     "metadata": {},
     "outputs": [
      {
       "output_type": "stream",
       "stream": "stdout",
       "text": [
        "0.000990647574667\n",
        "0.656811669438"
       ]
      },
      {
       "output_type": "stream",
       "stream": "stdout",
       "text": [
        "\n"
       ]
      }
     ],
     "prompt_number": 16
    },
    {
     "cell_type": "heading",
     "level": 1,
     "metadata": {},
     "source": [
      "operator"
     ]
    },
    {
     "cell_type": "heading",
     "level": 6,
     "metadata": {},
     "source": [
      "The operator module exports a set of efficient functions corresponding to the intrinsic operators of Python. For example, operator.add(x, y) is equivalent to the expression x+y. The function names are those used for special class methods; variants without leading and trailing __ are also provided for convenience."
     ]
    },
    {
     "cell_type": "code",
     "collapsed": false,
     "input": [
      "import operator as op"
     ],
     "language": "python",
     "metadata": {},
     "outputs": [
      {
       "output_type": "stream",
       "stream": "stdout",
       "text": [
        "\n"
       ]
      }
     ],
     "prompt_number": 43
    },
    {
     "cell_type": "code",
     "collapsed": false,
     "input": [
      "a = -1\n",
      "b = 5\n",
      "\n",
      "print 'a =', a\n",
      "print 'b =', b\n",
      "print\n",
      "\n",
      "print 'not_(b)     :', op.not_(a)\n",
      "print 'truth(a)    :', op.truth(0)\n",
      "print 'is_(a, b)   :', op.is_(a,b)\n",
      "print 'is_not(a, b):', op.is_not(a,b)"
     ],
     "language": "python",
     "metadata": {},
     "outputs": [
      {
       "output_type": "stream",
       "stream": "stdout",
       "text": [
        "a = -1\n",
        "b = 5\n",
        "\n",
        "not_(b)     : False\n",
        "truth(a)    : False\n",
        "is_(a, b)   : False\n",
        "is_not(a, b): True\n"
       ]
      }
     ],
     "prompt_number": 50
    },
    {
     "cell_type": "code",
     "collapsed": false,
     "input": [
      "a = 1\n",
      "b = 5.0\n",
      "print\n",
      "\n",
      "print 'a =', a\n",
      "print 'b =', b\n",
      "for func in (op.lt, op.le, op.eq, op.ne, op.ge, op.gt):\n",
      "    print '%s(a, b):' % func.__name__, func(a, b)"
     ],
     "language": "python",
     "metadata": {},
     "outputs": [
      {
       "output_type": "stream",
       "stream": "stdout",
       "text": [
        "\n",
        "a = 1\n",
        "b = 5.0\n",
        "lt(a, b): True\n",
        "le(a, b): True\n",
        "eq(a, b): False\n",
        "ne(a, b): True\n",
        "ge(a, b): False\n",
        "gt(a, b): False\n"
       ]
      }
     ],
     "prompt_number": 51
    },
    {
     "cell_type": "code",
     "collapsed": false,
     "input": [
      "a = -1\n",
      "b = 5.0\n",
      "c = 2\n",
      "d = 6\n",
      "\n",
      "print 'a =', a\n",
      "print 'b =', b\n",
      "print 'c =', c\n",
      "print 'd =', d\n",
      "\n",
      "print '\\nPositive/Negative:'\n",
      "print 'abs(a):', op.abs(a)\n",
      "print 'neg(a):', op.neg(a)\n",
      "print 'neg(b):', op.neg(b)\n",
      "print 'pos(a):', op.pos(a)\n",
      "print 'pos(b):', op.pos(b)\n",
      "\n",
      "print '\\nArithmetic:'\n",
      "print 'add(a, b)     :', op.add(a, b)\n",
      "print 'div(a, b)     :', op.div(a, b)\n",
      "print 'div(d, c)     :', op.div(d, c)\n",
      "print 'floordiv(a, b):', op.floordiv(a, b)\n",
      "print 'floordiv(d, c):', op.floordiv(d, c)\n",
      "print 'mod(a, b)     :', op.mod(a, b)\n",
      "print 'mul(a, b)     :', op.mul(a, b)\n",
      "print 'pow(c, d)     :', op.pow(c, d)\n",
      "print 'sub(b, a)     :', op.sub(b, a)\n",
      "print 'truediv(a, b) :', op.truediv(a, b)\n",
      "print 'truediv(d, c) :', op.truediv(d, c)\n",
      "\n",
      "print '\\nBitwise:'\n",
      "print 'and_(c, d)  :', op.and_(c, d)\n",
      "print 'invert(c)   :', op.invert(c)\n",
      "print 'lshift(c, d):', op.lshift(c, d)\n",
      "print 'or_(c, d)   :', op.or_(c, d)\n",
      "print 'rshift(d, c):', op.rshift(d, c)\n",
      "print 'xor(c, d)   :', op.xor(c, d)"
     ],
     "language": "python",
     "metadata": {},
     "outputs": [
      {
       "output_type": "stream",
       "stream": "stdout",
       "text": [
        "a = -1\n",
        "b = 5.0\n",
        "c = 2\n",
        "d = 6\n",
        "\n",
        "Positive/Negative:\n",
        "abs(a): 1\n",
        "neg(a): 1\n",
        "neg(b): -5.0\n",
        "pos(a): -1\n",
        "pos(b): 5.0\n",
        "\n",
        "Arithmetic:\n",
        "add(a, b)     : 4.0\n",
        "div(a, b)     : -0.2\n",
        "div(d, c)     : 3\n",
        "floordiv(a, b): -1.0\n",
        "floordiv(d, c): 3\n",
        "mod(a, b)     : 4.0\n",
        "mul(a, b)     : -5.0\n",
        "pow(c, d)     : 64\n",
        "sub(b, a)     : 6.0\n",
        "truediv(a, b) : -0.2\n",
        "truediv(d, c) : 3.0\n",
        "\n",
        "Bitwise:\n",
        "and_(c, d)  : 2\n",
        "invert(c)   : -3\n",
        "lshift(c, d): 128\n",
        "or_(c, d)   : 6\n",
        "rshift(d, c): 1\n",
        "xor(c, d)   : 4\n"
       ]
      }
     ],
     "prompt_number": 52
    },
    {
     "cell_type": "heading",
     "level": 1,
     "metadata": {},
     "source": [
      "functools"
     ]
    },
    {
     "cell_type": "heading",
     "level": 6,
     "metadata": {},
     "source": [
      "The functools module is for higher-order functions: functions that act on or return other functions. In general, any callable object can be treated as a function for the purposes of this module."
     ]
    },
    {
     "cell_type": "code",
     "collapsed": false,
     "input": [
      "import functools as ft"
     ],
     "language": "python",
     "metadata": {},
     "outputs": [],
     "prompt_number": 59
    },
    {
     "cell_type": "code",
     "collapsed": false,
     "input": [
      "def power(base, exponent):\n",
      "    return base ** exponent\n",
      "\n",
      "def square(base):\n",
      "    return power(base, 2)\n",
      "\n",
      "def cube(base):\n",
      "    return power(base, 3)\n",
      "\n",
      "print square(4)\n",
      "print cube(5)\n",
      "type(square)"
     ],
     "language": "python",
     "metadata": {},
     "outputs": [
      {
       "output_type": "stream",
       "stream": "stdout",
       "text": [
        "16\n",
        "125\n"
       ]
      },
      {
       "metadata": {},
       "output_type": "pyout",
       "prompt_number": 65,
       "text": [
        "function"
       ]
      }
     ],
     "prompt_number": 65
    },
    {
     "cell_type": "code",
     "collapsed": false,
     "input": [
      "from functools import partial\n",
      "\n",
      "square2 = ft.partial(power, exponent=2)\n",
      "cube = ft.partial(power, exponent=3)\n",
      "\n",
      "print square(4)\n",
      "print cube(5)\n",
      "type(square)"
     ],
     "language": "python",
     "metadata": {},
     "outputs": [
      {
       "output_type": "stream",
       "stream": "stdout",
       "text": [
        "16\n",
        "125\n"
       ]
      },
      {
       "metadata": {},
       "output_type": "pyout",
       "prompt_number": 66,
       "text": [
        "function"
       ]
      }
     ],
     "prompt_number": 66
    },
    {
     "cell_type": "code",
     "collapsed": false,
     "input": [
      "%%prun\n",
      "\n",
      "for x in xrange(100):\n",
      "    power(x,2)"
     ],
     "language": "python",
     "metadata": {},
     "outputs": [
      {
       "output_type": "stream",
       "stream": "stdout",
       "text": [
        " "
       ]
      }
     ],
     "prompt_number": 76
    },
    {
     "cell_type": "code",
     "collapsed": false,
     "input": [
      "%%prun\n",
      "\n",
      "for x in xrange(100):\n",
      "    square2(x)"
     ],
     "language": "python",
     "metadata": {},
     "outputs": [
      {
       "output_type": "stream",
       "stream": "stdout",
       "text": [
        " "
       ]
      }
     ],
     "prompt_number": 75
    },
    {
     "cell_type": "code",
     "collapsed": false,
     "input": [],
     "language": "python",
     "metadata": {},
     "outputs": []
    },
    {
     "cell_type": "code",
     "collapsed": false,
     "input": [
      "%%prun\n",
      "\n",
      "for x in xrange(100):\n",
      "    square(x)"
     ],
     "language": "python",
     "metadata": {},
     "outputs": [
      {
       "output_type": "stream",
       "stream": "stdout",
       "text": [
        " "
       ]
      }
     ],
     "prompt_number": 74
    },
    {
     "cell_type": "code",
     "collapsed": false,
     "input": [
      "def dotprod1(vector1,vector2):\n",
      "    return sum(it.imap(op.mul, vector1, vector2))\n",
      "\n",
      "def dotprod2(vector1,vector2):\n",
      "    return sum(it.imap(lambda a,b: a*b, vector1, vector2))\n",
      "\n",
      "\n",
      "v1 = [1,2,3,5,3,6,3,6,7,3,6,3,65,2]\n",
      "v2 = [4,6,1,5,67,3,5,7,3,6,7,4,2,4]\n",
      "print dotprod1(v1,v2)\n",
      "print dotprod2(v1,v2)\n",
      "\n",
      "%timeit(dotprod1(v1,v2))\n",
      "%timeit(dotprod2(v1,v2))"
     ],
     "language": "python",
     "metadata": {},
     "outputs": [
      {
       "output_type": "stream",
       "stream": "stdout",
       "text": [
        "551\n",
        "551\n",
        "100000 loops, best of 3: 3.02 \u00b5s per loop"
       ]
      },
      {
       "output_type": "stream",
       "stream": "stdout",
       "text": [
        "\n",
        "100000 loops, best of 3: 3.71 \u00b5s per loop"
       ]
      },
      {
       "output_type": "stream",
       "stream": "stdout",
       "text": [
        "\n"
       ]
      }
     ],
     "prompt_number": 58
    },
    {
     "cell_type": "code",
     "collapsed": false,
     "input": [],
     "language": "python",
     "metadata": {},
     "outputs": []
    },
    {
     "cell_type": "code",
     "collapsed": false,
     "input": [],
     "language": "python",
     "metadata": {},
     "outputs": []
    }
   ],
   "metadata": {}
  }
 ]
}