{
 "cells": [
  {
   "cell_type": "code",
   "execution_count": 1,
   "metadata": {
    "collapsed": true
   },
   "outputs": [],
   "source": [
    "from numpy.random import random"
   ]
  },
  {
   "cell_type": "markdown",
   "metadata": {},
   "source": [
    "# Basic Classes"
   ]
  },
  {
   "cell_type": "code",
   "execution_count": 3,
   "metadata": {
    "collapsed": false
   },
   "outputs": [],
   "source": [
    "class BasicCell(object):\n",
    "    \"\"\" The Cell class. \"\"\"\n",
    "    \n",
    "    def __init__(self, size, age):\n",
    "        self.size = size\n",
    "        self.age = age"
   ]
  },
  {
   "cell_type": "code",
   "execution_count": 4,
   "metadata": {
    "collapsed": true
   },
   "outputs": [],
   "source": [
    "c = BasicCell(size=4, age=10)"
   ]
  },
  {
   "cell_type": "code",
   "execution_count": 5,
   "metadata": {
    "collapsed": false
   },
   "outputs": [
    {
     "data": {
      "text/plain": [
       "10"
      ]
     },
     "execution_count": 5,
     "metadata": {},
     "output_type": "execute_result"
    }
   ],
   "source": [
    "c.age"
   ]
  },
  {
   "cell_type": "code",
   "execution_count": 6,
   "metadata": {
    "collapsed": true
   },
   "outputs": [],
   "source": [
    "class CellPopulation(object):\n",
    "    \"\"\" Population of cells. \"\"\"\n",
    "    \n",
    "    def __init__(self):\n",
    "        self.population = []\n",
    "        \n",
    "    def add_cell(self, cell):\n",
    "        self.population.append(cell)\n",
    "        \n",
    "    def remove_cell(self, cell):\n",
    "        self.population.remove(cell)"
   ]
  },
  {
   "cell_type": "markdown",
   "metadata": {},
   "source": [
    "# Type checking & Subclassing"
   ]
  },
  {
   "cell_type": "code",
   "execution_count": 11,
   "metadata": {
    "collapsed": false
   },
   "outputs": [],
   "source": [
    "class NotACellError(Exception):\n",
    "    pass\n",
    "    \n",
    "class CellPopulation(object):\n",
    "    \"\"\" Population of cells. \"\"\"\n",
    "    \n",
    "    def __init__(self):\n",
    "        self.population = []\n",
    "        \n",
    "    def add_cell(self, cell):            \n",
    "        \n",
    "        if isinstance(cell, BasicCell):\n",
    "            self.population.append(cell)\n",
    "        else:\n",
    "            raise NotACellError(\"{} is not a Cell\".format(cell))\n",
    "        \n",
    "    def remove_cell(self, cell):\n",
    "        self.population.remove(cell)"
   ]
  },
  {
   "cell_type": "code",
   "execution_count": 21,
   "metadata": {
    "collapsed": false
   },
   "outputs": [
    {
     "data": {
      "text/plain": [
       "[<__main__.BasicCell at 0x7f9d232d7ba8>]"
      ]
     },
     "execution_count": 21,
     "metadata": {},
     "output_type": "execute_result"
    }
   ],
   "source": [
    "pop = CellPopulation()\n",
    "pop.add_cell(BasicCell(4,5))\n",
    "pop.population"
   ]
  },
  {
   "cell_type": "markdown",
   "metadata": {},
   "source": [
    "# Cell Magics Methods and Properties"
   ]
  },
  {
   "cell_type": "code",
   "execution_count": 36,
   "metadata": {
    "collapsed": true
   },
   "outputs": [],
   "source": [
    "class BetterCell(BasicCell):\n",
    "    \"\"\" The BetterCell class. \n",
    "    Contains more methods than BasicCell. \"\"\"\n",
    "        \n",
    "    def grow(self):\n",
    "        \"\"\"Grows the cell by a random amount, and ages it by 1. \"\"\"\n",
    "        self.size += random()\n",
    "        self.age += 1\n",
    "        \n",
    "    def __repr__(self):\n",
    "        \"\"\" Object representation for identification. \"\"\"\n",
    "        return \"<Cell Size:{}, Age:{}>\".format(self.size, self.age)\n",
    "    \n",
    "    def __str__(self):\n",
    "        \"\"\" Human readable string representation. \"\"\"\n",
    "        return \"\"\"==============\n",
    "|    Cell    |\n",
    "|  Age: {}   |\n",
    "|  Size: {:.2f}  |\n",
    "==============\"\"\".format(int(self.age), self.size)\n",
    "    \n",
    "    @property\n",
    "    def size_category(self):\n",
    "        if self.size > 40:\n",
    "            return 'Large'\n",
    "        else:\n",
    "            return 'Small'   "
   ]
  },
  {
   "cell_type": "code",
   "execution_count": 37,
   "metadata": {
    "collapsed": false
   },
   "outputs": [],
   "source": [
    "c = BetterCell(40, 20)"
   ]
  },
  {
   "cell_type": "code",
   "execution_count": 38,
   "metadata": {
    "collapsed": false
   },
   "outputs": [
    {
     "data": {
      "text/plain": [
       "<Cell Size:40, Age:20>"
      ]
     },
     "execution_count": 38,
     "metadata": {},
     "output_type": "execute_result"
    }
   ],
   "source": [
    "c"
   ]
  },
  {
   "cell_type": "code",
   "execution_count": 39,
   "metadata": {
    "collapsed": false
   },
   "outputs": [
    {
     "name": "stdout",
     "output_type": "stream",
     "text": [
      "==============\n",
      "|    Cell    |\n",
      "|  Age: 20   |\n",
      "|  Size: 40.00  |\n",
      "==============\n"
     ]
    }
   ],
   "source": [
    "print(c)"
   ]
  },
  {
   "cell_type": "code",
   "execution_count": 29,
   "metadata": {
    "collapsed": false
   },
   "outputs": [
    {
     "data": {
      "text/plain": [
       "'Small'"
      ]
     },
     "execution_count": 29,
     "metadata": {},
     "output_type": "execute_result"
    }
   ],
   "source": [
    "c.size_category"
   ]
  },
  {
   "cell_type": "code",
   "execution_count": 35,
   "metadata": {
    "collapsed": false
   },
   "outputs": [
    {
     "data": {
      "text/plain": [
       "41.62846566875736"
      ]
     },
     "execution_count": 35,
     "metadata": {},
     "output_type": "execute_result"
    }
   ],
   "source": [
    "c.grow()\n",
    "c.size"
   ]
  },
  {
   "cell_type": "code",
   "execution_count": 41,
   "metadata": {
    "collapsed": false
   },
   "outputs": [
    {
     "data": {
      "text/plain": [
       "True"
      ]
     },
     "execution_count": 41,
     "metadata": {},
     "output_type": "execute_result"
    }
   ],
   "source": [
    "isinstance(c, BasicCell)"
   ]
  },
  {
   "cell_type": "markdown",
   "metadata": {},
   "source": [
    "# Comparison Methods + Addition"
   ]
  },
  {
   "cell_type": "code",
   "execution_count": 54,
   "metadata": {
    "collapsed": false
   },
   "outputs": [],
   "source": [
    "class EvenBetterCell(BetterCell):\n",
    "    \"\"\" The EvenBetterCell class. \n",
    "    Contains more methods than BetterCell. \"\"\"\n",
    "            \n",
    "    def __repr__(self):\n",
    "        return self.__str__()\n",
    "    \n",
    "    def __lt__(self, other):\n",
    "        if isinstance(other, BasicCell):\n",
    "            return self.size < other.size\n",
    "        else:\n",
    "            raise NotACellError(\"Cannot compare Cells with Non-Cells\")\n",
    "        \n",
    "    def __eq__(self, other):\n",
    "        if isinstance(other, BasicCell):\n",
    "            return self.size == other.size\n",
    "        else:\n",
    "            raise NotACellError(\"Cannot compare Cells with Non-Cells\")\n",
    "            \n",
    "    def __le__(self, other):\n",
    "        return self.__eq__() or self.__lt__()\n",
    "    \n",
    "    def __add__(self, other):\n",
    "        \"\"\" Merges two cells together. \"\"\"\n",
    "        if isinstance(other, BasicCell):\n",
    "            return self.__class__(size = self.size + other.size, 0.5*(self.age + other.age))\n",
    "        else:\n",
    "            raise NotACellError(\"Cannot compare Cells with Non-Cells\")\n",
    "            \n",
    "    def __truediv__(self, other): # __div__ in Python2\n",
    "        \"\"\" Splits a cell into 'other' peices. \"\"\"\n",
    "        if isinstance(other, int):\n",
    "            half = self.__class__(self.size/other, self.age)\n",
    "            return (half, half)\n",
    "        else:\n",
    "            raise NotImplementedError"
   ]
  },
  {
   "cell_type": "code",
   "execution_count": 55,
   "metadata": {
    "collapsed": false
   },
   "outputs": [],
   "source": [
    "c1, c2 = EvenBetterCell(size=10, age=20), EvenBetterCell(size=15, age=30)"
   ]
  },
  {
   "cell_type": "code",
   "execution_count": 46,
   "metadata": {
    "collapsed": false
   },
   "outputs": [
    {
     "data": {
      "text/plain": [
       "(==============\n",
       " |    Cell    |\n",
       " |  Age: 20   |\n",
       " |  Size: 10.00  |\n",
       " ==============, ==============\n",
       " |    Cell    |\n",
       " |  Age: 30   |\n",
       " |  Size: 15.00  |\n",
       " ==============)"
      ]
     },
     "execution_count": 46,
     "metadata": {},
     "output_type": "execute_result"
    }
   ],
   "source": [
    "c1, c2"
   ]
  },
  {
   "cell_type": "code",
   "execution_count": 47,
   "metadata": {
    "collapsed": false
   },
   "outputs": [
    {
     "data": {
      "text/plain": [
       "True"
      ]
     },
     "execution_count": 47,
     "metadata": {},
     "output_type": "execute_result"
    }
   ],
   "source": [
    "c1 < c2"
   ]
  },
  {
   "cell_type": "code",
   "execution_count": 52,
   "metadata": {
    "collapsed": false
   },
   "outputs": [
    {
     "data": {
      "text/plain": [
       "==============\n",
       "|    Cell    |\n",
       "|  Age: 25   |\n",
       "|  Size: 25.00  |\n",
       "=============="
      ]
     },
     "execution_count": 52,
     "metadata": {},
     "output_type": "execute_result"
    }
   ],
   "source": [
    "c1 + c2"
   ]
  },
  {
   "cell_type": "code",
   "execution_count": 57,
   "metadata": {
    "collapsed": false
   },
   "outputs": [
    {
     "ename": "TypeError",
     "evalue": "unsupported operand type(s) for *: 'EvenBetterCell' and 'int'",
     "output_type": "error",
     "traceback": [
      "\u001b[0;31m---------------------------------------------------------------------------\u001b[0m",
      "\u001b[0;31mTypeError\u001b[0m                                 Traceback (most recent call last)",
      "\u001b[0;32m<ipython-input-57-c1be18150f95>\u001b[0m in \u001b[0;36m<module>\u001b[0;34m()\u001b[0m\n\u001b[0;32m----> 1\u001b[0;31m \u001b[0mc2\u001b[0m \u001b[0;34m/\u001b[0m \u001b[0;36m2\u001b[0m\u001b[0;34m\u001b[0m\u001b[0m\n\u001b[0m",
      "\u001b[0;32m<ipython-input-54-df56830c9b21>\u001b[0m in \u001b[0;36m__truediv__\u001b[0;34m(self, other)\u001b[0m\n\u001b[1;32m     32\u001b[0m         \u001b[0;32mif\u001b[0m \u001b[0misinstance\u001b[0m\u001b[0;34m(\u001b[0m\u001b[0mother\u001b[0m\u001b[0;34m,\u001b[0m \u001b[0mint\u001b[0m\u001b[0;34m)\u001b[0m\u001b[0;34m:\u001b[0m\u001b[0;34m\u001b[0m\u001b[0m\n\u001b[1;32m     33\u001b[0m             \u001b[0mhalf\u001b[0m \u001b[0;34m=\u001b[0m \u001b[0mself\u001b[0m\u001b[0;34m.\u001b[0m\u001b[0m__class__\u001b[0m\u001b[0;34m(\u001b[0m\u001b[0mself\u001b[0m\u001b[0;34m.\u001b[0m\u001b[0msize\u001b[0m\u001b[0;34m/\u001b[0m\u001b[0mother\u001b[0m\u001b[0;34m,\u001b[0m \u001b[0mself\u001b[0m\u001b[0;34m.\u001b[0m\u001b[0mage\u001b[0m\u001b[0;34m)\u001b[0m\u001b[0;34m\u001b[0m\u001b[0m\n\u001b[0;32m---> 34\u001b[0;31m             \u001b[0;32mreturn\u001b[0m \u001b[0;34m(\u001b[0m\u001b[0mhalf\u001b[0m\u001b[0;34m)\u001b[0m\u001b[0;34m*\u001b[0m\u001b[0mother\u001b[0m\u001b[0;34m\u001b[0m\u001b[0m\n\u001b[0m\u001b[1;32m     35\u001b[0m         \u001b[0;32melse\u001b[0m\u001b[0;34m:\u001b[0m\u001b[0;34m\u001b[0m\u001b[0m\n\u001b[1;32m     36\u001b[0m             \u001b[0;32mraise\u001b[0m \u001b[0mNotImplementedError\u001b[0m\u001b[0;34m\u001b[0m\u001b[0m\n",
      "\u001b[0;31mTypeError\u001b[0m: unsupported operand type(s) for *: 'EvenBetterCell' and 'int'"
     ]
    }
   ],
   "source": [
    "c2 / 2"
   ]
  },
  {
   "cell_type": "markdown",
   "metadata": {},
   "source": [
    "# Iterators"
   ]
  },
  {
   "cell_type": "code",
   "execution_count": 58,
   "metadata": {
    "collapsed": true
   },
   "outputs": [],
   "source": [
    "class BetterCellPopulation(CellPopulation):\n",
    "    \n",
    "#    def __init__(self):\n",
    "#        super().__init__() # Different in Python2\n",
    "#        self.index = 0\n",
    "\n",
    "    def __getitem__(self, ix):\n",
    "        return self.population[ix]\n",
    "    \n",
    "#     def __iter__(self):\n",
    "#         return self\n",
    "\n",
    "#     def __next__(self):\n",
    "#         if self.index == len(self.population):\n",
    "#             self.index = 0\n",
    "#             raise StopIteration\n",
    "#         self.index += 1\n",
    "#         return self.population[self.index]"
   ]
  },
  {
   "cell_type": "code",
   "execution_count": 59,
   "metadata": {
    "collapsed": false
   },
   "outputs": [],
   "source": [
    "culture = BetterCellPopulation()\n",
    "culture.population = [EvenBetterCell(x,y) for x,y in zip(20*random(10), 30*random(10))]"
   ]
  },
  {
   "cell_type": "code",
   "execution_count": 60,
   "metadata": {
    "collapsed": false
   },
   "outputs": [
    {
     "name": "stdout",
     "output_type": "stream",
     "text": [
      "==============\n",
      "|    Cell    |\n",
      "|  Age: 27   |\n",
      "|  Size: 4.81  |\n",
      "==============\n",
      "==============\n",
      "|    Cell    |\n",
      "|  Age: 0   |\n",
      "|  Size: 2.05  |\n",
      "==============\n",
      "==============\n",
      "|    Cell    |\n",
      "|  Age: 4   |\n",
      "|  Size: 12.10  |\n",
      "==============\n",
      "==============\n",
      "|    Cell    |\n",
      "|  Age: 6   |\n",
      "|  Size: 10.30  |\n",
      "==============\n",
      "==============\n",
      "|    Cell    |\n",
      "|  Age: 11   |\n",
      "|  Size: 10.58  |\n",
      "==============\n",
      "==============\n",
      "|    Cell    |\n",
      "|  Age: 15   |\n",
      "|  Size: 14.93  |\n",
      "==============\n",
      "==============\n",
      "|    Cell    |\n",
      "|  Age: 11   |\n",
      "|  Size: 18.89  |\n",
      "==============\n",
      "==============\n",
      "|    Cell    |\n",
      "|  Age: 8   |\n",
      "|  Size: 18.85  |\n",
      "==============\n",
      "==============\n",
      "|    Cell    |\n",
      "|  Age: 5   |\n",
      "|  Size: 17.75  |\n",
      "==============\n",
      "==============\n",
      "|    Cell    |\n",
      "|  Age: 6   |\n",
      "|  Size: 9.15  |\n",
      "==============\n"
     ]
    }
   ],
   "source": [
    "for cell in culture:\n",
    "    print(cell)"
   ]
  },
  {
   "cell_type": "markdown",
   "metadata": {},
   "source": [
    "# "
   ]
  },
  {
   "cell_type": "code",
   "execution_count": 62,
   "metadata": {
    "collapsed": true
   },
   "outputs": [],
   "source": [
    "import time\n",
    "\n",
    "class SimulationTimer(object):\n",
    "    \n",
    "    def __init__(self):\n",
    "        pass\n",
    "    \n",
    "    def __enter__(self):\n",
    "        self.culture = BetterCellPopulation()\n",
    "        self.time_start = time.time()\n",
    "        return self.culture\n",
    "    \n",
    "    def __exit__(self, *args):\n",
    "        self.time_end = time.time()\n",
    "        print(\"Simulation Complete: Took {}s\".format(self.time_end - self.time_start))\n",
    "        print(\"Final State:\")\n",
    "        for cell in self.culture:\n",
    "            print(cell)"
   ]
  },
  {
   "cell_type": "code",
   "execution_count": 64,
   "metadata": {
    "collapsed": false
   },
   "outputs": [
    {
     "name": "stdout",
     "output_type": "stream",
     "text": [
      "Simulation Complete: Took 5.005125045776367s\n",
      "Final State:\n",
      "==============\n",
      "|    Cell    |\n",
      "|  Age: 11   |\n",
      "|  Size: 10.50  |\n",
      "==============\n",
      "==============\n",
      "|    Cell    |\n",
      "|  Age: 31   |\n",
      "|  Size: 20.07  |\n",
      "==============\n"
     ]
    }
   ],
   "source": [
    "with SimulationTimer() as sim1:\n",
    "    sim1.add_cell(EvenBetterCell(10, 10))\n",
    "    sim1.add_cell(EvenBetterCell(20, 30))\n",
    "    time.sleep(5)\n",
    "    for cell in sim1:\n",
    "        cell.grow()"
   ]
  },
  {
   "cell_type": "markdown",
   "metadata": {},
   "source": [
    "# Other Magics\n",
    "\n",
    "\n",
    "__call__\n",
    "\n",
    "__contains__"
   ]
  },
  {
   "cell_type": "code",
   "execution_count": null,
   "metadata": {
    "collapsed": true
   },
   "outputs": [],
   "source": [
    "__contains__\n",
    "\n",
    "__int__\n",
    "\n",
    "__hash__\n",
    "\n"
   ]
  }
 ],
 "metadata": {
  "anaconda-cloud": {},
  "kernelspec": {
   "display_name": "Python [conda env:python3]",
   "language": "python",
   "name": "conda-env-python3-py"
  },
  "language_info": {
   "codemirror_mode": {
    "name": "ipython",
    "version": 3
   },
   "file_extension": ".py",
   "mimetype": "text/x-python",
   "name": "python",
   "nbconvert_exporter": "python",
   "pygments_lexer": "ipython3",
   "version": "3.4.5"
  }
 },
 "nbformat": 4,
 "nbformat_minor": 1
}
