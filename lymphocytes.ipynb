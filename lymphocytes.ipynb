{
 "cells": [
  {
   "cell_type": "markdown",
   "metadata": {},
   "source": [
    "# Lymphocyte differentiation\n",
    "## A tutorial on Agent based models in python\n",
    "### Python \"club\" - October 2016\n",
    "1st version: 20/10/2016\n",
    "Last version: 21/10/2016"
   ]
  },
  {
   "cell_type": "code",
   "execution_count": 1,
   "metadata": {
    "collapsed": true
   },
   "outputs": [],
   "source": [
    "class Cell(object):\n",
    "    ''' The mother of all the cells'''\n",
    "    def __init__(self):\n",
    "        ''' The constructor'''\n",
    "        self.type = 'generic'\n",
    "        self.place = 'wherever'\n",
    "        self.state = 'undefined'\n",
    "    def __str__(self):\n",
    "        ''' When you call using print'''\n",
    "        return \"Type: %s Place: %s State: %s\"%(self.type,self.place,self.state)\n",
    "    def death(self):\n",
    "        ''' Kill a cell'''\n",
    "        print \"I'ts the end of the world as we know it!\"\n",
    "        self.state='dead'"
   ]
  },
  {
   "cell_type": "code",
   "execution_count": 14,
   "metadata": {
    "collapsed": false
   },
   "outputs": [
    {
     "name": "stdout",
     "output_type": "stream",
     "text": [
      "Type: generic Place: wherever State: undefined\n",
      "wherever\n",
      "undefined\n",
      "I'ts the end of the world as we know it!\n",
      "dead\n"
     ]
    }
   ],
   "source": [
    "c = Cell()\n",
    "print c\n",
    "print c.place # The dot allows us to access to the class attributes and methods\n",
    "print c.state\n",
    "c.death()\n",
    "print c.state"
   ]
  },
  {
   "cell_type": "markdown",
   "metadata": {},
   "source": [
    "### Let's play with inheritance"
   ]
  },
  {
   "cell_type": "code",
   "execution_count": 3,
   "metadata": {
    "collapsed": true
   },
   "outputs": [],
   "source": [
    "class lymphoid(Cell):\n",
    "    def __init__(self):\n",
    "        self.type = 'lymphoid progenitor'\n",
    "        self.place = 'bone marrow'\n",
    "        self.state = 'immature'"
   ]
  },
  {
   "cell_type": "code",
   "execution_count": 15,
   "metadata": {
    "collapsed": false
   },
   "outputs": [
    {
     "name": "stdout",
     "output_type": "stream",
     "text": [
      "Type: lymphoid progenitor Place: bone marrow State: immature\n",
      "immature\n",
      "I'ts the end of the world as we know it!\n",
      "dead\n"
     ]
    }
   ],
   "source": [
    "l = lymphoid()\n",
    "print l\n",
    "print l.state\n",
    "l.death() # lymphoid has inherited the method \"death\" from its ancestor\n",
    "print l.state"
   ]
  },
  {
   "cell_type": "markdown",
   "metadata": {},
   "source": [
    "### Create a bunch of lymphoid cells"
   ]
  },
  {
   "cell_type": "code",
   "execution_count": 6,
   "metadata": {
    "collapsed": true
   },
   "outputs": [],
   "source": [
    "lymphoid_list = [lymphoid() for i in range(10)]"
   ]
  },
  {
   "cell_type": "markdown",
   "metadata": {},
   "source": [
    "This command is called 'list comprehension\n",
    "The syntax is simple: call to \"lymphoid()\" for every item 'i' in the list range(10)=0,1,...9"
   ]
  },
  {
   "cell_type": "markdown",
   "metadata": {},
   "source": [
    "### Lets modify our class to do more interesting stuff. But first, let's play with random numbers"
   ]
  },
  {
   "cell_type": "code",
   "execution_count": 10,
   "metadata": {
    "collapsed": false
   },
   "outputs": [
    {
     "name": "stdout",
     "output_type": "stream",
     "text": [
      "0.458430879605\n",
      "2\n"
     ]
    },
    {
     "data": {
      "text/plain": [
       "0.0"
      ]
     },
     "execution_count": 10,
     "metadata": {},
     "output_type": "execute_result"
    }
   ],
   "source": [
    "from random import random,randint\n",
    "print random()\n",
    "print randint(1,8)\n",
    "from math import log\n",
    "log(1.)"
   ]
  },
  {
   "cell_type": "markdown",
   "metadata": {},
   "source": [
    "### Let's extend the lymphoid class a little bit"
   ]
  },
  {
   "cell_type": "code",
   "execution_count": 16,
   "metadata": {
    "collapsed": false
   },
   "outputs": [],
   "source": [
    "class lymphoid(Cell):\n",
    "    def __init__(self):\n",
    "        self.type = 'lymphoid progenitor'\n",
    "        self.wheretogo = 0.6 # Probability of staying at the bone marrow or go to the thymus\n",
    "        self.place = 'bone marrow'\n",
    "        self.state = 'immature'\n",
    "    def move(self):\n",
    "        if random()>=0.6:\n",
    "            self.place = 'thymus'\n",
    "            "
   ]
  },
  {
   "cell_type": "markdown",
   "metadata": {},
   "source": [
    "### Give these cells some friends..."
   ]
  },
  {
   "cell_type": "code",
   "execution_count": 18,
   "metadata": {
    "collapsed": true
   },
   "outputs": [],
   "source": [
    "class APC(Cell):\n",
    "    ''' Antigen presenting cell'''\n",
    "    def __init__(self,place='thymus'):\n",
    "        self.type = 'Antigen presenting cell'\n",
    "        self.place = place\n",
    "        self.pMHC = random()\n",
    "        self.HLA = randint(0,1)\n",
    "        self.state = 'undefined'\n",
    "    "
   ]
  },
  {
   "cell_type": "code",
   "execution_count": 19,
   "metadata": {
    "collapsed": false
   },
   "outputs": [
    {
     "name": "stdout",
     "output_type": "stream",
     "text": [
      "Type: lymphoid progenitor Place: bone marrow State: immature\n",
      "Type: lymphoid progenitor Place: thymus State: immature\n"
     ]
    }
   ],
   "source": [
    "l = lymphoid()\n",
    "print l\n",
    "l.move()\n",
    "print l"
   ]
  },
  {
   "cell_type": "markdown",
   "metadata": {},
   "source": [
    "#### Sometimes, the best way to deal with agents is to collect them into a new class."
   ]
  },
  {
   "cell_type": "code",
   "execution_count": 27,
   "metadata": {
    "collapsed": false
   },
   "outputs": [],
   "source": [
    "class CellPopulation(object):\n",
    "    def __init__(self):\n",
    "        self.thelist = [] # To store the elements of the population\n",
    "        self.len = 0 # The length \n",
    "    \n",
    "    def add(self,newcell):\n",
    "        self.thelist.append(newcell)\n",
    "        self.len += 1 # we could do simply len(self.thelist), but that takes time\n",
    "    \n",
    "    def __str__(self):\n",
    "        ''' Define the output when printing '''\n",
    "        out = \"\"\n",
    "        for i in range(self.len):\n",
    "            out += self.thelist[i].__str__()+\"\\n\" # Concatenate the outputs of every cell.\n",
    "        return out\n",
    "    \n",
    "    def killcell(self,i):\n",
    "        self.thelist[i].state ='dead'\n",
    "        self.updatecell(i)\n",
    "    \n",
    "    def updatecell(self,i):\n",
    "        if self.thelist[i].state=='dead':\n",
    "            self.thelist[i]=self.thelist[-1] # A good-old trick, replace the current by the last...\n",
    "            self.thelist.pop(-1) # ... and pop the last element (this is the fastest way to kill)\n",
    "            self.len -= 1 # Update the count"
   ]
  },
  {
   "cell_type": "code",
   "execution_count": 28,
   "metadata": {
    "collapsed": false
   },
   "outputs": [],
   "source": [
    "cp = CellPopulation()\n",
    "[cp.add(lymphoid()) for i in range(5)];"
   ]
  },
  {
   "cell_type": "code",
   "execution_count": 29,
   "metadata": {
    "collapsed": false
   },
   "outputs": [
    {
     "name": "stdout",
     "output_type": "stream",
     "text": [
      "Type: lymphoid progenitor Place: bone marrow State: immature\n",
      "Type: lymphoid progenitor Place: bone marrow State: immature\n",
      "Type: lymphoid progenitor Place: bone marrow State: immature\n",
      "Type: lymphoid progenitor Place: bone marrow State: immature\n",
      "Type: lymphoid progenitor Place: bone marrow State: immature\n",
      "\n",
      "Type: lymphoid progenitor Place: bone marrow State: immature\n",
      "Type: lymphoid progenitor Place: bone marrow State: immature\n",
      "Type: lymphoid progenitor Place: bone marrow State: immature\n",
      "Type: lymphoid progenitor Place: bone marrow State: immature\n",
      "\n"
     ]
    }
   ],
   "source": [
    "print cp\n",
    "cp.killcell(4)\n",
    "print cp"
   ]
  },
  {
   "cell_type": "markdown",
   "metadata": {},
   "source": [
    "### Create the T lymphocytes"
   ]
  },
  {
   "cell_type": "code",
   "execution_count": 30,
   "metadata": {
    "collapsed": false
   },
   "outputs": [],
   "source": [
    "class tlymph(lymphoid):\n",
    "    def __init__(self):\n",
    "        self.type = 'T lymphocyte'\n",
    "        self.place = 'thymus'\n",
    "        self.state = 'beta_arrangement'\n",
    "        self.TCR = random()\n",
    "        \n",
    "    def checkpoint(self,APC):\n",
    "        #print 'pre-state: ',self.state\n",
    "        if self.state =='beta_arrangement':\n",
    "            self.state = 'alpha_arrangement'\n",
    "            if APC.pMHC > self.TCR:\n",
    "                self.state = 'dead'\n",
    "                \n",
    "        if self.state=='alpha_arrangement':\n",
    "            if APC.HLA == 1:\n",
    "                self.state = 'Killer T-cell'\n",
    "            else:\n",
    "                self.state = 'Helper T-cell'\n",
    "        #print 'post-state: ',self.state"
   ]
  },
  {
   "cell_type": "markdown",
   "metadata": {},
   "source": [
    "### Let's play with the cells"
   ]
  },
  {
   "cell_type": "code",
   "execution_count": 36,
   "metadata": {
    "collapsed": false
   },
   "outputs": [
    {
     "name": "stdout",
     "output_type": "stream",
     "text": [
      "Type: T lymphocyte Place: thymus State: beta_arrangement\n",
      "Type: Antigen presenting cell Place: thymus State: undefined\n",
      "Type: Antigen presenting cell Place: thymus State: undefined\n"
     ]
    }
   ],
   "source": [
    "t = tlymph()\n",
    "a = APC()\n",
    "b = APC()\n",
    "print t\n",
    "print a\n",
    "print b"
   ]
  },
  {
   "cell_type": "code",
   "execution_count": 39,
   "metadata": {
    "collapsed": false
   },
   "outputs": [
    {
     "name": "stdout",
     "output_type": "stream",
     "text": [
      "Type: T lymphocyte Place: thymus State: dead\n",
      "Type: T lymphocyte Place: thymus State: dead\n",
      "Type: T lymphocyte Place: thymus State: dead\n"
     ]
    }
   ],
   "source": [
    "print t\n",
    "t.checkpoint(a)\n",
    "print t\n",
    "t.checkpoint(b)\n",
    "print t"
   ]
  },
  {
   "cell_type": "markdown",
   "metadata": {},
   "source": [
    "### Create some populations"
   ]
  },
  {
   "cell_type": "code",
   "execution_count": 40,
   "metadata": {
    "collapsed": false
   },
   "outputs": [],
   "source": [
    "tpop = CellPopulation()\n",
    "[tpop.add(tlymph()) for i in range(10)];\n",
    "apop = CellPopulation()\n",
    "[apop.add(APC()) for i in range(10)];"
   ]
  },
  {
   "cell_type": "markdown",
   "metadata": {},
   "source": [
    "## The scheduler: Biology is about (time) evolution"
   ]
  },
  {
   "cell_type": "code",
   "execution_count": 41,
   "metadata": {
    "collapsed": true
   },
   "outputs": [],
   "source": [
    "class Scheduler(object):\n",
    "    def __init__(self):\n",
    "        self.time = 0\n",
    "        self.rate = 100 # total probability of encounter per day\n",
    "    def update(self):\n",
    "        ti = randint(0,tpop.len-1) # Pick one tlymph\n",
    "        ai = randint(0,apop.len-1) # Pick one APC\n",
    "        tpop.thelist[ti].checkpoint(apop.thelist[ai]) # Let the tlymph meet an APC\n",
    "        tpop.updatecell(ti) # Update its state\n",
    "        self.time += -log(random())/self.rate # A quick and dirty Gillespie algorithm"
   ]
  },
  {
   "cell_type": "code",
   "execution_count": 43,
   "metadata": {
    "collapsed": false
   },
   "outputs": [
    {
     "name": "stdout",
     "output_type": "stream",
     "text": [
      "0.630563930575\n",
      "0.650156057656\n",
      "0.506523579818\n",
      "0.689796663423\n",
      "0.222744740428\n",
      "0.989092589023\n",
      "0.711242798912\n",
      "0.184432689801\n",
      "0.792536279482\n",
      "0.340355231724\n",
      "t= 0\n"
     ]
    }
   ],
   "source": [
    "simulation = Scheduler()\n",
    "for item in tpop.thelist: # Print the TCR \"spectrum\"\n",
    "    print item.TCR\n",
    "print \"Simulation time=\",simulation.time"
   ]
  },
  {
   "cell_type": "code",
   "execution_count": 44,
   "metadata": {
    "collapsed": false
   },
   "outputs": [
    {
     "name": "stdout",
     "output_type": "stream",
     "text": [
      "Simulation time= 1.06021001865\n"
     ]
    }
   ],
   "source": [
    "for steps in range(100): # Run 100 times\n",
    "    simulation.update()\n",
    "print \"Simulation time=\",simulation.time"
   ]
  },
  {
   "cell_type": "code",
   "execution_count": 45,
   "metadata": {
    "collapsed": false
   },
   "outputs": [
    {
     "name": "stdout",
     "output_type": "stream",
     "text": [
      "Type: T lymphocyte Place: thymus State: Killer T-cell\n",
      "Type: T lymphocyte Place: thymus State: Killer T-cell\n",
      "Type: T lymphocyte Place: thymus State: Killer T-cell\n",
      "Type: T lymphocyte Place: thymus State: Helper T-cell\n",
      "Type: T lymphocyte Place: thymus State: Killer T-cell\n",
      "Type: T lymphocyte Place: thymus State: Helper T-cell\n",
      "\n"
     ]
    }
   ],
   "source": [
    "print tpop"
   ]
  },
  {
   "cell_type": "code",
   "execution_count": 47,
   "metadata": {
    "collapsed": false
   },
   "outputs": [
    {
     "name": "stdout",
     "output_type": "stream",
     "text": [
      "0.711242798912\n",
      "0.650156057656\n",
      "0.792536279482\n",
      "0.689796663423\n",
      "0.340355231724\n",
      "0.989092589023\n"
     ]
    }
   ],
   "source": [
    "for item in tpop.thelist:\n",
    "    print item.TCR"
   ]
  },
  {
   "cell_type": "markdown",
   "metadata": {
    "collapsed": true
   },
   "source": [
    "#### Some of them died, and we have the spectrum of the survivors"
   ]
  }
 ],
 "metadata": {
  "anaconda-cloud": {},
  "kernelspec": {
   "display_name": "Python [default]",
   "language": "python",
   "name": "python2"
  },
  "language_info": {
   "codemirror_mode": {
    "name": "ipython",
    "version": 2
   },
   "file_extension": ".py",
   "mimetype": "text/x-python",
   "name": "python",
   "nbconvert_exporter": "python",
   "pygments_lexer": "ipython2",
   "version": "2.7.12"
  }
 },
 "nbformat": 4,
 "nbformat_minor": 1
}
