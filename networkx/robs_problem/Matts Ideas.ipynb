{
 "cells": [
  {
   "cell_type": "markdown",
   "metadata": {},
   "source": [
    "# Problem statement\n",
    "\n",
    "Given a (directed) graph, we want to find all the colourings of the vertices in Red and Blue, such that Red is never connected to Red (but Blue can be anywhere).\n",
    "\n",
    "My approach is to think about this in a graph theory way first, before cracking out the code.  We want to find all subsets of vertices such that no pair of vertices in a set are adjacent.  This should hopefully make us recall the notion of a\n",
    "[clique](https://en.wikipedia.org/wiki/Clique_(graph_theory)) which is the opposite: a subset of vertices where all pairs of vertices are adjacent.\n",
    "\n",
    "So my approach is to:\n",
    "- construct the \"complement graph\" (same vertices, an edge if and only if there was _not_ an edge in the original graph);\n",
    "- use `networkx` to find all the cliques;\n",
    "- finish by finding all subsets of the cliques.\n",
    "\n",
    "Note that the general problem of finding all cliques is NP complete, so let's give up now on worrying about efficiency..."
   ]
  },
  {
   "cell_type": "code",
   "execution_count": 32,
   "metadata": {
    "collapsed": true
   },
   "outputs": [],
   "source": [
    "%matplotlib inline\n",
    "import matplotlib.pyplot as plt\n",
    "import networkx as nx"
   ]
  },
  {
   "cell_type": "code",
   "execution_count": 31,
   "metadata": {
    "collapsed": true
   },
   "outputs": [],
   "source": [
    "G = nx.Graph()\n",
    "G.add_edges_from([(0,1), (1,2), (2,3), (3,4), (4,5), (5,6), (6,0), (0,4), (4,6)])"
   ]
  },
  {
   "cell_type": "markdown",
   "metadata": {},
   "source": [
    "I would draw this; but (a) the drawing functions never seem to work terribly well for me; and (b) I get a stream of `matplotlib` warnings, suggesting that my versions of `networkx` and `matplotlib` are not entirely compatible."
   ]
  },
  {
   "cell_type": "markdown",
   "metadata": {},
   "source": [
    "Firstly find the complement graph, in a lazy, loop over all edges way."
   ]
  },
  {
   "cell_type": "code",
   "execution_count": 35,
   "metadata": {
    "collapsed": false
   },
   "outputs": [],
   "source": [
    "CG = nx.Graph()\n",
    "for i in G.nodes():\n",
    "    for j in G.nodes():\n",
    "        if i != j and i not in G[j]:\n",
    "            CG.add_edge(i, j)"
   ]
  },
  {
   "cell_type": "code",
   "execution_count": 37,
   "metadata": {
    "collapsed": false
   },
   "outputs": [
    {
     "data": {
      "text/plain": [
       "[[0, 5, 2], [0, 5, 3], [1, 3, 5], [1, 3, 6], [1, 4], [2, 4], [2, 6]]"
      ]
     },
     "execution_count": 37,
     "metadata": {},
     "output_type": "execute_result"
    }
   ],
   "source": [
    "list( nx.find_cliques(CG) )"
   ]
  },
  {
   "cell_type": "markdown",
   "metadata": {},
   "source": [
    "For the final part, we will want to find all subsets of these sets.  That is, find the powersets.  The following seems a fairly nice way to do this, using the Python standard library."
   ]
  },
  {
   "cell_type": "code",
   "execution_count": 24,
   "metadata": {
    "collapsed": false
   },
   "outputs": [],
   "source": [
    "from itertools import combinations\n",
    "\n",
    "def powerset(x):\n",
    "    for i in range(1, len(x)+1):\n",
    "        yield from combinations(x, i)\n",
    "        \n",
    "# Quick test!\n",
    "assert set(powerset({1,2,3})) == {(1,), (2,), (3,), (1,2), (1,3), (2,3), (1,2,3)}"
   ]
  },
  {
   "cell_type": "code",
   "execution_count": 54,
   "metadata": {
    "collapsed": false
   },
   "outputs": [
    {
     "data": {
      "text/plain": [
       "{(0,),\n",
       " (0, 2),\n",
       " (0, 3),\n",
       " (0, 5),\n",
       " (0, 5, 2),\n",
       " (0, 5, 3),\n",
       " (1,),\n",
       " (1, 3),\n",
       " (1, 3, 5),\n",
       " (1, 3, 6),\n",
       " (1, 4),\n",
       " (1, 5),\n",
       " (1, 6),\n",
       " (2,),\n",
       " (2, 4),\n",
       " (2, 6),\n",
       " (3,),\n",
       " (3, 5),\n",
       " (3, 6),\n",
       " (4,),\n",
       " (5,),\n",
       " (5, 2),\n",
       " (5, 3),\n",
       " (6,)}"
      ]
     },
     "execution_count": 54,
     "metadata": {},
     "output_type": "execute_result"
    }
   ],
   "source": [
    "red_vertices = set()\n",
    "for clique in nx.find_cliques(CG):\n",
    "    for subset in powerset(clique):\n",
    "        red_vertices.add(subset)\n",
    "\n",
    "red_vertices"
   ]
  },
  {
   "cell_type": "markdown",
   "metadata": {},
   "source": [
    "# 2nd part\n",
    "\n",
    "We now make a new directed graph, where:\n",
    "- the nodes are the sets we found above.  Rob calls these \"patterns\".\n",
    "- An edge is allowed to join pattern X to pattern Y if we can get from X to Y by:\n",
    "   - Adding one new node to X, say u.  u must not be a successor of any vertex in X\n",
    "   - if u->v is in our original directed graph, then delete v\n",
    "   \n",
    "I don't really see a \"neat\" way to do this, so let's attack it in a brute force way."
   ]
  },
  {
   "cell_type": "code",
   "execution_count": 43,
   "metadata": {
    "collapsed": false
   },
   "outputs": [],
   "source": [
    "G = nx.DiGraph([(0,1), (1,2), (2,3), (3,4), (4,5), (5,6), (6,0), (0,4), (4,6)])"
   ]
  },
  {
   "cell_type": "markdown",
   "metadata": {},
   "source": [
    "It is possible that I have the directions of the edges linking (0,4) and (4,6) wrong."
   ]
  },
  {
   "cell_type": "code",
   "execution_count": 68,
   "metadata": {
    "collapsed": false
   },
   "outputs": [
    {
     "data": {
      "text/plain": [
       "[{0, 2}, {0, 3}, {0, 5}, {6}]"
      ]
     },
     "execution_count": 68,
     "metadata": {},
     "output_type": "execute_result"
    }
   ],
   "source": [
    "def allowed_mutations(G, subset):\n",
    "    \"\"\"Yield mutated subsets.  Each mutation follows the rules:\n",
    "      - Add a single vertex v\n",
    "      - Delete any vertices are _successors_ of v\n",
    "    \n",
    "    :param G: The directed graph.\n",
    "    :param subset: The subset of vertices to mutate.\n",
    "    \"\"\"\n",
    "    for v in G.nodes():\n",
    "        if v not in subset and len(set(G.predecessors(v)) & subset) == 0:\n",
    "            new_subset = set(subset)\n",
    "            new_subset.add(v)\n",
    "            new_subset.difference_update(G.successors(v))\n",
    "            yield new_subset\n",
    "            \n",
    "list(allowed_mutations(G, {0}))"
   ]
  },
  {
   "cell_type": "code",
   "execution_count": 69,
   "metadata": {
    "collapsed": false
   },
   "outputs": [
    {
     "data": {
      "text/plain": [
       "[{1, 3, 6}, {2, 6}, {3, 5}]"
      ]
     },
     "execution_count": 69,
     "metadata": {},
     "output_type": "execute_result"
    }
   ],
   "source": [
    "list(allowed_mutations(G, {3, 6}))"
   ]
  },
  {
   "cell_type": "code",
   "execution_count": 72,
   "metadata": {
    "collapsed": false
   },
   "outputs": [
    {
     "data": {
      "text/plain": [
       "[]"
      ]
     },
     "execution_count": 72,
     "metadata": {},
     "output_type": "execute_result"
    }
   ],
   "source": [
    "list(allowed_mutations(G, {0, 2, 5}))"
   ]
  },
  {
   "cell_type": "code",
   "execution_count": 70,
   "metadata": {
    "collapsed": false
   },
   "outputs": [],
   "source": [
    "state_graph = nx.DiGraph()\n",
    "nodes = {frozenset(s) for s in red_vertices}\n",
    "\n",
    "for node in nodes:\n",
    "    for end in allowed_mutations(G, node):\n",
    "        end = frozenset(end)\n",
    "        if end in nodes:\n",
    "            state_graph.add_edge(node, end)"
   ]
  },
  {
   "cell_type": "code",
   "execution_count": 71,
   "metadata": {
    "collapsed": false
   },
   "outputs": [
    {
     "name": "stdout",
     "output_type": "stream",
     "text": [
      "(3, 6) --> [(1, 3, 6), (2, 6), (3, 5)]\n",
      "(1, 3, 6) --> [(1, 3, 5)]\n",
      "(2, 6) --> [(1, 6), (2, 4), (2, 5)]\n",
      "(3, 5) --> [(0, 3, 5), (1, 3, 5), (2, 5)]\n",
      "(1, 5) --> [(0, 5), (1, 3, 5), (1, 4)]\n",
      "(0, 5) --> [(0, 2, 5), (0, 3, 5)]\n",
      "(1, 3, 5) --> [(0, 3, 5)]\n",
      "(1, 4) --> [(0,), (1, 3)]\n",
      "(1, 6) --> [(1, 3, 6), (1, 4), (1, 5)]\n",
      "(2, 4) --> [(0, 2), (1, 4)]\n",
      "(2, 5) --> [(0, 2, 5), (1, 5), (2, 4)]\n",
      "(0, 3, 5) --> [(0, 2, 5)]\n",
      "(0, 2, 5) --> []\n",
      "(5,) --> [(0, 5), (1, 5), (2, 5), (3, 5), (4,)]\n",
      "(4,) --> [(0,), (1, 4), (2, 4), (3,)]\n",
      "(3,) --> [(0, 3), (1, 3), (2,), (3, 5), (3, 6)]\n",
      "(0, 3) --> [(0, 2), (0, 3, 5), (3, 6)]\n",
      "(1, 3) --> [(0, 3), (1, 3, 5), (1, 3, 6)]\n",
      "(2,) --> [(0, 2), (1,), (2, 4), (2, 5), (2, 6)]\n",
      "(0,) --> [(0, 2), (0, 3), (0, 5), (6,)]\n",
      "(0, 2) --> [(0, 2, 5), (2, 6)]\n",
      "(6,) --> [(1, 6), (2, 6), (3, 6), (4,), (5,)]\n",
      "(1,) --> [(0,), (1, 3), (1, 4), (1, 5), (1, 6)]\n"
     ]
    }
   ],
   "source": [
    "for node in state_graph.nodes():\n",
    "    nodes = state_graph[node]\n",
    "    print(tuple(node), \"-->\", [tuple(x) for x in nodes])"
   ]
  },
  {
   "cell_type": "markdown",
   "metadata": {},
   "source": [
    "I _think_ this now works right, at least according to the specification I gave above.  The specification could be wrong."
   ]
  },
  {
   "cell_type": "markdown",
   "metadata": {},
   "source": [
    "### Next steps\n",
    "\n",
    "- Factor all the code into functions\n",
    "- Move to a Python package\n",
    "- Add some unit tests."
   ]
  },
  {
   "cell_type": "markdown",
   "metadata": {},
   "source": [
    "# Original Motivation\n",
    "\n",
    "The original motivation is a dynamical system on the original directed graph.\n",
    "- States are assignments of \"on\" (red) and \"off\" (blue) to the nodes, with the rule that if u->v is in the graph, then you cannot have both u and v \"on\"\n",
    "- Transitions are basically the rule above: turn \"on\" one extra node u, and then turn \"off\" any nodes which u points to.  Nodes which are \"on\" \"suppress\" the ability of a node to turn on."
   ]
  },
  {
   "cell_type": "code",
   "execution_count": null,
   "metadata": {
    "collapsed": true
   },
   "outputs": [],
   "source": []
  }
 ],
 "metadata": {
  "kernelspec": {
   "display_name": "Python 3",
   "language": "python",
   "name": "python3"
  },
  "language_info": {
   "codemirror_mode": {
    "name": "ipython",
    "version": 3
   },
   "file_extension": ".py",
   "mimetype": "text/x-python",
   "name": "python",
   "nbconvert_exporter": "python",
   "pygments_lexer": "ipython3",
   "version": "3.6.0"
  }
 },
 "nbformat": 4,
 "nbformat_minor": 2
}
