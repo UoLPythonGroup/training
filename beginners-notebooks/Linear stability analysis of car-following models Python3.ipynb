{
 "cells": [
  {
   "cell_type": "markdown",
   "metadata": {},
   "source": [
    "# Linear stability analysis of car-following models\n",
    "\n",
    "This notebook is intended to help you to simulate car-following models and analyse their stability in python.\n",
    "\n",
    "This tutorial will assume that you have the **anaconda distribution** (freely available here: https://www.continuum.io/downloads) of python installed, which includes instructions on how to download and install anaconda.\n",
    "\n",
    "This is a **Jupyter** (or ipython) notebook. It consists of cells, such as this, in which you can write text or computer code. This cell is written in **Markdown**, which allows you to format your text and use simple latex commands. (For some basic Markdown commands read: https://github.com/adam-p/markdown-here/wiki/Markdown-Cheatsheet)\n",
    "\n",
    "To edit the text in a cell, double click on it. Once you're finished editing and want to run the code, press `shift+enter`\n",
    "\n",
    "There is good **documentation** for python at https://www.python.org, but I find it easiest to google the things I'm looking for (e.g. function syntax, which means the arguments that a function takes).\n",
    "\n",
    "## Disclaimer\n",
    "This work sheet is intended as a guide for developing a program that simulates the Optimal Velocity (OV) model, by solving the corresponding system of ODEs, and analyse its stability. The way that it suggests is not the only way to implement the model. If you find another method is more intuitive or runs quicker then feel free to use it! It is also possible to generate a general framework to run the general class of car-following models, but let's walk before we can run.\n",
    "\n",
    "This worksheet should contain all the information you need in order to create a working version of the OV model, although the precise way in which you implement it may differ to what I think you'll end up with, so it's not completely guaranteed everything you need is here. In which case Google it!.\n",
    "\n",
    "## How to use this worksheet\n",
    "This worksheet will introduce you to the basics of python and provide you with relevant examples.\n",
    "\n",
    "\n",
    "<section style=\"color:#806000; background-color:#ffffdd\">\n",
    "<br>\n",
    "<b>OV Model</b>\n",
    "<br><br>\n",
    "This worksheet also includes highlighted text like this that connects the examples to your OV model program.  \n",
    "<br>\n",
    "</section>\n",
    "\n",
    "## Tip\n",
    "It's normally helpful to have two notebooks open when coding, one where you test out commands/scraps of code, and the other where you write your program. I would encourage you to open **two** new notebooks, one to test out the examples in this worksheet and one for your code.\n",
    "## Tip\n",
    "If you write a piece of code and then later decide to change it, create a new cell, copy and paste your old code into the new cell (you can do this using the copy and paste icons above or you can create new cells using the insert tab above) and then edit that. If you delete things that you then later want, it can be a pain to get them back.\n",
    "## Tip\n",
    "You can block comment bits of code by highlighting them and the pressing `ctrl+/` (i.e. contral and forward slash)."
   ]
  },
  {
   "cell_type": "markdown",
   "metadata": {},
   "source": [
    "# 1 Basics\n",
    "\n",
    "You can use cells as calculators, for example"
   ]
  },
  {
   "cell_type": "code",
   "execution_count": 2,
   "metadata": {
    "collapsed": false
   },
   "outputs": [
    {
     "data": {
      "text/plain": [
       "3"
      ]
     },
     "execution_count": 2,
     "metadata": {},
     "output_type": "execute_result"
    }
   ],
   "source": [
    "1+2"
   ]
  },
  {
   "cell_type": "markdown",
   "metadata": {},
   "source": [
    "but often we will want to store numbers as **variables**, which we do like so "
   ]
  },
  {
   "cell_type": "code",
   "execution_count": 3,
   "metadata": {
    "collapsed": true
   },
   "outputs": [],
   "source": [
    "x=1"
   ]
  },
  {
   "cell_type": "markdown",
   "metadata": {},
   "source": [
    "We can then use these variables in calculations, e.g."
   ]
  },
  {
   "cell_type": "code",
   "execution_count": 4,
   "metadata": {
    "collapsed": false
   },
   "outputs": [
    {
     "data": {
      "text/plain": [
       "3"
      ]
     },
     "execution_count": 4,
     "metadata": {},
     "output_type": "execute_result"
    }
   ],
   "source": [
    "x+2 # This is a comment and won't show up in the output. \n",
    "# Use comments to explain what your code is doing"
   ]
  },
  {
   "cell_type": "markdown",
   "metadata": {},
   "source": [
    "<section style=\"color:#806000; background-color:#ffffdd\">\n",
    "<br>\n",
    "<b>OV Model - Parameters</b>\n",
    "<br><br>\n",
    "We will need to specify the number of cars $N$ (an integer) and the value of the sensitivity parameter $\\alpha$. You shoud be able to define this variable now (but make sure you choose a positive value for it!).\n",
    "<br><br>\n",
    "</section>"
   ]
  },
  {
   "cell_type": "markdown",
   "metadata": {},
   "source": [
    "## 1.1 Arrays\n",
    "###1.1.1 Creating arrays\n",
    "\n",
    "There is a python package called **NumPy** (http://www.numpy.org) that was written to make scientific programming easier and has lots of built in functions to do sophisticated things with matrices. If you installed the Anaconda distribution of python then you will have it already. We will use the NumPy package in this worksheet and to do so you need to type"
   ]
  },
  {
   "cell_type": "code",
   "execution_count": 5,
   "metadata": {
    "collapsed": true
   },
   "outputs": [],
   "source": [
    "import numpy as np"
   ]
  },
  {
   "cell_type": "markdown",
   "metadata": {},
   "source": [
    "Every time we want to use one of the functions in the NumPy package, we have to write `np.` and then the name of the function.\n",
    "\n",
    "We will make use of NumPy **arrays**, which allow us to store vectors and matrices and manipulate them in various ways. To creat a numpy array, you can define each element, for example like this"
   ]
  },
  {
   "cell_type": "code",
   "execution_count": 6,
   "metadata": {
    "collapsed": false
   },
   "outputs": [
    {
     "data": {
      "text/plain": [
       "array([ 10,   2, 300])"
      ]
     },
     "execution_count": 6,
     "metadata": {},
     "output_type": "execute_result"
    }
   ],
   "source": [
    "v=np.array([10,2,300])\n",
    "v"
   ]
  },
  {
   "cell_type": "markdown",
   "metadata": {},
   "source": [
    "There are also built in ways to generate arrays, for example"
   ]
  },
  {
   "cell_type": "code",
   "execution_count": 7,
   "metadata": {
    "collapsed": false
   },
   "outputs": [
    {
     "name": "stdout",
     "output_type": "stream",
     "text": [
      "Variable w is \n",
      "[[ 0.]\n",
      " [ 0.]\n",
      " [ 0.]]\n",
      "Variable x is \n",
      "[[ 1.  1.]\n",
      " [ 1.  1.]]\n",
      "Variable y is \n",
      "[ 0.  1.  2.]\n",
      "Variable z is \n",
      "[[ 0.60309429  0.94942446  0.50343795  0.3062138 ]\n",
      " [ 0.16390381  0.38097269  0.02298972  0.69984767]\n",
      " [ 0.42756815  0.88619014  0.42924925  0.72082013]]\n"
     ]
    }
   ],
   "source": [
    "w=np.zeros((3,1))\n",
    "x=np.ones((2,2))\n",
    "y=np.linspace(0,2,3)\n",
    "z=np.random.rand(3,4)\n",
    "# If we want to see what's in both x and y, we can use the print command:\n",
    "print('Variable w is ')\n",
    "print(w)\n",
    "print(\"Variable x is \")\n",
    "print(x)\n",
    "print(\"Variable y is \")\n",
    "print(y)\n",
    "print(\"Variable z is \")\n",
    "print(z)"
   ]
  },
  {
   "cell_type": "markdown",
   "metadata": {},
   "source": [
    "We may want to check how big an array is"
   ]
  },
  {
   "cell_type": "code",
   "execution_count": 9,
   "metadata": {
    "collapsed": false
   },
   "outputs": [
    {
     "name": "stdout",
     "output_type": "stream",
     "text": [
      "(3, 1)\n",
      "(2, 2)\n",
      "(3,)\n",
      "(3, 4)\n"
     ]
    }
   ],
   "source": [
    "print(w.shape)\n",
    "print(x.shape)\n",
    "print(y.shape)\n",
    "print(z.shape)"
   ]
  },
  {
   "cell_type": "markdown",
   "metadata": {},
   "source": [
    "Notice the difference in shape between these variables.\n",
    "\n",
    "We can also append one array onto the end of the other"
   ]
  },
  {
   "cell_type": "code",
   "execution_count": 10,
   "metadata": {
    "collapsed": false
   },
   "outputs": [
    {
     "data": {
      "text/plain": [
       "array([ 0.,  1.,  2.,  0.,  1.,  2.])"
      ]
     },
     "execution_count": 10,
     "metadata": {},
     "output_type": "execute_result"
    }
   ],
   "source": [
    "np.append(y,y)"
   ]
  },
  {
   "cell_type": "markdown",
   "metadata": {},
   "source": [
    "You can also do this using NumPy's `hstack` function, which stacks arrays horizontally"
   ]
  },
  {
   "cell_type": "code",
   "execution_count": 11,
   "metadata": {
    "collapsed": false
   },
   "outputs": [
    {
     "data": {
      "text/plain": [
       "array([ 0.,  1.,  2.,  0.,  1.,  2.])"
      ]
     },
     "execution_count": 11,
     "metadata": {},
     "output_type": "execute_result"
    }
   ],
   "source": [
    "np.hstack((y,y))"
   ]
  },
  {
   "cell_type": "markdown",
   "metadata": {},
   "source": [
    "And a similar function `vstack` allows you to stack arrays vertically"
   ]
  },
  {
   "cell_type": "code",
   "execution_count": 12,
   "metadata": {
    "collapsed": false
   },
   "outputs": [
    {
     "data": {
      "text/plain": [
       "array([[ 0.,  1.,  2.],\n",
       "       [ 0.,  1.,  2.]])"
      ]
     },
     "execution_count": 12,
     "metadata": {},
     "output_type": "execute_result"
    }
   ],
   "source": [
    "np.vstack((y,y))"
   ]
  },
  {
   "cell_type": "markdown",
   "metadata": {},
   "source": [
    "You should play around with these functions, combining arrays of different sizes and dimensions to see what happens and what the differences are.\n",
    "\n",
    "You can also perform basic operations on these arrays, which work **elementwise**"
   ]
  },
  {
   "cell_type": "code",
   "execution_count": 13,
   "metadata": {
    "collapsed": false
   },
   "outputs": [
    {
     "data": {
      "text/plain": [
       "array([ 2.,  3.,  4.])"
      ]
     },
     "execution_count": 13,
     "metadata": {},
     "output_type": "execute_result"
    }
   ],
   "source": [
    "y+2"
   ]
  },
  {
   "cell_type": "code",
   "execution_count": 14,
   "metadata": {
    "collapsed": false
   },
   "outputs": [
    {
     "data": {
      "text/plain": [
       "array([ 0.,  1.,  4.])"
      ]
     },
     "execution_count": 14,
     "metadata": {},
     "output_type": "execute_result"
    }
   ],
   "source": [
    "y**2"
   ]
  },
  {
   "cell_type": "markdown",
   "metadata": {},
   "source": [
    "<section style=\"color:#806000; background-color:#ffffdd\">\n",
    "<br>\n",
    "<b>OV Model - headway, velocity and position arrays</b>\n",
    "<br><br>\n",
    "Create the following:\n",
    "<ul>\n",
    "<li> an array of headways $h$ of length $N$, all with value 2,  (i.e. a headway value for each of your vehicles),\n",
    "<li> an array of velocities $v$ of length $N$, all with value 0.\n",
    "</ul>\n",
    "<br>\n",
    "These arrays will represent the initial headways and velocities of the vehicles in our simulation. \n",
    "<br><br>\n",
    "In this notebook, I will assume that vehicles are labelled $n=0,1,\\dots,N-1$, vehicle $n=0$ is the lead vehicle and that vehicles' positions increase in time. Thus $x_{n-1}>x_n$ for $0<n\\le N-1$ and all $t$.\n",
    "<br><br>\n",
    "With this in mind, suppose that the lead vehicle is at position $x_0=0$ at time $t=0$, how can we get an array of length $N$ of all vehicle positions $x$ from the headways? (Negative initial positions are fine.) A useful function to achieve this is NumPy's `cumsum` function, which computes the cumulative sum of an array. Look at what it does to the array `y`:\n",
    "<br><br>\n",
    "</section>"
   ]
  },
  {
   "cell_type": "code",
   "execution_count": 11,
   "metadata": {
    "collapsed": false
   },
   "outputs": [
    {
     "name": "stdout",
     "output_type": "stream",
     "text": [
      "[ 0.  1.  2.]\n",
      "[ 0.  1.  3.]\n"
     ]
    }
   ],
   "source": [
    "print(y)\n",
    "print(np.cumsum(y))"
   ]
  },
  {
   "cell_type": "markdown",
   "metadata": {},
   "source": [
    "<section style=\"color:#806000; background-color:#ffffdd\">\n",
    "<br>\n",
    "Combine your vectors $x$, $h$ and $v$ into a single array of length $3N$.\n",
    "<br><br>\n",
    "</section>"
   ]
  },
  {
   "cell_type": "markdown",
   "metadata": {},
   "source": [
    "### 1.1.2 Slicing arrays\n",
    "\n",
    "You can access elements of arrays in various ways and what you get will depend on the size of the array. For example"
   ]
  },
  {
   "cell_type": "code",
   "execution_count": 12,
   "metadata": {
    "collapsed": false
   },
   "outputs": [
    {
     "name": "stdout",
     "output_type": "stream",
     "text": [
      "[ 0.  1.  2.]\n",
      "0.0\n",
      "1.0\n",
      "2.0\n"
     ]
    }
   ],
   "source": [
    "print(y)\n",
    "print(y[0])\n",
    "print(y[1])\n",
    "print(y[2])"
   ]
  },
  {
   "cell_type": "markdown",
   "metadata": {},
   "source": [
    "Notice that the indices for python arrays start at zero. We can also use negative indicies (!)"
   ]
  },
  {
   "cell_type": "code",
   "execution_count": 13,
   "metadata": {
    "collapsed": false
   },
   "outputs": [
    {
     "name": "stdout",
     "output_type": "stream",
     "text": [
      "2.0\n",
      "1.0\n"
     ]
    }
   ],
   "source": [
    "print(y[-1])\n",
    "print(y[-2])"
   ]
  },
  {
   "cell_type": "markdown",
   "metadata": {},
   "source": [
    "So an easy way to access the last value in an array is to look at the element `[-1]`.\n",
    "\n",
    "You can access elements of a multi-dimensional array in the same way, but look at what you get when you do"
   ]
  },
  {
   "cell_type": "code",
   "execution_count": 14,
   "metadata": {
    "collapsed": false
   },
   "outputs": [
    {
     "data": {
      "text/plain": [
       "array([ 0.61662392,  0.80900097,  0.30968582,  0.32621673])"
      ]
     },
     "execution_count": 14,
     "metadata": {},
     "output_type": "execute_result"
    }
   ],
   "source": [
    "z[0]"
   ]
  },
  {
   "cell_type": "markdown",
   "metadata": {},
   "source": [
    "If we just wanted the value of a single element, we would have to do"
   ]
  },
  {
   "cell_type": "code",
   "execution_count": 15,
   "metadata": {
    "collapsed": false
   },
   "outputs": [
    {
     "data": {
      "text/plain": [
       "0.61662391596005894"
      ]
     },
     "execution_count": 15,
     "metadata": {},
     "output_type": "execute_result"
    }
   ],
   "source": [
    "z[0,0]"
   ]
  },
  {
   "cell_type": "markdown",
   "metadata": {},
   "source": [
    "(Python can also handle arrays with more dimensions, but we won't get into that here.)\n",
    "\n",
    "We might also want to access several elements, which we can do using slicing. Remember that"
   ]
  },
  {
   "cell_type": "code",
   "execution_count": 16,
   "metadata": {
    "collapsed": false
   },
   "outputs": [
    {
     "data": {
      "text/plain": [
       "array([[ 0.61662392,  0.80900097,  0.30968582,  0.32621673],\n",
       "       [ 0.71975169,  0.00192496,  0.48830202,  0.60293996],\n",
       "       [ 0.26524947,  0.22584747,  0.83374808,  0.24448162]])"
      ]
     },
     "execution_count": 16,
     "metadata": {},
     "output_type": "execute_result"
    }
   ],
   "source": [
    "z"
   ]
  },
  {
   "cell_type": "markdown",
   "metadata": {},
   "source": [
    "So to get the first 2 elements in the first column, we would write"
   ]
  },
  {
   "cell_type": "code",
   "execution_count": 17,
   "metadata": {
    "collapsed": false
   },
   "outputs": [
    {
     "data": {
      "text/plain": [
       "array([ 0.61662392,  0.71975169])"
      ]
     },
     "execution_count": 17,
     "metadata": {},
     "output_type": "execute_result"
    }
   ],
   "source": [
    "z[0:2,0]"
   ]
  },
  {
   "cell_type": "markdown",
   "metadata": {},
   "source": [
    "(Notice that you have to write `0:2` to get just elements 0 and 1.)\n",
    "\n",
    "Similarly, to get the first 2 elements in the first row, we would write"
   ]
  },
  {
   "cell_type": "code",
   "execution_count": 18,
   "metadata": {
    "collapsed": false
   },
   "outputs": [
    {
     "data": {
      "text/plain": [
       "array([ 0.61662392,  0.80900097])"
      ]
     },
     "execution_count": 18,
     "metadata": {},
     "output_type": "execute_result"
    }
   ],
   "source": [
    "z[0,0:2]"
   ]
  },
  {
   "cell_type": "markdown",
   "metadata": {},
   "source": [
    "<section style=\"color:#806000; background-color:#ffffdd\">\n",
    "<br>\n",
    "<b>OV Model - boundary conditions</b>\n",
    "<br><br>\n",
    "When we solve the OV model ODEs, it will be convienient to use the array that combines position $x$, velocity $v$ and headway $h$, as you defined earlier. Use slicing to retrieve the position, velocity and headway from this array (this may seem pointless now, but it will be useful later!).\n",
    "<br><br>\n",
    "We will also have to decide on the boundary conditions. Two usual choices are a **ring-road**, where vehicle $n=0$ follows vehicle $n=N-1$ (assuming the ordering of vehicles defined above), and a **long-straight road**, where the velocity of the lead vehicle, $n=0$ is known at all times (e.g. it's a constant).\n",
    "<br><br>\n",
    "How could you create an array of the velocity differences $v_{n-1}-v_n$ for each of these boundary conditions? For the ringroad, a useful function is NumPy's `roll` which does the following\n",
    "<br><br>\n",
    "</section>"
   ]
  },
  {
   "cell_type": "code",
   "execution_count": 16,
   "metadata": {
    "collapsed": false
   },
   "outputs": [
    {
     "name": "stdout",
     "output_type": "stream",
     "text": [
      "[-2. -1.  0.  1.  2.  3.]\n",
      "[ 3. -2. -1.  0.  1.  2.]\n",
      "[-1.  0.  1.  2.  3. -2.]\n"
     ]
    }
   ],
   "source": [
    "# For this example, I create a dummy vector to illustrate how roll works:\n",
    "dummy=np.linspace(-2,3,6)\n",
    "print(dummy)\n",
    "print(np.roll(dummy,+1))\n",
    "print(np.roll(dummy,-1))"
   ]
  },
  {
   "cell_type": "markdown",
   "metadata": {},
   "source": [
    "## 1.2 Functions\n",
    "\n",
    "Sometimes you'll want to combine some commands together into a function. In python, functions can be defined as follows"
   ]
  },
  {
   "cell_type": "code",
   "execution_count": 18,
   "metadata": {
    "collapsed": true
   },
   "outputs": [],
   "source": [
    "def myfunction(x,t,alpha):\n",
    "    ''' myfunction(x,t,alpha)\n",
    "        \n",
    "        This function computes alpha+x^2 for an array x and a parameter alpha. \n",
    "        The input variable t is not used.\n",
    "\n",
    "        This text will appear as the function's help file. \n",
    "    '''\n",
    "    # Here the function performs some operations on your input variable array  \n",
    "    xdot=alpha+x**2\n",
    "    return xdot       "
   ]
  },
  {
   "cell_type": "markdown",
   "metadata": {},
   "source": [
    "You can call your function whatever you like. The things in brackets are the function arguments, i.e. the things you have to supply when calling the function.\n",
    "\n",
    "Notice that the first line ends with a colon and the remaining lines in the function are indented. This function simply squares the input array `x` and adds the value `alpha`, and the resulting array is then returned from the function. You'd call this function in the following way"
   ]
  },
  {
   "cell_type": "code",
   "execution_count": 19,
   "metadata": {
    "collapsed": false
   },
   "outputs": [
    {
     "data": {
      "text/plain": [
       "4.1"
      ]
     },
     "execution_count": 19,
     "metadata": {},
     "output_type": "execute_result"
    }
   ],
   "source": [
    "myfunction(2,'you can pass anything here as it is not used',0.1)"
   ]
  },
  {
   "cell_type": "markdown",
   "metadata": {},
   "source": [
    "Notice that it works **element-wise** on arrays using our dummy array from ealier"
   ]
  },
  {
   "cell_type": "code",
   "execution_count": 20,
   "metadata": {
    "collapsed": false
   },
   "outputs": [
    {
     "name": "stdout",
     "output_type": "stream",
     "text": [
      "[-2. -1.  0.  1.  2.  3.]\n",
      "[ 4.  1.  0.  1.  4.  9.]\n"
     ]
    }
   ],
   "source": [
    "print(dummy)\n",
    "print(myfunction(dummy,' ',0.))"
   ]
  },
  {
   "cell_type": "markdown",
   "metadata": {},
   "source": [
    "<section style=\"color:#806000; background-color:#ffffdd\">\n",
    "<br>\n",
    "<b>OV Model - Optimal velocity function</b>\n",
    "<br><br>\n",
    "The specific Optimal Velocity function used in the original paper by Bando et al is\n",
    "$$V(h)=\\tanh(h-2)+\\tanh(2)$$\n",
    "Define a function that computes this for an array of headways `h`. It would also help if you define a function $V'(h)$, i.e. the derivative of $V$ with respect to $h$.\n",
    "<br><br>\n",
    "</section>"
   ]
  },
  {
   "cell_type": "markdown",
   "metadata": {},
   "source": [
    "## 1.3 Plotting\n",
    "\n",
    "We will quite often want to plot the results we get. There is a good package for doing this called `matplotlib`, which also has lots of documentation online at http://matplotlib.org and examples of lots of different types of plot."
   ]
  },
  {
   "cell_type": "code",
   "execution_count": 21,
   "metadata": {
    "collapsed": false
   },
   "outputs": [],
   "source": [
    "import matplotlib.pyplot as plt\n",
    "%matplotlib inline\n",
    "# This last line lets you plot in a cell."
   ]
  },
  {
   "cell_type": "markdown",
   "metadata": {},
   "source": [
    "Plotting can be done easily and quickly"
   ]
  },
  {
   "cell_type": "code",
   "execution_count": 22,
   "metadata": {
    "collapsed": false
   },
   "outputs": [
    {
     "data": {
      "text/plain": [
       "[<matplotlib.lines.Line2D at 0x10e6d3fd0>]"
      ]
     },
     "execution_count": 22,
     "metadata": {},
     "output_type": "execute_result"
    },
    {
     "data": {
      "image/png": "[encoded data removed]",
      "text/plain": [
       "<matplotlib.figure.Figure at 0x10c292400>"
      ]
     },
     "metadata": {},
     "output_type": "display_data"
    }
   ],
   "source": [
    "x=np.linspace(-3,3,100)\n",
    "plt.plot(x,myfunction(x,'',-1))"
   ]
  },
  {
   "cell_type": "markdown",
   "metadata": {},
   "source": [
    "But you can also include multiple plots and control just about everything you want to about it."
   ]
  },
  {
   "cell_type": "code",
   "execution_count": 23,
   "metadata": {
    "collapsed": false
   },
   "outputs": [
    {
     "data": {
      "image/png": "[encoded data removed]",
      "text/plain": [
       "<matplotlib.figure.Figure at 0x10e69a0f0>"
      ]
     },
     "metadata": {},
     "output_type": "display_data"
    }
   ],
   "source": [
    "x=np.linspace(-3,3,100)\n",
    "\n",
    "fig = plt.figure()\n",
    "plt.plot(x,0*x,'k',x,myfunction(x,'',-1))\n",
    "plt.plot(x,myfunction(x,'',0))\n",
    "plt.plot(x,myfunction(x,'',1))\n",
    "plt.xlabel('$x$',fontsize=24)\n",
    "plt.ylabel('$y$',fontsize=24,rotation=0)\n",
    "\n",
    "# We can save the figure\n",
    "fig.savefig('testplotCF.pdf')\n",
    "# fig.savefig('test.eps') # This is a different type of format, encapsulated postscript"
   ]
  },
  {
   "cell_type": "markdown",
   "metadata": {},
   "source": [
    "<section style=\"color:#806000; background-color:#ffffdd\">\n",
    "<br>\n",
    "<b>OV Model - Plotting the Optimal Velocity function</b>\n",
    "<br><br>\n",
    "Create an array of headways with non-negative values and plot your OV function for these.\n",
    "<br><br>\n",
    "A general car-following model can be described by\n",
    "\\begin{align}\n",
    "\\dot{h}_n&=v_{n-1}-v_{n},\\\\\n",
    "\\dot{v}_n&=f(h_n,\\dot{h}_n,v_n),\n",
    "\\end{align}\n",
    "where $h_n$ and $v_n$ are the headway and velocity respectively of vehicle $n$. This model is unstable if\n",
    "$$\\frac{f_v^2}{2}-f_{\\dot{h}}f_h-f_{h}<0,$$\n",
    "where $f_v$ is the partial derivative of $f$ with respect to $v$, and similarly for $f_{\\dot{h}}$ and $f_h$. Note that the partial derivatives are evaluated at the equilibrium $h_n=h_*$, $\\dot{h}_n=0$ and $v_n=V(h_*)$ for all $n$ and a given equilibrium headway $h_*$. \n",
    "\n",
    "<br><br>\n",
    "*[You should read through Wilson's paper \"Mechanisms for spatio-temporal pattern formation in highway traffic models\", Phil. Trans. Roy. Soc. A, 2008, to understand where this criterion comes from.]*\n",
    "\n",
    "<br><br>\n",
    "For the OV model we have\n",
    "$$f(h,\\dot{h},v)=\\alpha\\left\\{V(h)-v\\right\\}.$$\n",
    "What are the partial derivatives? How does the stability depend on the equilibrium headay $h_*$ and the sensitivity parameter $\\alpha$? How could you illustrate this in a plot?\n",
    "<br><br>\n",
    "</section>"
   ]
  },
  {
   "cell_type": "markdown",
   "metadata": {},
   "source": [
    "## 1.4 Solving ODEs\n",
    "\n",
    "There is another package called SciPy that has lots of really useful functions for scientific programming. This includes built in functions to integrate ODEs numerically (you should try to find out how they do this). From the SciPy package we will use the function `odeint`"
   ]
  },
  {
   "cell_type": "code",
   "execution_count": 24,
   "metadata": {
    "collapsed": true
   },
   "outputs": [],
   "source": [
    "from scipy.integrate import odeint"
   ]
  },
  {
   "cell_type": "markdown",
   "metadata": {},
   "source": [
    "The function `odeint` solves first order systems of inhomogeneous ODEs, i.e. of the form\n",
    "$$\\dot{x}=f(x,t)$$\n",
    "where $x$ can be an $n$ dimensional array. Note that higher order ODEs can be written as first order ODEs by defining new variables for the higher order derivatives. The function `odeint` takes as arguments the function that describes the right-hand side of the ODEs, the initial condition and an array of times. It returns the numerically integrated solution at the times specified in the input array. [For a full list of input and output arguments, see the scipy documentation https://docs.scipy.org/doc/scipy/reference/generated/scipy.integrate.odeint.html]\n",
    "\n",
    "The following example integrates the function `myfunction` defined above for two initial conditions and plots the output."
   ]
  },
  {
   "cell_type": "code",
   "execution_count": 25,
   "metadata": {
    "collapsed": false
   },
   "outputs": [
    {
     "data": {
      "text/plain": [
       "<matplotlib.text.Text at 0x1102944a8>"
      ]
     },
     "execution_count": 25,
     "metadata": {},
     "output_type": "execute_result"
    },
    {
     "data": {
      "image/png": "[encoded data removed]",
      "text/plain": [
       "<matplotlib.figure.Figure at 0x110284588>"
      ]
     },
     "metadata": {},
     "output_type": "display_data"
    }
   ],
   "source": [
    "alpha=-1.3 # Function parameter\n",
    "x0p=0.5 # First starting value\n",
    "x0m=-2 # Second starting value\n",
    "t=np.linspace(-1,5,500) # Array of times\n",
    "\n",
    "# Called odeint\n",
    "x1 = odeint(myfunction, x0p, t, args=(alpha,))\n",
    "x2 = odeint(myfunction, x0m, t, args=(alpha,))\n",
    "\n",
    "# Plot resulting trajectories\n",
    "plt.plot(t,x1,t,x2)\n",
    "plt.xlabel('$t$',fontsize=24)\n",
    "plt.ylabel('$x$',fontsize=24,rotation=0)"
   ]
  },
  {
   "cell_type": "markdown",
   "metadata": {},
   "source": [
    "<section style=\"color:#806000; background-color:#ffffdd\">\n",
    "<br>\n",
    "<b>OV Model - Integrating the Optimal Velocity model</b>\n",
    "<br><br>\n",
    "Now let's use the `odeint` function to find the trajectory of a single vehicle following another that's travelling at a constant velocity $v_*$ using the OV model. The ODEs that we want to solve are\n",
    "\\begin{align}\n",
    "\\dot{x}_1&=v_1,\\\\\n",
    "\\dot{h}_1&=v_*-v_1,\\\\\n",
    "\\dot{v}_1&=\\alpha\\left\\{V(h_1)-v_1\\right\\}.\n",
    "\\end{align}\n",
    "Notice that I've added the $\\dot{x}_1$ equation. This is just so that we know what the position of the vehicle is, but note that we don't actually need it to solve for the headway $h_1$ and the velocity $v_1$. \n",
    "<br><br>\n",
    "You will need to write a function of the form\n",
    "<br><br>\n",
    "</section>"
   ]
  },
  {
   "cell_type": "markdown",
   "metadata": {},
   "source": [
    "```python\n",
    "def OVStraightRoad1Car(y,t,alpha,Vfunc,vstar):\n",
    "```"
   ]
  },
  {
   "cell_type": "markdown",
   "metadata": {},
   "source": [
    "<section style=\"color:#806000; background-color:#ffffdd\">\n",
    "<br>\n",
    "where \n",
    "<ul>\n",
    "<li> `y` is an array with three elements: the position $x_1$, the headway $h_1$ and the velocity $v_1$,\n",
    "<li> `t` will not be used (but needs to be there for `odeint`),\n",
    "<li> `alpha` is the sensitivity parameter,\n",
    "<li> `Vfunc` is your OV function that you defined earlier (although you will need to change `Vfunc` to whatever name you used),\n",
    "<li> `vstar` is the velocity of the lead vehicle.\n",
    "</ul>\n",
    "<br><br>\n",
    "This function should return an array with three elements corresponding to the right-hand side of the ODEs (in the same order as the input variable `y`).\n",
    "<br><br>\n",
    "You will have to supply `odeint` with an initial condition, say `y0`. To start with, try\n",
    "<br><br>\n",
    "</section>"
   ]
  },
  {
   "cell_type": "markdown",
   "metadata": {},
   "source": [
    "```python\n",
    "y0=np.array([0,1,0])\n",
    "```"
   ]
  },
  {
   "cell_type": "markdown",
   "metadata": {},
   "source": [
    "<section style=\"color:#806000; background-color:#ffffdd\">\n",
    "<br>\n",
    "So that the vehicle's initial position is $x_1(0)=0$, initial headway is $h_1(0)=1$ and initial velocity is $v_1(0)=0$.\n",
    "<br><br>\n",
    "The output of the `odeint` function for your OV function should be a square array. You can then slice this array to get the evolution of the vehicle's position $x_1(t)$, headway $h_1(t)$ and velocity $v_1(t)$. If this is working properly, the position $x_1(t)$ should increase linearly asyptotically, and the headway and velocities should become constant. Plot them to check that they do this!\n",
    "<br><br>\n",
    "You should try different initial conditions and parameter values. Are all solutions qualitatively the same as described above? The fact that the headway and velocity always become constant is known as *platoon* stability. You should find out to show that this is true for all car-following models that satisify the requirements on the partial derivatives $f_h>0$, $f_{\\dot{h}}>0$ and $f_v<0$, specified by Wilson in the paper referenced above.\n",
    "<br><br>\n",
    "Generalise your model to include multiple vehicles (e.g. using arrays of positions, velocities and headways) for both long-straight-road and ring-road boundary conditions. \n",
    "<br><br>\n",
    "</section>"
   ]
  },
  {
   "cell_type": "markdown",
   "metadata": {},
   "source": [
    "## 1.5 Complex numbers\n",
    "\n",
    "You can also work with complex numbers in python:"
   ]
  },
  {
   "cell_type": "code",
   "execution_count": 26,
   "metadata": {
    "collapsed": false
   },
   "outputs": [
    {
     "name": "stdout",
     "output_type": "stream",
     "text": [
      "z =  (3+4j)\n",
      "z^2 =  (-7+24j)\n",
      "abs(z) =  5.0\n",
      "real part of z is  3.0\n",
      "imaginary part of z is  4.0\n",
      "exp(i pi) =  (-1+1.22464679915e-16j)\n"
     ]
    }
   ],
   "source": [
    "z=3+4j\n",
    "print('z = ',z)\n",
    "print('z^2 = ',z**2)\n",
    "print('abs(z) = ',np.abs(z))\n",
    "print('real part of z is ',np.real(z))\n",
    "print('imaginary part of z is ',np.imag(z))\n",
    "print('exp(i pi) = ',np.exp(1j*np.pi)) #Note that this isn't exactly zero! But for most purposes it's close enough!"
   ]
  },
  {
   "cell_type": "markdown",
   "metadata": {},
   "source": [
    "<section style=\"color:#806000; background-color:#ffffdd\">\n",
    "<br>\n",
    "<b>OV Model - Characteristic equation</b>\n",
    "The characteristic equation for the general car-following model is\n",
    "<br><br>\n",
    "$$\\lambda^2+\\{f_{\\dot{h}}(1-{\\rm e}^{-{\\rm i}\\theta})-f_v\\}\\lambda+f_h(1-{\\rm e}^{-{\\rm i}\\theta})=0,$$\n",
    "<br>\n",
    "(see Wilson's paper, cited above). Use the quadratic formula to solve for $\\lambda$ and write a python function that takes the partial derivatives and theta as arguments and computes the plus solution $\\lambda_+$ and do the same for the minus solution $\\lambda_-$. Choose some values of the partial derivatives (for example, by calculating them for the OV model above) and plot the real part of $\\lambda_{\\pm}$ for values of theta between 0 and $\\pi$. How do you know when the system is unstable? You could use the conditions for the OV model described above. \n",
    "<br><br>\n",
    "</section>"
   ]
  },
  {
   "cell_type": "markdown",
   "metadata": {},
   "source": [
    "## 1.6 Computing eigenvalues\n",
    "You can also easily compute eigenvalues of square matrices using NumPy: \n",
    "\n"
   ]
  },
  {
   "cell_type": "code",
   "execution_count": 27,
   "metadata": {
    "collapsed": false
   },
   "outputs": [
    {
     "data": {
      "text/plain": [
       "array([[ 0.41119157, -0.67230936,  0.05295545],\n",
       "       [ 0.86114321,  0.85307783,  0.20928381],\n",
       "       [ 0.0554724 , -0.05593511, -0.83580022]])"
      ]
     },
     "execution_count": 27,
     "metadata": {},
     "output_type": "execute_result"
    }
   ],
   "source": [
    "M=1-2*np.random.random((3,3))\n",
    "M"
   ]
  },
  {
   "cell_type": "code",
   "execution_count": 28,
   "metadata": {
    "collapsed": true
   },
   "outputs": [],
   "source": [
    "u,v=np.linalg.eig(M)"
   ]
  },
  {
   "cell_type": "code",
   "execution_count": 29,
   "metadata": {
    "collapsed": false
   },
   "outputs": [
    {
     "data": {
      "text/plain": [
       "array([ 0.63226820+0.73437015j,  0.63226820-0.73437015j, -0.83606722+0.j        ])"
      ]
     },
     "execution_count": 29,
     "metadata": {},
     "output_type": "execute_result"
    }
   ],
   "source": [
    "u"
   ]
  },
  {
   "cell_type": "code",
   "execution_count": 30,
   "metadata": {
    "collapsed": false
   },
   "outputs": [
    {
     "data": {
      "text/plain": [
       "array([[-0.18788814+0.63212313j, -0.18788814-0.63212313j, -0.08510962+0.j        ],\n",
       "       [ 0.75076122+0.j        ,  0.75076122-0.j        , -0.07966473+0.j        ],\n",
       "       [-0.01900152+0.0333905j , -0.01900152-0.0333905j ,  0.99318170+0.j        ]])"
      ]
     },
     "execution_count": 30,
     "metadata": {},
     "output_type": "execute_result"
    }
   ],
   "source": [
    "v"
   ]
  },
  {
   "cell_type": "markdown",
   "metadata": {},
   "source": [
    "The array `v` is the matrix of eigenvectors, so the matrix times one of the eigenvectors:"
   ]
  },
  {
   "cell_type": "code",
   "execution_count": 31,
   "metadata": {
    "collapsed": false
   },
   "outputs": [
    {
     "data": {
      "text/plain": [
       "array([-0.58300805+0.26169191j,  0.47468245+0.55133663j,\n",
       "       -0.03653504+0.0071576j ])"
      ]
     },
     "execution_count": 31,
     "metadata": {},
     "output_type": "execute_result"
    }
   ],
   "source": [
    "M.dot(v[:,0])"
   ]
  },
  {
   "cell_type": "markdown",
   "metadata": {},
   "source": [
    "is the same as the eigenvalue times the eigenvector."
   ]
  },
  {
   "cell_type": "code",
   "execution_count": 32,
   "metadata": {
    "collapsed": false
   },
   "outputs": [
    {
     "data": {
      "text/plain": [
       "array([-0.58300805+0.26169191j,  0.47468245+0.55133663j,\n",
       "       -0.03653504+0.0071576j ])"
      ]
     },
     "execution_count": 32,
     "metadata": {},
     "output_type": "execute_result"
    }
   ],
   "source": [
    "u[0]*v[:,0]"
   ]
  },
  {
   "cell_type": "markdown",
   "metadata": {},
   "source": [
    "You plot the eigenvalues in the complex plane"
   ]
  },
  {
   "cell_type": "code",
   "execution_count": 33,
   "metadata": {
    "collapsed": false
   },
   "outputs": [
    {
     "data": {
      "text/plain": [
       "[<matplotlib.lines.Line2D at 0x110691860>]"
      ]
     },
     "execution_count": 33,
     "metadata": {},
     "output_type": "execute_result"
    },
    {
     "data": {
      "image/png": "[encoded data removed]",
      "text/plain": [
       "<matplotlib.figure.Figure at 0x110624438>"
      ]
     },
     "metadata": {},
     "output_type": "display_data"
    }
   ],
   "source": [
    "plt.plot(np.real(u),np.imag(u),'ro')"
   ]
  },
  {
   "cell_type": "markdown",
   "metadata": {},
   "source": [
    "<section style=\"color:#806000; background-color:#ffffdd\">\n",
    "<br>\n",
    "<b>OV Model - Eigen spectrum of linearised equations</b>\n",
    "<br>\n",
    "The general car-following model can be linearised by substituting $h_n=h_*+\\tilde{h}_n(t)$ and $v_n=V(h_*)+\\tilde{v}_n(t)$, into the general equations above, Taylor expanding $f$ about the equilibrium where $v_n=v_{n-1}$ and $f(h_*,0,V(h_*)=0$, and neglecting nonlinear terms. For $N$ vehicles, this results in a linear system of equations for the perturbations\n",
    "\\begin{align}\n",
    "\\dot{\\tilde{h}}_n&=\\tilde{v}_{n-1}-\\tilde{v}_{n},\\\\\n",
    "\\dot{\\tilde{v}}_n&=f_h \\tilde{h}_n + f_{\\dot{h}} (\\tilde{v}_{n-1}-\\tilde{v}_{n})+f_v\\tilde{v}_n.\n",
    "\\end{align}\n",
    "These equations can be written as a linear system $\\dot{y}=My$ for $y\\in\\mathbb{R}^{2N}$.\n",
    "What are the components of the matrix $M$? If you do it correctly, the matrix $M$ should split into four $N\\times N$ blocks arranged in a square. Using the values of the partial derivatives above, create a NumPy array that corresponds to the matrix $M$. A helpful function for this is NumPy's `diag` function:\n",
    "<br><br>\n",
    "</section>"
   ]
  },
  {
   "cell_type": "code",
   "execution_count": 34,
   "metadata": {
    "collapsed": false
   },
   "outputs": [
    {
     "data": {
      "text/plain": [
       "array([[-1.,  0.,  0.,  0.,  0.],\n",
       "       [ 0., -1.,  0.,  0.,  0.],\n",
       "       [ 0.,  0., -1.,  0.,  0.],\n",
       "       [ 0.,  0.,  0., -1.,  0.],\n",
       "       [ 0.,  0.,  0.,  0., -1.]])"
      ]
     },
     "execution_count": 34,
     "metadata": {},
     "output_type": "execute_result"
    }
   ],
   "source": [
    "N=5\n",
    "np.diag(-np.ones(N),0)"
   ]
  },
  {
   "cell_type": "code",
   "execution_count": 35,
   "metadata": {
    "collapsed": false
   },
   "outputs": [
    {
     "data": {
      "text/plain": [
       "array([[ 0.,  0.,  0.,  0.,  0.],\n",
       "       [ 1.,  0.,  0.,  0.,  0.],\n",
       "       [ 0.,  1.,  0.,  0.,  0.],\n",
       "       [ 0.,  0.,  1.,  0.,  0.],\n",
       "       [ 0.,  0.,  0.,  1.,  0.]])"
      ]
     },
     "execution_count": 35,
     "metadata": {},
     "output_type": "execute_result"
    }
   ],
   "source": [
    "np.diag(np.ones(N-1),-1)"
   ]
  },
  {
   "cell_type": "code",
   "execution_count": 36,
   "metadata": {
    "collapsed": false
   },
   "outputs": [
    {
     "data": {
      "text/plain": [
       "array([[0, 0, 0, 0, 1],\n",
       "       [0, 0, 0, 0, 0],\n",
       "       [0, 0, 0, 0, 0],\n",
       "       [0, 0, 0, 0, 0],\n",
       "       [0, 0, 0, 0, 0]])"
      ]
     },
     "execution_count": 36,
     "metadata": {},
     "output_type": "execute_result"
    }
   ],
   "source": [
    "np.diag(np.array([1]),N-1)"
   ]
  },
  {
   "cell_type": "markdown",
   "metadata": {},
   "source": [
    "<section style=\"color:#806000; background-color:#ffffdd\">\n",
    "<br>\n",
    "Hint: If you add the matrices above together, you'll get one of the blocks in $M$.\n",
    "<br><br>\n",
    "You should plot these eigenvalues in the complex plane and compare them to the real and imaginary part of $\\lambda_{\\pm}$ calculated above.\n",
    "<br><br>\n",
    "How you use the above code will depend on what you do as part of your project. Some guidance is included in the project description document.\n",
    "</section>"
   ]
  },
  {
   "cell_type": "code",
   "execution_count": null,
   "metadata": {
    "collapsed": true
   },
   "outputs": [],
   "source": []
  }
 ],
 "metadata": {
  "anaconda-cloud": {},
  "kernelspec": {
   "display_name": "Python [default]",
   "language": "python",
   "name": "python3"
  },
  "language_info": {
   "codemirror_mode": {
    "name": "ipython",
    "version": 3
   },
   "file_extension": ".py",
   "mimetype": "text/x-python",
   "name": "python",
   "nbconvert_exporter": "python",
   "pygments_lexer": "ipython3",
   "version": "3.5.2"
  }
 },
 "nbformat": 4,
 "nbformat_minor": 0
}
