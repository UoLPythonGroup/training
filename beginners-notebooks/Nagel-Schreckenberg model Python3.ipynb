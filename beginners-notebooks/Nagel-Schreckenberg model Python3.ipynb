{
 "cells": [
  {
   "cell_type": "markdown",
   "metadata": {},
   "source": [
    "# Simulating the Nagel-Schreckenberg model\n",
    "\n",
    "This notebook is intended to help you to programme the Nagel-Schreckenberg (NS) model in python. \n",
    "\n",
    "This tutorial will assume that you have the **anaconda distribution** (freely available here: https://www.continuum.io/downloads) of python installed, which includes instructions on how to download and install anaconda.\n",
    "\n",
    "This is a **Jupyter** (or ipython) notebook. It consists of cells, such as this, in which you can write text or computer code. This cell is written in **Markdown**, which allows you to format your text and use simple latex commands. (For some basic Markdown commands read: https://github.com/adam-p/markdown-here/wiki/Markdown-Cheatsheet)\n",
    "\n",
    "To edit the text in a cell, double click on it. Once you're finished editing and want to run the code, press `shift+enter`\n",
    "\n",
    "There is good **documentation** for python at https://www.python.org, but I find it easiest to google the things I'm looking for (e.g. function syntax, which means the arguments that a function takes).\n",
    "\n",
    "## Disclaimer\n",
    "This work sheet is intended as a guide for developing a program that simulates the Nagel-Schreckenberg model. The way that it suggests is not the only way to implement the model. If you find another method is more intuitive or runs quicker then feel free to use it!\n",
    "\n",
    "This worksheet should contain all the information you need in order to create a working version of the Nagel-Schreckenberg (NS) model, although the precise way in which you implement it may differ to what I think you'll end up with, so it's not completely guaranteed everything you need is here. In which case Google it!.\n",
    "\n",
    "## How to use this worksheet\n",
    "This worksheet will introduce you to the basics of python and provide you with relevant examples.\n",
    "\n",
    "\n",
    "<section style=\"color:#806000; background-color:#ffffdd\">\n",
    "<br>\n",
    "<b>NS Model</b>\n",
    "<br><br>\n",
    "This worksheet also includes highlighted text like this that connects the examples to your NS program.  \n",
    "<br>\n",
    "</section>\n",
    "\n",
    "## Tip\n",
    "It's normally helpful to have two notebooks open when coding, one where you test out commands/scraps of code, and the other where you write your program. I would encourage you to open **two** new notebooks, one to test out the examples in this worksheet and one for your NS code.\n",
    "## Tip\n",
    "If you write a piece of code and then later decide to change it, create a new cell, copy and paste your old code into the new cell (you can do this using the copy and paste icons above or you can create new cells using the insert tab above) and then edit that. If you delete things that you then later want, it can be a pain to get them back.\n",
    "## Tip\n",
    "You can block comment bits of code by highlighting them and the pressing `ctrl+/` (i.e. contral and forward slash)."
   ]
  },
  {
   "cell_type": "markdown",
   "metadata": {},
   "source": [
    "# 1 Basics\n",
    "\n",
    "You can use cells as calculators, for example"
   ]
  },
  {
   "cell_type": "code",
   "execution_count": 1,
   "metadata": {
    "collapsed": false
   },
   "outputs": [
    {
     "data": {
      "text/plain": [
       "3"
      ]
     },
     "execution_count": 1,
     "metadata": {},
     "output_type": "execute_result"
    }
   ],
   "source": [
    "1+2"
   ]
  },
  {
   "cell_type": "markdown",
   "metadata": {},
   "source": [
    "but often we will want to store numbers as **variables**, which we do like so "
   ]
  },
  {
   "cell_type": "code",
   "execution_count": 2,
   "metadata": {
    "collapsed": true
   },
   "outputs": [],
   "source": [
    "x=1"
   ]
  },
  {
   "cell_type": "markdown",
   "metadata": {},
   "source": [
    "We can then use these variables in calculations, e.g."
   ]
  },
  {
   "cell_type": "code",
   "execution_count": 3,
   "metadata": {
    "collapsed": false
   },
   "outputs": [
    {
     "data": {
      "text/plain": [
       "3"
      ]
     },
     "execution_count": 3,
     "metadata": {},
     "output_type": "execute_result"
    }
   ],
   "source": [
    "x+2 # This is a comment and won't show up in the output. \n",
    "# Use comments to explain what your code is doing"
   ]
  },
  {
   "cell_type": "markdown",
   "metadata": {},
   "source": [
    "<section style=\"color:#806000; background-color:#ffffdd\">\n",
    "<br>\n",
    "<b>NS Model - Parameters</b>\n",
    "<br><br>\n",
    "At the start of our program we need to specify the value of the various parameters that our program will need. For example, we need to know what the length $L$ of our road is. This is the same as the number of sites on our road, so this needs to be an integer. You might write  \n",
    "<br>\n",
    "</section>"
   ]
  },
  {
   "cell_type": "code",
   "execution_count": 4,
   "metadata": {
    "collapsed": true
   },
   "outputs": [],
   "source": [
    "L=10 # Start off small!"
   ]
  },
  {
   "cell_type": "markdown",
   "metadata": {},
   "source": [
    "<section style=\"color:#806000; background-color:#ffffdd\">\n",
    "<br>\n",
    "You also need to define\n",
    "<ul>\n",
    "<li> the numebr of cars on the road $N$\n",
    "<li> the number of timesteps $T$\n",
    "<li> the maximum velocity $v_{\\rm max}$\n",
    "<li> the randomisation parameter $p$\n",
    "</ul>\n",
    "<br>\n",
    "Which of these are integers and which are not? What range should p take? How do you calculate the density of cars? (Tip: use $N$ and $L$).\n",
    "<br><br>\n",
    "</section>"
   ]
  },
  {
   "cell_type": "markdown",
   "metadata": {},
   "source": [
    "## 1.1 Arrays\n",
    "###1.1.1 Creating arrays\n",
    "\n",
    "There is a python package called **NumPy** (http://www.numpy.org) that was written to make scientific programming easier and has lots of built in functions to do sophisticated things with matrices. If you installed the Anaconda distribution of python then you will have it already. We will use the NumPy package in this worksheet and to do so you need to type"
   ]
  },
  {
   "cell_type": "code",
   "execution_count": 5,
   "metadata": {
    "collapsed": true
   },
   "outputs": [],
   "source": [
    "import numpy as np"
   ]
  },
  {
   "cell_type": "markdown",
   "metadata": {},
   "source": [
    "Every time we want to use one of the functions in the NumPy package, we have to write `np.` and then the name of the function.\n",
    "\n",
    "We will make use of NumPy **arrays**, which allow us to store vectors and matrices and manipulate them in various ways. To creat a numpy array, you can define each element, for example like this"
   ]
  },
  {
   "cell_type": "code",
   "execution_count": 6,
   "metadata": {
    "collapsed": false
   },
   "outputs": [
    {
     "data": {
      "text/plain": [
       "array([ 10,   2, 300])"
      ]
     },
     "execution_count": 6,
     "metadata": {},
     "output_type": "execute_result"
    }
   ],
   "source": [
    "w=np.array([10,2,300])\n",
    "w"
   ]
  },
  {
   "cell_type": "markdown",
   "metadata": {},
   "source": [
    "There are also built in ways to generate arrays, for example"
   ]
  },
  {
   "cell_type": "code",
   "execution_count": 7,
   "metadata": {
    "collapsed": false
   },
   "outputs": [
    {
     "name": "stdout",
     "output_type": "stream",
     "text": [
      "Variable x is \n",
      "[[ 0.]\n",
      " [ 0.]\n",
      " [ 0.]]\n",
      "Variable y is \n",
      "[ 0.  1.  2.]\n",
      "Variable z is \n",
      "[[ 0.45067897  0.24602781  0.31476529  0.12332214]\n",
      " [ 0.45194991  0.10590406  0.09206862  0.01539276]\n",
      " [ 0.9562192   0.43643093  0.10287983  0.25832011]]\n"
     ]
    }
   ],
   "source": [
    "x=np.zeros((3,1))\n",
    "y=np.linspace(0,2,3)\n",
    "z=np.random.rand(3,4)\n",
    "# If we want to see what's in both x and y, we can use the print command:\n",
    "print('Variable x is ')\n",
    "print(x)\n",
    "print('Variable y is ')\n",
    "print(y)\n",
    "print('Variable z is ')\n",
    "print(z)"
   ]
  },
  {
   "cell_type": "markdown",
   "metadata": {},
   "source": [
    "We may want to check how big an array is"
   ]
  },
  {
   "cell_type": "code",
   "execution_count": 8,
   "metadata": {
    "collapsed": false
   },
   "outputs": [
    {
     "name": "stdout",
     "output_type": "stream",
     "text": [
      "(3, 1)\n",
      "(3,)\n",
      "(3, 4)\n"
     ]
    }
   ],
   "source": [
    "print(x.shape)\n",
    "print(y.shape)\n",
    "print(z.shape)"
   ]
  },
  {
   "cell_type": "markdown",
   "metadata": {},
   "source": [
    "Notice the difference in shape between these variables."
   ]
  },
  {
   "cell_type": "markdown",
   "metadata": {},
   "source": [
    "<section style=\"color:#806000; background-color:#ffffdd\">\n",
    "<br>\n",
    "<b>NS Model - Initial conditions part 1</b>\n",
    "<br><br>\n",
    "The approach here will be to develop a **site oriented** simulation, meaning that we have an array whose elements correspond to the sites on the road. To indicate that a site is occupied by a vehicle, you could set the value of the site to the current velocity of the vehicle, i.e. a non-negative integer. You could indicate that a site is empty by setting it to -1.\n",
    "<br><br>\n",
    "The program will also model a **ring-road**, so cars moving off one end of the road will appear back at the start. \n",
    "<br><br>\n",
    "You will need to specify initial conditions of the road at the beginning of the simulation. To start, create an array with $L$ elements all with values -1 to indicate an empty road. We will add cars later.\n",
    "<br><br>\n",
    "</section>"
   ]
  },
  {
   "cell_type": "markdown",
   "metadata": {},
   "source": [
    "### 1.1.2 Slicing arrays\n",
    "\n",
    "You can access elements of arrays in various ways and what you get will depend on the size of the array. For example"
   ]
  },
  {
   "cell_type": "code",
   "execution_count": 9,
   "metadata": {
    "collapsed": false
   },
   "outputs": [
    {
     "name": "stdout",
     "output_type": "stream",
     "text": [
      "[ 0.  1.  2.]\n",
      "0.0\n",
      "1.0\n",
      "2.0\n"
     ]
    }
   ],
   "source": [
    "print(y)\n",
    "print(y[0])\n",
    "print(y[1])\n",
    "print(y[2])"
   ]
  },
  {
   "cell_type": "markdown",
   "metadata": {},
   "source": [
    "Notice that the indices for python arrays start at zero. We can also use negative indicies (!)"
   ]
  },
  {
   "cell_type": "code",
   "execution_count": 10,
   "metadata": {
    "collapsed": false
   },
   "outputs": [
    {
     "name": "stdout",
     "output_type": "stream",
     "text": [
      "2.0\n",
      "1.0\n"
     ]
    }
   ],
   "source": [
    "print(y[-1])\n",
    "print(y[-2])"
   ]
  },
  {
   "cell_type": "markdown",
   "metadata": {},
   "source": [
    "So an easy way to access the last value in an array is to look at the element `[-1]`.\n",
    "\n",
    "You can access elements of a multi-dimensional array in the same way, but look at what you get when you do"
   ]
  },
  {
   "cell_type": "code",
   "execution_count": 11,
   "metadata": {
    "collapsed": false
   },
   "outputs": [
    {
     "data": {
      "text/plain": [
       "array([ 0.45067897,  0.24602781,  0.31476529,  0.12332214])"
      ]
     },
     "execution_count": 11,
     "metadata": {},
     "output_type": "execute_result"
    }
   ],
   "source": [
    "z[0]"
   ]
  },
  {
   "cell_type": "markdown",
   "metadata": {},
   "source": [
    "If we just wanted the value of a single element, we would have to do"
   ]
  },
  {
   "cell_type": "code",
   "execution_count": 12,
   "metadata": {
    "collapsed": false
   },
   "outputs": [
    {
     "data": {
      "text/plain": [
       "0.45067896596878954"
      ]
     },
     "execution_count": 12,
     "metadata": {},
     "output_type": "execute_result"
    }
   ],
   "source": [
    "z[0,0]"
   ]
  },
  {
   "cell_type": "markdown",
   "metadata": {},
   "source": [
    "(Python can also handle arrays with more dimensions, but we won't get into that here.)\n",
    "\n",
    "We might also want to access several elements, which we can do using slicing. Remember that"
   ]
  },
  {
   "cell_type": "code",
   "execution_count": 13,
   "metadata": {
    "collapsed": false
   },
   "outputs": [
    {
     "data": {
      "text/plain": [
       "array([[ 0.45067897,  0.24602781,  0.31476529,  0.12332214],\n",
       "       [ 0.45194991,  0.10590406,  0.09206862,  0.01539276],\n",
       "       [ 0.9562192 ,  0.43643093,  0.10287983,  0.25832011]])"
      ]
     },
     "execution_count": 13,
     "metadata": {},
     "output_type": "execute_result"
    }
   ],
   "source": [
    "z"
   ]
  },
  {
   "cell_type": "markdown",
   "metadata": {},
   "source": [
    "So to get the first 2 elements in the first column, we would write"
   ]
  },
  {
   "cell_type": "code",
   "execution_count": 14,
   "metadata": {
    "collapsed": false
   },
   "outputs": [
    {
     "data": {
      "text/plain": [
       "array([ 0.45067897,  0.45194991])"
      ]
     },
     "execution_count": 14,
     "metadata": {},
     "output_type": "execute_result"
    }
   ],
   "source": [
    "z[0:2,0]"
   ]
  },
  {
   "cell_type": "markdown",
   "metadata": {},
   "source": [
    "(Notice that you have to write `0:2` to get just elements 0 and 1.)\n",
    "\n",
    "Similarly, to get the first 2 elements in the first row, we would write"
   ]
  },
  {
   "cell_type": "code",
   "execution_count": 15,
   "metadata": {
    "collapsed": false
   },
   "outputs": [
    {
     "data": {
      "text/plain": [
       "array([ 0.45067897,  0.24602781])"
      ]
     },
     "execution_count": 15,
     "metadata": {},
     "output_type": "execute_result"
    }
   ],
   "source": [
    "z[0,0:2]"
   ]
  },
  {
   "cell_type": "markdown",
   "metadata": {},
   "source": [
    "<section style=\"color:#806000; background-color:#ffffdd\">\n",
    "<br>\n",
    "<b>NS Model - Initial conditions part 2</b>\n",
    "<br><br>\n",
    "We now need to add cars to our empty road. I will a way to do this so that the cars are positioned randomly with zero velocity. However, there are lots of other initial conditions you could specify and you should come up with some yourself and test them out.\n",
    "<br><br>\n",
    "Use slicing to set the first $N$ elements of the road to be 0. To position them randomly you need to shuffle the vector. There is a package called `random` with a function called `shuffle` that does this\n",
    "<br><br>\n",
    "</section>"
   ]
  },
  {
   "cell_type": "code",
   "execution_count": 16,
   "metadata": {
    "collapsed": true
   },
   "outputs": [],
   "source": [
    "import random as rd"
   ]
  },
  {
   "cell_type": "markdown",
   "metadata": {
    "collapsed": true
   },
   "source": [
    "<section style=\"color:#806000; background-color:#ffffdd\">\n",
    "<br>\n",
    "The shuffle function can be called as follows\n",
    "<br><br>\n",
    "</section>"
   ]
  },
  {
   "cell_type": "code",
   "execution_count": 17,
   "metadata": {
    "collapsed": false
   },
   "outputs": [
    {
     "name": "stdout",
     "output_type": "stream",
     "text": [
      "[-2. -1.  0.  1.  2.  3.]\n",
      "[ 2.  1. -1.  0. -2.  3.]\n"
     ]
    }
   ],
   "source": [
    "x=np.linspace(-2,3,6) # First we define an array\n",
    "print(x) # The elements in the array are the numbers 0 to 5\n",
    "rd.shuffle(x)\n",
    "print(x) # Now x has been shuffled"
   ]
  },
  {
   "cell_type": "markdown",
   "metadata": {},
   "source": [
    "<section style=\"color:#806000; background-color:#ffffdd\">\n",
    "<br>\n",
    "Adapt the code above to shuffle your road and check that it does the right thing!\n",
    "<br><br>\n",
    "</section>"
   ]
  },
  {
   "cell_type": "markdown",
   "metadata": {},
   "source": [
    "### 1.1.3 Logical operations\n",
    "\n",
    "We might also want to access those elements that satisfy a certain condition. We can apply logical operations to arrays"
   ]
  },
  {
   "cell_type": "code",
   "execution_count": 18,
   "metadata": {
    "collapsed": false
   },
   "outputs": [
    {
     "data": {
      "text/plain": [
       "array([False, False,  True], dtype=bool)"
      ]
     },
     "execution_count": 18,
     "metadata": {},
     "output_type": "execute_result"
    }
   ],
   "source": [
    "y==2"
   ]
  },
  {
   "cell_type": "code",
   "execution_count": 19,
   "metadata": {
    "collapsed": false
   },
   "outputs": [
    {
     "data": {
      "text/plain": [
       "array([[False, False, False, False],\n",
       "       [False, False, False, False],\n",
       "       [ True, False, False, False]], dtype=bool)"
      ]
     },
     "execution_count": 19,
     "metadata": {},
     "output_type": "execute_result"
    }
   ],
   "source": [
    "z>=0.5"
   ]
  },
  {
   "cell_type": "markdown",
   "metadata": {
    "collapsed": true
   },
   "source": [
    "An intuitive way to combine multiple logical operations would be"
   ]
  },
  {
   "cell_type": "code",
   "execution_count": 20,
   "metadata": {
    "collapsed": false
   },
   "outputs": [
    {
     "ename": "TypeError",
     "evalue": "ufunc 'bitwise_and' not supported for the input types, and the inputs could not be safely coerced to any supported types according to the casting rule ''safe''",
     "output_type": "error",
     "traceback": [
      "\u001b[0;31m---------------------------------------------------------------------------\u001b[0m",
      "\u001b[0;31mTypeError\u001b[0m                                 Traceback (most recent call last)",
      "\u001b[0;32m<ipython-input-20-d145126aff58>\u001b[0m in \u001b[0;36m<module>\u001b[0;34m()\u001b[0m\n\u001b[0;32m----> 1\u001b[0;31m \u001b[0mz\u001b[0m\u001b[0;34m>\u001b[0m\u001b[0;36m0.5\u001b[0m \u001b[0;34m&\u001b[0m \u001b[0mz\u001b[0m\u001b[0;34m<\u001b[0m\u001b[0;36m0.75\u001b[0m\u001b[0;34m\u001b[0m\u001b[0m\n\u001b[0m\u001b[1;32m      2\u001b[0m \u001b[0;31m# but it doesn't work! (Why?) Below is the kind of thing you might see in a python\u001b[0m\u001b[0;34m\u001b[0m\u001b[0;34m\u001b[0m\u001b[0m\n\u001b[1;32m      3\u001b[0m \u001b[0;31m# error message. It trys to tell you where the mistake is, but it isn't always\u001b[0m\u001b[0;34m\u001b[0m\u001b[0;34m\u001b[0m\u001b[0m\n\u001b[1;32m      4\u001b[0m \u001b[0;31m# right and more often than not it's confusing.\u001b[0m\u001b[0;34m\u001b[0m\u001b[0;34m\u001b[0m\u001b[0m\n",
      "\u001b[0;31mTypeError\u001b[0m: ufunc 'bitwise_and' not supported for the input types, and the inputs could not be safely coerced to any supported types according to the casting rule ''safe''"
     ]
    }
   ],
   "source": [
    "z>0.5 & z<0.75\n",
    "# but it doesn't work! (Why?) Below is the kind of thing you might see in a python \n",
    "# error message. It trys to tell you where the mistake is, but it isn't always\n",
    "# right and more often than not it's confusing."
   ]
  },
  {
   "cell_type": "markdown",
   "metadata": {},
   "source": [
    "NumPy has functions that compute *elementwise* logical operations"
   ]
  },
  {
   "cell_type": "code",
   "execution_count": 22,
   "metadata": {
    "collapsed": false
   },
   "outputs": [
    {
     "data": {
      "text/plain": [
       "array([[ True, False,  True, False],\n",
       "       [ True, False, False, False],\n",
       "       [False,  True, False,  True]], dtype=bool)"
      ]
     },
     "execution_count": 22,
     "metadata": {},
     "output_type": "execute_result"
    }
   ],
   "source": [
    "np.logical_and(z>0.25,z<0.75)"
   ]
  },
  {
   "cell_type": "markdown",
   "metadata": {},
   "source": [
    "<section style=\"color:#806000; background-color:#ffffdd\">\n",
    "<br>\n",
    "<b>NS Model - Locating vehicles</b>\n",
    "<br><br>\n",
    "Because we only need to update cars, we will want to determine where they are in our road array. What logical test could you apply to determine where the cars are? Remember that cars have non-negative velocities and empty lattice sites are indicated by -1.\n",
    "<br><br>\n",
    "</section>"
   ]
  },
  {
   "cell_type": "markdown",
   "metadata": {},
   "source": [
    "### 1.1.4 Logical slices\n",
    "\n",
    "To access the elements of an array that satisfy the logial operations, we can do"
   ]
  },
  {
   "cell_type": "code",
   "execution_count": 23,
   "metadata": {
    "collapsed": false
   },
   "outputs": [
    {
     "data": {
      "text/plain": [
       "array([ 0.9562192])"
      ]
     },
     "execution_count": 23,
     "metadata": {},
     "output_type": "execute_result"
    }
   ],
   "source": [
    "z[z>=0.5]"
   ]
  },
  {
   "cell_type": "markdown",
   "metadata": {},
   "source": [
    "but notice the shape of the resulting array.\n",
    "\n",
    "If we wanted to change the values of these elements to the same value, we could do"
   ]
  },
  {
   "cell_type": "code",
   "execution_count": 24,
   "metadata": {
    "collapsed": false
   },
   "outputs": [
    {
     "data": {
      "text/plain": [
       "array([[ 0.45067897,  0.24602781,  0.31476529,  0.12332214],\n",
       "       [ 0.45194991,  0.10590406,  0.09206862,  0.01539276],\n",
       "       [ 0.        ,  0.43643093,  0.10287983,  0.25832011]])"
      ]
     },
     "execution_count": 24,
     "metadata": {},
     "output_type": "execute_result"
    }
   ],
   "source": [
    "z[z>=0.5]=0\n",
    "z"
   ]
  },
  {
   "cell_type": "markdown",
   "metadata": {},
   "source": [
    "And there is a neat way to increment the values"
   ]
  },
  {
   "cell_type": "code",
   "execution_count": 25,
   "metadata": {
    "collapsed": false
   },
   "outputs": [
    {
     "data": {
      "text/plain": [
       "array([[ 0.45067897,  0.24602781,  0.31476529,  0.12332214],\n",
       "       [ 0.45194991,  0.10590406,  0.09206862,  0.01539276],\n",
       "       [ 1.        ,  0.43643093,  0.10287983,  0.25832011]])"
      ]
     },
     "execution_count": 25,
     "metadata": {},
     "output_type": "execute_result"
    }
   ],
   "source": [
    "z[z==0]+=1\n",
    "z"
   ]
  },
  {
   "cell_type": "markdown",
   "metadata": {},
   "source": [
    "We can change multiple entries at once setting a slice equal to an array of the same size"
   ]
  },
  {
   "cell_type": "code",
   "execution_count": 26,
   "metadata": {
    "collapsed": false
   },
   "outputs": [
    {
     "data": {
      "text/plain": [
       "array([[ 0.45067897,  0.        ,  0.31476529,  0.12332214],\n",
       "       [ 0.45194991,  1.        ,  0.09206862,  0.01539276],\n",
       "       [ 1.        ,  2.        ,  0.10287983,  0.25832011]])"
      ]
     },
     "execution_count": 26,
     "metadata": {},
     "output_type": "execute_result"
    }
   ],
   "source": [
    "z[:,1]=y\n",
    "z"
   ]
  },
  {
   "cell_type": "markdown",
   "metadata": {},
   "source": [
    "If we want the indices of certain values, we use the NumPy function `nonzero`"
   ]
  },
  {
   "cell_type": "code",
   "execution_count": 27,
   "metadata": {
    "collapsed": false
   },
   "outputs": [
    {
     "data": {
      "text/plain": [
       "(array([0, 0, 0, 0, 1, 1, 1, 2, 2, 2]), array([0, 1, 2, 3, 0, 2, 3, 1, 2, 3]))"
      ]
     },
     "execution_count": 27,
     "metadata": {},
     "output_type": "execute_result"
    }
   ],
   "source": [
    "ind=np.nonzero(z!=1)\n",
    "ind"
   ]
  },
  {
   "cell_type": "markdown",
   "metadata": {},
   "source": [
    "Notice that there are two arrays, corresponding to the rows and columns in the matrix. We can access these elements by typing"
   ]
  },
  {
   "cell_type": "code",
   "execution_count": 28,
   "metadata": {
    "collapsed": false
   },
   "outputs": [
    {
     "data": {
      "text/plain": [
       "array([ 0.45067897,  0.        ,  0.31476529,  0.12332214,  0.45194991,\n",
       "        0.09206862,  0.01539276,  2.        ,  0.10287983,  0.25832011])"
      ]
     },
     "execution_count": 28,
     "metadata": {},
     "output_type": "execute_result"
    }
   ],
   "source": [
    "z[ind]"
   ]
  },
  {
   "cell_type": "markdown",
   "metadata": {},
   "source": [
    "which is a little neater than what might have been the intuitive way"
   ]
  },
  {
   "cell_type": "code",
   "execution_count": 29,
   "metadata": {
    "collapsed": false
   },
   "outputs": [
    {
     "data": {
      "text/plain": [
       "array([ 0.45067897,  0.        ,  0.31476529,  0.12332214,  0.45194991,\n",
       "        0.09206862,  0.01539276,  2.        ,  0.10287983,  0.25832011])"
      ]
     },
     "execution_count": 29,
     "metadata": {},
     "output_type": "execute_result"
    }
   ],
   "source": [
    "z[ind[0],ind[1]]"
   ]
  },
  {
   "cell_type": "markdown",
   "metadata": {},
   "source": [
    "<section style=\"color:#806000; background-color:#ffffdd\">\n",
    "<br>\n",
    "<b>NS Model - Positions, velocities and headways</b>\n",
    "<br><br>\n",
    "In order to determine the distance between vehicles, we need to know their positions, which correspond to the index of the cell that each vehicle occupies. Use NumPy's `nonzero` function to get the positions of the vehicles on the road.\n",
    "<br><br>\n",
    "You can also use the methods we've described above to get the vehicles' velocities. We will use the velocities later to change each vehicles' positions.\n",
    "<br><br>\n",
    "To get the distances between vehicles, known as the headways, we need to determine what the position of the vehicle in front is. Because we're modelling a ring-road, the car in front of the vehicle at one end is the vehicle at the other end. You can calculate the position of the vehicle in front using NumPy's `roll` function. Look at what it does\n",
    "<br><br>\n",
    "</section>"
   ]
  },
  {
   "cell_type": "code",
   "execution_count": 30,
   "metadata": {
    "collapsed": false
   },
   "outputs": [
    {
     "name": "stdout",
     "output_type": "stream",
     "text": [
      "[ 2.  1. -1.  0. -2.  3.]\n",
      "[ 3.  2.  1. -1.  0. -2.]\n",
      "[ 1. -1.  0. -2.  3.  2.]\n"
     ]
    }
   ],
   "source": [
    "print(x)\n",
    "print(np.roll(x,+1))\n",
    "print(np.roll(x,-1))"
   ]
  },
  {
   "cell_type": "markdown",
   "metadata": {},
   "source": [
    "<section style=\"color:#806000; background-color:#ffffdd\">\n",
    "<br>\n",
    "The headways can be calculated by sutracting the position of each vehicle from the position of the corresponding vehicle in front. However, the headway will be negative for the car with the largest position, since the vehicle in front will have the smallest position. You can correct this using NumPy's `mod` function, \n",
    "<br><br>\n",
    "</section>"
   ]
  },
  {
   "cell_type": "code",
   "execution_count": 31,
   "metadata": {
    "collapsed": false
   },
   "outputs": [
    {
     "name": "stdout",
     "output_type": "stream",
     "text": [
      "[ 2.  1. -1.  0. -2.  3.]\n"
     ]
    },
    {
     "data": {
      "text/plain": [
       "array([ 2.,  1.,  9.,  0.,  8.,  3.])"
      ]
     },
     "execution_count": 31,
     "metadata": {},
     "output_type": "execute_result"
    }
   ],
   "source": [
    "print(x) # Note that roll has changed x!\n",
    "np.mod(x,L)"
   ]
  },
  {
   "cell_type": "markdown",
   "metadata": {},
   "source": [
    "<section style=\"color:#806000; background-color:#ffffdd\">\n",
    "<br>\n",
    "which returns the values of the array `x` modulo `L`.\n",
    "<br><br>\n",
    "</section>"
   ]
  },
  {
   "cell_type": "markdown",
   "metadata": {},
   "source": [
    "## 1.2 Loops\n",
    "\n",
    "Normally we write computer programs to do something lots and lots of times so that we don't have to. You can repeat a set of commands by looping over them. For example, if you want to do something for each element in an array (or a list), then you use a `for` loop"
   ]
  },
  {
   "cell_type": "code",
   "execution_count": 32,
   "metadata": {
    "collapsed": false
   },
   "outputs": [
    {
     "name": "stdout",
     "output_type": "stream",
     "text": [
      "0.0\n",
      "1.0\n",
      "2.0\n",
      "This bit of text isn't in the loop\n"
     ]
    }
   ],
   "source": [
    "for element in y:\n",
    "    print(element)\n",
    "print(\"This bit of text isn't in the loop\")"
   ]
  },
  {
   "cell_type": "markdown",
   "metadata": {},
   "source": [
    "Notice that you have to finish the line with the `for` in it with a **colon**. You also have to **indent** the commands that you want to appear in the for loop using the **tab** key. What happens if you indent the second print statement? Why does it happen?"
   ]
  },
  {
   "cell_type": "markdown",
   "metadata": {},
   "source": [
    "<section style=\"color:#806000; background-color:#ffffdd\">\n",
    "<br>\n",
    "<b>NS Model - Updating the road</b>\n",
    "<br><br>\n",
    "So far we have set up the parameters, initialised the road and found each vehicles' position, headway and velocity. We're now in a position to be able to apply the NS update rules. We want to do this at each time step, so it's natural to use a `for` loop.\n",
    "<br><br>\n",
    "However, we want to keep track of the state of the road at each timestep. We could do this by creating an $L$ by $T$ array of unoccupied lattice sites (what value do these take?). Do this using the `np.zeros` function and for the purpose of this worksheet let's call this array `road` (but you can call it whatever you like in your program). If it has $L$ rows and $T$ columns, the the `i`th column corresponds to the state of the road at time `i`. \n",
    "<br><br>\n",
    "Next we should replace column 0 in `road` with the initial condition. Then we'll loop through coloumns $0$ to $T-1$ and using the current column of `road` to determine what the next column of `road` will be. A useful way to do this is to use the `range` function:\n",
    "<br><br>\n",
    "</section>"
   ]
  },
  {
   "cell_type": "markdown",
   "metadata": {},
   "source": [
    "```python\n",
    "# Remember to define T\n",
    "for i in range(T-1):\n",
    "    # This is where your code should go - remember to indent! \n",
    "```"
   ]
  },
  {
   "cell_type": "markdown",
   "metadata": {},
   "source": [
    "<section style=\"color:#806000; background-color:#ffffdd\">\n",
    "<br>\n",
    "This will loop through your code, increasing `i` by 1 each time, starting from `i=0` and ending with `i=T-2` (which is a total of `T-1` iterations).\n",
    "<br><br>\n",
    "In this loop, I suggest that you define variables for the position $x$, velocity $v$ and headway $h$ of each vehicle from `road[:,i]` and then apply the NS rules:\n",
    "<ol>\n",
    "<li><b>Acceleration</b>. Here you should increase all velocities less than $v_{\\rm max}$ by one (a neat way to do this was mentioned above). How would you do this using what we've learnt above? \n",
    "<li><b>Decceleration</b>. Because vehicle velocities will be used to update positions they should not be larger than $h-1$ (why $h-1$?). So you should update vehicle velocities so that they are the minimum of $v$ and $h-1$. A useful NumPy function for this is `np.minimum`. Have a look at this example to see how it works: \n",
    "</ol>\n",
    "</section>"
   ]
  },
  {
   "cell_type": "code",
   "execution_count": 33,
   "metadata": {
    "collapsed": false
   },
   "outputs": [
    {
     "name": "stdout",
     "output_type": "stream",
     "text": [
      "Array x  [ 5.  4.  4.  1.  0.]\n",
      "Array y  [ 1.  2.  3.  4.  5.]\n",
      "Minimum of arrays x and y\n",
      "[ 1.  2.  3.  1.  0.]\n"
     ]
    }
   ],
   "source": [
    "x=np.round(5*np.random.rand(5))\n",
    "print('Array x ', x)\n",
    "y=np.linspace(1,5,5)\n",
    "print('Array y ', y)\n",
    "print('Minimum of arrays x and y')\n",
    "print(np.minimum(x,y))"
   ]
  },
  {
   "cell_type": "markdown",
   "metadata": {},
   "source": [
    "<section style=\"color:#806000; background-color:#ffffdd\">\n",
    "<ol start=\"3\">\n",
    "<li><b>Randomisation</b>. For vehicles with $v>0$, you reduce their velocity by 1 with probability $p$. Your velocity array will have $N$ elements. You can create an array of length $N$ of random numbers uniformly distributed between 0 and 1 using the `np.random.rand(N)` function. How can you use this to determine which vehicles should decelerate? You may also need to use the `np.logical_and` function again in order to update the velocities.\n",
    "<li><b>Update positions</b>. With the velocities updated according to the rules above, the new positions are $\\mod(x+v,L)$. You can use these as indices in the `i+1`th column of `road`, which you want to set to you updated velocities. You new positions need to be integers though, which you can do as follows:\n",
    "</ol>\n",
    "<br>\n",
    "</section>"
   ]
  },
  {
   "cell_type": "code",
   "execution_count": 34,
   "metadata": {
    "collapsed": false
   },
   "outputs": [
    {
     "name": "stdout",
     "output_type": "stream",
     "text": [
      "[ 5.  4.  4.  1.  0.]\n",
      "[5 4 4 1 0]\n",
      "[ 5.  4.  4.  1.  0.]\n"
     ]
    }
   ],
   "source": [
    "print(x)\n",
    "print(x.astype(int))\n",
    "print(x) # Note that this doesn't actually change the values in x to integers"
   ]
  },
  {
   "cell_type": "markdown",
   "metadata": {},
   "source": [
    "<section style=\"color:#806000; background-color:#ffffdd\">\n",
    "<br>\n",
    "This completes one loop of the program!\n",
    "<br><br>\n",
    "</section>"
   ]
  },
  {
   "cell_type": "markdown",
   "metadata": {},
   "source": [
    "## 1.3 Functions\n",
    "\n",
    "Sometimes you'll want to combine some commands together into a function. In python, functions can be defined as follows"
   ]
  },
  {
   "cell_type": "code",
   "execution_count": 35,
   "metadata": {
    "collapsed": true
   },
   "outputs": [],
   "source": [
    "def myfunction(startingnumber,numberoftimes):\n",
    "    ''' myfunction(startingnumber,numberoftimes)\n",
    "        \n",
    "        This function computes the logistic map starting from the input variable\n",
    "        startingnumber (a real number) and iterating numberoftimes (an integer). \n",
    "        In this case, the multiplication parameter is set at 3.7 so that \n",
    "        the map is chaotic. This text will appear as function help file. It's good \n",
    "        practice to \n",
    "    '''\n",
    "    output=np.zeros(numberoftimes+1)\n",
    "    output[0]=startingnumber\n",
    "    for i in range(numberoftimes):\n",
    "        output[i+1]=3.7*output[i]*(1-output[i])        \n",
    "    return output        "
   ]
  },
  {
   "cell_type": "markdown",
   "metadata": {},
   "source": [
    "You can call your function whatever you like. The things in brackets are the function arguments, i.e. the things you have to supply when calling the function.\n",
    "\n",
    "Notice that the first line ends with a colon and the remaining lines in the function are indented. In this function I iteratively repeat a function and store all the results in an array. This array is then returned from the function. You'd call this function in the following way"
   ]
  },
  {
   "cell_type": "code",
   "execution_count": 36,
   "metadata": {
    "collapsed": false
   },
   "outputs": [],
   "source": [
    "out=myfunction(0.4,100)"
   ]
  },
  {
   "cell_type": "code",
   "execution_count": 37,
   "metadata": {
    "collapsed": false
   },
   "outputs": [
    {
     "name": "stdout",
     "output_type": "stream",
     "text": [
      "Size of output: (101,)\n",
      "First few elements of output:\n",
      "[ 0.4        0.888      0.3679872  0.8605187  0.4440972]\n"
     ]
    }
   ],
   "source": [
    "print('Size of output: '+str(out.shape))\n",
    "print('First few elements of output:')\n",
    "print(out[0:5])"
   ]
  },
  {
   "cell_type": "markdown",
   "metadata": {},
   "source": [
    "The multiplication factor is currently set at 3.7 in the line \n",
    "```python\n",
    "        output[i+1]=3.7*output[i]*(1-output[i])\n",
    "```\n",
    "Try changing changing the function so that the multiplication factor is an input argument of the function."
   ]
  },
  {
   "cell_type": "markdown",
   "metadata": {},
   "source": [
    "<section style=\"color:#806000; background-color:#ffffdd\">\n",
    "<br>\n",
    "<b>NS Model - collecting together into a function</b>\n",
    "<br><br>\n",
    "You may want to turn the code we've written above into a function as this will be helpful when you want to compute fundamental diagrams and need to repeatedly run the Nagel-Schreckenberg model. You should use the parameters and initial condition as the function input arguments and return the `road` matrix. \n",
    "<br><br> \n",
    "</section>"
   ]
  },
  {
   "cell_type": "markdown",
   "metadata": {},
   "source": [
    "## 1.4 Plotting\n",
    "\n",
    "We will quite often want to plot the results we get. There is a good package for doing this called `matplotlib`, which also has lots of documentation online at http://matplotlib.org and examples of lots of different types of plot."
   ]
  },
  {
   "cell_type": "code",
   "execution_count": 38,
   "metadata": {
    "collapsed": true
   },
   "outputs": [],
   "source": [
    "import matplotlib.pyplot as plt\n",
    "%matplotlib inline\n",
    "# This last line lets you plot in a cell."
   ]
  },
  {
   "cell_type": "markdown",
   "metadata": {},
   "source": [
    "Plotting can be done easily and quickly"
   ]
  },
  {
   "cell_type": "code",
   "execution_count": 39,
   "metadata": {
    "collapsed": false
   },
   "outputs": [
    {
     "data": {
      "text/plain": [
       "[<matplotlib.lines.Line2D at 0x7f2820ad5940>]"
      ]
     },
     "execution_count": 39,
     "metadata": {},
     "output_type": "execute_result"
    },
    {
     "data": {
      "image/png": "[encoded data removed]",
      "text/plain": [
       "<matplotlib.figure.Figure at 0x7f2829b23ac8>"
      ]
     },
     "metadata": {},
     "output_type": "display_data"
    }
   ],
   "source": [
    "plt.plot(out)"
   ]
  },
  {
   "cell_type": "markdown",
   "metadata": {},
   "source": [
    "But you can also control just about everything you want to about the plot"
   ]
  },
  {
   "cell_type": "code",
   "execution_count": 40,
   "metadata": {
    "collapsed": false
   },
   "outputs": [
    {
     "data": {
      "image/png": "[encoded data removed]",
      "text/plain": [
       "<matplotlib.figure.Figure at 0x7f2820b14240>"
      ]
     },
     "metadata": {},
     "output_type": "display_data"
    }
   ],
   "source": [
    "fig = plt.figure(figsize=(10, 5)) # Here we set up a figure window with a specific size\n",
    "ax = fig.add_subplot(111) # Here we set up the axes, which we can then add to \n",
    "ax.plot(out,'r') # Here we add our plot as just a black line\n",
    "ax.plot(out,'bo') # Here we add it again but as just blue circles\n",
    "plt.xlim(0,100) # We can set the x-axes limits\n",
    "plt.ylim(0,1) # And the y-axes limits\n",
    "\n",
    "# We can set the various axes labels\n",
    "plt.title('Iterations of the logistic map',fontsize=28)\n",
    "plt.xlabel('Iteration',fontsize=24)\n",
    "plt.ylabel('Value',fontsize=24)\n",
    "\n",
    "# We can save the figure\n",
    "fig.savefig('testplotCA.pdf')\n",
    "# fig.savefig('test.eps') # This is a different type of format, encapsulated postscript"
   ]
  },
  {
   "cell_type": "markdown",
   "metadata": {},
   "source": [
    "(The logistic map is a very interesting function in itself. You might want to try some different values of the multiplication factor and the initial condition and see how the plot above changes. But don't get too distracted!)"
   ]
  },
  {
   "cell_type": "markdown",
   "metadata": {},
   "source": [
    "<section style=\"color:#806000; background-color:#ffffdd\">\n",
    "<br>\n",
    "<b>NS Model - Plotting road</b>\n",
    "<br><br>\n",
    "Making a nice plot of the `road` can be a bit tricky, so I'm going to show you a good way below. First though I'll set up a `road` array that might be the output of a simulation.\n",
    "<br><br> \n",
    "</section>"
   ]
  },
  {
   "cell_type": "code",
   "execution_count": 41,
   "metadata": {
    "collapsed": true
   },
   "outputs": [],
   "source": [
    "# Suppose maximum vehicle velocity is given by\n",
    "vmax=5\n",
    "\n",
    "# Example road\n",
    "road=np.array([[-1., -1., -1., -1., -1.,  3., -1.,  3.],\n",
    "       [-1., -1., -1., -1.,  3., -1.,  1., -1.],\n",
    "       [ 0.,  0., -1.,  3., -1., -1., -1., -1.],\n",
    "       [ 0., -1.,  1., -1., -1.,  2., -1.,  2.],\n",
    "       [-1.,  1., -1., -1.,  2., -1.,  1., -1.],\n",
    "       [-1., -1., -1.,  2., -1.,  1., -1., -1.],\n",
    "       [ 0., -1.,  2., -1., -1., -1., -1.,  2.],\n",
    "       [-1.,  1., -1., -1.,  2., -1.,  2., -1.],\n",
    "       [-1., -1., -1.,  2., -1., -1., -1., -1.],\n",
    "       [-1., -1.,  2., -1., -1., -1., -1., -1.]])"
   ]
  },
  {
   "cell_type": "markdown",
   "metadata": {},
   "source": [
    "<section style=\"color:#806000; background-color:#ffffdd\">\n",
    "<br>\n",
    "We'll plot the `road` array using matplotlibs `imshow` function. A simple way to do it is\n",
    "<br><br>\n",
    "</section>"
   ]
  },
  {
   "cell_type": "code",
   "execution_count": 42,
   "metadata": {
    "collapsed": false
   },
   "outputs": [
    {
     "data": {
      "text/plain": [
       "<matplotlib.colorbar.Colorbar at 0x7f28204ee198>"
      ]
     },
     "execution_count": 42,
     "metadata": {},
     "output_type": "execute_result"
    },
    {
     "data": {
      "image/png": "[encoded data removed]",
      "text/plain": [
       "<matplotlib.figure.Figure at 0x7f282073c048>"
      ]
     },
     "metadata": {},
     "output_type": "display_data"
    }
   ],
   "source": [
    "fig = plt.figure()\n",
    "ax = fig.add_subplot(111)\n",
    "im=ax.imshow(road,interpolation='none',origin=0)\n",
    "fig.colorbar(im)"
   ]
  },
  {
   "cell_type": "markdown",
   "metadata": {},
   "source": [
    "<section style=\"color:#806000; background-color:#ffffdd\">\n",
    "<br>\n",
    "However, we can make this plot a bit prettier (IMHO) as follows. We'll need some functions from matplotlib:\n",
    "<br><br>\n",
    "</section>"
   ]
  },
  {
   "cell_type": "code",
   "execution_count": 43,
   "metadata": {
    "collapsed": true
   },
   "outputs": [],
   "source": [
    "import matplotlib as mpl\n",
    "from mpl_toolkits.axes_grid1 import make_axes_locatable"
   ]
  },
  {
   "cell_type": "markdown",
   "metadata": {},
   "source": [
    "<section style=\"color:#806000; background-color:#ffffdd\">\n",
    "<br>\n",
    "I'm also going to define some variables that make a custom colormap and colorbar.\n",
    "<br><br>\n",
    "</section>"
   ]
  },
  {
   "cell_type": "code",
   "execution_count": 44,
   "metadata": {
    "collapsed": false
   },
   "outputs": [],
   "source": [
    "# This creates a 3 by vmax+1 matrix to store rgb colors, which includes white \n",
    "# and then colors ranging from blue to red\n",
    "cs=np.array([1,0,0])\n",
    "ce=np.array([0,0,1])\n",
    "cmat=np.transpose(np.vstack(\n",
    "        (np.linspace(cs[0],ce[0],num=vmax+1),\n",
    "         np.linspace(cs[1],ce[1],num=vmax+1),\n",
    "         np.linspace(cs[2],ce[2],num=vmax+1))))\n",
    "cmap=mpl.colors.ListedColormap(cmat)\n",
    "cmap.set_under((1., 1., 1.))\n",
    "\n",
    "# These variables set the appearance of the colorbar\n",
    "bounds=[-0.5+i for i in range(vmax+2)]\n",
    "norm = mpl.colors.BoundaryNorm(bounds, cmap.N)\n",
    "cbticks=range(vmax+1)"
   ]
  },
  {
   "cell_type": "markdown",
   "metadata": {},
   "source": [
    "<section style=\"color:#806000; background-color:#ffffdd\">\n",
    "<br>\n",
    "Now we plot useing `imshow` again, but with a few bells and whistles.\n",
    "<br><br>\n",
    "</section>"
   ]
  },
  {
   "cell_type": "code",
   "execution_count": 45,
   "metadata": {
    "collapsed": false
   },
   "outputs": [
    {
     "data": {
      "text/plain": [
       "<matplotlib.colorbar.ColorbarBase at 0x7f28203e22b0>"
      ]
     },
     "execution_count": 45,
     "metadata": {},
     "output_type": "execute_result"
    },
    {
     "data": {
      "image/png": "[encoded data removed]",
      "text/plain": [
       "<matplotlib.figure.Figure at 0x7f2820495080>"
      ]
     },
     "metadata": {},
     "output_type": "display_data"
    }
   ],
   "source": [
    "# Plotting the figure\n",
    "fig = plt.figure(figsize=(11, 4))\n",
    "ax = fig.add_axes([0,0,1,1])\n",
    "im=ax.imshow(road,interpolation='none',origin=0,cmap=cmap,vmin=0,vmax=vmax+1)\n",
    "plt.xlabel('Time')\n",
    "plt.ylabel('Position')\n",
    "\n",
    "# These commands make the colorbar size fit the axis\n",
    "divider = make_axes_locatable(ax)\n",
    "cax = divider.append_axes(\"right\", size=\"5%\", pad=0.3)\n",
    "# Plot the colorbar\n",
    "mpl.colorbar.ColorbarBase(cax,cmap=cmap,norm=norm,ticks=cbticks,extend='min',boundaries=[-1]+bounds)"
   ]
  },
  {
   "cell_type": "markdown",
   "metadata": {},
   "source": [
    "<section style=\"color:#806000; background-color:#ffffdd\">\n",
    "<br>\n",
    "Time runs from left to right and vehicles move upwards and right. Vehicles are shaded from red ($v=0$) to blue $(v=v_{\\rm max})$. Empty lattice sites are white.\n",
    "<br><br>\n",
    "<b>NS Model - Plotting road</b>\n",
    "<br><br>\n",
    "You should now have code that runs the NS model. It's a good idea to verify that your code does what you think it should by printing out various variables at each time step and checking that what you think should happen does. This will be easier if $L$ and $T$ are small.\n",
    "<br><br>\n",
    "Once you've verified that your code works as intended, it's time to play! Try increasing $L$ and $T$ (how big can you make them?), try varying the other parameters, particularly $N$ and $p$, you could change the initial condition, and so on... \n",
    "<br><br>\n",
    "The next natural step is to use your code to produce a fundamental diagram. In order to do this, you need to work out the traffic density, average velocity and flow. How could you do this? How could you do this in a way that mimics how this is done by real inductance loops? \n",
    "<br><br>\n",
    "To compute a fundamental diagram, you will need to run your program for different densities and compute the corresponding flow. A natural way to do this is to loop over your NS function, changing $N$ and using the output to determine the velocities/flows. You may have to wait while your computer does this (but I'd be surprised if you had to wait more than a few minutes).\n",
    "<br><br>\n",
    "How you use your program will depend on what you do as part of your project. Some guidance is included in the project description document.\n",
    "<br><br>\n",
    "</section>"
   ]
  },
  {
   "cell_type": "code",
   "execution_count": null,
   "metadata": {
    "collapsed": true
   },
   "outputs": [],
   "source": []
  }
 ],
 "metadata": {
  "kernelspec": {
   "display_name": "Python [default]",
   "language": "python",
   "name": "python3"
  },
  "language_info": {
   "codemirror_mode": {
    "name": "ipython",
    "version": 3
   },
   "file_extension": ".py",
   "mimetype": "text/x-python",
   "name": "python",
   "nbconvert_exporter": "python",
   "pygments_lexer": "ipython3",
   "version": "3.5.2"
  }
 },
 "nbformat": 4,
 "nbformat_minor": 0
}
